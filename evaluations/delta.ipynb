{
 "cells": [
  {
   "cell_type": "code",
   "execution_count": 29,
   "metadata": {},
   "outputs": [],
   "source": [
    "import pyterrier as pt  # type: ignore\n",
    "from src.load_index import setup_system\n",
    "\n",
    "import matplotlib.pyplot as plt\n",
    "import seaborn as sns \n",
    "import os\n",
    "import pandas as pd\n",
    "import yaml  # type: ignore\n",
    "\n",
    "import numpy as np"
   ]
  },
  {
   "cell_type": "code",
   "execution_count": 25,
   "metadata": {},
   "outputs": [],
   "source": [
    "with open(\"settings.yml\", \"r\") as yamlfile:\n",
    "    config = yaml.load(yamlfile, Loader=yaml.FullLoader)"
   ]
  },
  {
   "cell_type": "code",
   "execution_count": 22,
   "metadata": {},
   "outputs": [
    {
     "name": "stdout",
     "output_type": "stream",
     "text": [
      "Loaded index with  1570734 documents.\n"
     ]
    }
   ],
   "source": [
    "index, topics, qrels = setup_system(\"WT\")\n",
    "train_topics, validation_topics, test_topics = np.split(\n",
    "    topics, [int(0.6 * len(topics)), int(0.8 * len(topics))]\n",
    ")"
   ]
  },
  {
   "cell_type": "code",
   "execution_count": 23,
   "metadata": {},
   "outputs": [],
   "source": [
    "def get_qrels(train_topics, validation_topics, test_topics, qrels):\n",
    "    def filter_ids(topics):\n",
    "        needed_ids = list(topics[\"qid\"].unique())  # needed ids\n",
    "        qrels_split = qrels[qrels[\"qid\"].isin(needed_ids)]\n",
    "        diff = len(needed_ids) - len(qrels_split[\"qid\"].unique())\n",
    "        return qrels_split\n",
    "    \n",
    "    train_qrels = filter_ids(train_topics)\n",
    "    validation_qrels = filter_ids(validation_topics)\n",
    "    test_qrels = filter_ids(test_topics)\n",
    "    return train_qrels, validation_qrels, test_qrels\n",
    "\n",
    "def get_runs(run_names: str):\n",
    "    runs = []\n",
    "    names = []\n",
    "    runs_dir = \"results/trec\"\n",
    "\n",
    "    for run_name in run_names:\n",
    "        runs.append(pt.io.read_results(os.path.join(runs_dir, run_name)))\n",
    "        names.append(run_name)\n",
    "    \n",
    "    return runs, names"
   ]
  },
  {
   "cell_type": "code",
   "execution_count": 20,
   "metadata": {},
   "outputs": [],
   "source": [
    "train_qrels, validation_qrels, test_qrels = get_qrels(train_topics, validation_topics, test_topics, qrels)"
   ]
  },
  {
   "cell_type": "code",
   "execution_count": 27,
   "metadata": {},
   "outputs": [],
   "source": [
    "runs, names = get_runs([\"IRCologne-BM25.WT\", \"IRCologne-RRF(BBXP).WT\"])\n",
    "\n",
    "results = pt.Experiment(\n",
    "    runs,\n",
    "    topics[topics[\"qid\"].isin(config[\"top_runs\"])],\n",
    "    qrels,\n",
    "    names = names,\n",
    "    eval_metrics=[\"ndcg\"],\n",
    "    perquery=True,\n",
    ")"
   ]
  },
  {
   "cell_type": "code",
   "execution_count": 40,
   "metadata": {},
   "outputs": [
    {
     "data": {
      "image/png": "[encoded data removed]",
      "text/plain": [
       "<Figure size 864x288 with 1 Axes>"
      ]
     },
     "metadata": {},
     "output_type": "display_data"
    }
   ],
   "source": [
    "pivot_results = pd.pivot_table(results, values = 'value', index=['qid'], columns = 'name').reset_index()\n",
    "pivot_results[\"delta\"] = pivot_results[\"IRCologne-RRF(BBXP).WT\"] - pivot_results[\"IRCologne-BM25.WT\"]\n",
    "ax = pivot_results['delta'].sort_values(ascending=False).plot(figsize=(12,4), kind='bar')\n",
    "ax.set_xlabel(\"Topics\")\n",
    "ax.set_ylabel('$\\Delta$ nDCG')\n",
    "plt.title(\"Reciprocal Rank Fusion vs. BM25\")\n",
    "plt.show()"
   ]
  },
  {
   "cell_type": "code",
   "execution_count": null,
   "metadata": {},
   "outputs": [],
   "source": []
  }
 ],
 "metadata": {
  "kernelspec": {
   "display_name": "Python 3.8.16 ('LongEval')",
   "language": "python",
   "name": "python3"
  },
  "language_info": {
   "codemirror_mode": {
    "name": "ipython",
    "version": 3
   },
   "file_extension": ".py",
   "mimetype": "text/x-python",
   "name": "python",
   "nbconvert_exporter": "python",
   "pygments_lexer": "ipython3",
   "version": "3.8.16"
  },
  "orig_nbformat": 4,
  "vscode": {
   "interpreter": {
    "hash": "fb915a841106d17bab6c0e433d807167dd40c228f7e5885474f2fcf8f68fafdf"
   }
  }
 },
 "nbformat": 4,
 "nbformat_minor": 2
}
