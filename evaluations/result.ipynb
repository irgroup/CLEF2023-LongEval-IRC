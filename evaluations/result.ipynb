{
 "cells": [
  {
   "cell_type": "code",
   "execution_count": 1,
   "metadata": {},
   "outputs": [
    {
     "name": "stderr",
     "output_type": "stream",
     "text": [
      "PyTerrier 0.9.2 has loaded Terrier 5.7 (built by craigm on 2022-11-10 18:30) and terrier-helper 0.0.7\n",
      "\n",
      "No etc/terrier.properties, using terrier.default.properties for bootstrap configuration.\n"
     ]
    }
   ],
   "source": [
    "import pandas as pd  # type: ignore\n",
    "from src.exp_logger import logger  # type: ignore\n",
    "from src.load_index import setup_system\n",
    "import numpy as np\n",
    "import pyterrier as pt  # type: ignore\n",
    "import yaml  # type: ignore\n",
    "\n",
    "with open(\"settings.yml\", \"r\") as yamlfile:\n",
    "    config = yaml.load(yamlfile, Loader=yaml.FullLoader)"
   ]
  },
  {
   "cell_type": "code",
   "execution_count": 2,
   "metadata": {},
   "outputs": [
    {
     "name": "stdout",
     "output_type": "stream",
     "text": [
      "Loaded index with  1570734 documents.\n"
     ]
    }
   ],
   "source": [
    "index, topics, qrels = setup_system(\"WT\")"
   ]
  },
  {
   "cell_type": "code",
   "execution_count": 3,
   "metadata": {},
   "outputs": [],
   "source": [
    "def get_qrels(train_topics, validation_topics, test_topics, qrels):\n",
    "    def filter_ids(topics):\n",
    "        needed_ids = list(topics[\"qid\"].unique())  # needed ids\n",
    "        qrels_split = qrels[qrels[\"qid\"].isin(needed_ids)]\n",
    "        diff = len(needed_ids) - len(qrels_split[\"qid\"].unique())\n",
    "        return qrels_split\n",
    "    \n",
    "    train_qrels = filter_ids(train_topics)\n",
    "    validation_qrels = filter_ids(validation_topics)\n",
    "    test_qrels = filter_ids(test_topics)\n",
    "    return train_qrels, validation_qrels, test_qrels"
   ]
  },
  {
   "cell_type": "code",
   "execution_count": 4,
   "metadata": {},
   "outputs": [],
   "source": [
    "train_topics, validation_topics, test_topics = np.split(\n",
    "    topics, [int(0.6 * len(topics)), int(0.8 * len(topics))]\n",
    ")\n",
    "\n",
    "train_qrels, validation_qrels, test_qrels = get_qrels(train_topics, validation_topics, test_topics, qrels)"
   ]
  },
  {
   "cell_type": "code",
   "execution_count": 12,
   "metadata": {},
   "outputs": [
    {
     "name": "stderr",
     "output_type": "stream",
     "text": [
      "pt.Experiment: 100%|██████████| 18/18 [00:11<00:00,  1.58system/s]\n"
     ]
    }
   ],
   "source": [
    "def get_runs(run_names: str):\n",
    "    runs = []\n",
    "    names = []\n",
    "    runs_dir = \"results/trec\"\n",
    "\n",
    "    for run_name in run_names:\n",
    "        runs.append(pt.io.read_results(os.path.join(runs_dir, run_name)))\n",
    "        names.append(run_name)\n",
    "    \n",
    "    return runs, names\n",
    "\n",
    "runs_train = os.listdir(\"results/trec\")\n",
    "\n",
    "\n",
    "runs, names = get_runs(runs_train)\n",
    "\n",
    "results = pt.Experiment(\n",
    "    runs,\n",
    "    topics[topics[\"qid\"].isin(config[\"top_runs\"])],\n",
    "    qrels,\n",
    "    eval_metrics=[\"ndcg\", \"P_20\", \"map\", \"ndcg_cut_20\", \"recip_rank\", \"bpref\"],\n",
    "    names=names,\n",
    "    verbose=True,\n",
    "    # highlight=\"bold\",\n",
    "    round=4\n",
    "    \n",
    "    # perquery=True\n",
    ")"
   ]
  },
  {
   "cell_type": "code",
   "execution_count": 13,
   "metadata": {},
   "outputs": [
    {
     "data": {
      "text/html": [
       "<div>\n",
       "<style scoped>\n",
       "    .dataframe tbody tr th:only-of-type {\n",
       "        vertical-align: middle;\n",
       "    }\n",
       "\n",
       "    .dataframe tbody tr th {\n",
       "        vertical-align: top;\n",
       "    }\n",
       "\n",
       "    .dataframe thead th {\n",
       "        text-align: right;\n",
       "    }\n",
       "</style>\n",
       "<table border=\"1\" class=\"dataframe\">\n",
       "  <thead>\n",
       "    <tr style=\"text-align: right;\">\n",
       "      <th></th>\n",
       "      <th>name</th>\n",
       "      <th>ndcg</th>\n",
       "      <th>P_20</th>\n",
       "      <th>map</th>\n",
       "      <th>ndcg_cut_20</th>\n",
       "      <th>recip_rank</th>\n",
       "      <th>bpref</th>\n",
       "    </tr>\n",
       "  </thead>\n",
       "  <tbody>\n",
       "    <tr>\n",
       "      <th>14</th>\n",
       "      <td>IRCologne-BM25.WT</td>\n",
       "      <td>0.3367</td>\n",
       "      <td>0.1232</td>\n",
       "      <td>0.1730</td>\n",
       "      <td>0.2319</td>\n",
       "      <td>0.3628</td>\n",
       "      <td>0.4104</td>\n",
       "    </tr>\n",
       "    <tr>\n",
       "      <th>3</th>\n",
       "      <td>IRCologne-BM25_Bo1.WT</td>\n",
       "      <td>0.3462</td>\n",
       "      <td>0.1283</td>\n",
       "      <td>0.1756</td>\n",
       "      <td>0.2323</td>\n",
       "      <td>0.3386</td>\n",
       "      <td>0.4367</td>\n",
       "    </tr>\n",
       "    <tr>\n",
       "      <th>16</th>\n",
       "      <td>IRCologne-BM25_RM3.WT</td>\n",
       "      <td>0.3363</td>\n",
       "      <td>0.1290</td>\n",
       "      <td>0.1719</td>\n",
       "      <td>0.2283</td>\n",
       "      <td>0.3307</td>\n",
       "      <td>0.4265</td>\n",
       "    </tr>\n",
       "    <tr>\n",
       "      <th>12</th>\n",
       "      <td>IRCologne-BM25_axio.WT</td>\n",
       "      <td>0.3462</td>\n",
       "      <td>0.1283</td>\n",
       "      <td>0.1756</td>\n",
       "      <td>0.2323</td>\n",
       "      <td>0.3386</td>\n",
       "      <td>0.4367</td>\n",
       "    </tr>\n",
       "    <tr>\n",
       "      <th>15</th>\n",
       "      <td>IRCologne-DPH.WT</td>\n",
       "      <td>0.3480</td>\n",
       "      <td>0.1261</td>\n",
       "      <td>0.1754</td>\n",
       "      <td>0.2374</td>\n",
       "      <td>0.3662</td>\n",
       "      <td>0.4166</td>\n",
       "    </tr>\n",
       "    <tr>\n",
       "      <th>11</th>\n",
       "      <td>IRCologne-PL2.WT</td>\n",
       "      <td>0.3478</td>\n",
       "      <td>0.1261</td>\n",
       "      <td>0.1782</td>\n",
       "      <td>0.2392</td>\n",
       "      <td>0.3719</td>\n",
       "      <td>0.4224</td>\n",
       "    </tr>\n",
       "    <tr>\n",
       "      <th>13</th>\n",
       "      <td>IRCologne-RRF(BBBXP).WT</td>\n",
       "      <td>0.3618</td>\n",
       "      <td>0.1275</td>\n",
       "      <td>0.1802</td>\n",
       "      <td>0.2371</td>\n",
       "      <td>0.3561</td>\n",
       "      <td>0.4402</td>\n",
       "    </tr>\n",
       "    <tr>\n",
       "      <th>10</th>\n",
       "      <td>IRCologne-RRF(BBXP).WT</td>\n",
       "      <td>0.3673</td>\n",
       "      <td>0.1297</td>\n",
       "      <td>0.1850</td>\n",
       "      <td>0.2461</td>\n",
       "      <td>0.3659</td>\n",
       "      <td>0.4412</td>\n",
       "    </tr>\n",
       "    <tr>\n",
       "      <th>6</th>\n",
       "      <td>IRCologne-RRF(BRXP).WT</td>\n",
       "      <td>0.3661</td>\n",
       "      <td>0.1290</td>\n",
       "      <td>0.1851</td>\n",
       "      <td>0.2426</td>\n",
       "      <td>0.3718</td>\n",
       "      <td>0.4469</td>\n",
       "    </tr>\n",
       "    <tr>\n",
       "      <th>7</th>\n",
       "      <td>IRCologne-RRF(BXP).WT</td>\n",
       "      <td>0.3532</td>\n",
       "      <td>0.1246</td>\n",
       "      <td>0.1771</td>\n",
       "      <td>0.2349</td>\n",
       "      <td>0.3622</td>\n",
       "      <td>0.4275</td>\n",
       "    </tr>\n",
       "    <tr>\n",
       "      <th>8</th>\n",
       "      <td>IRCologne-TF_IDF.WT</td>\n",
       "      <td>0.3442</td>\n",
       "      <td>0.1246</td>\n",
       "      <td>0.1802</td>\n",
       "      <td>0.2371</td>\n",
       "      <td>0.3725</td>\n",
       "      <td>0.4119</td>\n",
       "    </tr>\n",
       "    <tr>\n",
       "      <th>2</th>\n",
       "      <td>IRCologne-XSqrA_M.WT</td>\n",
       "      <td>0.3544</td>\n",
       "      <td>0.1261</td>\n",
       "      <td>0.1799</td>\n",
       "      <td>0.2459</td>\n",
       "      <td>0.3975</td>\n",
       "      <td>0.4141</td>\n",
       "    </tr>\n",
       "    <tr>\n",
       "      <th>1</th>\n",
       "      <td>IRCologne-monoT5-passages-rel.WT</td>\n",
       "      <td>0.3642</td>\n",
       "      <td>0.1486</td>\n",
       "      <td>0.2016</td>\n",
       "      <td>0.2733</td>\n",
       "      <td>0.3917</td>\n",
       "      <td>0.4133</td>\n",
       "    </tr>\n",
       "    <tr>\n",
       "      <th>9</th>\n",
       "      <td>IRCologne-monoT5.WT</td>\n",
       "      <td>0.3682</td>\n",
       "      <td>0.1486</td>\n",
       "      <td>0.2098</td>\n",
       "      <td>0.2782</td>\n",
       "      <td>0.4042</td>\n",
       "      <td>0.4259</td>\n",
       "    </tr>\n",
       "    <tr>\n",
       "      <th>4</th>\n",
       "      <td>IRCologne-monoT5_WT-passages-rel-train.WT</td>\n",
       "      <td>0.2497</td>\n",
       "      <td>0.0565</td>\n",
       "      <td>0.0781</td>\n",
       "      <td>0.1167</td>\n",
       "      <td>0.2455</td>\n",
       "      <td>0.4144</td>\n",
       "    </tr>\n",
       "    <tr>\n",
       "      <th>5</th>\n",
       "      <td>IRCologne-monoT5_WT-passages-rel.WT</td>\n",
       "      <td>0.2137</td>\n",
       "      <td>0.0464</td>\n",
       "      <td>0.0500</td>\n",
       "      <td>0.0856</td>\n",
       "      <td>0.1822</td>\n",
       "      <td>0.3789</td>\n",
       "    </tr>\n",
       "    <tr>\n",
       "      <th>17</th>\n",
       "      <td>IRCologne-monoT5_WT-train.WT</td>\n",
       "      <td>0.1710</td>\n",
       "      <td>0.0130</td>\n",
       "      <td>0.0297</td>\n",
       "      <td>0.0272</td>\n",
       "      <td>0.0597</td>\n",
       "      <td>0.4625</td>\n",
       "    </tr>\n",
       "    <tr>\n",
       "      <th>0</th>\n",
       "      <td>IRCologne-monoT5_WT_10-3-passages-rel.WT</td>\n",
       "      <td>0.1511</td>\n",
       "      <td>0.0000</td>\n",
       "      <td>0.0077</td>\n",
       "      <td>0.0000</td>\n",
       "      <td>0.0069</td>\n",
       "      <td>0.3542</td>\n",
       "    </tr>\n",
       "  </tbody>\n",
       "</table>\n",
       "</div>"
      ],
      "text/plain": [
       "                                         name    ndcg    P_20     map  \\\n",
       "14                          IRCologne-BM25.WT  0.3367  0.1232  0.1730   \n",
       "3                       IRCologne-BM25_Bo1.WT  0.3462  0.1283  0.1756   \n",
       "16                      IRCologne-BM25_RM3.WT  0.3363  0.1290  0.1719   \n",
       "12                     IRCologne-BM25_axio.WT  0.3462  0.1283  0.1756   \n",
       "15                           IRCologne-DPH.WT  0.3480  0.1261  0.1754   \n",
       "11                           IRCologne-PL2.WT  0.3478  0.1261  0.1782   \n",
       "13                    IRCologne-RRF(BBBXP).WT  0.3618  0.1275  0.1802   \n",
       "10                     IRCologne-RRF(BBXP).WT  0.3673  0.1297  0.1850   \n",
       "6                      IRCologne-RRF(BRXP).WT  0.3661  0.1290  0.1851   \n",
       "7                       IRCologne-RRF(BXP).WT  0.3532  0.1246  0.1771   \n",
       "8                         IRCologne-TF_IDF.WT  0.3442  0.1246  0.1802   \n",
       "2                        IRCologne-XSqrA_M.WT  0.3544  0.1261  0.1799   \n",
       "1            IRCologne-monoT5-passages-rel.WT  0.3642  0.1486  0.2016   \n",
       "9                         IRCologne-monoT5.WT  0.3682  0.1486  0.2098   \n",
       "4   IRCologne-monoT5_WT-passages-rel-train.WT  0.2497  0.0565  0.0781   \n",
       "5         IRCologne-monoT5_WT-passages-rel.WT  0.2137  0.0464  0.0500   \n",
       "17               IRCologne-monoT5_WT-train.WT  0.1710  0.0130  0.0297   \n",
       "0    IRCologne-monoT5_WT_10-3-passages-rel.WT  0.1511  0.0000  0.0077   \n",
       "\n",
       "    ndcg_cut_20  recip_rank   bpref  \n",
       "14       0.2319      0.3628  0.4104  \n",
       "3        0.2323      0.3386  0.4367  \n",
       "16       0.2283      0.3307  0.4265  \n",
       "12       0.2323      0.3386  0.4367  \n",
       "15       0.2374      0.3662  0.4166  \n",
       "11       0.2392      0.3719  0.4224  \n",
       "13       0.2371      0.3561  0.4402  \n",
       "10       0.2461      0.3659  0.4412  \n",
       "6        0.2426      0.3718  0.4469  \n",
       "7        0.2349      0.3622  0.4275  \n",
       "8        0.2371      0.3725  0.4119  \n",
       "2        0.2459      0.3975  0.4141  \n",
       "1        0.2733      0.3917  0.4133  \n",
       "9        0.2782      0.4042  0.4259  \n",
       "4        0.1167      0.2455  0.4144  \n",
       "5        0.0856      0.1822  0.3789  \n",
       "17       0.0272      0.0597  0.4625  \n",
       "0        0.0000      0.0069  0.3542  "
      ]
     },
     "execution_count": 13,
     "metadata": {},
     "output_type": "execute_result"
    }
   ],
   "source": [
    "results.sort_values(by=\"name\")"
   ]
  },
  {
   "cell_type": "code",
   "execution_count": 6,
   "metadata": {},
   "outputs": [],
   "source": [
    "monot5 = pt.io.read_results(\"results/trec/IRCologne-monoT5.WT\")\n",
    "monot5_WT_train = pt.io.read_results(\"results/trec/IRCologne-monoT5_WT-train.WT\")"
   ]
  },
  {
   "cell_type": "code",
   "execution_count": 10,
   "metadata": {},
   "outputs": [
    {
     "name": "stderr",
     "output_type": "stream",
     "text": [
      "pt.Experiment: 100%|██████████| 2/2 [00:01<00:00,  1.36system/s]\n"
     ]
    }
   ],
   "source": [
    "\n",
    "results = pt.Experiment(\n",
    "    [monot5, monot5_WT_train],\n",
    "    topics[topics[\"qid\"].isin(config[\"top_runs\"])],\n",
    "    train_qrels,\n",
    "    eval_metrics=[\"ndcg\", \"P_20\", \"map\", \"ndcg_cut_20\", \"recip_rank\", \"bpref\"],\n",
    "    names=[\"monot5\", \"monot5_WT_train\"],\n",
    "    verbose=True,\n",
    "    highlight=\"bold\",\n",
    "    round=4\n",
    "    \n",
    "    # perquery=True\n",
    ")"
   ]
  },
  {
   "cell_type": "code",
   "execution_count": 7,
   "metadata": {},
   "outputs": [
    {
     "name": "stderr",
     "output_type": "stream",
     "text": [
      "pt.Experiment: 100%|██████████| 2/2 [00:00<00:00, 12.68system/s]\n"
     ]
    }
   ],
   "source": [
    "monot5_WT = pt.io.read_results(\"results/trec/IRCologne-monoT5-passages-rel.WT\")\n",
    "monot5_WT_train = pt.io.read_results(\"results/trec/IRCologne-monoT5_WT-passages-rel-train.WT\")\n",
    "\n",
    "\n",
    "results = pt.Experiment(\n",
    "    [monot5_WT, monot5_WT_train],\n",
    "    topics[topics[\"qid\"].isin(config[\"top_runs\"])],\n",
    "    test_qrels,\n",
    "    eval_metrics=[\"ndcg\", \"P_20\", \"map\", \"ndcg_cut_20\", \"recip_rank\", \"bpref\"],\n",
    "    names=[\"monot5\", \"monot5_WT_train\"],\n",
    "    verbose=True,\n",
    "    highlight=\"bold\",\n",
    "    round=4,\n",
    "    filter_by_topics=True\n",
    "    \n",
    "    # perquery=True\n",
    ")"
   ]
  },
  {
   "cell_type": "code",
   "execution_count": 8,
   "metadata": {},
   "outputs": [
    {
     "data": {
      "text/html": [
       "<style type=\"text/css\">\n",
       "#T_580ed_row0_col1, #T_580ed_row0_col2, #T_580ed_row0_col3, #T_580ed_row0_col4, #T_580ed_row0_col5, #T_580ed_row1_col6 {\n",
       "  font-weight: bold;\n",
       "}\n",
       "</style>\n",
       "<table id=\"T_580ed\">\n",
       "  <thead>\n",
       "    <tr>\n",
       "      <th class=\"blank level0\" >&nbsp;</th>\n",
       "      <th id=\"T_580ed_level0_col0\" class=\"col_heading level0 col0\" >name</th>\n",
       "      <th id=\"T_580ed_level0_col1\" class=\"col_heading level0 col1\" >ndcg</th>\n",
       "      <th id=\"T_580ed_level0_col2\" class=\"col_heading level0 col2\" >P_20</th>\n",
       "      <th id=\"T_580ed_level0_col3\" class=\"col_heading level0 col3\" >map</th>\n",
       "      <th id=\"T_580ed_level0_col4\" class=\"col_heading level0 col4\" >ndcg_cut_20</th>\n",
       "      <th id=\"T_580ed_level0_col5\" class=\"col_heading level0 col5\" >recip_rank</th>\n",
       "      <th id=\"T_580ed_level0_col6\" class=\"col_heading level0 col6\" >bpref</th>\n",
       "    </tr>\n",
       "  </thead>\n",
       "  <tbody>\n",
       "    <tr>\n",
       "      <th id=\"T_580ed_level0_row0\" class=\"row_heading level0 row0\" >0</th>\n",
       "      <td id=\"T_580ed_row0_col0\" class=\"data row0 col0\" >monot5</td>\n",
       "      <td id=\"T_580ed_row0_col1\" class=\"data row0 col1\" >0.367400</td>\n",
       "      <td id=\"T_580ed_row0_col2\" class=\"data row0 col2\" >0.137800</td>\n",
       "      <td id=\"T_580ed_row0_col3\" class=\"data row0 col3\" >0.194300</td>\n",
       "      <td id=\"T_580ed_row0_col4\" class=\"data row0 col4\" >0.262600</td>\n",
       "      <td id=\"T_580ed_row0_col5\" class=\"data row0 col5\" >0.392200</td>\n",
       "      <td id=\"T_580ed_row0_col6\" class=\"data row0 col6\" >0.418600</td>\n",
       "    </tr>\n",
       "    <tr>\n",
       "      <th id=\"T_580ed_level0_row1\" class=\"row_heading level0 row1\" >1</th>\n",
       "      <td id=\"T_580ed_row1_col0\" class=\"data row1 col0\" >monot5_WT_train</td>\n",
       "      <td id=\"T_580ed_row1_col1\" class=\"data row1 col1\" >0.252200</td>\n",
       "      <td id=\"T_580ed_row1_col2\" class=\"data row1 col2\" >0.051100</td>\n",
       "      <td id=\"T_580ed_row1_col3\" class=\"data row1 col3\" >0.070800</td>\n",
       "      <td id=\"T_580ed_row1_col4\" class=\"data row1 col4\" >0.109900</td>\n",
       "      <td id=\"T_580ed_row1_col5\" class=\"data row1 col5\" >0.220800</td>\n",
       "      <td id=\"T_580ed_row1_col6\" class=\"data row1 col6\" >0.441300</td>\n",
       "    </tr>\n",
       "  </tbody>\n",
       "</table>\n"
      ],
      "text/plain": [
       "<pandas.io.formats.style.Styler at 0x7f2bef0b2fd0>"
      ]
     },
     "execution_count": 8,
     "metadata": {},
     "output_type": "execute_result"
    }
   ],
   "source": [
    "results"
   ]
  },
  {
   "cell_type": "code",
   "execution_count": 6,
   "metadata": {},
   "outputs": [
    {
     "data": {
      "text/html": [
       "<style type=\"text/css\">\n",
       "#T_d2ce3_row0_col1, #T_d2ce3_row0_col2, #T_d2ce3_row0_col3, #T_d2ce3_row0_col4, #T_d2ce3_row0_col5, #T_d2ce3_row1_col6 {\n",
       "  font-weight: bold;\n",
       "}\n",
       "</style>\n",
       "<table id=\"T_d2ce3\">\n",
       "  <thead>\n",
       "    <tr>\n",
       "      <th class=\"blank level0\" >&nbsp;</th>\n",
       "      <th id=\"T_d2ce3_level0_col0\" class=\"col_heading level0 col0\" >name</th>\n",
       "      <th id=\"T_d2ce3_level0_col1\" class=\"col_heading level0 col1\" >ndcg</th>\n",
       "      <th id=\"T_d2ce3_level0_col2\" class=\"col_heading level0 col2\" >P_20</th>\n",
       "      <th id=\"T_d2ce3_level0_col3\" class=\"col_heading level0 col3\" >map</th>\n",
       "      <th id=\"T_d2ce3_level0_col4\" class=\"col_heading level0 col4\" >ndcg_cut_20</th>\n",
       "      <th id=\"T_d2ce3_level0_col5\" class=\"col_heading level0 col5\" >recip_rank</th>\n",
       "      <th id=\"T_d2ce3_level0_col6\" class=\"col_heading level0 col6\" >bpref</th>\n",
       "    </tr>\n",
       "  </thead>\n",
       "  <tbody>\n",
       "    <tr>\n",
       "      <th id=\"T_d2ce3_level0_row0\" class=\"row_heading level0 row0\" >0</th>\n",
       "      <td id=\"T_d2ce3_row0_col0\" class=\"data row0 col0\" >monot5</td>\n",
       "      <td id=\"T_d2ce3_row0_col1\" class=\"data row0 col1\" >0.367400</td>\n",
       "      <td id=\"T_d2ce3_row0_col2\" class=\"data row0 col2\" >0.137800</td>\n",
       "      <td id=\"T_d2ce3_row0_col3\" class=\"data row0 col3\" >0.194300</td>\n",
       "      <td id=\"T_d2ce3_row0_col4\" class=\"data row0 col4\" >0.262600</td>\n",
       "      <td id=\"T_d2ce3_row0_col5\" class=\"data row0 col5\" >0.392200</td>\n",
       "      <td id=\"T_d2ce3_row0_col6\" class=\"data row0 col6\" >0.418600</td>\n",
       "    </tr>\n",
       "    <tr>\n",
       "      <th id=\"T_d2ce3_level0_row1\" class=\"row_heading level0 row1\" >1</th>\n",
       "      <td id=\"T_d2ce3_row1_col0\" class=\"data row1 col0\" >monot5_WT_train</td>\n",
       "      <td id=\"T_d2ce3_row1_col1\" class=\"data row1 col1\" >0.190100</td>\n",
       "      <td id=\"T_d2ce3_row1_col2\" class=\"data row1 col2\" >0.022200</td>\n",
       "      <td id=\"T_d2ce3_row1_col3\" class=\"data row1 col3\" >0.033900</td>\n",
       "      <td id=\"T_d2ce3_row1_col4\" class=\"data row1 col4\" >0.034700</td>\n",
       "      <td id=\"T_d2ce3_row1_col5\" class=\"data row1 col5\" >0.077700</td>\n",
       "      <td id=\"T_d2ce3_row1_col6\" class=\"data row1 col6\" >0.536900</td>\n",
       "    </tr>\n",
       "  </tbody>\n",
       "</table>\n"
      ],
      "text/plain": [
       "<pandas.io.formats.style.Styler at 0x7fd50e0d7f10>"
      ]
     },
     "execution_count": 6,
     "metadata": {},
     "output_type": "execute_result"
    }
   ],
   "source": [
    "results"
   ]
  },
  {
   "cell_type": "code",
   "execution_count": 8,
   "metadata": {},
   "outputs": [
    {
     "data": {
      "text/html": [
       "<style type=\"text/css\">\n",
       "#T_4d0c3_row0_col1, #T_4d0c3_row0_col2, #T_4d0c3_row0_col3, #T_4d0c3_row0_col4, #T_4d0c3_row0_col5, #T_4d0c3_row0_col6 {\n",
       "  font-weight: bold;\n",
       "}\n",
       "</style>\n",
       "<table id=\"T_4d0c3\">\n",
       "  <thead>\n",
       "    <tr>\n",
       "      <th class=\"blank level0\" >&nbsp;</th>\n",
       "      <th id=\"T_4d0c3_level0_col0\" class=\"col_heading level0 col0\" >name</th>\n",
       "      <th id=\"T_4d0c3_level0_col1\" class=\"col_heading level0 col1\" >ndcg</th>\n",
       "      <th id=\"T_4d0c3_level0_col2\" class=\"col_heading level0 col2\" >P_20</th>\n",
       "      <th id=\"T_4d0c3_level0_col3\" class=\"col_heading level0 col3\" >map</th>\n",
       "      <th id=\"T_4d0c3_level0_col4\" class=\"col_heading level0 col4\" >ndcg_cut_20</th>\n",
       "      <th id=\"T_4d0c3_level0_col5\" class=\"col_heading level0 col5\" >recip_rank</th>\n",
       "      <th id=\"T_4d0c3_level0_col6\" class=\"col_heading level0 col6\" >bpref</th>\n",
       "    </tr>\n",
       "  </thead>\n",
       "  <tbody>\n",
       "    <tr>\n",
       "      <th id=\"T_4d0c3_level0_row0\" class=\"row_heading level0 row0\" >0</th>\n",
       "      <td id=\"T_4d0c3_row0_col0\" class=\"data row0 col0\" >monot5</td>\n",
       "      <td id=\"T_4d0c3_row0_col1\" class=\"data row0 col1\" >0.421900</td>\n",
       "      <td id=\"T_4d0c3_row0_col2\" class=\"data row0 col2\" >0.208300</td>\n",
       "      <td id=\"T_4d0c3_row0_col3\" class=\"data row0 col3\" >0.283900</td>\n",
       "      <td id=\"T_4d0c3_row0_col4\" class=\"data row0 col4\" >0.380300</td>\n",
       "      <td id=\"T_4d0c3_row0_col5\" class=\"data row0 col5\" >0.507400</td>\n",
       "      <td id=\"T_4d0c3_row0_col6\" class=\"data row0 col6\" >0.424500</td>\n",
       "    </tr>\n",
       "    <tr>\n",
       "      <th id=\"T_4d0c3_level0_row1\" class=\"row_heading level0 row1\" >1</th>\n",
       "      <td id=\"T_4d0c3_row1_col0\" class=\"data row1 col0\" >monot5_WT_train</td>\n",
       "      <td id=\"T_4d0c3_row1_col1\" class=\"data row1 col1\" >0.260900</td>\n",
       "      <td id=\"T_4d0c3_row1_col2\" class=\"data row1 col2\" >0.075000</td>\n",
       "      <td id=\"T_4d0c3_row1_col3\" class=\"data row1 col3\" >0.105400</td>\n",
       "      <td id=\"T_4d0c3_row1_col4\" class=\"data row1 col4\" >0.139200</td>\n",
       "      <td id=\"T_4d0c3_row1_col5\" class=\"data row1 col5\" >0.268600</td>\n",
       "      <td id=\"T_4d0c3_row1_col6\" class=\"data row1 col6\" >0.409400</td>\n",
       "    </tr>\n",
       "  </tbody>\n",
       "</table>\n"
      ],
      "text/plain": [
       "<pandas.io.formats.style.Styler at 0x7fc10861ea60>"
      ]
     },
     "execution_count": 8,
     "metadata": {},
     "output_type": "execute_result"
    }
   ],
   "source": [
    "results"
   ]
  },
  {
   "cell_type": "code",
   "execution_count": 5,
   "metadata": {},
   "outputs": [
    {
     "name": "stderr",
     "output_type": "stream",
     "text": [
      "pt.Experiment: 100%|██████████| 2/2 [00:00<00:00, 12.59system/s]\n"
     ]
    }
   ],
   "source": [
    "monot5 = pt.io.read_results(\"results/trec/IRCologne-monoT5-passages-rel.WT\")\n",
    "monot5_WT = pt.io.read_results(\"results/trec/IRCologne-monoT5_WT-passages-rel.WT\")\n",
    "\n",
    "\n",
    "results = pt.Experiment(\n",
    "    [monot5, monot5_WT],\n",
    "    topics[topics[\"qid\"].isin(config[\"top_runs\"])],\n",
    "    test_qrels,\n",
    "    eval_metrics=[\"ndcg\", \"P_20\", \"map\", \"ndcg_cut_20\", \"recip_rank\", \"bpref\"],\n",
    "    names=[\"monot5\", \"monot5_WT_train\"],\n",
    "    verbose=True,\n",
    "    highlight=\"bold\",\n",
    "    round=4,\n",
    "    filter_by_topics=True\n",
    "    \n",
    "    # perquery=True\n",
    ")"
   ]
  },
  {
   "cell_type": "code",
   "execution_count": 6,
   "metadata": {},
   "outputs": [
    {
     "data": {
      "text/html": [
       "<style type=\"text/css\">\n",
       "#T_3df3d_row0_col1, #T_3df3d_row0_col2, #T_3df3d_row0_col3, #T_3df3d_row0_col4, #T_3df3d_row0_col5, #T_3df3d_row1_col6 {\n",
       "  font-weight: bold;\n",
       "}\n",
       "</style>\n",
       "<table id=\"T_3df3d\">\n",
       "  <thead>\n",
       "    <tr>\n",
       "      <th class=\"blank level0\" >&nbsp;</th>\n",
       "      <th id=\"T_3df3d_level0_col0\" class=\"col_heading level0 col0\" >name</th>\n",
       "      <th id=\"T_3df3d_level0_col1\" class=\"col_heading level0 col1\" >ndcg</th>\n",
       "      <th id=\"T_3df3d_level0_col2\" class=\"col_heading level0 col2\" >P_20</th>\n",
       "      <th id=\"T_3df3d_level0_col3\" class=\"col_heading level0 col3\" >map</th>\n",
       "      <th id=\"T_3df3d_level0_col4\" class=\"col_heading level0 col4\" >ndcg_cut_20</th>\n",
       "      <th id=\"T_3df3d_level0_col5\" class=\"col_heading level0 col5\" >recip_rank</th>\n",
       "      <th id=\"T_3df3d_level0_col6\" class=\"col_heading level0 col6\" >bpref</th>\n",
       "    </tr>\n",
       "  </thead>\n",
       "  <tbody>\n",
       "    <tr>\n",
       "      <th id=\"T_3df3d_level0_row0\" class=\"row_heading level0 row0\" >0</th>\n",
       "      <td id=\"T_3df3d_row0_col0\" class=\"data row0 col0\" >monot5</td>\n",
       "      <td id=\"T_3df3d_row0_col1\" class=\"data row0 col1\" >0.421900</td>\n",
       "      <td id=\"T_3df3d_row0_col2\" class=\"data row0 col2\" >0.208300</td>\n",
       "      <td id=\"T_3df3d_row0_col3\" class=\"data row0 col3\" >0.283900</td>\n",
       "      <td id=\"T_3df3d_row0_col4\" class=\"data row0 col4\" >0.380300</td>\n",
       "      <td id=\"T_3df3d_row0_col5\" class=\"data row0 col5\" >0.507400</td>\n",
       "      <td id=\"T_3df3d_row0_col6\" class=\"data row0 col6\" >0.424500</td>\n",
       "    </tr>\n",
       "    <tr>\n",
       "      <th id=\"T_3df3d_level0_row1\" class=\"row_heading level0 row1\" >1</th>\n",
       "      <td id=\"T_3df3d_row1_col0\" class=\"data row1 col0\" >monot5_WT_train</td>\n",
       "      <td id=\"T_3df3d_row1_col1\" class=\"data row1 col1\" >0.256200</td>\n",
       "      <td id=\"T_3df3d_row1_col2\" class=\"data row1 col2\" >0.075000</td>\n",
       "      <td id=\"T_3df3d_row1_col3\" class=\"data row1 col3\" >0.100200</td>\n",
       "      <td id=\"T_3df3d_row1_col4\" class=\"data row1 col4\" >0.141600</td>\n",
       "      <td id=\"T_3df3d_row1_col5\" class=\"data row1 col5\" >0.333300</td>\n",
       "      <td id=\"T_3df3d_row1_col6\" class=\"data row1 col6\" >0.466900</td>\n",
       "    </tr>\n",
       "  </tbody>\n",
       "</table>\n"
      ],
      "text/plain": [
       "<pandas.io.formats.style.Styler at 0x7f5571116e80>"
      ]
     },
     "execution_count": 6,
     "metadata": {},
     "output_type": "execute_result"
    }
   ],
   "source": [
    "results"
   ]
  },
  {
   "cell_type": "code",
   "execution_count": 6,
   "metadata": {},
   "outputs": [
    {
     "name": "stderr",
     "output_type": "stream",
     "text": [
      "pt.Experiment: 100%|██████████| 3/3 [00:00<00:00, 12.62system/s]\n"
     ]
    }
   ],
   "source": [
    "monot5 = pt.io.read_results(\"results/trec/IRCologne-monoT5-passages-rel.WT\")\n",
    "monot5_WT = pt.io.read_results(\"results/trec/IRCologne-monoT5_WT-passages-rel.WT\")\n",
    "monot5_WT_fast = pt.io.read_results(\"results/trec/IRCologne-monoT5_WT_10-3-passages-rel.WT\")\n",
    "\n",
    "\n",
    "results = pt.Experiment(\n",
    "    [monot5, monot5_WT, monot5_WT_fast],\n",
    "    topics[topics[\"qid\"].isin(config[\"top_runs\"])],\n",
    "    test_qrels,\n",
    "    eval_metrics=[\"ndcg\", \"P_20\", \"map\", \"ndcg_cut_20\", \"recip_rank\", \"bpref\"],\n",
    "    names=[\"monot5\", \"monot5_WT_train\", \"monot5_WT_fast\"],\n",
    "    verbose=True,\n",
    "    highlight=\"bold\",\n",
    "    round=4,\n",
    "    filter_by_topics=True\n",
    "    \n",
    "    # perquery=True\n",
    ")"
   ]
  },
  {
   "cell_type": "code",
   "execution_count": 7,
   "metadata": {},
   "outputs": [
    {
     "data": {
      "text/html": [
       "<style type=\"text/css\">\n",
       "#T_74141_row0_col1, #T_74141_row0_col2, #T_74141_row0_col3, #T_74141_row0_col4, #T_74141_row0_col5, #T_74141_row1_col6 {\n",
       "  font-weight: bold;\n",
       "}\n",
       "</style>\n",
       "<table id=\"T_74141\">\n",
       "  <thead>\n",
       "    <tr>\n",
       "      <th class=\"blank level0\" >&nbsp;</th>\n",
       "      <th id=\"T_74141_level0_col0\" class=\"col_heading level0 col0\" >name</th>\n",
       "      <th id=\"T_74141_level0_col1\" class=\"col_heading level0 col1\" >ndcg</th>\n",
       "      <th id=\"T_74141_level0_col2\" class=\"col_heading level0 col2\" >P_20</th>\n",
       "      <th id=\"T_74141_level0_col3\" class=\"col_heading level0 col3\" >map</th>\n",
       "      <th id=\"T_74141_level0_col4\" class=\"col_heading level0 col4\" >ndcg_cut_20</th>\n",
       "      <th id=\"T_74141_level0_col5\" class=\"col_heading level0 col5\" >recip_rank</th>\n",
       "      <th id=\"T_74141_level0_col6\" class=\"col_heading level0 col6\" >bpref</th>\n",
       "    </tr>\n",
       "  </thead>\n",
       "  <tbody>\n",
       "    <tr>\n",
       "      <th id=\"T_74141_level0_row0\" class=\"row_heading level0 row0\" >0</th>\n",
       "      <td id=\"T_74141_row0_col0\" class=\"data row0 col0\" >monot5</td>\n",
       "      <td id=\"T_74141_row0_col1\" class=\"data row0 col1\" >0.421900</td>\n",
       "      <td id=\"T_74141_row0_col2\" class=\"data row0 col2\" >0.208300</td>\n",
       "      <td id=\"T_74141_row0_col3\" class=\"data row0 col3\" >0.283900</td>\n",
       "      <td id=\"T_74141_row0_col4\" class=\"data row0 col4\" >0.380300</td>\n",
       "      <td id=\"T_74141_row0_col5\" class=\"data row0 col5\" >0.507400</td>\n",
       "      <td id=\"T_74141_row0_col6\" class=\"data row0 col6\" >0.424500</td>\n",
       "    </tr>\n",
       "    <tr>\n",
       "      <th id=\"T_74141_level0_row1\" class=\"row_heading level0 row1\" >1</th>\n",
       "      <td id=\"T_74141_row1_col0\" class=\"data row1 col0\" >monot5_WT_train</td>\n",
       "      <td id=\"T_74141_row1_col1\" class=\"data row1 col1\" >0.256200</td>\n",
       "      <td id=\"T_74141_row1_col2\" class=\"data row1 col2\" >0.075000</td>\n",
       "      <td id=\"T_74141_row1_col3\" class=\"data row1 col3\" >0.100200</td>\n",
       "      <td id=\"T_74141_row1_col4\" class=\"data row1 col4\" >0.141600</td>\n",
       "      <td id=\"T_74141_row1_col5\" class=\"data row1 col5\" >0.333300</td>\n",
       "      <td id=\"T_74141_row1_col6\" class=\"data row1 col6\" >0.466900</td>\n",
       "    </tr>\n",
       "    <tr>\n",
       "      <th id=\"T_74141_level0_row2\" class=\"row_heading level0 row2\" >2</th>\n",
       "      <td id=\"T_74141_row2_col0\" class=\"data row2 col0\" >monot5_WT_fast</td>\n",
       "      <td id=\"T_74141_row2_col1\" class=\"data row2 col1\" >0.146400</td>\n",
       "      <td id=\"T_74141_row2_col2\" class=\"data row2 col2\" >0.000000</td>\n",
       "      <td id=\"T_74141_row2_col3\" class=\"data row2 col3\" >0.008800</td>\n",
       "      <td id=\"T_74141_row2_col4\" class=\"data row2 col4\" >0.000000</td>\n",
       "      <td id=\"T_74141_row2_col5\" class=\"data row2 col5\" >0.006400</td>\n",
       "      <td id=\"T_74141_row2_col6\" class=\"data row2 col6\" >0.424600</td>\n",
       "    </tr>\n",
       "  </tbody>\n",
       "</table>\n"
      ],
      "text/plain": [
       "<pandas.io.formats.style.Styler at 0x7f263228ff70>"
      ]
     },
     "execution_count": 7,
     "metadata": {},
     "output_type": "execute_result"
    }
   ],
   "source": [
    "results"
   ]
  },
  {
   "cell_type": "code",
   "execution_count": null,
   "metadata": {},
   "outputs": [],
   "source": []
  }
 ],
 "metadata": {
  "kernelspec": {
   "display_name": "Python 3.8.16 ('LongEval')",
   "language": "python",
   "name": "python3"
  },
  "language_info": {
   "codemirror_mode": {
    "name": "ipython",
    "version": 3
   },
   "file_extension": ".py",
   "mimetype": "text/x-python",
   "name": "python",
   "nbconvert_exporter": "python",
   "pygments_lexer": "ipython3",
   "version": "3.8.16"
  },
  "orig_nbformat": 4,
  "vscode": {
   "interpreter": {
    "hash": "fb915a841106d17bab6c0e433d807167dd40c228f7e5885474f2fcf8f68fafdf"
   }
  }
 },
 "nbformat": 4,
 "nbformat_minor": 2
}
