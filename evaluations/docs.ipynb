{
 "cells": [
  {
   "attachments": {},
   "cell_type": "markdown",
   "metadata": {},
   "source": [
    "# WT docs"
   ]
  },
  {
   "cell_type": "code",
   "execution_count": 20,
   "metadata": {},
   "outputs": [],
   "source": [
    "import os, json\n",
    "from src.load_index import setup_system\n",
    "import pyterrier as pt\n",
    "import seaborn as sns\n",
    "import matplotlib.pyplot as plt\n",
    "from matplotlib_venn import venn3\n",
    "import yaml\n",
    "\n",
    "sns.set_style('darkgrid')\n",
    "\n",
    "import pandas as pd\n",
    "pd.set_option('display.float_format', lambda x: '%.2f' % x)"
   ]
  },
  {
   "cell_type": "code",
   "execution_count": 2,
   "metadata": {},
   "outputs": [],
   "source": [
    "with open(\"../settings.yml\", \"r\") as yamlfile:\n",
    "    config = yaml.load(yamlfile, Loader=yaml.FullLoader)"
   ]
  },
  {
   "attachments": {},
   "cell_type": "markdown",
   "metadata": {},
   "source": [
    "# Summary Stats"
   ]
  },
  {
   "cell_type": "code",
   "execution_count": 3,
   "metadata": {},
   "outputs": [],
   "source": [
    "WT = pd.read_csv(\"../data/doc_WT_stats.csv\")\n",
    "ST = pd.read_csv(\"../data/doc_ST_stats.csv\")\n",
    "LT = pd.read_csv(\"../data/doc_LT_stats.csv\")"
   ]
  },
  {
   "cell_type": "code",
   "execution_count": 4,
   "metadata": {},
   "outputs": [
    {
     "data": {
      "text/html": [
       "<div>\n",
       "<style scoped>\n",
       "    .dataframe tbody tr th:only-of-type {\n",
       "        vertical-align: middle;\n",
       "    }\n",
       "\n",
       "    .dataframe tbody tr th {\n",
       "        vertical-align: top;\n",
       "    }\n",
       "\n",
       "    .dataframe thead th {\n",
       "        text-align: right;\n",
       "    }\n",
       "</style>\n",
       "<table border=\"1\" class=\"dataframe\">\n",
       "  <thead>\n",
       "    <tr style=\"text-align: right;\">\n",
       "      <th></th>\n",
       "      <th>len stream</th>\n",
       "      <th>len token</th>\n",
       "      <th>len stop</th>\n",
       "      <th>len stop unique</th>\n",
       "      <th>len stem</th>\n",
       "      <th>len stem unique</th>\n",
       "    </tr>\n",
       "  </thead>\n",
       "  <tbody>\n",
       "    <tr>\n",
       "      <th>count</th>\n",
       "      <td>1570734.00</td>\n",
       "      <td>1570734.00</td>\n",
       "      <td>1570734.00</td>\n",
       "      <td>1570734.00</td>\n",
       "      <td>1570734.00</td>\n",
       "      <td>1570734.00</td>\n",
       "    </tr>\n",
       "    <tr>\n",
       "      <th>mean</th>\n",
       "      <td>4846.15</td>\n",
       "      <td>794.11</td>\n",
       "      <td>559.47</td>\n",
       "      <td>370.46</td>\n",
       "      <td>559.47</td>\n",
       "      <td>344.47</td>\n",
       "    </tr>\n",
       "    <tr>\n",
       "      <th>std</th>\n",
       "      <td>3228.08</td>\n",
       "      <td>532.73</td>\n",
       "      <td>386.06</td>\n",
       "      <td>239.44</td>\n",
       "      <td>386.06</td>\n",
       "      <td>222.99</td>\n",
       "    </tr>\n",
       "    <tr>\n",
       "      <th>min</th>\n",
       "      <td>3.00</td>\n",
       "      <td>0.00</td>\n",
       "      <td>0.00</td>\n",
       "      <td>0.00</td>\n",
       "      <td>0.00</td>\n",
       "      <td>0.00</td>\n",
       "    </tr>\n",
       "    <tr>\n",
       "      <th>25%</th>\n",
       "      <td>1998.00</td>\n",
       "      <td>327.00</td>\n",
       "      <td>230.00</td>\n",
       "      <td>171.00</td>\n",
       "      <td>230.00</td>\n",
       "      <td>162.00</td>\n",
       "    </tr>\n",
       "    <tr>\n",
       "      <th>50%</th>\n",
       "      <td>4224.00</td>\n",
       "      <td>693.00</td>\n",
       "      <td>480.00</td>\n",
       "      <td>328.00</td>\n",
       "      <td>480.00</td>\n",
       "      <td>305.00</td>\n",
       "    </tr>\n",
       "    <tr>\n",
       "      <th>75%</th>\n",
       "      <td>8169.00</td>\n",
       "      <td>1311.00</td>\n",
       "      <td>878.00</td>\n",
       "      <td>556.00</td>\n",
       "      <td>878.00</td>\n",
       "      <td>509.00</td>\n",
       "    </tr>\n",
       "    <tr>\n",
       "      <th>max</th>\n",
       "      <td>26645.00</td>\n",
       "      <td>7065.00</td>\n",
       "      <td>6981.00</td>\n",
       "      <td>1480.00</td>\n",
       "      <td>6981.00</td>\n",
       "      <td>1472.00</td>\n",
       "    </tr>\n",
       "  </tbody>\n",
       "</table>\n",
       "</div>"
      ],
      "text/plain": [
       "       len stream  len token   len stop  len stop unique   len stem  \\\n",
       "count  1570734.00 1570734.00 1570734.00       1570734.00 1570734.00   \n",
       "mean      4846.15     794.11     559.47           370.46     559.47   \n",
       "std       3228.08     532.73     386.06           239.44     386.06   \n",
       "min          3.00       0.00       0.00             0.00       0.00   \n",
       "25%       1998.00     327.00     230.00           171.00     230.00   \n",
       "50%       4224.00     693.00     480.00           328.00     480.00   \n",
       "75%       8169.00    1311.00     878.00           556.00     878.00   \n",
       "max      26645.00    7065.00    6981.00          1480.00    6981.00   \n",
       "\n",
       "       len stem unique  \n",
       "count       1570734.00  \n",
       "mean            344.47  \n",
       "std             222.99  \n",
       "min               0.00  \n",
       "25%             162.00  \n",
       "50%             305.00  \n",
       "75%             509.00  \n",
       "max            1472.00  "
      ]
     },
     "execution_count": 4,
     "metadata": {},
     "output_type": "execute_result"
    }
   ],
   "source": [
    "WT.describe().round(4)"
   ]
  },
  {
   "cell_type": "code",
   "execution_count": 5,
   "metadata": {},
   "outputs": [
    {
     "data": {
      "text/html": [
       "<div>\n",
       "<style scoped>\n",
       "    .dataframe tbody tr th:only-of-type {\n",
       "        vertical-align: middle;\n",
       "    }\n",
       "\n",
       "    .dataframe tbody tr th {\n",
       "        vertical-align: top;\n",
       "    }\n",
       "\n",
       "    .dataframe thead th {\n",
       "        text-align: right;\n",
       "    }\n",
       "</style>\n",
       "<table border=\"1\" class=\"dataframe\">\n",
       "  <thead>\n",
       "    <tr style=\"text-align: right;\">\n",
       "      <th></th>\n",
       "      <th>len stream</th>\n",
       "      <th>len token</th>\n",
       "      <th>len stop</th>\n",
       "      <th>len stop unique</th>\n",
       "      <th>len stem</th>\n",
       "      <th>len stem unique</th>\n",
       "    </tr>\n",
       "  </thead>\n",
       "  <tbody>\n",
       "    <tr>\n",
       "      <th>count</th>\n",
       "      <td>1593376.00</td>\n",
       "      <td>1593376.00</td>\n",
       "      <td>1593376.00</td>\n",
       "      <td>1593376.00</td>\n",
       "      <td>1593376.00</td>\n",
       "      <td>1593376.00</td>\n",
       "    </tr>\n",
       "    <tr>\n",
       "      <th>mean</th>\n",
       "      <td>4842.42</td>\n",
       "      <td>793.96</td>\n",
       "      <td>559.41</td>\n",
       "      <td>370.72</td>\n",
       "      <td>559.41</td>\n",
       "      <td>344.76</td>\n",
       "    </tr>\n",
       "    <tr>\n",
       "      <th>std</th>\n",
       "      <td>3229.62</td>\n",
       "      <td>532.99</td>\n",
       "      <td>386.27</td>\n",
       "      <td>239.42</td>\n",
       "      <td>386.27</td>\n",
       "      <td>222.97</td>\n",
       "    </tr>\n",
       "    <tr>\n",
       "      <th>min</th>\n",
       "      <td>3.00</td>\n",
       "      <td>0.00</td>\n",
       "      <td>0.00</td>\n",
       "      <td>0.00</td>\n",
       "      <td>0.00</td>\n",
       "      <td>0.00</td>\n",
       "    </tr>\n",
       "    <tr>\n",
       "      <th>25%</th>\n",
       "      <td>1997.00</td>\n",
       "      <td>327.00</td>\n",
       "      <td>230.00</td>\n",
       "      <td>171.00</td>\n",
       "      <td>230.00</td>\n",
       "      <td>162.00</td>\n",
       "    </tr>\n",
       "    <tr>\n",
       "      <th>50%</th>\n",
       "      <td>4217.00</td>\n",
       "      <td>692.00</td>\n",
       "      <td>479.00</td>\n",
       "      <td>328.00</td>\n",
       "      <td>479.00</td>\n",
       "      <td>305.00</td>\n",
       "    </tr>\n",
       "    <tr>\n",
       "      <th>75%</th>\n",
       "      <td>8158.00</td>\n",
       "      <td>1309.00</td>\n",
       "      <td>877.00</td>\n",
       "      <td>556.00</td>\n",
       "      <td>877.00</td>\n",
       "      <td>508.00</td>\n",
       "    </tr>\n",
       "    <tr>\n",
       "      <th>max</th>\n",
       "      <td>99655.00</td>\n",
       "      <td>12210.00</td>\n",
       "      <td>12201.00</td>\n",
       "      <td>1809.00</td>\n",
       "      <td>12201.00</td>\n",
       "      <td>1730.00</td>\n",
       "    </tr>\n",
       "  </tbody>\n",
       "</table>\n",
       "</div>"
      ],
      "text/plain": [
       "       len stream  len token   len stop  len stop unique   len stem  \\\n",
       "count  1593376.00 1593376.00 1593376.00       1593376.00 1593376.00   \n",
       "mean      4842.42     793.96     559.41           370.72     559.41   \n",
       "std       3229.62     532.99     386.27           239.42     386.27   \n",
       "min          3.00       0.00       0.00             0.00       0.00   \n",
       "25%       1997.00     327.00     230.00           171.00     230.00   \n",
       "50%       4217.00     692.00     479.00           328.00     479.00   \n",
       "75%       8158.00    1309.00     877.00           556.00     877.00   \n",
       "max      99655.00   12210.00   12201.00          1809.00   12201.00   \n",
       "\n",
       "       len stem unique  \n",
       "count       1593376.00  \n",
       "mean            344.76  \n",
       "std             222.97  \n",
       "min               0.00  \n",
       "25%             162.00  \n",
       "50%             305.00  \n",
       "75%             508.00  \n",
       "max            1730.00  "
      ]
     },
     "execution_count": 5,
     "metadata": {},
     "output_type": "execute_result"
    }
   ],
   "source": [
    "ST.describe().round(4)"
   ]
  },
  {
   "cell_type": "code",
   "execution_count": 6,
   "metadata": {},
   "outputs": [
    {
     "data": {
      "text/html": [
       "<div>\n",
       "<style scoped>\n",
       "    .dataframe tbody tr th:only-of-type {\n",
       "        vertical-align: middle;\n",
       "    }\n",
       "\n",
       "    .dataframe tbody tr th {\n",
       "        vertical-align: top;\n",
       "    }\n",
       "\n",
       "    .dataframe thead th {\n",
       "        text-align: right;\n",
       "    }\n",
       "</style>\n",
       "<table border=\"1\" class=\"dataframe\">\n",
       "  <thead>\n",
       "    <tr style=\"text-align: right;\">\n",
       "      <th></th>\n",
       "      <th>len stream</th>\n",
       "      <th>len token</th>\n",
       "      <th>len stop</th>\n",
       "      <th>len stop unique</th>\n",
       "      <th>len stem</th>\n",
       "      <th>len stem unique</th>\n",
       "    </tr>\n",
       "  </thead>\n",
       "  <tbody>\n",
       "    <tr>\n",
       "      <th>count</th>\n",
       "      <td>1081334.00</td>\n",
       "      <td>1081334.00</td>\n",
       "      <td>1081334.00</td>\n",
       "      <td>1081334.00</td>\n",
       "      <td>1081334.00</td>\n",
       "      <td>1081334.00</td>\n",
       "    </tr>\n",
       "    <tr>\n",
       "      <th>mean</th>\n",
       "      <td>4902.05</td>\n",
       "      <td>807.28</td>\n",
       "      <td>565.14</td>\n",
       "      <td>368.98</td>\n",
       "      <td>565.14</td>\n",
       "      <td>342.34</td>\n",
       "    </tr>\n",
       "    <tr>\n",
       "      <th>std</th>\n",
       "      <td>3245.20</td>\n",
       "      <td>540.59</td>\n",
       "      <td>388.39</td>\n",
       "      <td>234.54</td>\n",
       "      <td>388.39</td>\n",
       "      <td>217.24</td>\n",
       "    </tr>\n",
       "    <tr>\n",
       "      <th>min</th>\n",
       "      <td>3.00</td>\n",
       "      <td>1.00</td>\n",
       "      <td>1.00</td>\n",
       "      <td>1.00</td>\n",
       "      <td>1.00</td>\n",
       "      <td>1.00</td>\n",
       "    </tr>\n",
       "    <tr>\n",
       "      <th>25%</th>\n",
       "      <td>2003.00</td>\n",
       "      <td>327.00</td>\n",
       "      <td>230.00</td>\n",
       "      <td>171.00</td>\n",
       "      <td>230.00</td>\n",
       "      <td>161.00</td>\n",
       "    </tr>\n",
       "    <tr>\n",
       "      <th>50%</th>\n",
       "      <td>4291.00</td>\n",
       "      <td>704.00</td>\n",
       "      <td>488.00</td>\n",
       "      <td>330.00</td>\n",
       "      <td>488.00</td>\n",
       "      <td>306.00</td>\n",
       "    </tr>\n",
       "    <tr>\n",
       "      <th>75%</th>\n",
       "      <td>8324.00</td>\n",
       "      <td>1330.00</td>\n",
       "      <td>889.00</td>\n",
       "      <td>556.00</td>\n",
       "      <td>889.00</td>\n",
       "      <td>508.00</td>\n",
       "    </tr>\n",
       "    <tr>\n",
       "      <th>max</th>\n",
       "      <td>47243.00</td>\n",
       "      <td>7255.00</td>\n",
       "      <td>6981.00</td>\n",
       "      <td>1472.00</td>\n",
       "      <td>6981.00</td>\n",
       "      <td>1472.00</td>\n",
       "    </tr>\n",
       "  </tbody>\n",
       "</table>\n",
       "</div>"
      ],
      "text/plain": [
       "       len stream  len token   len stop  len stop unique   len stem  \\\n",
       "count  1081334.00 1081334.00 1081334.00       1081334.00 1081334.00   \n",
       "mean      4902.05     807.28     565.14           368.98     565.14   \n",
       "std       3245.20     540.59     388.39           234.54     388.39   \n",
       "min          3.00       1.00       1.00             1.00       1.00   \n",
       "25%       2003.00     327.00     230.00           171.00     230.00   \n",
       "50%       4291.00     704.00     488.00           330.00     488.00   \n",
       "75%       8324.00    1330.00     889.00           556.00     889.00   \n",
       "max      47243.00    7255.00    6981.00          1472.00    6981.00   \n",
       "\n",
       "       len stem unique  \n",
       "count       1081334.00  \n",
       "mean            342.34  \n",
       "std             217.24  \n",
       "min               1.00  \n",
       "25%             161.00  \n",
       "50%             306.00  \n",
       "75%             508.00  \n",
       "max            1472.00  "
      ]
     },
     "execution_count": 6,
     "metadata": {},
     "output_type": "execute_result"
    }
   ],
   "source": [
    "LT.describe().round(4)"
   ]
  },
  {
   "cell_type": "code",
   "execution_count": 7,
   "metadata": {},
   "outputs": [
    {
     "data": {
      "image/png": "[encoded data removed]",
      "text/plain": [
       "<Figure size 640x480 with 1 Axes>"
      ]
     },
     "metadata": {},
     "output_type": "display_data"
    }
   ],
   "source": [
    "ax = ST[[\"len token\", \"len stop\", \"len stop unique\", \"len stem unique\"]].plot.box()"
   ]
  },
  {
   "cell_type": "code",
   "execution_count": 8,
   "metadata": {},
   "outputs": [
    {
     "data": {
      "image/png": "[encoded data removed]",
      "text/plain": [
       "<Figure size 640x480 with 1 Axes>"
      ]
     },
     "metadata": {},
     "output_type": "display_data"
    }
   ],
   "source": [
    "ax = ST.sort_values(\"len token\").reset_index()[\"len token\"].plot(title=\"Document Lengths\", xlabel=\"Doc\", ylabel=\"Length\")"
   ]
  },
  {
   "cell_type": "code",
   "execution_count": 9,
   "metadata": {},
   "outputs": [],
   "source": [
    "df_merged = LT[[\"len token\"]].sort_values(\"len token\", ascending=False).reset_index()[[\"len token\"]].merge(ST[[\"len token\"]].sort_values(\"len token\", ascending=False).reset_index()[[\"len token\"]], how='outer', left_index=True, right_index=True)"
   ]
  },
  {
   "cell_type": "code",
   "execution_count": 10,
   "metadata": {},
   "outputs": [],
   "source": [
    "ST_token = ST[\"len token\"].sort_values(ascending=False).reset_index(drop=True)\n",
    "LT_token = LT[\"len token\"].sort_values(ascending=False).reset_index(drop=True)"
   ]
  },
  {
   "attachments": {},
   "cell_type": "markdown",
   "metadata": {},
   "source": [
    "# Overlap"
   ]
  },
  {
   "cell_type": "code",
   "execution_count": 12,
   "metadata": {},
   "outputs": [],
   "source": [
    "WT_doc_ids = []\n",
    "for name in os.listdir(\"../\"+config[\"WT\"][\"docs\"].replace(\"Trec\", \"Json\")):\n",
    "    with open(\"../\"+config[\"WT\"][\"docs\"].replace(\"Trec\", \"Json\") + name, \"r\") as f:\n",
    "        a = json.load(f)\n",
    "        for doc in a:\n",
    "            WT_doc_ids.append(doc[\"id\"])"
   ]
  },
  {
   "cell_type": "code",
   "execution_count": 13,
   "metadata": {},
   "outputs": [],
   "source": [
    "ST_doc_ids = []\n",
    "for name in os.listdir(\"../\"+config[\"ST\"][\"docs\"].replace(\"Trec\", \"Json\")):\n",
    "    with open(\"../\"+config[\"ST\"][\"docs\"].replace(\"Trec\", \"Json\") + name, \"r\") as f:\n",
    "        a = json.load(f)\n",
    "        for doc in a:\n",
    "            ST_doc_ids.append(doc[\"id\"])"
   ]
  },
  {
   "cell_type": "code",
   "execution_count": 14,
   "metadata": {},
   "outputs": [],
   "source": [
    "LT_doc_ids = []\n",
    "for name in os.listdir(\"../\"+config[\"LT\"][\"docs\"].replace(\"Trec\", \"Json\")):\n",
    "    with open(\"../\"+config[\"LT\"][\"docs\"].replace(\"Trec\", \"Json\") + name, \"r\") as f:\n",
    "        a = json.load(f)\n",
    "        for doc in a:\n",
    "            LT_doc_ids.append(doc[\"id\"])"
   ]
  },
  {
   "cell_type": "code",
   "execution_count": 15,
   "metadata": {},
   "outputs": [
    {
     "name": "stdout",
     "output_type": "stream",
     "text": [
      "WT: 1570734\n",
      "ST: 1593376\n",
      "LT: 1081334\n"
     ]
    }
   ],
   "source": [
    "print(\"WT:\", len(WT_doc_ids))\n",
    "print(\"ST:\", len(ST_doc_ids))\n",
    "print(\"LT:\", len(LT_doc_ids))"
   ]
  },
  {
   "cell_type": "code",
   "execution_count": 22,
   "metadata": {},
   "outputs": [
    {
     "data": {
      "image/png": "[encoded data removed]",
      "text/plain": [
       "<Figure size 640x480 with 1 Axes>"
      ]
     },
     "metadata": {},
     "output_type": "display_data"
    }
   ],
   "source": [
    "set1 = set(WT_doc_ids)\n",
    "set2 = set(ST_doc_ids)\n",
    "set3 = set(LT_doc_ids)\n",
    "\n",
    "v = venn3([set1, set2, set3], ('WT', 'ST', 'LT'))\n",
    "\n",
    "plt.title(\"Number of Doc IDs per subcollection\")\n",
    "plt.show()"
   ]
  },
  {
   "attachments": {},
   "cell_type": "markdown",
   "metadata": {},
   "source": [
    "### Unify by URL"
   ]
  },
  {
   "cell_type": "code",
   "execution_count": 25,
   "metadata": {},
   "outputs": [],
   "source": [
    "# URLs\n",
    "WT_urls = pd.read_csv(\"../data/publish/French/urls.txt\", sep=\"\\t\", names=[\"docno\", \"url\"])\n",
    "ST_urls = pd.read_csv(\"../data/test-collection/A-Short-July/French/Documents/urls.txt\", sep=\"\\t\", names=[\"docno\", \"url\"])\n",
    "LT_urls = pd.read_csv(\"../data/test-collection/B-Long-September/French/Documents/urls.txt\", sep=\"\\t\", names=[\"docno\", \"url\"])"
   ]
  },
  {
   "cell_type": "code",
   "execution_count": 26,
   "metadata": {},
   "outputs": [
    {
     "data": {
      "image/png": "[encoded data removed]",
      "text/plain": [
       "<Figure size 640x480 with 1 Axes>"
      ]
     },
     "metadata": {},
     "output_type": "display_data"
    }
   ],
   "source": [
    "set1 = set(WT_urls[\"url\"].to_list())\n",
    "set2 = set(ST_urls[\"url\"].to_list())\n",
    "set3 = set(LT_urls[\"url\"].to_list())\n",
    "\n",
    "v = venn3([set1, set2, set3], ('WT', 'ST', 'LT'))\n",
    "\n",
    "plt.title(\"Number of Doc URLs per subcollection\")\n",
    "plt.show()"
   ]
  },
  {
   "attachments": {},
   "cell_type": "markdown",
   "metadata": {},
   "source": [
    "# Core Docs"
   ]
  },
  {
   "cell_type": "code",
   "execution_count": 27,
   "metadata": {},
   "outputs": [],
   "source": [
    "core_docs = WT_urls.merge(ST_urls, on=\"url\", how=\"left\", suffixes=(\"_WT\", \"_ST\")).merge(LT_urls, on=\"url\", how=\"left\").rename(columns={\"docno\": \"docno_LT\"}).dropna()"
   ]
  },
  {
   "cell_type": "code",
   "execution_count": 28,
   "metadata": {},
   "outputs": [],
   "source": [
    "core_docs[[\"docno_WT\", \"docno_ST\", \"docno_LT\"]].to_csv(\"../data/core_docs.tsv\", sep=\"\\t\", header=True)"
   ]
  },
  {
   "attachments": {},
   "cell_type": "markdown",
   "metadata": {},
   "source": [
    "# Term frequency of query terms in sub-collections"
   ]
  },
  {
   "cell_type": "code",
   "execution_count": null,
   "metadata": {},
   "outputs": [],
   "source": [
    "stemmer = pt.TerrierStemmer.porter\n",
    "\n",
    "def get_term_freq(subcollection: str):\n",
    "    if subcollection == \"WT\":\n",
    "        _, topics_train, _ = setup_system(\"WT\", train=True)\n",
    "        index, topics_test, _ = setup_system(\"WT\", train=False)\n",
    "        topics = pd.concat([topics_train, topics_test])\n",
    "    else:\n",
    "        index, topics ,_ = setup_system(subcollection, train=False)\n",
    "    \n",
    "    lex = index.getLexicon()\n",
    "\n",
    "    def get_term_freq(term):\n",
    "        stem = stemmer.stem(term)\n",
    "        try:\n",
    "            tf = lex[stem].getFrequency()\n",
    "        except:\n",
    "            tf = 0\n",
    "            print(f\"Term `{stem}` not found in index.\")\n",
    "        return tf\n",
    "\n",
    "    queryies = topics[\"query\"].to_list()\n",
    "    query_terms = [query.split(\" \") for query in queryies if query != \"\"]\n",
    "    query_terms = [term for sublist in query_terms for term in sublist]\n",
    "    df = pd.DataFrame({\"term\": query_terms})\n",
    "    df.drop_duplicates(inplace=True)\n",
    "    df[\"tf\"] = df[\"term\"].apply(get_term_freq)\n",
    "    return df\n"
   ]
  },
  {
   "cell_type": "code",
   "execution_count": null,
   "metadata": {},
   "outputs": [
    {
     "name": "stdout",
     "output_type": "stream",
     "text": [
      "Loaded index with  1570734 documents.\n",
      "18:30:00.170 [main] WARN org.terrier.structures.BaseCompressingMetaIndex - OutOfMemoryError: Structure meta reading data file directly from disk\n",
      "Loaded index with  1570734 documents.\n",
      "Term `v` not found in index.\n",
      "Term `groundstak` not found in index.\n",
      "Term `c` not found in index.\n",
      "Term `lot` not found in index.\n",
      "Term `re` not found in index.\n",
      "18:30:01.188 [main] WARN org.terrier.structures.BaseCompressingMetaIndex - Structure meta reading data file directly from disk (SLOW) - try index.meta.data-source=fileinmem in the index properties file. 3,4 GiB of memory would be required.\n",
      "Loaded index with  1593376 documents.\n",
      "Term `f` not found in index.\n",
      "Term `s` not found in index.\n",
      "Term `n` not found in index.\n",
      "Term `lot` not found in index.\n",
      "Term `4kvideo` not found in index.\n",
      "18:30:01.945 [main] WARN org.terrier.structures.BaseCompressingMetaIndex - Structure meta reading data file directly from disk (SLOW) - try index.meta.data-source=fileinmem in the index properties file. 2,3 GiB of memory would be required.\n",
      "Loaded index with  1081334 documents.\n",
      "Term `cadreemploi` not found in index.\n",
      "Term `b` not found in index.\n",
      "Term `lot` not found in index.\n",
      "Term `s` not found in index.\n",
      "Term `d` not found in index.\n",
      "Term `l` not found in index.\n"
     ]
    }
   ],
   "source": [
    "WT_tf = get_term_freq(\"WT\")\n",
    "ST_tf = get_term_freq(\"ST\")\n",
    "LT_tf = get_term_freq(\"LT\")"
   ]
  },
  {
   "cell_type": "code",
   "execution_count": null,
   "metadata": {},
   "outputs": [],
   "source": [
    "tfs = WT_tf.merge(ST_tf, on=\"term\", how=\"outer\", suffixes=(\"_WT\", \"_ST\")).merge(LT_tf, on=\"term\", how=\"outer\").rename(columns={\"tf\": \"tf_LT\"})"
   ]
  },
  {
   "cell_type": "code",
   "execution_count": null,
   "metadata": {},
   "outputs": [],
   "source": [
    "tfs.dropna(inplace=True)\n",
    "tfs.set_index(\"term\", inplace=True)"
   ]
  },
  {
   "cell_type": "code",
   "execution_count": null,
   "metadata": {},
   "outputs": [
    {
     "data": {
      "text/html": [
       "<div>\n",
       "<style scoped>\n",
       "    .dataframe tbody tr th:only-of-type {\n",
       "        vertical-align: middle;\n",
       "    }\n",
       "\n",
       "    .dataframe tbody tr th {\n",
       "        vertical-align: top;\n",
       "    }\n",
       "\n",
       "    .dataframe thead th {\n",
       "        text-align: right;\n",
       "    }\n",
       "</style>\n",
       "<table border=\"1\" class=\"dataframe\">\n",
       "  <thead>\n",
       "    <tr style=\"text-align: right;\">\n",
       "      <th></th>\n",
       "      <th>tf_WT</th>\n",
       "      <th>tf_ST</th>\n",
       "      <th>tf_LT</th>\n",
       "    </tr>\n",
       "    <tr>\n",
       "      <th>term</th>\n",
       "      <th></th>\n",
       "      <th></th>\n",
       "      <th></th>\n",
       "    </tr>\n",
       "  </thead>\n",
       "  <tbody>\n",
       "    <tr>\n",
       "      <th>car</th>\n",
       "      <td>499923.00</td>\n",
       "      <td>510142.00</td>\n",
       "      <td>377624.00</td>\n",
       "    </tr>\n",
       "    <tr>\n",
       "      <th>shelter</th>\n",
       "      <td>39721.00</td>\n",
       "      <td>40020.00</td>\n",
       "      <td>28547.00</td>\n",
       "    </tr>\n",
       "    <tr>\n",
       "      <th>airport</th>\n",
       "      <td>117428.00</td>\n",
       "      <td>119037.00</td>\n",
       "      <td>79495.00</td>\n",
       "    </tr>\n",
       "    <tr>\n",
       "      <th>antivirus</th>\n",
       "      <td>18158.00</td>\n",
       "      <td>19033.00</td>\n",
       "      <td>11995.00</td>\n",
       "    </tr>\n",
       "    <tr>\n",
       "      <th>free</th>\n",
       "      <td>1058482.00</td>\n",
       "      <td>1072201.00</td>\n",
       "      <td>785619.00</td>\n",
       "    </tr>\n",
       "  </tbody>\n",
       "</table>\n",
       "</div>"
      ],
      "text/plain": [
       "               tf_WT      tf_ST     tf_LT\n",
       "term                                     \n",
       "car        499923.00  510142.00 377624.00\n",
       "shelter     39721.00   40020.00  28547.00\n",
       "airport    117428.00  119037.00  79495.00\n",
       "antivirus   18158.00   19033.00  11995.00\n",
       "free      1058482.00 1072201.00 785619.00"
      ]
     },
     "execution_count": 15,
     "metadata": {},
     "output_type": "execute_result"
    }
   ],
   "source": [
    "tfs.head()"
   ]
  },
  {
   "attachments": {},
   "cell_type": "markdown",
   "metadata": {},
   "source": [
    "# Absolute changes"
   ]
  },
  {
   "cell_type": "code",
   "execution_count": null,
   "metadata": {},
   "outputs": [
    {
     "name": "stdout",
     "output_type": "stream",
     "text": [
      "Loaded index with  1570734 documents.\n",
      "Ids loaded\n",
      "11:56:40.069 [main] WARN org.terrier.structures.BaseCompressingMetaIndex - Structure meta reading data file directly from disk (SLOW) - try index.meta.data-source=fileinmem in the index properties file. 3,4 GiB of memory would be required.\n",
      "Loaded index with  1593376 documents.\n",
      "Ids loaded\n",
      "11:58:13.190 [main] WARN org.terrier.structures.BaseCompressingMetaIndex - Structure meta reading data file directly from disk (SLOW) - try index.meta.data-source=fileinmem in the index properties file. 2,3 GiB of memory would be required.\n",
      "Loaded index with  1081334 documents.\n",
      "Ids loaded\n"
     ]
    }
   ],
   "source": [
    "doc_len = {}\n",
    "\n",
    "for subcollection in [\"WT\", \"ST\", \"LT\"]:\n",
    "    def get_doclen(docno):\n",
    "        idx = id_no.get(docno)\n",
    "        if idx == None:\n",
    "            return 0\n",
    "        else:\n",
    "            doclen = doi.getDocumentEntry(idx).documentLength\n",
    "            return doclen\n",
    "    \n",
    "    urls = pd.read_csv(\"../\"+ config[subcollection][\"urls\"], sep=\"\\t\", names=[\"docno\", \"url\"])\n",
    "    \n",
    "    index,_ ,_ = setup_system(subcollection, False)\n",
    "\n",
    "    lex = index.getLexicon()\n",
    "    doi = index.getDocumentIndex()\n",
    "    meta = index.getMetaIndex()\n",
    "    di = index.getDirectIndex()\n",
    "\n",
    "    id_no = {}\n",
    "    while True:\n",
    "        try:\n",
    "            id_no[meta.getItem(\"docno\", len(id_no))] =  len(id_no)\n",
    "        except:\n",
    "            print(\"Ids loaded\")\n",
    "            break\n",
    "        \n",
    "    urls[\"len\"] = urls[\"docno\"].apply(get_doclen)\n",
    "    doc_len[subcollection] = urls\n"
   ]
  },
  {
   "cell_type": "code",
   "execution_count": null,
   "metadata": {},
   "outputs": [],
   "source": [
    "merge = doc_len[\"WT\"].set_index(\"url\").merge(\n",
    "    doc_len[\"ST\"].set_index(\"url\"), left_index=True, right_index=True , how=\"outer\", suffixes=(\"_WT\", \"_ST\")).merge(doc_len[\"LT\"].set_index(\"url\"),left_index=True, right_index=True , how=\"outer\").rename(columns={\"len\": \"len_LT\", \"docno\": \"docno_LT\"})"
   ]
  },
  {
   "cell_type": "code",
   "execution_count": null,
   "metadata": {},
   "outputs": [],
   "source": [
    "merge[\"WT-ST\"] = merge[\"len_WT\"] - merge[\"len_ST\"]\n",
    "merge[\"ST-LT\"] = merge[\"len_ST\"] - merge[\"len_LT\"]\n",
    "merge[\"WT-LT\"] = merge[\"len_WT\"] - merge[\"len_LT\"]"
   ]
  },
  {
   "cell_type": "code",
   "execution_count": null,
   "metadata": {},
   "outputs": [
    {
     "data": {
      "text/html": [
       "<div>\n",
       "<style scoped>\n",
       "    .dataframe tbody tr th:only-of-type {\n",
       "        vertical-align: middle;\n",
       "    }\n",
       "\n",
       "    .dataframe tbody tr th {\n",
       "        vertical-align: top;\n",
       "    }\n",
       "\n",
       "    .dataframe thead th {\n",
       "        text-align: right;\n",
       "    }\n",
       "</style>\n",
       "<table border=\"1\" class=\"dataframe\">\n",
       "  <thead>\n",
       "    <tr style=\"text-align: right;\">\n",
       "      <th></th>\n",
       "      <th>docno_WT</th>\n",
       "      <th>len_WT</th>\n",
       "      <th>docno_ST</th>\n",
       "      <th>len_ST</th>\n",
       "      <th>docno</th>\n",
       "      <th>len_LT</th>\n",
       "      <th>WT-ST</th>\n",
       "      <th>ST-LT</th>\n",
       "      <th>WT-LT</th>\n",
       "    </tr>\n",
       "    <tr>\n",
       "      <th>url</th>\n",
       "      <th></th>\n",
       "      <th></th>\n",
       "      <th></th>\n",
       "      <th></th>\n",
       "      <th></th>\n",
       "      <th></th>\n",
       "      <th></th>\n",
       "      <th></th>\n",
       "      <th></th>\n",
       "    </tr>\n",
       "  </thead>\n",
       "  <tbody>\n",
       "    <tr>\n",
       "      <th>http://0-studio-pour-2-personnes-234-aix-les-bains.hotel-in-lyon.com/fr/</th>\n",
       "      <td>doc062205503410</td>\n",
       "      <td>674.00</td>\n",
       "      <td>doc072206603956</td>\n",
       "      <td>697.00</td>\n",
       "      <td>NaN</td>\n",
       "      <td>NaN</td>\n",
       "      <td>-23.00</td>\n",
       "      <td>NaN</td>\n",
       "      <td>NaN</td>\n",
       "    </tr>\n",
       "    <tr>\n",
       "      <th>http://0-under-my-skin-0.cowblog.fr/meta/jeune/1.html</th>\n",
       "      <td>doc062215100327</td>\n",
       "      <td>250.00</td>\n",
       "      <td>doc072215002028</td>\n",
       "      <td>250.00</td>\n",
       "      <td>doc092203108885</td>\n",
       "      <td>250.00</td>\n",
       "      <td>0.00</td>\n",
       "      <td>0.00</td>\n",
       "      <td>0.00</td>\n",
       "    </tr>\n",
       "    <tr>\n",
       "      <th>http://0.aepiot.com/?q=cameras</th>\n",
       "      <td>NaN</td>\n",
       "      <td>NaN</td>\n",
       "      <td>NaN</td>\n",
       "      <td>NaN</td>\n",
       "      <td>doc092206008335</td>\n",
       "      <td>1213.00</td>\n",
       "      <td>NaN</td>\n",
       "      <td>NaN</td>\n",
       "      <td>NaN</td>\n",
       "    </tr>\n",
       "    <tr>\n",
       "      <th>http://000060j.webpreview.dsl.net/excellence%20award.htm</th>\n",
       "      <td>doc062208107938</td>\n",
       "      <td>239.00</td>\n",
       "      <td>doc072208401915</td>\n",
       "      <td>239.00</td>\n",
       "      <td>doc092202310806</td>\n",
       "      <td>239.00</td>\n",
       "      <td>0.00</td>\n",
       "      <td>0.00</td>\n",
       "      <td>0.00</td>\n",
       "    </tr>\n",
       "    <tr>\n",
       "      <th>http://0051b07.netsolhost.com/index.php/more-info/sdsu/25-films/1048-entertaining-movies-about-disabilities</th>\n",
       "      <td>doc062215206894</td>\n",
       "      <td>607.00</td>\n",
       "      <td>doc072211202801</td>\n",
       "      <td>607.00</td>\n",
       "      <td>doc092205301935</td>\n",
       "      <td>607.00</td>\n",
       "      <td>0.00</td>\n",
       "      <td>0.00</td>\n",
       "      <td>0.00</td>\n",
       "    </tr>\n",
       "  </tbody>\n",
       "</table>\n",
       "</div>"
      ],
      "text/plain": [
       "                                                           docno_WT  len_WT  \\\n",
       "url                                                                           \n",
       "http://0-studio-pour-2-personnes-234-aix-les-ba...  doc062205503410  674.00   \n",
       "http://0-under-my-skin-0.cowblog.fr/meta/jeune/...  doc062215100327  250.00   \n",
       "http://0.aepiot.com/?q=cameras                                  NaN     NaN   \n",
       "http://000060j.webpreview.dsl.net/excellence%20...  doc062208107938  239.00   \n",
       "http://0051b07.netsolhost.com/index.php/more-in...  doc062215206894  607.00   \n",
       "\n",
       "                                                           docno_ST  len_ST  \\\n",
       "url                                                                           \n",
       "http://0-studio-pour-2-personnes-234-aix-les-ba...  doc072206603956  697.00   \n",
       "http://0-under-my-skin-0.cowblog.fr/meta/jeune/...  doc072215002028  250.00   \n",
       "http://0.aepiot.com/?q=cameras                                  NaN     NaN   \n",
       "http://000060j.webpreview.dsl.net/excellence%20...  doc072208401915  239.00   \n",
       "http://0051b07.netsolhost.com/index.php/more-in...  doc072211202801  607.00   \n",
       "\n",
       "                                                              docno  len_LT  \\\n",
       "url                                                                           \n",
       "http://0-studio-pour-2-personnes-234-aix-les-ba...              NaN     NaN   \n",
       "http://0-under-my-skin-0.cowblog.fr/meta/jeune/...  doc092203108885  250.00   \n",
       "http://0.aepiot.com/?q=cameras                      doc092206008335 1213.00   \n",
       "http://000060j.webpreview.dsl.net/excellence%20...  doc092202310806  239.00   \n",
       "http://0051b07.netsolhost.com/index.php/more-in...  doc092205301935  607.00   \n",
       "\n",
       "                                                    WT-ST  ST-LT  WT-LT  \n",
       "url                                                                      \n",
       "http://0-studio-pour-2-personnes-234-aix-les-ba... -23.00    NaN    NaN  \n",
       "http://0-under-my-skin-0.cowblog.fr/meta/jeune/...   0.00   0.00   0.00  \n",
       "http://0.aepiot.com/?q=cameras                        NaN    NaN    NaN  \n",
       "http://000060j.webpreview.dsl.net/excellence%20...   0.00   0.00   0.00  \n",
       "http://0051b07.netsolhost.com/index.php/more-in...   0.00   0.00   0.00  "
      ]
     },
     "execution_count": 8,
     "metadata": {},
     "output_type": "execute_result"
    }
   ],
   "source": [
    "merge.head()"
   ]
  },
  {
   "cell_type": "code",
   "execution_count": null,
   "metadata": {},
   "outputs": [
    {
     "name": "stdout",
     "output_type": "stream",
     "text": [
      "WT to ST\n",
      "Changed: 196682\n",
      "Stays the same: 1355835\n",
      "Longer: 94771\n",
      "Shorter: 101911\n",
      "Added: 40859\n",
      "Removed: 18217\n"
     ]
    }
   ],
   "source": [
    "print(\"WT to ST\")\n",
    "print(\"Changed:\", len(merge[merge[\"WT-ST\"]!=0][\"WT-ST\"].dropna()))\n",
    "print(\"Stays the same:\", len(merge[merge[\"WT-ST\"]==0][\"WT-ST\"].dropna()))\n",
    "print(\"Longer:\", len(merge[merge[\"WT-ST\"]>0]))\n",
    "print(\"Shorter:\", len(merge[merge[\"WT-ST\"]<0]))\n",
    "print(\"Added:\", len(merge[merge[\"len_WT\"].isna() & merge[\"len_ST\"].notna()]))\n",
    "print(\"Removed:\", len(merge[merge[\"len_WT\"].notna() & merge[\"len_ST\"].isna()]))\n",
    "\n"
   ]
  },
  {
   "cell_type": "code",
   "execution_count": null,
   "metadata": {},
   "outputs": [
    {
     "name": "stdout",
     "output_type": "stream",
     "text": [
      "ST to LT\n",
      "Changed: 192624\n",
      "Stays the same: 841873\n",
      "Longer: 95713\n",
      "Shorter: 96911\n",
      "Added: 46837\n",
      "Removed: 558879\n"
     ]
    }
   ],
   "source": [
    "print(\"ST to LT\")\n",
    "print(\"Changed:\", len(merge[merge[\"ST-LT\"]!=0][\"ST-LT\"].dropna()))\n",
    "print(\"Stays the same:\", len(merge[merge[\"ST-LT\"]==0][\"ST-LT\"].dropna()))\n",
    "print(\"Longer:\", len(merge[merge[\"ST-LT\"]>0]))\n",
    "print(\"Shorter:\", len(merge[merge[\"ST-LT\"]<0]))\n",
    "print(\"Added:\", len(merge[merge[\"len_ST\"].isna() & merge[\"len_LT\"].notna()]))\n",
    "print(\"Removed:\", len(merge[merge[\"len_ST\"].notna() & merge[\"len_LT\"].isna()]))\n"
   ]
  },
  {
   "cell_type": "code",
   "execution_count": null,
   "metadata": {},
   "outputs": [
    {
     "data": {
      "text/plain": [
       "101911"
      ]
     },
     "execution_count": 17,
     "metadata": {},
     "output_type": "execute_result"
    }
   ],
   "source": [
    "len(merge[merge[\"WT-ST\"]<0])"
   ]
  },
  {
   "cell_type": "code",
   "execution_count": null,
   "metadata": {},
   "outputs": [
    {
     "data": {
      "text/plain": [
       "196682"
      ]
     },
     "execution_count": 19,
     "metadata": {},
     "output_type": "execute_result"
    }
   ],
   "source": [
    "len(merge[merge[\"WT-ST\"]!=0][\"WT-ST\"].dropna())"
   ]
  },
  {
   "cell_type": "code",
   "execution_count": null,
   "metadata": {},
   "outputs": [
    {
     "data": {
      "text/plain": [
       "1570734"
      ]
     },
     "execution_count": 29,
     "metadata": {},
     "output_type": "execute_result"
    }
   ],
   "source": [
    "merge[\"docno_WT\"].dropna().count()"
   ]
  },
  {
   "cell_type": "code",
   "execution_count": null,
   "metadata": {},
   "outputs": [
    {
     "data": {
      "text/plain": [
       "1593376"
      ]
     },
     "execution_count": 32,
     "metadata": {},
     "output_type": "execute_result"
    }
   ],
   "source": [
    "merge[\"docno_ST\"].dropna().count()#-40859"
   ]
  },
  {
   "cell_type": "code",
   "execution_count": null,
   "metadata": {},
   "outputs": [
    {
     "data": {
      "text/plain": [
       "1034497"
      ]
     },
     "execution_count": 37,
     "metadata": {},
     "output_type": "execute_result"
    }
   ],
   "source": [
    "merge[\"docno\"].dropna().count()-46837"
   ]
  }
 ],
 "metadata": {
  "kernelspec": {
   "display_name": "Python 3.8.16 ('LongEval')",
   "language": "python",
   "name": "python3"
  },
  "language_info": {
   "codemirror_mode": {
    "name": "ipython",
    "version": 3
   },
   "file_extension": ".py",
   "mimetype": "text/x-python",
   "name": "python",
   "nbconvert_exporter": "python",
   "pygments_lexer": "ipython3",
   "version": "3.8.16"
  },
  "orig_nbformat": 4,
  "vscode": {
   "interpreter": {
    "hash": "fb915a841106d17bab6c0e433d807167dd40c228f7e5885474f2fcf8f68fafdf"
   }
  }
 },
 "nbformat": 4,
 "nbformat_minor": 2
}
