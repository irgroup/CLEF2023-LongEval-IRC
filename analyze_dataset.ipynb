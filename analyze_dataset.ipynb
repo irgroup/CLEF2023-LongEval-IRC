{
 "cells": [
  {
   "cell_type": "markdown",
   "metadata": {},
   "source": [
    "# Analysis of WT dataset"
   ]
  },
  {
   "cell_type": "code",
   "execution_count": 1,
   "metadata": {},
   "outputs": [],
   "source": [
    "import pandas as pd"
   ]
  },
  {
   "cell_type": "code",
   "execution_count": 20,
   "metadata": {},
   "outputs": [],
   "source": [
    "df = pd.read_csv(\"data/doc_WT_stats.csv\")"
   ]
  },
  {
   "cell_type": "code",
   "execution_count": 31,
   "metadata": {},
   "outputs": [
    {
     "data": {
      "text/html": [
       "<div>\n",
       "<style scoped>\n",
       "    .dataframe tbody tr th:only-of-type {\n",
       "        vertical-align: middle;\n",
       "    }\n",
       "\n",
       "    .dataframe tbody tr th {\n",
       "        vertical-align: top;\n",
       "    }\n",
       "\n",
       "    .dataframe thead th {\n",
       "        text-align: right;\n",
       "    }\n",
       "</style>\n",
       "<table border=\"1\" class=\"dataframe\">\n",
       "  <thead>\n",
       "    <tr style=\"text-align: right;\">\n",
       "      <th></th>\n",
       "      <th>len stream</th>\n",
       "      <th>len token</th>\n",
       "      <th>len stop</th>\n",
       "      <th>len stop unique</th>\n",
       "      <th>len stem</th>\n",
       "      <th>len stem unique</th>\n",
       "    </tr>\n",
       "  </thead>\n",
       "  <tbody>\n",
       "    <tr>\n",
       "      <th>count</th>\n",
       "      <td>1570734.00</td>\n",
       "      <td>1570734.00</td>\n",
       "      <td>1570734.00</td>\n",
       "      <td>1570734.00</td>\n",
       "      <td>1570734.00</td>\n",
       "      <td>1570734.00</td>\n",
       "    </tr>\n",
       "    <tr>\n",
       "      <th>mean</th>\n",
       "      <td>4846.15</td>\n",
       "      <td>794.11</td>\n",
       "      <td>559.47</td>\n",
       "      <td>370.46</td>\n",
       "      <td>559.47</td>\n",
       "      <td>344.47</td>\n",
       "    </tr>\n",
       "    <tr>\n",
       "      <th>std</th>\n",
       "      <td>3228.08</td>\n",
       "      <td>532.73</td>\n",
       "      <td>386.06</td>\n",
       "      <td>239.44</td>\n",
       "      <td>386.06</td>\n",
       "      <td>222.99</td>\n",
       "    </tr>\n",
       "    <tr>\n",
       "      <th>min</th>\n",
       "      <td>3.00</td>\n",
       "      <td>0.00</td>\n",
       "      <td>0.00</td>\n",
       "      <td>0.00</td>\n",
       "      <td>0.00</td>\n",
       "      <td>0.00</td>\n",
       "    </tr>\n",
       "    <tr>\n",
       "      <th>25%</th>\n",
       "      <td>1998.00</td>\n",
       "      <td>327.00</td>\n",
       "      <td>230.00</td>\n",
       "      <td>171.00</td>\n",
       "      <td>230.00</td>\n",
       "      <td>162.00</td>\n",
       "    </tr>\n",
       "    <tr>\n",
       "      <th>50%</th>\n",
       "      <td>4224.00</td>\n",
       "      <td>693.00</td>\n",
       "      <td>480.00</td>\n",
       "      <td>328.00</td>\n",
       "      <td>480.00</td>\n",
       "      <td>305.00</td>\n",
       "    </tr>\n",
       "    <tr>\n",
       "      <th>75%</th>\n",
       "      <td>8169.00</td>\n",
       "      <td>1311.00</td>\n",
       "      <td>878.00</td>\n",
       "      <td>556.00</td>\n",
       "      <td>878.00</td>\n",
       "      <td>509.00</td>\n",
       "    </tr>\n",
       "    <tr>\n",
       "      <th>max</th>\n",
       "      <td>26645.00</td>\n",
       "      <td>7065.00</td>\n",
       "      <td>6981.00</td>\n",
       "      <td>1480.00</td>\n",
       "      <td>6981.00</td>\n",
       "      <td>1472.00</td>\n",
       "    </tr>\n",
       "  </tbody>\n",
       "</table>\n",
       "</div>"
      ],
      "text/plain": [
       "       len stream  len token   len stop  len stop unique   len stem  \\\n",
       "count  1570734.00 1570734.00 1570734.00       1570734.00 1570734.00   \n",
       "mean      4846.15     794.11     559.47           370.46     559.47   \n",
       "std       3228.08     532.73     386.06           239.44     386.06   \n",
       "min          3.00       0.00       0.00             0.00       0.00   \n",
       "25%       1998.00     327.00     230.00           171.00     230.00   \n",
       "50%       4224.00     693.00     480.00           328.00     480.00   \n",
       "75%       8169.00    1311.00     878.00           556.00     878.00   \n",
       "max      26645.00    7065.00    6981.00          1480.00    6981.00   \n",
       "\n",
       "       len stem unique  \n",
       "count       1570734.00  \n",
       "mean            344.47  \n",
       "std             222.99  \n",
       "min               0.00  \n",
       "25%             162.00  \n",
       "50%             305.00  \n",
       "75%             509.00  \n",
       "max            1472.00  "
      ]
     },
     "execution_count": 31,
     "metadata": {},
     "output_type": "execute_result"
    }
   ],
   "source": [
    "pd.set_option('display.float_format', lambda x: '%.2f' % x)\n",
    "df.describe().round(4)"
   ]
  },
  {
   "cell_type": "code",
   "execution_count": 26,
   "metadata": {},
   "outputs": [
    {
     "data": {
      "text/plain": [
       "<Axes: >"
      ]
     },
     "execution_count": 26,
     "metadata": {},
     "output_type": "execute_result"
    },
    {
     "data": {
      "image/png": "[encoded data removed]",
      "text/plain": [
       "<Figure size 432x288 with 1 Axes>"
      ]
     },
     "metadata": {
      "needs_background": "light"
     },
     "output_type": "display_data"
    }
   ],
   "source": [
    "df[[\"len token\", \"len stop\", \"len stop unique\", \"len stem unique\"]].plot.box()"
   ]
  },
  {
   "cell_type": "code",
   "execution_count": 18,
   "metadata": {},
   "outputs": [
    {
     "data": {
      "text/plain": [
       "<Axes: title={'center': 'Document Lengths'}, xlabel='Doc', ylabel='Length'>"
      ]
     },
     "execution_count": 18,
     "metadata": {},
     "output_type": "execute_result"
    },
    {
     "data": {
      "image/png": "[encoded data removed]",
      "text/plain": [
       "<Figure size 432x288 with 1 Axes>"
      ]
     },
     "metadata": {
      "needs_background": "light"
     },
     "output_type": "display_data"
    }
   ],
   "source": [
    "df.sort_values(\"len token\").reset_index()[\"len token\"].plot(title=\"Document Lengths\", xlabel=\"Doc\", ylabel=\"Length\")"
   ]
  },
  {
   "cell_type": "code",
   "execution_count": null,
   "metadata": {},
   "outputs": [],
   "source": []
  }
 ],
 "metadata": {
  "kernelspec": {
   "display_name": "Python 3.8.16 ('LongEval')",
   "language": "python",
   "name": "python3"
  },
  "language_info": {
   "codemirror_mode": {
    "name": "ipython",
    "version": 3
   },
   "file_extension": ".py",
   "mimetype": "text/x-python",
   "name": "python",
   "nbconvert_exporter": "python",
   "pygments_lexer": "ipython3",
   "version": "3.8.16"
  },
  "orig_nbformat": 4,
  "vscode": {
   "interpreter": {
    "hash": "fb915a841106d17bab6c0e433d807167dd40c228f7e5885474f2fcf8f68fafdf"
   }
  }
 },
 "nbformat": 4,
 "nbformat_minor": 2
}
