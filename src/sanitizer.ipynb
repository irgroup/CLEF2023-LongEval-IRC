{
 "cells": [
  {
   "cell_type": "code",
   "execution_count": 1,
   "metadata": {},
   "outputs": [
    {
     "name": "stderr",
     "output_type": "stream",
     "text": [
      "PyTerrier 0.9.2 has loaded Terrier 5.7 (built by craigm on 2022-11-10 18:30) and terrier-helper 0.0.7\n",
      "\n",
      "No etc/terrier.properties, using terrier.default.properties for bootstrap configuration.\n"
     ]
    }
   ],
   "source": [
    "from src.exp_logger import logger\n",
    "\n",
    "from src.load_index import setup_system, tag\n",
    "import yaml\n",
    "import os\n",
    "import pandas as pd\n",
    "import pyterrier as pt  # type: ignore\n",
    "\n",
    "with open(\"../settings.yml\", \"r\") as yamlfile:\n",
    "    config = yaml.load(yamlfile, Loader=yaml.FullLoader)"
   ]
  },
  {
   "cell_type": "code",
   "execution_count": 15,
   "metadata": {},
   "outputs": [],
   "source": [
    "runs = [\n",
    "\"IRC_RRF(BM25-XSqrA_M-PL2).WT\"\n",
    "]\n",
    "for run in runs:\n",
    "    r = pd.read_csv(f\"../results/train/{run}\", sep=\" \", header=None)\n",
    "    r.groupby(0).apply(lambda x: x.sort_values(3, ascending=True).head(1000)).reset_index(drop=True).to_csv(run, sep=\" \", header=None, index=False)"
   ]
  },
  {
   "cell_type": "code",
   "execution_count": 16,
   "metadata": {},
   "outputs": [
    {
     "name": "stdout",
     "output_type": "stream",
     "text": [
      "Loaded index with  1570734 documents.\n"
     ]
    }
   ],
   "source": [
    "index, topics, qrels = setup_system(index_name =\"WT\", train=True)\n",
    "\n",
    "original = pt.io.read_results(\"../results/train/IRC_RRF(BM25-XSqrA_M-PL2).WT\")\n",
    "short =  pt.io.read_results(\"../src/IRC_RRF(BM25-XSqrA_M-PL2).WT\")\n",
    "\n",
    "results = pt.Experiment(\n",
    "    [original, short],\n",
    "    topics,\n",
    "    qrels,\n",
    "    eval_metrics=[\"ndcg\", \"P_20\", \"map\", \"ndcg_cut_20\", \"recip_rank\", \"bpref\"],\n",
    "    names=[\"original\", \"short\"],\n",
    "    filter_by_qrels = True,\n",
    "    round=4)"
   ]
  },
  {
   "cell_type": "code",
   "execution_count": 17,
   "metadata": {},
   "outputs": [
    {
     "data": {
      "text/html": [
       "<div>\n",
       "<style scoped>\n",
       "    .dataframe tbody tr th:only-of-type {\n",
       "        vertical-align: middle;\n",
       "    }\n",
       "\n",
       "    .dataframe tbody tr th {\n",
       "        vertical-align: top;\n",
       "    }\n",
       "\n",
       "    .dataframe thead th {\n",
       "        text-align: right;\n",
       "    }\n",
       "</style>\n",
       "<table border=\"1\" class=\"dataframe\">\n",
       "  <thead>\n",
       "    <tr style=\"text-align: right;\">\n",
       "      <th></th>\n",
       "      <th>name</th>\n",
       "      <th>ndcg</th>\n",
       "      <th>P_20</th>\n",
       "      <th>map</th>\n",
       "      <th>ndcg_cut_20</th>\n",
       "      <th>recip_rank</th>\n",
       "      <th>bpref</th>\n",
       "    </tr>\n",
       "  </thead>\n",
       "  <tbody>\n",
       "    <tr>\n",
       "      <th>0</th>\n",
       "      <td>original</td>\n",
       "      <td>0.2967</td>\n",
       "      <td>0.0656</td>\n",
       "      <td>0.1462</td>\n",
       "      <td>0.2101</td>\n",
       "      <td>0.2646</td>\n",
       "      <td>0.3380</td>\n",
       "    </tr>\n",
       "    <tr>\n",
       "      <th>1</th>\n",
       "      <td>short</td>\n",
       "      <td>0.2929</td>\n",
       "      <td>0.0656</td>\n",
       "      <td>0.1461</td>\n",
       "      <td>0.2101</td>\n",
       "      <td>0.2645</td>\n",
       "      <td>0.3339</td>\n",
       "    </tr>\n",
       "  </tbody>\n",
       "</table>\n",
       "</div>"
      ],
      "text/plain": [
       "       name    ndcg    P_20     map  ndcg_cut_20  recip_rank   bpref\n",
       "0  original  0.2967  0.0656  0.1462       0.2101      0.2646  0.3380\n",
       "1     short  0.2929  0.0656  0.1461       0.2101      0.2645  0.3339"
      ]
     },
     "execution_count": 17,
     "metadata": {},
     "output_type": "execute_result"
    }
   ],
   "source": [
    "results"
   ]
  },
  {
   "cell_type": "code",
   "execution_count": 8,
   "metadata": {},
   "outputs": [
    {
     "data": {
      "text/html": [
       "<div>\n",
       "<style scoped>\n",
       "    .dataframe tbody tr th:only-of-type {\n",
       "        vertical-align: middle;\n",
       "    }\n",
       "\n",
       "    .dataframe tbody tr th {\n",
       "        vertical-align: top;\n",
       "    }\n",
       "\n",
       "    .dataframe thead th {\n",
       "        text-align: right;\n",
       "    }\n",
       "</style>\n",
       "<table border=\"1\" class=\"dataframe\">\n",
       "  <thead>\n",
       "    <tr style=\"text-align: right;\">\n",
       "      <th></th>\n",
       "      <th>0</th>\n",
       "      <th>1</th>\n",
       "      <th>2</th>\n",
       "      <th>3</th>\n",
       "      <th>4</th>\n",
       "      <th>5</th>\n",
       "    </tr>\n",
       "  </thead>\n",
       "  <tbody>\n",
       "    <tr>\n",
       "      <th>0</th>\n",
       "      <td>q092210070</td>\n",
       "      <td>Q0</td>\n",
       "      <td>doc092206607761</td>\n",
       "      <td>1</td>\n",
       "      <td>0.049180</td>\n",
       "      <td>IRC_RRF(BM25+Bo1-XSqrA_M-PL2).LT</td>\n",
       "    </tr>\n",
       "    <tr>\n",
       "      <th>1</th>\n",
       "      <td>q092210070</td>\n",
       "      <td>Q0</td>\n",
       "      <td>doc092203705546</td>\n",
       "      <td>2</td>\n",
       "      <td>0.048131</td>\n",
       "      <td>IRC_RRF(BM25+Bo1-XSqrA_M-PL2).LT</td>\n",
       "    </tr>\n",
       "    <tr>\n",
       "      <th>2</th>\n",
       "      <td>q092210070</td>\n",
       "      <td>Q0</td>\n",
       "      <td>doc092204900140</td>\n",
       "      <td>3</td>\n",
       "      <td>0.047875</td>\n",
       "      <td>IRC_RRF(BM25+Bo1-XSqrA_M-PL2).LT</td>\n",
       "    </tr>\n",
       "    <tr>\n",
       "      <th>3</th>\n",
       "      <td>q092210070</td>\n",
       "      <td>Q0</td>\n",
       "      <td>doc092200801916</td>\n",
       "      <td>4</td>\n",
       "      <td>0.046635</td>\n",
       "      <td>IRC_RRF(BM25+Bo1-XSqrA_M-PL2).LT</td>\n",
       "    </tr>\n",
       "    <tr>\n",
       "      <th>4</th>\n",
       "      <td>q092210070</td>\n",
       "      <td>Q0</td>\n",
       "      <td>doc092207701870</td>\n",
       "      <td>5</td>\n",
       "      <td>0.045228</td>\n",
       "      <td>IRC_RRF(BM25+Bo1-XSqrA_M-PL2).LT</td>\n",
       "    </tr>\n",
       "    <tr>\n",
       "      <th>...</th>\n",
       "      <td>...</td>\n",
       "      <td>...</td>\n",
       "      <td>...</td>\n",
       "      <td>...</td>\n",
       "      <td>...</td>\n",
       "      <td>...</td>\n",
       "    </tr>\n",
       "    <tr>\n",
       "      <th>1316113</th>\n",
       "      <td>q0922999</td>\n",
       "      <td>Q0</td>\n",
       "      <td>doc092209504483</td>\n",
       "      <td>1058</td>\n",
       "      <td>0.000948</td>\n",
       "      <td>IRC_RRF(BM25+Bo1-XSqrA_M-PL2).LT</td>\n",
       "    </tr>\n",
       "    <tr>\n",
       "      <th>1316114</th>\n",
       "      <td>q0922999</td>\n",
       "      <td>Q0</td>\n",
       "      <td>doc092204407058</td>\n",
       "      <td>1059</td>\n",
       "      <td>0.000947</td>\n",
       "      <td>IRC_RRF(BM25+Bo1-XSqrA_M-PL2).LT</td>\n",
       "    </tr>\n",
       "    <tr>\n",
       "      <th>1316115</th>\n",
       "      <td>q0922999</td>\n",
       "      <td>Q0</td>\n",
       "      <td>doc092200708356</td>\n",
       "      <td>1060</td>\n",
       "      <td>0.000946</td>\n",
       "      <td>IRC_RRF(BM25+Bo1-XSqrA_M-PL2).LT</td>\n",
       "    </tr>\n",
       "    <tr>\n",
       "      <th>1316116</th>\n",
       "      <td>q0922999</td>\n",
       "      <td>Q0</td>\n",
       "      <td>doc092201108044</td>\n",
       "      <td>1061</td>\n",
       "      <td>0.000945</td>\n",
       "      <td>IRC_RRF(BM25+Bo1-XSqrA_M-PL2).LT</td>\n",
       "    </tr>\n",
       "    <tr>\n",
       "      <th>1316117</th>\n",
       "      <td>q0922999</td>\n",
       "      <td>Q0</td>\n",
       "      <td>doc092205800135</td>\n",
       "      <td>1062</td>\n",
       "      <td>0.000944</td>\n",
       "      <td>IRC_RRF(BM25+Bo1-XSqrA_M-PL2).LT</td>\n",
       "    </tr>\n",
       "  </tbody>\n",
       "</table>\n",
       "<p>1316118 rows × 6 columns</p>\n",
       "</div>"
      ],
      "text/plain": [
       "                  0   1                2     3         4  \\\n",
       "0        q092210070  Q0  doc092206607761     1  0.049180   \n",
       "1        q092210070  Q0  doc092203705546     2  0.048131   \n",
       "2        q092210070  Q0  doc092204900140     3  0.047875   \n",
       "3        q092210070  Q0  doc092200801916     4  0.046635   \n",
       "4        q092210070  Q0  doc092207701870     5  0.045228   \n",
       "...             ...  ..              ...   ...       ...   \n",
       "1316113    q0922999  Q0  doc092209504483  1058  0.000948   \n",
       "1316114    q0922999  Q0  doc092204407058  1059  0.000947   \n",
       "1316115    q0922999  Q0  doc092200708356  1060  0.000946   \n",
       "1316116    q0922999  Q0  doc092201108044  1061  0.000945   \n",
       "1316117    q0922999  Q0  doc092205800135  1062  0.000944   \n",
       "\n",
       "                                        5  \n",
       "0        IRC_RRF(BM25+Bo1-XSqrA_M-PL2).LT  \n",
       "1        IRC_RRF(BM25+Bo1-XSqrA_M-PL2).LT  \n",
       "2        IRC_RRF(BM25+Bo1-XSqrA_M-PL2).LT  \n",
       "3        IRC_RRF(BM25+Bo1-XSqrA_M-PL2).LT  \n",
       "4        IRC_RRF(BM25+Bo1-XSqrA_M-PL2).LT  \n",
       "...                                   ...  \n",
       "1316113  IRC_RRF(BM25+Bo1-XSqrA_M-PL2).LT  \n",
       "1316114  IRC_RRF(BM25+Bo1-XSqrA_M-PL2).LT  \n",
       "1316115  IRC_RRF(BM25+Bo1-XSqrA_M-PL2).LT  \n",
       "1316116  IRC_RRF(BM25+Bo1-XSqrA_M-PL2).LT  \n",
       "1316117  IRC_RRF(BM25+Bo1-XSqrA_M-PL2).LT  \n",
       "\n",
       "[1316118 rows x 6 columns]"
      ]
     },
     "execution_count": 8,
     "metadata": {},
     "output_type": "execute_result"
    }
   ],
   "source": [
    "r"
   ]
  },
  {
   "cell_type": "code",
   "execution_count": 2,
   "metadata": {},
   "outputs": [],
   "source": [
    "results_path = os.path.join(\"..\", config[\"results_path\"]).replace(\"trec\", \"submission\")"
   ]
  },
  {
   "cell_type": "code",
   "execution_count": 19,
   "metadata": {},
   "outputs": [
    {
     "name": "stdout",
     "output_type": "stream",
     "text": [
      " IRC_BM25+colBERT.LT\t IRC_d2q+BM25.WT\n",
      " IRC_BM25+colBERT.meta\t IRC_d2q+BM25.zip\n",
      " IRC_BM25+colBERT.ST\t IRC_E5_base.LT\n",
      " IRC_BM25+colBERT.WT\t IRC_E5_base.meta\n",
      " IRC_BM25+colBERT.zip\t IRC_E5_base.ST\n",
      " IRC_BM25+monoT5.LT\t IRC_E5_base.WT\n",
      " IRC_BM25+monoT5.meta\t IRC_E5_base.zip\n",
      " IRC_BM25+monoT5.ST\t'IRC_RRF(BM25+Bo1-XSqrA_M-PL2).LT'\n",
      " IRC_BM25+monoT5.WT\t'IRC_RRF(BM25+Bo1-XSqrA_M-PL2).meta'\n",
      " IRC_BM25+monoT5.zip\t'IRC_RRF(BM25+Bo1-XSqrA_M-PL2).ST'\n",
      " IRC_d2q+BM25.LT\t'IRC_RRF(BM25+Bo1-XSqrA_M-PL2).WT'\n",
      " IRC_d2q+BM25.meta\t'IRC_RRF(BM25+Bo1-XSqrA_M-PL2).zip'\n",
      " IRC_d2q+BM25.ST\n"
     ]
    }
   ],
   "source": [
    "!ls {results_path}"
   ]
  },
  {
   "cell_type": "code",
   "execution_count": 3,
   "metadata": {},
   "outputs": [],
   "source": [
    "runs = [\n",
    "    # 'IRC_BM25+colBERT.LT',\n",
    "    # 'IRC_d2q+BM25.WT',\n",
    "    # 'IRC_BM25+colBERT.ST',\n",
    "    # 'IRC_E5_base.LT',\n",
    "    # 'IRC_BM25+colBERT.WT',\n",
    "    # 'IRC_E5_base.ST',\n",
    "    # 'IRC_BM25+monoT5.LT',\n",
    "    # 'IRC_E5_base.WT',\n",
    "    # 'IRC_BM25+monoT5.ST',\n",
    "    # 'IRC_BM25+monoT5.WT',\n",
    "    # 'IRC_d2q+BM25.ST'\n",
    "    # 'IRC_d2q+BM25.LT',\n",
    "    'IRC_RRF(BM25+Bo1-XSqrA_M-PL2).WT',\n",
    "    'IRC_RRF(BM25+Bo1-XSqrA_M-PL2).ST',\n",
    "    'IRC_RRF(BM25+Bo1-XSqrA_M-PL2).LT',\n",
    "        ]"
   ]
  },
  {
   "cell_type": "code",
   "execution_count": 4,
   "metadata": {},
   "outputs": [],
   "source": [
    "def check_run(run_tag):\n",
    "    \"\"\"Run sanitizer:\n",
    "    - check if all topics are in the collection\n",
    "    - check if all topics are in the run\n",
    "    - check if topics with < 1000 docs exist\n",
    "    - check if topics with > 1000 docs exist\n",
    "    - check if all doc ids are valid\n",
    "    - evaluate on projected qrels from WT\n",
    "\n",
    "    Args:\n",
    "        run_tag (_type_): _description_\n",
    "    \"\"\"\n",
    "    # load data\n",
    "    index, topics, qrels = setup_system(index_name =run_tag[-2:], train=False)\n",
    "    collection_topics = topics[\"qid\"].unique().tolist()\n",
    "\n",
    "\n",
    "    run = pd.read_csv(os.path.join(results_path, run_tag), sep=\" \", header=None, names=[\"topic\", \"Q0\", \"docid\", \"rank\", \"score\", \"tag\"])\n",
    "    run_topics = run[\"topic\"].unique().tolist()\n",
    "\n",
    "    print(f\"----------- Check run `{run_tag}` and collection `{run_tag[-2:]}` -----------\")\n",
    "\n",
    "\n",
    "    BM25 = pt.BatchRetrieve(index, wmodel=\"BM25\")\n",
    "\n",
    "    # check if all topics are in the collection\n",
    "    not_in_collection = set(run_topics).difference(collection_topics)  # topics in run but not in collection\n",
    "    if not_in_collection:\n",
    "        print(f\"- Found {len(not_in_collection)} topics in run but not in collection: {not_in_collection}\")\n",
    "    else:\n",
    "        print(\"All topics in run are in collection\")\n",
    "    print(\"\\n\")\n",
    "\n",
    "    # check if all topics are in the run\n",
    "    not_in_run = set(collection_topics).difference(run_topics)  # topics in collection but not in run\n",
    "    if not_in_run:\n",
    "        print(f\"Found {len(not_in_run)} topics in collection but not in run: {not_in_run}\")\n",
    "        for topic in not_in_run:\n",
    "            query = topics[topics[\"qid\"] == topic][\"query\"].iloc[0]\n",
    "            results = BM25.search(query)\n",
    "\n",
    "            print(f\"- Topic `{topic}`: `{query}`. BM25 found {len(results)} docs\")\n",
    "    else:\n",
    "        print(\"All topics in collection are in run\")\n",
    "    print(\"\\n\")\n",
    "\n",
    "    # check if all topics have 1000 docs\n",
    "    not_1k = run.groupby(\"topic\").count()[run.groupby(\"topic\").count()[\"docid\"]<1000]\n",
    "    if len(not_1k):\n",
    "        print(f\"Found {len(not_1k)} topics with less than 1000 docs\")\n",
    "        for i in not_1k.itertuples():\n",
    "            query = topics[topics[\"qid\"] == i[0]][\"query\"].iloc[0]\n",
    "            print(f\"Topic `{i[0]}`: `{query}` has only {i[1]} docs\")\n",
    "    \n",
    "    else:\n",
    "        print(\"All topics have 1000 docs\")\n",
    "    print(\"\\n\")\n",
    "\n",
    "    # check if all topics have more than 1000 docs\n",
    "    more_1k = run.groupby(\"topic\").count()[run.groupby(\"topic\").count()[\"docid\"]>1000]\n",
    "    if len(more_1k):\n",
    "        print(f\"Found {len(more_1k)} topics with more than 1000 docs\")\n",
    "        for i in more_1k.itertuples():\n",
    "            query = topics[topics[\"qid\"] == i[0]][\"query\"].iloc[0]\n",
    "            print(f\"Topic `{i[0]}`: `{query}` has {i[1]} docs\")\n",
    "    else:\n",
    "        print(\"No topics have more than 1000 docs\")\n",
    "    print(\"\\n\")\n",
    "\n",
    "    # check if all doc ids are valid\n",
    "    id_no = {}\n",
    "    meta = index.getMetaIndex()\n",
    "\n",
    "    while True:\n",
    "        try:\n",
    "            id_no[len(id_no)] = meta.getItem(\"docno\", len(id_no))\n",
    "        except:\n",
    "            break\n",
    "    docs_in_run = set(run[\"docid\"].unique().tolist())\n",
    "    docs_in_index = set(id_no.values())\n",
    "    not_in_index = docs_in_run.difference(docs_in_index)\n",
    "    if not_in_index:\n",
    "        print(f\"Found {len(not_in_index)} docs in run but not in index\")\n",
    "        for doc in not_in_index:\n",
    "            print(f\"- Doc `{doc}`\")\n",
    "    else:\n",
    "        print(\"All docs in run are in index\")\n",
    "    print(\"\\n\")\n",
    "\n",
    "    # evaluate on projected qrels\n",
    "    if run_tag[-2:] != \"WT\":\n",
    "        qrels = pt.io.read_qrels(f\"../data/qrels_{run_tag[-2:]}.txt\")\n",
    "        run = pt.io.read_results(os.path.join(results_path, run_tag))\n",
    "        num_topics = len(qrels[\"qid\"].unique().tolist())\n",
    "        print(f\"Evaluate on {num_topics} rojected topics\")\n",
    "\n",
    "        results = pt.Experiment(\n",
    "            [run],\n",
    "            topics,\n",
    "            qrels,\n",
    "            eval_metrics=[\"ndcg\", \"P_20\", \"map\", \"ndcg_cut_20\", \"recip_rank\", \"bpref\"],\n",
    "            names=[run_tag],\n",
    "            filter_by_qrels = True,\n",
    "            round=4)\n",
    "        print(results)"
   ]
  },
  {
   "cell_type": "code",
   "execution_count": 5,
   "metadata": {},
   "outputs": [
    {
     "name": "stdout",
     "output_type": "stream",
     "text": [
      "Loaded index with  1570734 documents.\n",
      "----------- Check run `IRC_RRF(BM25+Bo1-XSqrA_M-PL2).WT` and collection `WT` -----------\n",
      "All topics in run are in collection\n",
      "\n",
      "\n",
      "All topics in collection are in run\n",
      "\n",
      "\n",
      "All topics have 1000 docs\n",
      "\n",
      "\n",
      "No topics have more than 1000 docs\n",
      "\n",
      "\n",
      "All docs in run are in index\n",
      "\n",
      "\n",
      "\n",
      "\n",
      "\n",
      "13:30:31.311 [main] WARN org.terrier.structures.BaseCompressingMetaIndex - Structure meta reading data file directly from disk (SLOW) - try index.meta.data-source=fileinmem in the index properties file. 3,4 GiB of memory would be required.\n",
      "Loaded index with  1593376 documents.\n",
      "----------- Check run `IRC_RRF(BM25+Bo1-XSqrA_M-PL2).ST` and collection `ST` -----------\n",
      "All topics in run are in collection\n",
      "\n",
      "\n",
      "Found 4 topics in collection but not in run: {'q072212314', 'q072214697', 'q072224942', 'q072222604'}\n",
      "- Topic `q072212314`: `the`. BM25 found 0 docs\n",
      "- Topic `q072214697`: `to`. BM25 found 0 docs\n",
      "- Topic `q072224942`: `the`. BM25 found 0 docs\n",
      "- Topic `q072222604`: `a`. BM25 found 0 docs\n",
      "\n",
      "\n",
      "All topics have 1000 docs\n",
      "\n",
      "\n",
      "No topics have more than 1000 docs\n",
      "\n",
      "\n",
      "All docs in run are in index\n",
      "\n",
      "\n",
      "Evaluate on 245 rojected topics\n",
      "                               name    ndcg    P_20    map  ndcg_cut_20  \\\n",
      "0  IRC_RRF(BM25+Bo1-XSqrA_M-PL2).ST  0.2907  0.0663  0.143       0.2101   \n",
      "\n",
      "   recip_rank   bpref  \n",
      "0      0.2555  0.3585  \n",
      "\n",
      "\n",
      "\n",
      "13:31:34.934 [main] WARN org.terrier.structures.BaseCompressingMetaIndex - Structure meta reading data file directly from disk (SLOW) - try index.meta.data-source=fileinmem in the index properties file. 2,3 GiB of memory would be required.\n",
      "Loaded index with  1081334 documents.\n",
      "----------- Check run `IRC_RRF(BM25+Bo1-XSqrA_M-PL2).LT` and collection `LT` -----------\n",
      "All topics in run are in collection\n",
      "\n",
      "\n",
      "Found 2 topics in collection but not in run: {'q0922511', 'q092219105'}\n",
      "- Topic `q0922511`: `cadreemploi`. BM25 found 0 docs\n",
      "- Topic `q092219105`: `a`. BM25 found 0 docs\n",
      "\n",
      "\n",
      "All topics have 1000 docs\n",
      "\n",
      "\n",
      "No topics have more than 1000 docs\n",
      "\n",
      "\n",
      "All docs in run are in index\n",
      "\n",
      "\n",
      "Evaluate on 203 rojected topics\n",
      "                               name    ndcg    P_20     map  ndcg_cut_20  \\\n",
      "0  IRC_RRF(BM25+Bo1-XSqrA_M-PL2).LT  0.3052  0.0764  0.1493       0.2274   \n",
      "\n",
      "   recip_rank   bpref  \n",
      "0       0.256  0.3702  \n",
      "\n",
      "\n",
      "\n"
     ]
    }
   ],
   "source": [
    "for run in runs:\n",
    "    check_run(run)\n",
    "    print(\"\\n\\n\")"
   ]
  },
  {
   "attachments": {},
   "cell_type": "markdown",
   "metadata": {},
   "source": [
    "# Content changes, relevance stays"
   ]
  },
  {
   "cell_type": "code",
   "execution_count": 375,
   "metadata": {},
   "outputs": [],
   "source": [
    "qrels_WT = pd.read_csv('../data/publish/French/Qrels/train.txt', sep=' ', names=['query', '0', 'docid', 'label'])\n",
    "topics_WT = pd.read_csv('../data/publish/English/Queries/train.tsv', sep='\\t', names=['qid', 'query'])\n",
    "urls_WT = pd.read_csv(\"../data/publish/French/urls.txt\", sep=\"\\t\", names=[\"docno\", \"url\"])"
   ]
  },
  {
   "cell_type": "code",
   "execution_count": 376,
   "metadata": {},
   "outputs": [],
   "source": [
    "qrels = qrels_WT.merge(topics_WT, left_on='query', right_on=\"qid\", how='left')[[\"qid\",\"0\", \"docid\", \"label\", \"query_y\"]]\n",
    "qrels = qrels.rename(columns={\"query_y\": \"query\", \"qid\": \"qid_WT\"})"
   ]
  },
  {
   "cell_type": "code",
   "execution_count": 377,
   "metadata": {},
   "outputs": [],
   "source": [
    "qrels = qrels.merge(urls_WT, left_on=\"docid\", right_on=\"docno\", how=\"left\")[[\"qid_WT\", \"0\", \"docid\", \"label\", \"query\", \"url\"]]"
   ]
  },
  {
   "cell_type": "code",
   "execution_count": 378,
   "metadata": {},
   "outputs": [],
   "source": [
    "# add qids ST, LT\n",
    "topics_ST = pd.read_csv('../data/test-collection/A-Short-July/English/Queries/test07.tsv', sep='\\t', names=['qid', 'query'])"
   ]
  },
  {
   "cell_type": "code",
   "execution_count": 379,
   "metadata": {},
   "outputs": [],
   "source": [
    "topics_LT = pd.read_csv('../data/test-collection/B-Long-September/English/Queries/test09.tsv', sep='\\t', names=['qid', 'query'])\n"
   ]
  },
  {
   "cell_type": "code",
   "execution_count": 380,
   "metadata": {},
   "outputs": [],
   "source": [
    "qrels = qrels.merge(topics_ST, left_on=\"query\", right_on=\"query\", how=\"left\").rename(columns={\"qid\": \"qid_ST\"})"
   ]
  },
  {
   "cell_type": "code",
   "execution_count": 381,
   "metadata": {},
   "outputs": [],
   "source": [
    "qrels = qrels.merge(topics_LT, left_on=\"query\", right_on=\"query\", how=\"left\").rename(columns={\"qid\": \"qid_LT\"})"
   ]
  },
  {
   "cell_type": "code",
   "execution_count": 382,
   "metadata": {},
   "outputs": [],
   "source": [
    "urls_ST = pd.read_csv(\"../data/test-collection/A-Short-July/French/Documents/urls.txt\", sep=\"\\t\", names=[\"docno\", \"url\"])\n",
    "urls_LT = pd.read_csv(\"../data/test-collection/B-Long-September/French/Documents/urls.txt\", sep=\"\\t\", names=[\"docno\", \"url\"])"
   ]
  },
  {
   "cell_type": "code",
   "execution_count": 383,
   "metadata": {},
   "outputs": [],
   "source": [
    "qrels = qrels.merge(urls_ST, left_on=\"url\", right_on=\"url\", how=\"left\").rename(columns={\"docno\": \"docid_ST\"})"
   ]
  },
  {
   "cell_type": "code",
   "execution_count": 384,
   "metadata": {},
   "outputs": [],
   "source": [
    "qrels = qrels.merge(urls_LT, left_on=\"url\", right_on=\"url\", how=\"left\").rename(columns={\"docno\": \"docid_LT\"})\n"
   ]
  },
  {
   "cell_type": "code",
   "execution_count": 274,
   "metadata": {},
   "outputs": [],
   "source": [
    "qrels[[\"qid_ST\", \"0\", \"docid_ST\", \"label\"]].dropna().to_csv(\"../data/qrels_ST.txt\", sep=\" \", header=False, index=False)"
   ]
  },
  {
   "cell_type": "code",
   "execution_count": 275,
   "metadata": {},
   "outputs": [],
   "source": [
    "qrels[[\"qid_LT\", \"0\", \"docid_LT\", \"label\"]].dropna().to_csv(\"../data/qrels_LT.txt\", sep=\" \", header=False, index=False)"
   ]
  },
  {
   "cell_type": "code",
   "execution_count": null,
   "metadata": {},
   "outputs": [],
   "source": [
    "qrels[[\"qid_LT\", \"0\", \"docid_LT\", \"label\"]].dropna().to_csv(\"../data/qrels_LT.txt\", sep=\" \", header=False, index=False)\n"
   ]
  },
  {
   "cell_type": "code",
   "execution_count": 386,
   "metadata": {},
   "outputs": [],
   "source": [
    "qrels[[\"qid_WT\", \"0\", \"docid\", \"label\"]].dropna().to_csv(\"../data/qrels_WT.txt\", sep=\" \", header=False, index=False)\n"
   ]
  },
  {
   "cell_type": "code",
   "execution_count": null,
   "metadata": {},
   "outputs": [],
   "source": []
  }
 ],
 "metadata": {
  "kernelspec": {
   "display_name": "LongEval",
   "language": "python",
   "name": "python3"
  },
  "language_info": {
   "codemirror_mode": {
    "name": "ipython",
    "version": 3
   },
   "file_extension": ".py",
   "mimetype": "text/x-python",
   "name": "python",
   "nbconvert_exporter": "python",
   "pygments_lexer": "ipython3",
   "version": "3.8.16"
  },
  "orig_nbformat": 4
 },
 "nbformat": 4,
 "nbformat_minor": 2
}
