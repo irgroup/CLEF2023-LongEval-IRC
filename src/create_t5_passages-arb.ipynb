{
 "cells": [
  {
   "cell_type": "code",
   "execution_count": 1,
   "metadata": {},
   "outputs": [
    {
     "name": "stderr",
     "output_type": "stream",
     "text": [
      "PyTerrier 0.9.2 has loaded Terrier 5.7 (built by craigm on 2022-11-10 18:30) and terrier-helper 0.0.7\n",
      "\n",
      "No etc/terrier.properties, using terrier.default.properties for bootstrap configuration.\n"
     ]
    }
   ],
   "source": [
    "from src.exp_logger import logger\n",
    "\n",
    "import pyterrier as pt  # type: ignore\n",
    "import json\n",
    "from src.load_index import setup_system\n",
    "from tqdm import tqdm\n",
    "import pandas as pd\n",
    "\n",
    "\n",
    "logger.setLevel(\"INFO\")"
   ]
  },
  {
   "cell_type": "code",
   "execution_count": 2,
   "metadata": {},
   "outputs": [
    {
     "name": "stdout",
     "output_type": "stream",
     "text": [
      "Loaded index with  1570734 documents.\n"
     ]
    }
   ],
   "source": [
    "index, topics, qrels = setup_system(\"WT\")"
   ]
  },
  {
   "cell_type": "code",
   "execution_count": 3,
   "metadata": {},
   "outputs": [
    {
     "name": "stdout",
     "output_type": "stream",
     "text": [
      "Done\n"
     ]
    }
   ],
   "source": [
    "id_no = {}\n",
    "meta = index.getMetaIndex()\n",
    "\n",
    "while True:\n",
    "    try:\n",
    "        id_no[len(id_no)] = meta.getItem(\"docno\", len(id_no))\n",
    "    except:\n",
    "        print(\"Done\")\n",
    "        break\n",
    "\n",
    "no_id = {v: k for k, v in id_no.items()}\n",
    "\n",
    "\n",
    "def find_max_list(list):\n",
    "    list_len = [len(i) for i in list]\n",
    "    return max(list_len)"
   ]
  },
  {
   "cell_type": "code",
   "execution_count": 4,
   "metadata": {},
   "outputs": [],
   "source": [
    "slide = pt.text.sliding(length=150, stride=75, prepend_attr=None, text_attr=\"text\")\n",
    "\n",
    "def relevant_passages():\n",
    "    rels = topics.merge(qrels[qrels[\"label\"]>=1], on=\"qid\")\n",
    "\n",
    "    for _, query in tqdm(topics.iterrows(), total=len(topics)):\n",
    "        qid = query[\"qid\"]\n",
    "        query = query[\"query\"]\n",
    "\n",
    "        ##### Get relevant passages #####\n",
    "        rel_docs = rels[rels[\"qid\"] == qid][\"docno\"].tolist()  # get relevant docs\n",
    "        if not rel_docs:\n",
    "            logger.warning(f\"Skipping {qid}: `{query}`, not relevant docs found\")\n",
    "            continue\n",
    "\n",
    "\n",
    "        for docno in rel_docs:\n",
    "            docid = no_id[docno]\n",
    "            doc = index.getMetaIndex().getItem(\"text\", docid)\n",
    "            cleaned_doc = doc.replace(docno, \" \").strip()\n",
    "            df = pd.DataFrame([{\"text\": cleaned_doc, \"docno\": docno}])\n",
    "            passages = slide.transform(df)[\"text\"].tolist()\n",
    "\n",
    "            logger.info(f\"Found {len(passages)} passages for {docno}\")\n",
    "        \n",
    "            with open(\"../data/passages/t5/WT-relevant-passages-arb.jsonl\", \"a+\") as f:\n",
    "                for passage in passages:\n",
    "                    json.dump({\"qid\": qid, \"docno\": docno, \"passage\": passage}, f)\n",
    "                    f.write(\"\\n\")"
   ]
  },
  {
   "cell_type": "code",
   "execution_count": 5,
   "metadata": {},
   "outputs": [],
   "source": [
    "def not_relevant_passages():\n",
    "    bm25 = pt.BatchRetrieve(index, wmodel=\"BM25\")\n",
    "    for _, query in tqdm(topics.iterrows(), total=len(topics)):\n",
    "        qid = query[\"qid\"]\n",
    "        base = bm25(topics[topics[\"qid\"]==qid])  # baseline\n",
    "        gradet = base.merge(qrels, on=[\"qid\", \"docno\"])  # add grading    \n",
    "        not_relevant_docs = gradet[gradet[\"label\"]==0][\"docno\"].tolist()  # get not rel docs\n",
    "        logger.info(f\"Found {len(not_relevant_docs)} graded and not relevant docs for {qid}\")\n",
    "\n",
    "        for docno in not_relevant_docs:\n",
    "            docid = no_id[docno]\n",
    "            doc = index.getMetaIndex().getItem(\"text\", docid)\n",
    "            cleaned_doc = doc.replace(docno, \" \").strip()\n",
    "\n",
    "            df = pd.DataFrame([{\"text\": cleaned_doc, \"docno\": docno}])\n",
    "            passages = slide.transform(df)[\"text\"].tolist()\n",
    "\n",
    "            logger.info(f\"Found {len(passages)} passages for {docno}\")\n",
    "        \n",
    "            with open(\"../data/passages/t5/WT-not-relevant-passages-arb.jsonl\", \"a+\") as f:\n",
    "                for passage in passages:\n",
    "                    json.dump({\"qid\": qid, \"docno\": docno, \"passage\": passage}, f)\n",
    "                    f.write(\"\\n\")"
   ]
  },
  {
   "cell_type": "code",
   "execution_count": 6,
   "metadata": {},
   "outputs": [
    {
     "name": "stderr",
     "output_type": "stream",
     "text": [
      "  3%|▎         | 18/672 [00:00<00:06, 94.47it/s]"
     ]
    },
    {
     "name": "stdout",
     "output_type": "stream",
     "text": [
      "calling sliding on df of 1 rows\n",
      "calling sliding on df of 1 rows\n",
      "calling sliding on df of 1 rows\n",
      "calling sliding on df of 1 rows\n",
      "calling sliding on df of 1 rows\n",
      "calling sliding on df of 1 rows\n",
      "calling sliding on df of 1 rows\n",
      "calling sliding on df of 1 rows\n",
      "calling sliding on df of 1 rows\n",
      "calling sliding on df of 1 rows\n",
      "calling sliding on df of 1 rows\n",
      "calling sliding on df of 1 rows\n",
      "calling sliding on df of 1 rows\n",
      "calling sliding on df of 1 rows\n",
      "calling sliding on df of 1 rows\n",
      "calling sliding on df of 1 rows\n",
      "calling sliding on df of 1 rows\n",
      "calling sliding on df of 1 rows\n",
      "calling sliding on df of 1 rows\n",
      "calling sliding on df of 1 rows\n",
      "calling sliding on df of 1 rows\n",
      "calling sliding on df of 1 rows\n",
      "calling sliding on df of 1 rows\n",
      "calling sliding on df of 1 rows\n",
      "calling sliding on df of 1 rows\n",
      "calling sliding on df of 1 rows\n",
      "calling sliding on df of 1 rows\n",
      "calling sliding on df of 1 rows\n",
      "calling sliding on df of 1 rows\n",
      "calling sliding on df of 1 rows\n",
      "calling sliding on df of 1 rows\n",
      "calling sliding on df of 1 rows\n",
      "calling sliding on df of 1 rows\n",
      "calling sliding on df of 1 rows\n",
      "calling sliding on df of 1 rows\n",
      "calling sliding on df of 1 rows\n",
      "calling sliding on df of 1 rows\n",
      "calling sliding on df of 1 rows\n",
      "calling sliding on df of 1 rows\n",
      "calling sliding on df of 1 rows\n",
      "calling sliding on df of 1 rows\n",
      "calling sliding on df of 1 rows\n",
      "calling sliding on df of 1 rows\n",
      "calling sliding on df of 1 rows\n",
      "calling sliding on df of 1 rows\n",
      "calling sliding on df of 1 rows\n",
      "calling sliding on df of 1 rows\n",
      "calling sliding on df of 1 rows\n",
      "calling sliding on df of 1 rows\n",
      "calling sliding on df of 1 rows\n",
      "calling sliding on df of 1 rows\n",
      "calling sliding on df of 1 rows\n",
      "calling sliding on df of 1 rows\n",
      "calling sliding on df of 1 rows\n",
      "calling sliding on df of 1 rows\n",
      "calling sliding on df of 1 rows\n",
      "calling sliding on df of 1 rows\n",
      "calling sliding on df of 1 rows\n",
      "calling sliding on df of 1 rows\n",
      "calling sliding on df of 1 rows\n",
      "calling sliding on df of 1 rows\n",
      "calling sliding on df of 1 rows\n",
      "calling sliding on df of 1 rows\n",
      "calling sliding on df of 1 rows\n",
      "calling sliding on df of 1 rows\n",
      "calling sliding on df of 1 rows\n",
      "calling sliding on df of 1 rows\n",
      "calling sliding on df of 1 rows\n",
      "calling sliding on df of 1 rows\n",
      "calling sliding on df of 1 rows\n",
      "calling sliding on df of 1 rows\n",
      "calling sliding on df of 1 rows\n",
      "calling sliding on df of 1 rows\n",
      "calling sliding on df of 1 rows\n",
      "calling sliding on df of 1 rows\n"
     ]
    },
    {
     "name": "stderr",
     "output_type": "stream",
     "text": [
      "[2023-05-08 18:07:12][WARNING] src.exp_logger: Skipping q062216451: `chateau cathare`, not relevant docs found\n",
      "[2023-05-08 18:07:12][WARNING] src.exp_logger: Skipping q0622724: `convert video to mp3`, not relevant docs found\n",
      "  7%|▋         | 44/672 [00:00<00:05, 109.73it/s]"
     ]
    },
    {
     "name": "stdout",
     "output_type": "stream",
     "text": [
      "calling sliding on df of 1 rows\n",
      "calling sliding on df of 1 rows\n",
      "calling sliding on df of 1 rows\n",
      "calling sliding on df of 1 rows\n",
      "calling sliding on df of 1 rows\n",
      "calling sliding on df of 1 rows\n",
      "calling sliding on df of 1 rows\n",
      "calling sliding on df of 1 rows\n",
      "calling sliding on df of 1 rows\n",
      "calling sliding on df of 1 rows\n",
      "calling sliding on df of 1 rows\n",
      "calling sliding on df of 1 rows\n",
      "calling sliding on df of 1 rows\n",
      "calling sliding on df of 1 rows\n",
      "calling sliding on df of 1 rows\n",
      "calling sliding on df of 1 rows\n",
      "calling sliding on df of 1 rows\n",
      "calling sliding on df of 1 rows\n",
      "calling sliding on df of 1 rows\n",
      "calling sliding on df of 1 rows\n",
      "calling sliding on df of 1 rows\n",
      "calling sliding on df of 1 rows\n",
      "calling sliding on df of 1 rows\n",
      "calling sliding on df of 1 rows\n",
      "calling sliding on df of 1 rows\n",
      "calling sliding on df of 1 rows\n",
      "calling sliding on df of 1 rows\n",
      "calling sliding on df of 1 rows\n",
      "calling sliding on df of 1 rows\n",
      "calling sliding on df of 1 rows\n",
      "calling sliding on df of 1 rows\n",
      "calling sliding on df of 1 rows\n",
      "calling sliding on df of 1 rows\n",
      "calling sliding on df of 1 rows\n",
      "calling sliding on df of 1 rows\n",
      "calling sliding on df of 1 rows\n",
      "calling sliding on df of 1 rows\n",
      "calling sliding on df of 1 rows\n",
      "calling sliding on df of 1 rows\n",
      "calling sliding on df of 1 rows\n",
      "calling sliding on df of 1 rows\n",
      "calling sliding on df of 1 rows\n",
      "calling sliding on df of 1 rows\n",
      "calling sliding on df of 1 rows\n",
      "calling sliding on df of 1 rows\n",
      "calling sliding on df of 1 rows\n",
      "calling sliding on df of 1 rows\n",
      "calling sliding on df of 1 rows\n",
      "calling sliding on df of 1 rows\n",
      "calling sliding on df of 1 rows\n",
      "calling sliding on df of 1 rows\n",
      "calling sliding on df of 1 rows\n",
      "calling sliding on df of 1 rows\n",
      "calling sliding on df of 1 rows\n",
      "calling sliding on df of 1 rows\n",
      "calling sliding on df of 1 rows\n",
      "calling sliding on df of 1 rows\n",
      "calling sliding on df of 1 rows\n",
      "calling sliding on df of 1 rows\n",
      "calling sliding on df of 1 rows\n",
      "calling sliding on df of 1 rows\n",
      "calling sliding on df of 1 rows\n",
      "calling sliding on df of 1 rows\n",
      "calling sliding on df of 1 rows\n",
      "calling sliding on df of 1 rows\n",
      "calling sliding on df of 1 rows\n",
      "calling sliding on df of 1 rows\n",
      "calling sliding on df of 1 rows\n",
      "calling sliding on df of 1 rows\n",
      "calling sliding on df of 1 rows\n",
      "calling sliding on df of 1 rows\n",
      "calling sliding on df of 1 rows\n",
      "calling sliding on df of 1 rows\n",
      "calling sliding on df of 1 rows\n",
      "calling sliding on df of 1 rows\n",
      "calling sliding on df of 1 rows\n",
      "calling sliding on df of 1 rows\n",
      "calling sliding on df of 1 rows\n",
      "calling sliding on df of 1 rows\n",
      "calling sliding on df of 1 rows\n",
      "calling sliding on df of 1 rows\n",
      "calling sliding on df of 1 rows\n",
      "calling sliding on df of 1 rows\n",
      "calling sliding on df of 1 rows\n",
      "calling sliding on df of 1 rows\n",
      "calling sliding on df of 1 rows\n",
      "calling sliding on df of 1 rows\n",
      "calling sliding on df of 1 rows\n",
      "calling sliding on df of 1 rows\n"
     ]
    },
    {
     "name": "stderr",
     "output_type": "stream",
     "text": [
      "  8%|▊         | 56/672 [00:00<00:05, 109.61it/s]"
     ]
    },
    {
     "name": "stdout",
     "output_type": "stream",
     "text": [
      "calling sliding on df of 1 rows\n",
      "calling sliding on df of 1 rows\n",
      "calling sliding on df of 1 rows\n",
      "calling sliding on df of 1 rows\n",
      "calling sliding on df of 1 rows\n",
      "calling sliding on df of 1 rows\n",
      "calling sliding on df of 1 rows\n",
      "calling sliding on df of 1 rows\n",
      "calling sliding on df of 1 rows\n",
      "calling sliding on df of 1 rows\n",
      "calling sliding on df of 1 rows\n",
      "calling sliding on df of 1 rows\n",
      "calling sliding on df of 1 rows\n",
      "calling sliding on df of 1 rows\n",
      "calling sliding on df of 1 rows\n",
      "calling sliding on df of 1 rows\n",
      "calling sliding on df of 1 rows\n",
      "calling sliding on df of 1 rows\n",
      "calling sliding on df of 1 rows\n",
      "calling sliding on df of 1 rows\n",
      "calling sliding on df of 1 rows\n",
      "calling sliding on df of 1 rows\n",
      "calling sliding on df of 1 rows\n",
      "calling sliding on df of 1 rows\n",
      "calling sliding on df of 1 rows\n",
      "calling sliding on df of 1 rows\n",
      "calling sliding on df of 1 rows\n",
      "calling sliding on df of 1 rows\n",
      "calling sliding on df of 1 rows\n",
      "calling sliding on df of 1 rows\n",
      "calling sliding on df of 1 rows\n",
      "calling sliding on df of 1 rows\n",
      "calling sliding on df of 1 rows\n",
      "calling sliding on df of 1 rows\n",
      "calling sliding on df of 1 rows\n",
      "calling sliding on df of 1 rows\n",
      "calling sliding on df of 1 rows\n",
      "calling sliding on df of 1 rows\n",
      "calling sliding on df of 1 rows\n",
      "calling sliding on df of 1 rows\n",
      "calling sliding on df of 1 rows\n",
      "calling sliding on df of 1 rows\n",
      "calling sliding on df of 1 rows\n",
      "calling sliding on df of 1 rows\n",
      "calling sliding on df of 1 rows\n",
      "calling sliding on df of 1 rows\n",
      "calling sliding on df of 1 rows\n",
      "calling sliding on df of 1 rows\n",
      "calling sliding on df of 1 rows\n",
      "calling sliding on df of 1 rows\n",
      "calling sliding on df of 1 rows\n",
      "calling sliding on df of 1 rows\n",
      "calling sliding on df of 1 rows\n",
      "calling sliding on df of 1 rows\n",
      "calling sliding on df of 1 rows\n",
      "calling sliding on df of 1 rows\n",
      "calling sliding on df of 1 rows\n",
      "calling sliding on df of 1 rows\n",
      "calling sliding on df of 1 rows\n",
      "calling sliding on df of 1 rows\n",
      "calling sliding on df of 1 rows\n",
      "calling sliding on df of 1 rows\n",
      "calling sliding on df of 1 rows\n",
      "calling sliding on df of 1 rows\n",
      "calling sliding on df of 1 rows\n",
      "calling sliding on df of 1 rows\n",
      "calling sliding on df of 1 rows\n",
      "calling sliding on df of 1 rows\n",
      "calling sliding on df of 1 rows\n",
      "calling sliding on df of 1 rows\n",
      "calling sliding on df of 1 rows\n",
      "calling sliding on df of 1 rows\n",
      "calling sliding on df of 1 rows\n",
      "calling sliding on df of 1 rows\n",
      "calling sliding on df of 1 rows\n",
      "calling sliding on df of 1 rows\n",
      "calling sliding on df of 1 rows\n",
      "calling sliding on df of 1 rows\n",
      "calling sliding on df of 1 rows\n",
      "calling sliding on df of 1 rows\n",
      "calling sliding on df of 1 rows\n",
      "calling sliding on df of 1 rows\n",
      "calling sliding on df of 1 rows\n",
      "calling sliding on df of 1 rows\n",
      "calling sliding on df of 1 rows\n",
      "calling sliding on df of 1 rows\n",
      "calling sliding on df of 1 rows\n",
      "calling sliding on df of 1 rows\n",
      "calling sliding on df of 1 rows\n",
      "calling sliding on df of 1 rows\n"
     ]
    },
    {
     "name": "stderr",
     "output_type": "stream",
     "text": [
      " 12%|█▏        | 80/672 [00:00<00:05, 113.88it/s]"
     ]
    },
    {
     "name": "stdout",
     "output_type": "stream",
     "text": [
      "calling sliding on df of 1 rows\n",
      "calling sliding on df of 1 rows\n",
      "calling sliding on df of 1 rows\n",
      "calling sliding on df of 1 rows\n",
      "calling sliding on df of 1 rows\n",
      "calling sliding on df of 1 rows\n",
      "calling sliding on df of 1 rows\n",
      "calling sliding on df of 1 rows\n",
      "calling sliding on df of 1 rows\n",
      "calling sliding on df of 1 rows\n",
      "calling sliding on df of 1 rows\n",
      "calling sliding on df of 1 rows\n",
      "calling sliding on df of 1 rows\n",
      "calling sliding on df of 1 rows\n",
      "calling sliding on df of 1 rows\n",
      "calling sliding on df of 1 rows\n",
      "calling sliding on df of 1 rows\n",
      "calling sliding on df of 1 rows\n",
      "calling sliding on df of 1 rows\n",
      "calling sliding on df of 1 rows\n",
      "calling sliding on df of 1 rows\n",
      "calling sliding on df of 1 rows\n",
      "calling sliding on df of 1 rows\n",
      "calling sliding on df of 1 rows\n",
      "calling sliding on df of 1 rows\n",
      "calling sliding on df of 1 rows\n",
      "calling sliding on df of 1 rows\n",
      "calling sliding on df of 1 rows\n",
      "calling sliding on df of 1 rows\n",
      "calling sliding on df of 1 rows\n",
      "calling sliding on df of 1 rows\n",
      "calling sliding on df of 1 rows\n",
      "calling sliding on df of 1 rows\n",
      "calling sliding on df of 1 rows\n",
      "calling sliding on df of 1 rows\n",
      "calling sliding on df of 1 rows\n",
      "calling sliding on df of 1 rows\n",
      "calling sliding on df of 1 rows\n",
      "calling sliding on df of 1 rows\n",
      "calling sliding on df of 1 rows\n",
      "calling sliding on df of 1 rows\n",
      "calling sliding on df of 1 rows\n",
      "calling sliding on df of 1 rows\n",
      "calling sliding on df of 1 rows\n",
      "calling sliding on df of 1 rows\n",
      "calling sliding on df of 1 rows\n",
      "calling sliding on df of 1 rows\n",
      "calling sliding on df of 1 rows\n",
      "calling sliding on df of 1 rows\n",
      "calling sliding on df of 1 rows\n",
      "calling sliding on df of 1 rows\n",
      "calling sliding on df of 1 rows\n",
      "calling sliding on df of 1 rows\n",
      "calling sliding on df of 1 rows\n",
      "calling sliding on df of 1 rows\n",
      "calling sliding on df of 1 rows\n",
      "calling sliding on df of 1 rows\n",
      "calling sliding on df of 1 rows\n",
      "calling sliding on df of 1 rows\n",
      "calling sliding on df of 1 rows\n",
      "calling sliding on df of 1 rows\n",
      "calling sliding on df of 1 rows\n",
      "calling sliding on df of 1 rows\n",
      "calling sliding on df of 1 rows\n",
      "calling sliding on df of 1 rows\n",
      "calling sliding on df of 1 rows\n",
      "calling sliding on df of 1 rows\n",
      "calling sliding on df of 1 rows\n",
      "calling sliding on df of 1 rows\n",
      "calling sliding on df of 1 rows\n",
      "calling sliding on df of 1 rows\n",
      "calling sliding on df of 1 rows\n",
      "calling sliding on df of 1 rows\n",
      "calling sliding on df of 1 rows\n",
      "calling sliding on df of 1 rows\n",
      "calling sliding on df of 1 rows\n",
      "calling sliding on df of 1 rows\n",
      "calling sliding on df of 1 rows\n",
      "calling sliding on df of 1 rows\n",
      "calling sliding on df of 1 rows\n",
      "calling sliding on df of 1 rows\n",
      "calling sliding on df of 1 rows\n",
      "calling sliding on df of 1 rows\n",
      "calling sliding on df of 1 rows\n",
      "calling sliding on df of 1 rows\n",
      "calling sliding on df of 1 rows\n",
      "calling sliding on df of 1 rows\n",
      "calling sliding on df of 1 rows\n",
      "calling sliding on df of 1 rows\n",
      "calling sliding on df of 1 rows\n",
      "calling sliding on df of 1 rows\n",
      "calling sliding on df of 1 rows\n",
      "calling sliding on df of 1 rows\n",
      "calling sliding on df of 1 rows\n",
      "calling sliding on df of 1 rows\n",
      "calling sliding on df of 1 rows\n",
      "calling sliding on df of 1 rows\n",
      "calling sliding on df of 1 rows\n"
     ]
    },
    {
     "name": "stderr",
     "output_type": "stream",
     "text": [
      " 14%|█▍        | 93/672 [00:00<00:04, 116.07it/s][2023-05-08 18:07:12][WARNING] src.exp_logger: Skipping q062222125: `least expensive electric car`, not relevant docs found\n",
      " 16%|█▌        | 105/672 [00:00<00:04, 115.03it/s]"
     ]
    },
    {
     "name": "stdout",
     "output_type": "stream",
     "text": [
      "calling sliding on df of 1 rows\n",
      "calling sliding on df of 1 rows\n",
      "calling sliding on df of 1 rows\n",
      "calling sliding on df of 1 rows\n",
      "calling sliding on df of 1 rows\n",
      "calling sliding on df of 1 rows\n",
      "calling sliding on df of 1 rows\n",
      "calling sliding on df of 1 rows\n",
      "calling sliding on df of 1 rows\n",
      "calling sliding on df of 1 rows\n",
      "calling sliding on df of 1 rows\n",
      "calling sliding on df of 1 rows\n",
      "calling sliding on df of 1 rows\n",
      "calling sliding on df of 1 rows\n",
      "calling sliding on df of 1 rows\n",
      "calling sliding on df of 1 rows\n",
      "calling sliding on df of 1 rows\n",
      "calling sliding on df of 1 rows\n",
      "calling sliding on df of 1 rows\n",
      "calling sliding on df of 1 rows\n",
      "calling sliding on df of 1 rows\n",
      "calling sliding on df of 1 rows\n",
      "calling sliding on df of 1 rows\n",
      "calling sliding on df of 1 rows\n",
      "calling sliding on df of 1 rows\n",
      "calling sliding on df of 1 rows\n",
      "calling sliding on df of 1 rows\n",
      "calling sliding on df of 1 rows\n",
      "calling sliding on df of 1 rows\n",
      "calling sliding on df of 1 rows\n",
      "calling sliding on df of 1 rows\n",
      "calling sliding on df of 1 rows\n",
      "calling sliding on df of 1 rows\n",
      "calling sliding on df of 1 rows\n",
      "calling sliding on df of 1 rows\n",
      "calling sliding on df of 1 rows\n",
      "calling sliding on df of 1 rows\n",
      "calling sliding on df of 1 rows\n",
      "calling sliding on df of 1 rows\n",
      "calling sliding on df of 1 rows\n",
      "calling sliding on df of 1 rows\n",
      "calling sliding on df of 1 rows\n",
      "calling sliding on df of 1 rows\n",
      "calling sliding on df of 1 rows\n",
      "calling sliding on df of 1 rows\n",
      "calling sliding on df of 1 rows\n",
      "calling sliding on df of 1 rows\n",
      "calling sliding on df of 1 rows\n",
      "calling sliding on df of 1 rows\n",
      "calling sliding on df of 1 rows\n",
      "calling sliding on df of 1 rows\n",
      "calling sliding on df of 1 rows\n",
      "calling sliding on df of 1 rows\n",
      "calling sliding on df of 1 rows\n",
      "calling sliding on df of 1 rows\n",
      "calling sliding on df of 1 rows\n",
      "calling sliding on df of 1 rows\n",
      "calling sliding on df of 1 rows\n",
      "calling sliding on df of 1 rows\n",
      "calling sliding on df of 1 rows\n",
      "calling sliding on df of 1 rows\n",
      "calling sliding on df of 1 rows\n",
      "calling sliding on df of 1 rows\n",
      "calling sliding on df of 1 rows\n",
      "calling sliding on df of 1 rows\n",
      "calling sliding on df of 1 rows\n",
      "calling sliding on df of 1 rows\n",
      "calling sliding on df of 1 rows\n",
      "calling sliding on df of 1 rows\n",
      "calling sliding on df of 1 rows\n",
      "calling sliding on df of 1 rows\n",
      "calling sliding on df of 1 rows\n",
      "calling sliding on df of 1 rows\n",
      "calling sliding on df of 1 rows\n",
      "calling sliding on df of 1 rows\n",
      "calling sliding on df of 1 rows\n",
      "calling sliding on df of 1 rows\n",
      "calling sliding on df of 1 rows\n",
      "calling sliding on df of 1 rows\n",
      "calling sliding on df of 1 rows\n",
      "calling sliding on df of 1 rows\n",
      "calling sliding on df of 1 rows\n",
      "calling sliding on df of 1 rows\n",
      "calling sliding on df of 1 rows\n",
      "calling sliding on df of 1 rows\n",
      "calling sliding on df of 1 rows\n",
      "calling sliding on df of 1 rows\n",
      "calling sliding on df of 1 rows\n",
      "calling sliding on df of 1 rows\n",
      "calling sliding on df of 1 rows\n",
      "calling sliding on df of 1 rows\n",
      "calling sliding on df of 1 rows\n",
      "calling sliding on df of 1 rows\n",
      "calling sliding on df of 1 rows\n",
      "calling sliding on df of 1 rows\n",
      "calling sliding on df of 1 rows\n"
     ]
    },
    {
     "name": "stderr",
     "output_type": "stream",
     "text": [
      " 17%|█▋        | 117/672 [00:01<00:05, 109.61it/s][2023-05-08 18:07:13][WARNING] src.exp_logger: Skipping q06223848: `water meter`, not relevant docs found\n",
      "[2023-05-08 18:07:13][WARNING] src.exp_logger: Skipping q06223898: `bushcraft knife`, not relevant docs found\n",
      " 19%|█▉        | 129/672 [00:01<00:04, 110.69it/s]"
     ]
    },
    {
     "name": "stdout",
     "output_type": "stream",
     "text": [
      "calling sliding on df of 1 rows\n",
      "calling sliding on df of 1 rows\n",
      "calling sliding on df of 1 rows\n",
      "calling sliding on df of 1 rows\n",
      "calling sliding on df of 1 rows\n",
      "calling sliding on df of 1 rows\n",
      "calling sliding on df of 1 rows\n",
      "calling sliding on df of 1 rows\n",
      "calling sliding on df of 1 rows\n",
      "calling sliding on df of 1 rows\n",
      "calling sliding on df of 1 rows\n",
      "calling sliding on df of 1 rows\n",
      "calling sliding on df of 1 rows\n",
      "calling sliding on df of 1 rows\n",
      "calling sliding on df of 1 rows\n",
      "calling sliding on df of 1 rows\n",
      "calling sliding on df of 1 rows\n",
      "calling sliding on df of 1 rows\n",
      "calling sliding on df of 1 rows\n",
      "calling sliding on df of 1 rows\n",
      "calling sliding on df of 1 rows\n",
      "calling sliding on df of 1 rows\n",
      "calling sliding on df of 1 rows\n",
      "calling sliding on df of 1 rows\n",
      "calling sliding on df of 1 rows\n",
      "calling sliding on df of 1 rows\n",
      "calling sliding on df of 1 rows\n",
      "calling sliding on df of 1 rows\n",
      "calling sliding on df of 1 rows\n",
      "calling sliding on df of 1 rows\n",
      "calling sliding on df of 1 rows\n",
      "calling sliding on df of 1 rows\n",
      "calling sliding on df of 1 rows\n",
      "calling sliding on df of 1 rows\n",
      "calling sliding on df of 1 rows\n",
      "calling sliding on df of 1 rows\n",
      "calling sliding on df of 1 rows\n",
      "calling sliding on df of 1 rows\n",
      "calling sliding on df of 1 rows\n",
      "calling sliding on df of 1 rows\n",
      "calling sliding on df of 1 rows\n",
      "calling sliding on df of 1 rows\n",
      "calling sliding on df of 1 rows\n",
      "calling sliding on df of 1 rows\n",
      "calling sliding on df of 1 rows\n",
      "calling sliding on df of 1 rows\n",
      "calling sliding on df of 1 rows\n",
      "calling sliding on df of 1 rows\n",
      "calling sliding on df of 1 rows\n",
      "calling sliding on df of 1 rows\n",
      "calling sliding on df of 1 rows\n",
      "calling sliding on df of 1 rows\n",
      "calling sliding on df of 1 rows\n",
      "calling sliding on df of 1 rows\n",
      "calling sliding on df of 1 rows\n",
      "calling sliding on df of 1 rows\n",
      "calling sliding on df of 1 rows\n",
      "calling sliding on df of 1 rows\n",
      "calling sliding on df of 1 rows\n",
      "calling sliding on df of 1 rows\n",
      "calling sliding on df of 1 rows\n",
      "calling sliding on df of 1 rows\n",
      "calling sliding on df of 1 rows\n",
      "calling sliding on df of 1 rows\n",
      "calling sliding on df of 1 rows\n",
      "calling sliding on df of 1 rows\n",
      "calling sliding on df of 1 rows\n",
      "calling sliding on df of 1 rows\n",
      "calling sliding on df of 1 rows\n",
      "calling sliding on df of 1 rows\n",
      "calling sliding on df of 1 rows\n",
      "calling sliding on df of 1 rows\n",
      "calling sliding on df of 1 rows\n",
      "calling sliding on df of 1 rows\n",
      "calling sliding on df of 1 rows\n",
      "calling sliding on df of 1 rows\n",
      "calling sliding on df of 1 rows\n",
      "calling sliding on df of 1 rows\n",
      "calling sliding on df of 1 rows\n",
      "calling sliding on df of 1 rows\n",
      "calling sliding on df of 1 rows\n",
      "calling sliding on df of 1 rows\n",
      "calling sliding on df of 1 rows\n",
      "calling sliding on df of 1 rows\n",
      "calling sliding on df of 1 rows\n",
      "calling sliding on df of 1 rows\n",
      "calling sliding on df of 1 rows\n",
      "calling sliding on df of 1 rows\n"
     ]
    },
    {
     "name": "stderr",
     "output_type": "stream",
     "text": [
      " 23%|██▎       | 155/672 [00:01<00:04, 117.50it/s]"
     ]
    },
    {
     "name": "stdout",
     "output_type": "stream",
     "text": [
      "calling sliding on df of 1 rows\n",
      "calling sliding on df of 1 rows\n",
      "calling sliding on df of 1 rows\n",
      "calling sliding on df of 1 rows\n",
      "calling sliding on df of 1 rows\n",
      "calling sliding on df of 1 rows\n",
      "calling sliding on df of 1 rows\n",
      "calling sliding on df of 1 rows\n",
      "calling sliding on df of 1 rows\n",
      "calling sliding on df of 1 rows\n",
      "calling sliding on df of 1 rows\n",
      "calling sliding on df of 1 rows\n",
      "calling sliding on df of 1 rows\n",
      "calling sliding on df of 1 rows\n",
      "calling sliding on df of 1 rows\n",
      "calling sliding on df of 1 rows\n",
      "calling sliding on df of 1 rows\n",
      "calling sliding on df of 1 rows\n",
      "calling sliding on df of 1 rows\n",
      "calling sliding on df of 1 rows\n",
      "calling sliding on df of 1 rows\n",
      "calling sliding on df of 1 rows\n",
      "calling sliding on df of 1 rows\n",
      "calling sliding on df of 1 rows\n",
      "calling sliding on df of 1 rows\n",
      "calling sliding on df of 1 rows\n",
      "calling sliding on df of 1 rows\n",
      "calling sliding on df of 1 rows\n",
      "calling sliding on df of 1 rows\n",
      "calling sliding on df of 1 rows\n",
      "calling sliding on df of 1 rows\n",
      "calling sliding on df of 1 rows\n",
      "calling sliding on df of 1 rows\n",
      "calling sliding on df of 1 rows\n",
      "calling sliding on df of 1 rows\n",
      "calling sliding on df of 1 rows\n",
      "calling sliding on df of 1 rows\n",
      "calling sliding on df of 1 rows\n",
      "calling sliding on df of 1 rows\n",
      "calling sliding on df of 1 rows\n",
      "calling sliding on df of 1 rows\n",
      "calling sliding on df of 1 rows\n",
      "calling sliding on df of 1 rows\n",
      "calling sliding on df of 1 rows\n",
      "calling sliding on df of 1 rows\n",
      "calling sliding on df of 1 rows\n",
      "calling sliding on df of 1 rows\n",
      "calling sliding on df of 1 rows\n",
      "calling sliding on df of 1 rows\n",
      "calling sliding on df of 1 rows\n",
      "calling sliding on df of 1 rows\n",
      "calling sliding on df of 1 rows\n",
      "calling sliding on df of 1 rows\n",
      "calling sliding on df of 1 rows\n",
      "calling sliding on df of 1 rows\n",
      "calling sliding on df of 1 rows\n",
      "calling sliding on df of 1 rows\n",
      "calling sliding on df of 1 rows\n",
      "calling sliding on df of 1 rows\n",
      "calling sliding on df of 1 rows\n",
      "calling sliding on df of 1 rows\n",
      "calling sliding on df of 1 rows\n",
      "calling sliding on df of 1 rows\n",
      "calling sliding on df of 1 rows\n",
      "calling sliding on df of 1 rows\n",
      "calling sliding on df of 1 rows\n",
      "calling sliding on df of 1 rows\n",
      "calling sliding on df of 1 rows\n",
      "calling sliding on df of 1 rows\n",
      "calling sliding on df of 1 rows\n",
      "calling sliding on df of 1 rows\n",
      "calling sliding on df of 1 rows\n",
      "calling sliding on df of 1 rows\n",
      "calling sliding on df of 1 rows\n",
      "calling sliding on df of 1 rows\n",
      "calling sliding on df of 1 rows\n",
      "calling sliding on df of 1 rows\n",
      "calling sliding on df of 1 rows\n",
      "calling sliding on df of 1 rows\n",
      "calling sliding on df of 1 rows\n",
      "calling sliding on df of 1 rows\n",
      "calling sliding on df of 1 rows\n",
      "calling sliding on df of 1 rows\n",
      "calling sliding on df of 1 rows\n",
      "calling sliding on df of 1 rows\n",
      "calling sliding on df of 1 rows\n",
      "calling sliding on df of 1 rows\n",
      "calling sliding on df of 1 rows\n",
      "calling sliding on df of 1 rows\n",
      "calling sliding on df of 1 rows\n",
      "calling sliding on df of 1 rows\n",
      "calling sliding on df of 1 rows\n",
      "calling sliding on df of 1 rows\n",
      "calling sliding on df of 1 rows\n",
      "calling sliding on df of 1 rows\n",
      "calling sliding on df of 1 rows\n",
      "calling sliding on df of 1 rows\n"
     ]
    },
    {
     "name": "stderr",
     "output_type": "stream",
     "text": [
      " 27%|██▋       | 181/672 [00:01<00:04, 111.94it/s]"
     ]
    },
    {
     "name": "stdout",
     "output_type": "stream",
     "text": [
      "calling sliding on df of 1 rows\n",
      "calling sliding on df of 1 rows\n",
      "calling sliding on df of 1 rows\n",
      "calling sliding on df of 1 rows\n",
      "calling sliding on df of 1 rows\n",
      "calling sliding on df of 1 rows\n",
      "calling sliding on df of 1 rows\n",
      "calling sliding on df of 1 rows\n",
      "calling sliding on df of 1 rows\n",
      "calling sliding on df of 1 rows\n",
      "calling sliding on df of 1 rows\n",
      "calling sliding on df of 1 rows\n",
      "calling sliding on df of 1 rows\n",
      "calling sliding on df of 1 rows\n",
      "calling sliding on df of 1 rows\n",
      "calling sliding on df of 1 rows\n",
      "calling sliding on df of 1 rows\n",
      "calling sliding on df of 1 rows\n",
      "calling sliding on df of 1 rows\n",
      "calling sliding on df of 1 rows\n",
      "calling sliding on df of 1 rows\n",
      "calling sliding on df of 1 rows\n",
      "calling sliding on df of 1 rows\n",
      "calling sliding on df of 1 rows\n",
      "calling sliding on df of 1 rows\n",
      "calling sliding on df of 1 rows\n",
      "calling sliding on df of 1 rows\n",
      "calling sliding on df of 1 rows\n",
      "calling sliding on df of 1 rows\n",
      "calling sliding on df of 1 rows\n",
      "calling sliding on df of 1 rows\n",
      "calling sliding on df of 1 rows\n",
      "calling sliding on df of 1 rows\n",
      "calling sliding on df of 1 rows\n",
      "calling sliding on df of 1 rows\n",
      "calling sliding on df of 1 rows\n",
      "calling sliding on df of 1 rows\n",
      "calling sliding on df of 1 rows\n",
      "calling sliding on df of 1 rows\n",
      "calling sliding on df of 1 rows\n",
      "calling sliding on df of 1 rows\n",
      "calling sliding on df of 1 rows\n",
      "calling sliding on df of 1 rows\n",
      "calling sliding on df of 1 rows\n",
      "calling sliding on df of 1 rows\n",
      "calling sliding on df of 1 rows\n",
      "calling sliding on df of 1 rows\n",
      "calling sliding on df of 1 rows\n",
      "calling sliding on df of 1 rows\n",
      "calling sliding on df of 1 rows\n",
      "calling sliding on df of 1 rows\n",
      "calling sliding on df of 1 rows\n",
      "calling sliding on df of 1 rows\n",
      "calling sliding on df of 1 rows\n",
      "calling sliding on df of 1 rows\n",
      "calling sliding on df of 1 rows\n",
      "calling sliding on df of 1 rows\n",
      "calling sliding on df of 1 rows\n",
      "calling sliding on df of 1 rows\n",
      "calling sliding on df of 1 rows\n",
      "calling sliding on df of 1 rows\n",
      "calling sliding on df of 1 rows\n",
      "calling sliding on df of 1 rows\n",
      "calling sliding on df of 1 rows\n",
      "calling sliding on df of 1 rows\n",
      "calling sliding on df of 1 rows\n",
      "calling sliding on df of 1 rows\n",
      "calling sliding on df of 1 rows\n",
      "calling sliding on df of 1 rows\n",
      "calling sliding on df of 1 rows\n",
      "calling sliding on df of 1 rows\n",
      "calling sliding on df of 1 rows\n",
      "calling sliding on df of 1 rows\n",
      "calling sliding on df of 1 rows\n",
      "calling sliding on df of 1 rows\n",
      "calling sliding on df of 1 rows\n",
      "calling sliding on df of 1 rows\n",
      "calling sliding on df of 1 rows\n",
      "calling sliding on df of 1 rows\n",
      "calling sliding on df of 1 rows\n",
      "calling sliding on df of 1 rows\n",
      "calling sliding on df of 1 rows\n",
      "calling sliding on df of 1 rows\n",
      "calling sliding on df of 1 rows\n",
      "calling sliding on df of 1 rows\n",
      "calling sliding on df of 1 rows\n",
      "calling sliding on df of 1 rows\n",
      "calling sliding on df of 1 rows\n",
      "calling sliding on df of 1 rows\n",
      "calling sliding on df of 1 rows\n",
      "calling sliding on df of 1 rows\n"
     ]
    },
    {
     "name": "stderr",
     "output_type": "stream",
     "text": [
      "[2023-05-08 18:07:13][WARNING] src.exp_logger: Skipping q062218529: `water collector`, not relevant docs found\n",
      " 31%|███       | 206/672 [00:01<00:04, 113.08it/s]"
     ]
    },
    {
     "name": "stdout",
     "output_type": "stream",
     "text": [
      "calling sliding on df of 1 rows\n",
      "calling sliding on df of 1 rows\n",
      "calling sliding on df of 1 rows\n",
      "calling sliding on df of 1 rows\n",
      "calling sliding on df of 1 rows\n",
      "calling sliding on df of 1 rows\n",
      "calling sliding on df of 1 rows\n",
      "calling sliding on df of 1 rows\n",
      "calling sliding on df of 1 rows\n",
      "calling sliding on df of 1 rows\n",
      "calling sliding on df of 1 rows\n",
      "calling sliding on df of 1 rows\n",
      "calling sliding on df of 1 rows\n",
      "calling sliding on df of 1 rows\n",
      "calling sliding on df of 1 rows\n",
      "calling sliding on df of 1 rows\n",
      "calling sliding on df of 1 rows\n",
      "calling sliding on df of 1 rows\n",
      "calling sliding on df of 1 rows\n",
      "calling sliding on df of 1 rows\n",
      "calling sliding on df of 1 rows\n",
      "calling sliding on df of 1 rows\n",
      "calling sliding on df of 1 rows\n",
      "calling sliding on df of 1 rows\n",
      "calling sliding on df of 1 rows\n",
      "calling sliding on df of 1 rows\n",
      "calling sliding on df of 1 rows\n",
      "calling sliding on df of 1 rows\n",
      "calling sliding on df of 1 rows\n",
      "calling sliding on df of 1 rows\n",
      "calling sliding on df of 1 rows\n",
      "calling sliding on df of 1 rows\n",
      "calling sliding on df of 1 rows\n",
      "calling sliding on df of 1 rows\n",
      "calling sliding on df of 1 rows\n",
      "calling sliding on df of 1 rows\n",
      "calling sliding on df of 1 rows\n",
      "calling sliding on df of 1 rows\n",
      "calling sliding on df of 1 rows\n",
      "calling sliding on df of 1 rows\n",
      "calling sliding on df of 1 rows\n",
      "calling sliding on df of 1 rows\n",
      "calling sliding on df of 1 rows\n",
      "calling sliding on df of 1 rows\n",
      "calling sliding on df of 1 rows\n",
      "calling sliding on df of 1 rows\n",
      "calling sliding on df of 1 rows\n",
      "calling sliding on df of 1 rows\n",
      "calling sliding on df of 1 rows\n",
      "calling sliding on df of 1 rows\n",
      "calling sliding on df of 1 rows\n",
      "calling sliding on df of 1 rows\n",
      "calling sliding on df of 1 rows\n",
      "calling sliding on df of 1 rows\n",
      "calling sliding on df of 1 rows\n",
      "calling sliding on df of 1 rows\n",
      "calling sliding on df of 1 rows\n",
      "calling sliding on df of 1 rows\n",
      "calling sliding on df of 1 rows\n",
      "calling sliding on df of 1 rows\n",
      "calling sliding on df of 1 rows\n",
      "calling sliding on df of 1 rows\n",
      "calling sliding on df of 1 rows\n",
      "calling sliding on df of 1 rows\n",
      "calling sliding on df of 1 rows\n",
      "calling sliding on df of 1 rows\n",
      "calling sliding on df of 1 rows\n",
      "calling sliding on df of 1 rows\n",
      "calling sliding on df of 1 rows\n",
      "calling sliding on df of 1 rows\n",
      "calling sliding on df of 1 rows\n",
      "calling sliding on df of 1 rows\n",
      "calling sliding on df of 1 rows\n",
      "calling sliding on df of 1 rows\n",
      "calling sliding on df of 1 rows\n",
      "calling sliding on df of 1 rows\n",
      "calling sliding on df of 1 rows\n",
      "calling sliding on df of 1 rows\n",
      "calling sliding on df of 1 rows\n",
      "calling sliding on df of 1 rows\n",
      "calling sliding on df of 1 rows\n",
      "calling sliding on df of 1 rows\n",
      "calling sliding on df of 1 rows\n",
      "calling sliding on df of 1 rows\n",
      "calling sliding on df of 1 rows\n",
      "calling sliding on df of 1 rows\n",
      "calling sliding on df of 1 rows\n",
      "calling sliding on df of 1 rows\n",
      "calling sliding on df of 1 rows\n"
     ]
    },
    {
     "name": "stderr",
     "output_type": "stream",
     "text": [
      "[2023-05-08 18:07:13][WARNING] src.exp_logger: Skipping q062219081: `waterfowl`, not relevant docs found\n",
      " 33%|███▎      | 221/672 [00:01<00:03, 121.93it/s]"
     ]
    },
    {
     "name": "stdout",
     "output_type": "stream",
     "text": [
      "calling sliding on df of 1 rows\n",
      "calling sliding on df of 1 rows\n",
      "calling sliding on df of 1 rows\n",
      "calling sliding on df of 1 rows\n",
      "calling sliding on df of 1 rows\n",
      "calling sliding on df of 1 rows\n",
      "calling sliding on df of 1 rows\n",
      "calling sliding on df of 1 rows\n",
      "calling sliding on df of 1 rows\n",
      "calling sliding on df of 1 rows\n",
      "calling sliding on df of 1 rows\n",
      "calling sliding on df of 1 rows\n",
      "calling sliding on df of 1 rows\n",
      "calling sliding on df of 1 rows\n",
      "calling sliding on df of 1 rows\n",
      "calling sliding on df of 1 rows\n",
      "calling sliding on df of 1 rows\n",
      "calling sliding on df of 1 rows\n",
      "calling sliding on df of 1 rows\n",
      "calling sliding on df of 1 rows\n",
      "calling sliding on df of 1 rows\n",
      "calling sliding on df of 1 rows\n",
      "calling sliding on df of 1 rows\n",
      "calling sliding on df of 1 rows\n",
      "calling sliding on df of 1 rows\n",
      "calling sliding on df of 1 rows\n",
      "calling sliding on df of 1 rows\n",
      "calling sliding on df of 1 rows\n",
      "calling sliding on df of 1 rows\n",
      "calling sliding on df of 1 rows\n",
      "calling sliding on df of 1 rows\n",
      "calling sliding on df of 1 rows\n",
      "calling sliding on df of 1 rows\n",
      "calling sliding on df of 1 rows\n",
      "calling sliding on df of 1 rows\n",
      "calling sliding on df of 1 rows\n",
      "calling sliding on df of 1 rows\n",
      "calling sliding on df of 1 rows\n",
      "calling sliding on df of 1 rows\n",
      "calling sliding on df of 1 rows\n",
      "calling sliding on df of 1 rows\n",
      "calling sliding on df of 1 rows\n",
      "calling sliding on df of 1 rows\n",
      "calling sliding on df of 1 rows\n",
      "calling sliding on df of 1 rows\n",
      "calling sliding on df of 1 rows\n",
      "calling sliding on df of 1 rows\n",
      "calling sliding on df of 1 rows\n",
      "calling sliding on df of 1 rows\n",
      "calling sliding on df of 1 rows\n",
      "calling sliding on df of 1 rows\n",
      "calling sliding on df of 1 rows\n",
      "calling sliding on df of 1 rows\n",
      "calling sliding on df of 1 rows\n",
      "calling sliding on df of 1 rows\n",
      "calling sliding on df of 1 rows\n",
      "calling sliding on df of 1 rows\n",
      "calling sliding on df of 1 rows\n",
      "calling sliding on df of 1 rows\n",
      "calling sliding on df of 1 rows\n",
      "calling sliding on df of 1 rows\n",
      "calling sliding on df of 1 rows\n",
      "calling sliding on df of 1 rows\n",
      "calling sliding on df of 1 rows\n",
      "calling sliding on df of 1 rows\n",
      "calling sliding on df of 1 rows\n",
      "calling sliding on df of 1 rows\n",
      "calling sliding on df of 1 rows\n",
      "calling sliding on df of 1 rows\n",
      "calling sliding on df of 1 rows\n",
      "calling sliding on df of 1 rows\n",
      "calling sliding on df of 1 rows\n",
      "calling sliding on df of 1 rows\n",
      "calling sliding on df of 1 rows\n",
      "calling sliding on df of 1 rows\n",
      "calling sliding on df of 1 rows\n",
      "calling sliding on df of 1 rows\n",
      "calling sliding on df of 1 rows\n",
      "calling sliding on df of 1 rows\n",
      "calling sliding on df of 1 rows\n",
      "calling sliding on df of 1 rows\n",
      "calling sliding on df of 1 rows\n",
      "calling sliding on df of 1 rows\n",
      "calling sliding on df of 1 rows\n",
      "calling sliding on df of 1 rows\n",
      "calling sliding on df of 1 rows\n",
      "calling sliding on df of 1 rows\n",
      "calling sliding on df of 1 rows\n",
      "calling sliding on df of 1 rows\n",
      "calling sliding on df of 1 rows\n",
      "calling sliding on df of 1 rows\n",
      "calling sliding on df of 1 rows\n",
      "calling sliding on df of 1 rows\n",
      "calling sliding on df of 1 rows\n"
     ]
    },
    {
     "name": "stderr",
     "output_type": "stream",
     "text": [
      " 37%|███▋      | 247/672 [00:02<00:03, 119.84it/s]"
     ]
    },
    {
     "name": "stdout",
     "output_type": "stream",
     "text": [
      "calling sliding on df of 1 rows\n",
      "calling sliding on df of 1 rows\n",
      "calling sliding on df of 1 rows\n",
      "calling sliding on df of 1 rows\n",
      "calling sliding on df of 1 rows\n",
      "calling sliding on df of 1 rows\n",
      "calling sliding on df of 1 rows\n",
      "calling sliding on df of 1 rows\n",
      "calling sliding on df of 1 rows\n",
      "calling sliding on df of 1 rows\n",
      "calling sliding on df of 1 rows\n",
      "calling sliding on df of 1 rows\n",
      "calling sliding on df of 1 rows\n",
      "calling sliding on df of 1 rows\n",
      "calling sliding on df of 1 rows\n",
      "calling sliding on df of 1 rows\n",
      "calling sliding on df of 1 rows\n",
      "calling sliding on df of 1 rows\n",
      "calling sliding on df of 1 rows\n",
      "calling sliding on df of 1 rows\n",
      "calling sliding on df of 1 rows\n",
      "calling sliding on df of 1 rows\n",
      "calling sliding on df of 1 rows\n",
      "calling sliding on df of 1 rows\n",
      "calling sliding on df of 1 rows\n",
      "calling sliding on df of 1 rows\n",
      "calling sliding on df of 1 rows\n",
      "calling sliding on df of 1 rows\n",
      "calling sliding on df of 1 rows\n",
      "calling sliding on df of 1 rows\n",
      "calling sliding on df of 1 rows\n",
      "calling sliding on df of 1 rows\n",
      "calling sliding on df of 1 rows\n",
      "calling sliding on df of 1 rows\n",
      "calling sliding on df of 1 rows\n",
      "calling sliding on df of 1 rows\n",
      "calling sliding on df of 1 rows\n",
      "calling sliding on df of 1 rows\n",
      "calling sliding on df of 1 rows\n",
      "calling sliding on df of 1 rows\n",
      "calling sliding on df of 1 rows\n",
      "calling sliding on df of 1 rows\n",
      "calling sliding on df of 1 rows\n",
      "calling sliding on df of 1 rows\n",
      "calling sliding on df of 1 rows\n",
      "calling sliding on df of 1 rows\n",
      "calling sliding on df of 1 rows\n",
      "calling sliding on df of 1 rows\n",
      "calling sliding on df of 1 rows\n",
      "calling sliding on df of 1 rows\n",
      "calling sliding on df of 1 rows\n",
      "calling sliding on df of 1 rows\n",
      "calling sliding on df of 1 rows\n",
      "calling sliding on df of 1 rows\n",
      "calling sliding on df of 1 rows\n",
      "calling sliding on df of 1 rows\n",
      "calling sliding on df of 1 rows\n",
      "calling sliding on df of 1 rows\n",
      "calling sliding on df of 1 rows\n",
      "calling sliding on df of 1 rows\n",
      "calling sliding on df of 1 rows\n",
      "calling sliding on df of 1 rows\n",
      "calling sliding on df of 1 rows\n",
      "calling sliding on df of 1 rows\n",
      "calling sliding on df of 1 rows\n",
      "calling sliding on df of 1 rows\n",
      "calling sliding on df of 1 rows\n",
      "calling sliding on df of 1 rows\n",
      "calling sliding on df of 1 rows\n",
      "calling sliding on df of 1 rows\n",
      "calling sliding on df of 1 rows\n",
      "calling sliding on df of 1 rows\n",
      "calling sliding on df of 1 rows\n",
      "calling sliding on df of 1 rows\n",
      "calling sliding on df of 1 rows\n",
      "calling sliding on df of 1 rows\n",
      "calling sliding on df of 1 rows\n",
      "calling sliding on df of 1 rows\n",
      "calling sliding on df of 1 rows\n",
      "calling sliding on df of 1 rows\n",
      "calling sliding on df of 1 rows\n",
      "calling sliding on df of 1 rows\n"
     ]
    },
    {
     "name": "stderr",
     "output_type": "stream",
     "text": [
      " 40%|████      | 272/672 [00:02<00:03, 110.20it/s]"
     ]
    },
    {
     "name": "stdout",
     "output_type": "stream",
     "text": [
      "calling sliding on df of 1 rows\n",
      "calling sliding on df of 1 rows\n",
      "calling sliding on df of 1 rows\n",
      "calling sliding on df of 1 rows\n",
      "calling sliding on df of 1 rows\n",
      "calling sliding on df of 1 rows\n",
      "calling sliding on df of 1 rows\n",
      "calling sliding on df of 1 rows\n",
      "calling sliding on df of 1 rows\n",
      "calling sliding on df of 1 rows\n",
      "calling sliding on df of 1 rows\n",
      "calling sliding on df of 1 rows\n",
      "calling sliding on df of 1 rows\n",
      "calling sliding on df of 1 rows\n",
      "calling sliding on df of 1 rows\n",
      "calling sliding on df of 1 rows\n",
      "calling sliding on df of 1 rows\n",
      "calling sliding on df of 1 rows\n",
      "calling sliding on df of 1 rows\n",
      "calling sliding on df of 1 rows\n",
      "calling sliding on df of 1 rows\n",
      "calling sliding on df of 1 rows\n",
      "calling sliding on df of 1 rows\n",
      "calling sliding on df of 1 rows\n",
      "calling sliding on df of 1 rows\n",
      "calling sliding on df of 1 rows\n",
      "calling sliding on df of 1 rows\n",
      "calling sliding on df of 1 rows\n",
      "calling sliding on df of 1 rows\n",
      "calling sliding on df of 1 rows\n",
      "calling sliding on df of 1 rows\n",
      "calling sliding on df of 1 rows\n",
      "calling sliding on df of 1 rows\n",
      "calling sliding on df of 1 rows\n",
      "calling sliding on df of 1 rows\n",
      "calling sliding on df of 1 rows\n",
      "calling sliding on df of 1 rows\n",
      "calling sliding on df of 1 rows\n",
      "calling sliding on df of 1 rows\n",
      "calling sliding on df of 1 rows\n",
      "calling sliding on df of 1 rows\n",
      "calling sliding on df of 1 rows\n",
      "calling sliding on df of 1 rows\n",
      "calling sliding on df of 1 rows\n",
      "calling sliding on df of 1 rows\n",
      "calling sliding on df of 1 rows\n",
      "calling sliding on df of 1 rows\n",
      "calling sliding on df of 1 rows\n",
      "calling sliding on df of 1 rows\n",
      "calling sliding on df of 1 rows\n",
      "calling sliding on df of 1 rows\n",
      "calling sliding on df of 1 rows\n",
      "calling sliding on df of 1 rows\n",
      "calling sliding on df of 1 rows\n",
      "calling sliding on df of 1 rows\n",
      "calling sliding on df of 1 rows\n",
      "calling sliding on df of 1 rows\n",
      "calling sliding on df of 1 rows\n",
      "calling sliding on df of 1 rows\n",
      "calling sliding on df of 1 rows\n",
      "calling sliding on df of 1 rows\n",
      "calling sliding on df of 1 rows\n",
      "calling sliding on df of 1 rows\n",
      "calling sliding on df of 1 rows\n",
      "calling sliding on df of 1 rows\n",
      "calling sliding on df of 1 rows\n",
      "calling sliding on df of 1 rows\n",
      "calling sliding on df of 1 rows\n",
      "calling sliding on df of 1 rows\n",
      "calling sliding on df of 1 rows\n",
      "calling sliding on df of 1 rows\n",
      "calling sliding on df of 1 rows\n",
      "calling sliding on df of 1 rows\n",
      "calling sliding on df of 1 rows\n",
      "calling sliding on df of 1 rows\n",
      "calling sliding on df of 1 rows\n",
      "calling sliding on df of 1 rows\n",
      "calling sliding on df of 1 rows\n",
      "calling sliding on df of 1 rows\n",
      "calling sliding on df of 1 rows\n",
      "calling sliding on df of 1 rows\n",
      "calling sliding on df of 1 rows\n",
      "calling sliding on df of 1 rows\n",
      "calling sliding on df of 1 rows\n",
      "calling sliding on df of 1 rows\n",
      "calling sliding on df of 1 rows\n",
      "calling sliding on df of 1 rows\n",
      "calling sliding on df of 1 rows\n",
      "calling sliding on df of 1 rows\n",
      "calling sliding on df of 1 rows\n",
      "calling sliding on df of 1 rows\n"
     ]
    },
    {
     "name": "stderr",
     "output_type": "stream",
     "text": [
      "[2023-05-08 18:07:14][WARNING] src.exp_logger: Skipping q06229033: `car size`, not relevant docs found\n",
      " 43%|████▎     | 288/672 [00:02<00:03, 122.16it/s]"
     ]
    },
    {
     "name": "stdout",
     "output_type": "stream",
     "text": [
      "calling sliding on df of 1 rows\n",
      "calling sliding on df of 1 rows\n",
      "calling sliding on df of 1 rows\n",
      "calling sliding on df of 1 rows\n",
      "calling sliding on df of 1 rows\n",
      "calling sliding on df of 1 rows\n",
      "calling sliding on df of 1 rows\n",
      "calling sliding on df of 1 rows\n",
      "calling sliding on df of 1 rows\n",
      "calling sliding on df of 1 rows\n",
      "calling sliding on df of 1 rows\n",
      "calling sliding on df of 1 rows\n",
      "calling sliding on df of 1 rows\n",
      "calling sliding on df of 1 rows\n",
      "calling sliding on df of 1 rows\n",
      "calling sliding on df of 1 rows\n",
      "calling sliding on df of 1 rows\n",
      "calling sliding on df of 1 rows\n",
      "calling sliding on df of 1 rows\n",
      "calling sliding on df of 1 rows\n",
      "calling sliding on df of 1 rows\n",
      "calling sliding on df of 1 rows\n",
      "calling sliding on df of 1 rows\n",
      "calling sliding on df of 1 rows\n",
      "calling sliding on df of 1 rows\n",
      "calling sliding on df of 1 rows\n",
      "calling sliding on df of 1 rows\n",
      "calling sliding on df of 1 rows\n",
      "calling sliding on df of 1 rows\n",
      "calling sliding on df of 1 rows\n",
      "calling sliding on df of 1 rows\n",
      "calling sliding on df of 1 rows\n",
      "calling sliding on df of 1 rows\n",
      "calling sliding on df of 1 rows\n",
      "calling sliding on df of 1 rows\n",
      "calling sliding on df of 1 rows\n",
      "calling sliding on df of 1 rows\n",
      "calling sliding on df of 1 rows\n",
      "calling sliding on df of 1 rows\n",
      "calling sliding on df of 1 rows\n",
      "calling sliding on df of 1 rows\n",
      "calling sliding on df of 1 rows\n",
      "calling sliding on df of 1 rows\n",
      "calling sliding on df of 1 rows\n",
      "calling sliding on df of 1 rows\n",
      "calling sliding on df of 1 rows\n",
      "calling sliding on df of 1 rows\n",
      "calling sliding on df of 1 rows\n",
      "calling sliding on df of 1 rows\n",
      "calling sliding on df of 1 rows\n",
      "calling sliding on df of 1 rows\n",
      "calling sliding on df of 1 rows\n",
      "calling sliding on df of 1 rows\n",
      "calling sliding on df of 1 rows\n",
      "calling sliding on df of 1 rows\n",
      "calling sliding on df of 1 rows\n",
      "calling sliding on df of 1 rows\n",
      "calling sliding on df of 1 rows\n",
      "calling sliding on df of 1 rows\n",
      "calling sliding on df of 1 rows\n",
      "calling sliding on df of 1 rows\n",
      "calling sliding on df of 1 rows\n",
      "calling sliding on df of 1 rows\n",
      "calling sliding on df of 1 rows\n",
      "calling sliding on df of 1 rows\n",
      "calling sliding on df of 1 rows\n",
      "calling sliding on df of 1 rows\n",
      "calling sliding on df of 1 rows\n",
      "calling sliding on df of 1 rows\n",
      "calling sliding on df of 1 rows\n",
      "calling sliding on df of 1 rows\n",
      "calling sliding on df of 1 rows\n",
      "calling sliding on df of 1 rows\n",
      "calling sliding on df of 1 rows\n",
      "calling sliding on df of 1 rows\n",
      "calling sliding on df of 1 rows\n",
      "calling sliding on df of 1 rows\n",
      "calling sliding on df of 1 rows\n",
      "calling sliding on df of 1 rows\n",
      "calling sliding on df of 1 rows\n",
      "calling sliding on df of 1 rows\n",
      "calling sliding on df of 1 rows\n",
      "calling sliding on df of 1 rows\n",
      "calling sliding on df of 1 rows\n",
      "calling sliding on df of 1 rows\n",
      "calling sliding on df of 1 rows\n",
      "calling sliding on df of 1 rows\n",
      "calling sliding on df of 1 rows\n",
      "calling sliding on df of 1 rows\n",
      "calling sliding on df of 1 rows\n",
      "calling sliding on df of 1 rows\n",
      "calling sliding on df of 1 rows\n",
      "calling sliding on df of 1 rows\n"
     ]
    },
    {
     "name": "stderr",
     "output_type": "stream",
     "text": [
      " 45%|████▍     | 301/672 [00:02<00:03, 106.58it/s][2023-05-08 18:07:14][WARNING] src.exp_logger: Skipping q062210081: `consumption water home`, not relevant docs found\n",
      " 47%|████▋     | 313/672 [00:02<00:03, 108.49it/s]"
     ]
    },
    {
     "name": "stdout",
     "output_type": "stream",
     "text": [
      "calling sliding on df of 1 rows\n",
      "calling sliding on df of 1 rows\n",
      "calling sliding on df of 1 rows\n",
      "calling sliding on df of 1 rows\n",
      "calling sliding on df of 1 rows\n",
      "calling sliding on df of 1 rows\n",
      "calling sliding on df of 1 rows\n",
      "calling sliding on df of 1 rows\n",
      "calling sliding on df of 1 rows\n",
      "calling sliding on df of 1 rows\n",
      "calling sliding on df of 1 rows\n",
      "calling sliding on df of 1 rows\n",
      "calling sliding on df of 1 rows\n",
      "calling sliding on df of 1 rows\n",
      "calling sliding on df of 1 rows\n",
      "calling sliding on df of 1 rows\n",
      "calling sliding on df of 1 rows\n",
      "calling sliding on df of 1 rows\n",
      "calling sliding on df of 1 rows\n",
      "calling sliding on df of 1 rows\n",
      "calling sliding on df of 1 rows\n",
      "calling sliding on df of 1 rows\n",
      "calling sliding on df of 1 rows\n",
      "calling sliding on df of 1 rows\n",
      "calling sliding on df of 1 rows\n",
      "calling sliding on df of 1 rows\n",
      "calling sliding on df of 1 rows\n",
      "calling sliding on df of 1 rows\n",
      "calling sliding on df of 1 rows\n",
      "calling sliding on df of 1 rows\n",
      "calling sliding on df of 1 rows\n",
      "calling sliding on df of 1 rows\n",
      "calling sliding on df of 1 rows\n",
      "calling sliding on df of 1 rows\n",
      "calling sliding on df of 1 rows\n",
      "calling sliding on df of 1 rows\n",
      "calling sliding on df of 1 rows\n",
      "calling sliding on df of 1 rows\n",
      "calling sliding on df of 1 rows\n",
      "calling sliding on df of 1 rows\n",
      "calling sliding on df of 1 rows\n",
      "calling sliding on df of 1 rows\n",
      "calling sliding on df of 1 rows\n",
      "calling sliding on df of 1 rows\n",
      "calling sliding on df of 1 rows\n",
      "calling sliding on df of 1 rows\n",
      "calling sliding on df of 1 rows\n",
      "calling sliding on df of 1 rows\n",
      "calling sliding on df of 1 rows\n",
      "calling sliding on df of 1 rows\n",
      "calling sliding on df of 1 rows\n",
      "calling sliding on df of 1 rows\n",
      "calling sliding on df of 1 rows\n",
      "calling sliding on df of 1 rows\n",
      "calling sliding on df of 1 rows\n",
      "calling sliding on df of 1 rows\n",
      "calling sliding on df of 1 rows\n",
      "calling sliding on df of 1 rows\n",
      "calling sliding on df of 1 rows\n",
      "calling sliding on df of 1 rows\n",
      "calling sliding on df of 1 rows\n",
      "calling sliding on df of 1 rows\n",
      "calling sliding on df of 1 rows\n",
      "calling sliding on df of 1 rows\n",
      "calling sliding on df of 1 rows\n",
      "calling sliding on df of 1 rows\n",
      "calling sliding on df of 1 rows\n",
      "calling sliding on df of 1 rows\n",
      "calling sliding on df of 1 rows\n",
      "calling sliding on df of 1 rows\n",
      "calling sliding on df of 1 rows\n",
      "calling sliding on df of 1 rows\n",
      "calling sliding on df of 1 rows\n",
      "calling sliding on df of 1 rows\n",
      "calling sliding on df of 1 rows\n",
      "calling sliding on df of 1 rows\n",
      "calling sliding on df of 1 rows\n",
      "calling sliding on df of 1 rows\n",
      "calling sliding on df of 1 rows\n",
      "calling sliding on df of 1 rows\n",
      "calling sliding on df of 1 rows\n",
      "calling sliding on df of 1 rows\n",
      "calling sliding on df of 1 rows\n",
      "calling sliding on df of 1 rows\n",
      "calling sliding on df of 1 rows\n",
      "calling sliding on df of 1 rows\n"
     ]
    },
    {
     "name": "stderr",
     "output_type": "stream",
     "text": [
      " 50%|█████     | 338/672 [00:03<00:03, 102.81it/s]"
     ]
    },
    {
     "name": "stdout",
     "output_type": "stream",
     "text": [
      "calling sliding on df of 1 rows\n",
      "calling sliding on df of 1 rows\n",
      "calling sliding on df of 1 rows\n",
      "calling sliding on df of 1 rows\n",
      "calling sliding on df of 1 rows\n",
      "calling sliding on df of 1 rows\n",
      "calling sliding on df of 1 rows\n",
      "calling sliding on df of 1 rows\n",
      "calling sliding on df of 1 rows\n",
      "calling sliding on df of 1 rows\n",
      "calling sliding on df of 1 rows\n",
      "calling sliding on df of 1 rows\n",
      "calling sliding on df of 1 rows\n",
      "calling sliding on df of 1 rows\n",
      "calling sliding on df of 1 rows\n",
      "calling sliding on df of 1 rows\n",
      "calling sliding on df of 1 rows\n",
      "calling sliding on df of 1 rows\n",
      "calling sliding on df of 1 rows\n",
      "calling sliding on df of 1 rows\n",
      "calling sliding on df of 1 rows\n",
      "calling sliding on df of 1 rows\n",
      "calling sliding on df of 1 rows\n",
      "calling sliding on df of 1 rows\n",
      "calling sliding on df of 1 rows\n",
      "calling sliding on df of 1 rows\n",
      "calling sliding on df of 1 rows\n",
      "calling sliding on df of 1 rows\n",
      "calling sliding on df of 1 rows\n",
      "calling sliding on df of 1 rows\n",
      "calling sliding on df of 1 rows\n",
      "calling sliding on df of 1 rows\n",
      "calling sliding on df of 1 rows\n",
      "calling sliding on df of 1 rows\n",
      "calling sliding on df of 1 rows\n",
      "calling sliding on df of 1 rows\n",
      "calling sliding on df of 1 rows\n",
      "calling sliding on df of 1 rows\n",
      "calling sliding on df of 1 rows\n",
      "calling sliding on df of 1 rows\n",
      "calling sliding on df of 1 rows\n",
      "calling sliding on df of 1 rows\n",
      "calling sliding on df of 1 rows\n",
      "calling sliding on df of 1 rows\n",
      "calling sliding on df of 1 rows\n",
      "calling sliding on df of 1 rows\n",
      "calling sliding on df of 1 rows\n",
      "calling sliding on df of 1 rows\n",
      "calling sliding on df of 1 rows\n",
      "calling sliding on df of 1 rows\n",
      "calling sliding on df of 1 rows\n",
      "calling sliding on df of 1 rows\n",
      "calling sliding on df of 1 rows\n",
      "calling sliding on df of 1 rows\n",
      "calling sliding on df of 1 rows\n",
      "calling sliding on df of 1 rows\n",
      "calling sliding on df of 1 rows\n",
      "calling sliding on df of 1 rows\n",
      "calling sliding on df of 1 rows\n",
      "calling sliding on df of 1 rows\n",
      "calling sliding on df of 1 rows\n",
      "calling sliding on df of 1 rows\n",
      "calling sliding on df of 1 rows\n",
      "calling sliding on df of 1 rows\n",
      "calling sliding on df of 1 rows\n",
      "calling sliding on df of 1 rows\n",
      "calling sliding on df of 1 rows\n",
      "calling sliding on df of 1 rows\n",
      "calling sliding on df of 1 rows\n",
      "calling sliding on df of 1 rows\n",
      "calling sliding on df of 1 rows\n",
      "calling sliding on df of 1 rows\n",
      "calling sliding on df of 1 rows\n",
      "calling sliding on df of 1 rows\n",
      "calling sliding on df of 1 rows\n",
      "calling sliding on df of 1 rows\n",
      "calling sliding on df of 1 rows\n",
      "calling sliding on df of 1 rows\n",
      "calling sliding on df of 1 rows\n",
      "calling sliding on df of 1 rows\n",
      "calling sliding on df of 1 rows\n",
      "calling sliding on df of 1 rows\n",
      "calling sliding on df of 1 rows\n",
      "calling sliding on df of 1 rows\n",
      "calling sliding on df of 1 rows\n",
      "calling sliding on df of 1 rows\n",
      "calling sliding on df of 1 rows\n",
      "calling sliding on df of 1 rows\n",
      "calling sliding on df of 1 rows\n",
      "calling sliding on df of 1 rows\n",
      "calling sliding on df of 1 rows\n",
      "calling sliding on df of 1 rows\n",
      "calling sliding on df of 1 rows\n",
      "calling sliding on df of 1 rows\n"
     ]
    },
    {
     "name": "stderr",
     "output_type": "stream",
     "text": [
      " 54%|█████▍    | 363/672 [00:03<00:02, 108.98it/s]"
     ]
    },
    {
     "name": "stdout",
     "output_type": "stream",
     "text": [
      "calling sliding on df of 1 rows\n",
      "calling sliding on df of 1 rows\n",
      "calling sliding on df of 1 rows\n",
      "calling sliding on df of 1 rows\n",
      "calling sliding on df of 1 rows\n",
      "calling sliding on df of 1 rows\n",
      "calling sliding on df of 1 rows\n",
      "calling sliding on df of 1 rows\n",
      "calling sliding on df of 1 rows\n",
      "calling sliding on df of 1 rows\n",
      "calling sliding on df of 1 rows\n",
      "calling sliding on df of 1 rows\n",
      "calling sliding on df of 1 rows\n",
      "calling sliding on df of 1 rows\n",
      "calling sliding on df of 1 rows\n",
      "calling sliding on df of 1 rows\n",
      "calling sliding on df of 1 rows\n",
      "calling sliding on df of 1 rows\n",
      "calling sliding on df of 1 rows\n",
      "calling sliding on df of 1 rows\n",
      "calling sliding on df of 1 rows\n",
      "calling sliding on df of 1 rows\n",
      "calling sliding on df of 1 rows\n",
      "calling sliding on df of 1 rows\n",
      "calling sliding on df of 1 rows\n",
      "calling sliding on df of 1 rows\n",
      "calling sliding on df of 1 rows\n",
      "calling sliding on df of 1 rows\n",
      "calling sliding on df of 1 rows\n",
      "calling sliding on df of 1 rows\n",
      "calling sliding on df of 1 rows\n",
      "calling sliding on df of 1 rows\n",
      "calling sliding on df of 1 rows\n",
      "calling sliding on df of 1 rows\n",
      "calling sliding on df of 1 rows\n",
      "calling sliding on df of 1 rows\n",
      "calling sliding on df of 1 rows\n",
      "calling sliding on df of 1 rows\n",
      "calling sliding on df of 1 rows\n",
      "calling sliding on df of 1 rows\n",
      "calling sliding on df of 1 rows\n",
      "calling sliding on df of 1 rows\n",
      "calling sliding on df of 1 rows\n",
      "calling sliding on df of 1 rows\n",
      "calling sliding on df of 1 rows\n",
      "calling sliding on df of 1 rows\n",
      "calling sliding on df of 1 rows\n",
      "calling sliding on df of 1 rows\n",
      "calling sliding on df of 1 rows\n",
      "calling sliding on df of 1 rows\n",
      "calling sliding on df of 1 rows\n",
      "calling sliding on df of 1 rows\n",
      "calling sliding on df of 1 rows\n",
      "calling sliding on df of 1 rows\n",
      "calling sliding on df of 1 rows\n",
      "calling sliding on df of 1 rows\n",
      "calling sliding on df of 1 rows\n",
      "calling sliding on df of 1 rows\n",
      "calling sliding on df of 1 rows\n",
      "calling sliding on df of 1 rows\n",
      "calling sliding on df of 1 rows\n",
      "calling sliding on df of 1 rows\n",
      "calling sliding on df of 1 rows\n",
      "calling sliding on df of 1 rows\n",
      "calling sliding on df of 1 rows\n",
      "calling sliding on df of 1 rows\n",
      "calling sliding on df of 1 rows\n",
      "calling sliding on df of 1 rows\n",
      "calling sliding on df of 1 rows\n",
      "calling sliding on df of 1 rows\n",
      "calling sliding on df of 1 rows\n",
      "calling sliding on df of 1 rows\n",
      "calling sliding on df of 1 rows\n",
      "calling sliding on df of 1 rows\n",
      "calling sliding on df of 1 rows\n",
      "calling sliding on df of 1 rows\n",
      "calling sliding on df of 1 rows\n",
      "calling sliding on df of 1 rows\n",
      "calling sliding on df of 1 rows\n",
      "calling sliding on df of 1 rows\n",
      "calling sliding on df of 1 rows\n",
      "calling sliding on df of 1 rows\n",
      "calling sliding on df of 1 rows\n",
      "calling sliding on df of 1 rows\n",
      "calling sliding on df of 1 rows\n",
      "calling sliding on df of 1 rows\n",
      "calling sliding on df of 1 rows\n",
      "calling sliding on df of 1 rows\n",
      "calling sliding on df of 1 rows\n",
      "calling sliding on df of 1 rows\n",
      "calling sliding on df of 1 rows\n"
     ]
    },
    {
     "name": "stderr",
     "output_type": "stream",
     "text": [
      " 56%|█████▌    | 375/672 [00:03<00:02, 101.79it/s][2023-05-08 18:07:15][WARNING] src.exp_logger: Skipping q062212442: `veal shoulder`, not relevant docs found\n"
     ]
    },
    {
     "name": "stdout",
     "output_type": "stream",
     "text": [
      "calling sliding on df of 1 rows\n",
      "calling sliding on df of 1 rows\n",
      "calling sliding on df of 1 rows\n",
      "calling sliding on df of 1 rows\n",
      "calling sliding on df of 1 rows\n",
      "calling sliding on df of 1 rows\n",
      "calling sliding on df of 1 rows\n",
      "calling sliding on df of 1 rows\n",
      "calling sliding on df of 1 rows\n",
      "calling sliding on df of 1 rows\n",
      "calling sliding on df of 1 rows\n",
      "calling sliding on df of 1 rows\n",
      "calling sliding on df of 1 rows\n",
      "calling sliding on df of 1 rows\n",
      "calling sliding on df of 1 rows\n",
      "calling sliding on df of 1 rows\n",
      "calling sliding on df of 1 rows\n",
      "calling sliding on df of 1 rows\n",
      "calling sliding on df of 1 rows\n",
      "calling sliding on df of 1 rows\n",
      "calling sliding on df of 1 rows\n",
      "calling sliding on df of 1 rows\n",
      "calling sliding on df of 1 rows\n",
      "calling sliding on df of 1 rows\n",
      "calling sliding on df of 1 rows\n",
      "calling sliding on df of 1 rows\n",
      "calling sliding on df of 1 rows\n",
      "calling sliding on df of 1 rows\n",
      "calling sliding on df of 1 rows\n",
      "calling sliding on df of 1 rows\n",
      "calling sliding on df of 1 rows\n",
      "calling sliding on df of 1 rows\n",
      "calling sliding on df of 1 rows\n",
      "calling sliding on df of 1 rows\n",
      "calling sliding on df of 1 rows\n",
      "calling sliding on df of 1 rows\n",
      "calling sliding on df of 1 rows\n",
      "calling sliding on df of 1 rows\n",
      "calling sliding on df of 1 rows\n",
      "calling sliding on df of 1 rows\n",
      "calling sliding on df of 1 rows\n",
      "calling sliding on df of 1 rows\n",
      "calling sliding on df of 1 rows\n",
      "calling sliding on df of 1 rows\n",
      "calling sliding on df of 1 rows\n",
      "calling sliding on df of 1 rows\n",
      "calling sliding on df of 1 rows\n",
      "calling sliding on df of 1 rows\n",
      "calling sliding on df of 1 rows\n",
      "calling sliding on df of 1 rows\n",
      "calling sliding on df of 1 rows\n",
      "calling sliding on df of 1 rows\n",
      "calling sliding on df of 1 rows\n",
      "calling sliding on df of 1 rows\n",
      "calling sliding on df of 1 rows\n",
      "calling sliding on df of 1 rows\n",
      "calling sliding on df of 1 rows\n",
      "calling sliding on df of 1 rows\n",
      "calling sliding on df of 1 rows\n",
      "calling sliding on df of 1 rows\n",
      "calling sliding on df of 1 rows\n",
      "calling sliding on df of 1 rows\n",
      "calling sliding on df of 1 rows\n",
      "calling sliding on df of 1 rows\n",
      "calling sliding on df of 1 rows\n",
      "calling sliding on df of 1 rows\n",
      "calling sliding on df of 1 rows\n",
      "calling sliding on df of 1 rows\n",
      "calling sliding on df of 1 rows\n",
      "calling sliding on df of 1 rows\n",
      "calling sliding on df of 1 rows\n",
      "calling sliding on df of 1 rows\n",
      "calling sliding on df of 1 rows\n",
      "calling sliding on df of 1 rows\n",
      "calling sliding on df of 1 rows\n",
      "calling sliding on df of 1 rows\n",
      "calling sliding on df of 1 rows\n",
      "calling sliding on df of 1 rows\n",
      "calling sliding on df of 1 rows\n",
      "calling sliding on df of 1 rows\n",
      "calling sliding on df of 1 rows\n",
      "calling sliding on df of 1 rows\n",
      "calling sliding on df of 1 rows\n",
      "calling sliding on df of 1 rows\n",
      "calling sliding on df of 1 rows\n",
      "calling sliding on df of 1 rows\n",
      "calling sliding on df of 1 rows\n",
      "calling sliding on df of 1 rows\n",
      "calling sliding on df of 1 rows\n"
     ]
    },
    {
     "name": "stderr",
     "output_type": "stream",
     "text": [
      " 60%|█████▉    | 400/672 [00:03<00:02, 112.25it/s]"
     ]
    },
    {
     "name": "stdout",
     "output_type": "stream",
     "text": [
      "calling sliding on df of 1 rows\n",
      "calling sliding on df of 1 rows\n",
      "calling sliding on df of 1 rows\n",
      "calling sliding on df of 1 rows\n",
      "calling sliding on df of 1 rows\n",
      "calling sliding on df of 1 rows\n",
      "calling sliding on df of 1 rows\n",
      "calling sliding on df of 1 rows\n",
      "calling sliding on df of 1 rows\n",
      "calling sliding on df of 1 rows\n",
      "calling sliding on df of 1 rows\n",
      "calling sliding on df of 1 rows\n",
      "calling sliding on df of 1 rows\n",
      "calling sliding on df of 1 rows\n",
      "calling sliding on df of 1 rows\n",
      "calling sliding on df of 1 rows\n",
      "calling sliding on df of 1 rows\n",
      "calling sliding on df of 1 rows\n",
      "calling sliding on df of 1 rows\n",
      "calling sliding on df of 1 rows\n",
      "calling sliding on df of 1 rows\n",
      "calling sliding on df of 1 rows\n",
      "calling sliding on df of 1 rows\n",
      "calling sliding on df of 1 rows\n",
      "calling sliding on df of 1 rows\n",
      "calling sliding on df of 1 rows\n",
      "calling sliding on df of 1 rows\n",
      "calling sliding on df of 1 rows\n",
      "calling sliding on df of 1 rows\n",
      "calling sliding on df of 1 rows\n",
      "calling sliding on df of 1 rows\n",
      "calling sliding on df of 1 rows\n",
      "calling sliding on df of 1 rows\n",
      "calling sliding on df of 1 rows\n",
      "calling sliding on df of 1 rows\n",
      "calling sliding on df of 1 rows\n",
      "calling sliding on df of 1 rows\n",
      "calling sliding on df of 1 rows\n",
      "calling sliding on df of 1 rows\n",
      "calling sliding on df of 1 rows\n",
      "calling sliding on df of 1 rows\n",
      "calling sliding on df of 1 rows\n",
      "calling sliding on df of 1 rows\n",
      "calling sliding on df of 1 rows\n",
      "calling sliding on df of 1 rows\n",
      "calling sliding on df of 1 rows\n",
      "calling sliding on df of 1 rows\n",
      "calling sliding on df of 1 rows\n",
      "calling sliding on df of 1 rows\n",
      "calling sliding on df of 1 rows\n",
      "calling sliding on df of 1 rows\n",
      "calling sliding on df of 1 rows\n",
      "calling sliding on df of 1 rows\n",
      "calling sliding on df of 1 rows\n",
      "calling sliding on df of 1 rows\n",
      "calling sliding on df of 1 rows\n",
      "calling sliding on df of 1 rows\n",
      "calling sliding on df of 1 rows\n",
      "calling sliding on df of 1 rows\n",
      "calling sliding on df of 1 rows\n",
      "calling sliding on df of 1 rows\n",
      "calling sliding on df of 1 rows\n",
      "calling sliding on df of 1 rows\n",
      "calling sliding on df of 1 rows\n",
      "calling sliding on df of 1 rows\n",
      "calling sliding on df of 1 rows\n",
      "calling sliding on df of 1 rows\n",
      "calling sliding on df of 1 rows\n",
      "calling sliding on df of 1 rows\n",
      "calling sliding on df of 1 rows\n",
      "calling sliding on df of 1 rows\n",
      "calling sliding on df of 1 rows\n",
      "calling sliding on df of 1 rows\n",
      "calling sliding on df of 1 rows\n",
      "calling sliding on df of 1 rows\n",
      "calling sliding on df of 1 rows\n",
      "calling sliding on df of 1 rows\n",
      "calling sliding on df of 1 rows\n",
      "calling sliding on df of 1 rows\n",
      "calling sliding on df of 1 rows\n",
      "calling sliding on df of 1 rows\n",
      "calling sliding on df of 1 rows\n",
      "calling sliding on df of 1 rows\n",
      "calling sliding on df of 1 rows\n",
      "calling sliding on df of 1 rows\n",
      "calling sliding on df of 1 rows\n",
      "calling sliding on df of 1 rows\n",
      "calling sliding on df of 1 rows\n",
      "calling sliding on df of 1 rows\n",
      "calling sliding on df of 1 rows\n",
      "calling sliding on df of 1 rows\n",
      "calling sliding on df of 1 rows\n",
      "calling sliding on df of 1 rows\n",
      "calling sliding on df of 1 rows\n",
      "calling sliding on df of 1 rows\n",
      "calling sliding on df of 1 rows\n",
      "calling sliding on df of 1 rows\n"
     ]
    },
    {
     "name": "stderr",
     "output_type": "stream",
     "text": [
      " 61%|██████▏   | 413/672 [00:03<00:02, 115.44it/s][2023-05-08 18:07:15][WARNING] src.exp_logger: Skipping q062214218: `the curtained redoubt`, not relevant docs found\n",
      " 63%|██████▎   | 426/672 [00:03<00:02, 114.68it/s]"
     ]
    },
    {
     "name": "stdout",
     "output_type": "stream",
     "text": [
      "calling sliding on df of 1 rows\n",
      "calling sliding on df of 1 rows\n",
      "calling sliding on df of 1 rows\n",
      "calling sliding on df of 1 rows\n",
      "calling sliding on df of 1 rows\n",
      "calling sliding on df of 1 rows\n",
      "calling sliding on df of 1 rows\n",
      "calling sliding on df of 1 rows\n",
      "calling sliding on df of 1 rows\n",
      "calling sliding on df of 1 rows\n",
      "calling sliding on df of 1 rows\n",
      "calling sliding on df of 1 rows\n",
      "calling sliding on df of 1 rows\n",
      "calling sliding on df of 1 rows\n",
      "calling sliding on df of 1 rows\n",
      "calling sliding on df of 1 rows\n",
      "calling sliding on df of 1 rows\n",
      "calling sliding on df of 1 rows\n",
      "calling sliding on df of 1 rows\n",
      "calling sliding on df of 1 rows\n",
      "calling sliding on df of 1 rows\n",
      "calling sliding on df of 1 rows\n",
      "calling sliding on df of 1 rows\n",
      "calling sliding on df of 1 rows\n",
      "calling sliding on df of 1 rows\n",
      "calling sliding on df of 1 rows\n",
      "calling sliding on df of 1 rows\n",
      "calling sliding on df of 1 rows\n",
      "calling sliding on df of 1 rows\n",
      "calling sliding on df of 1 rows\n",
      "calling sliding on df of 1 rows\n",
      "calling sliding on df of 1 rows\n",
      "calling sliding on df of 1 rows\n",
      "calling sliding on df of 1 rows\n",
      "calling sliding on df of 1 rows\n",
      "calling sliding on df of 1 rows\n",
      "calling sliding on df of 1 rows\n",
      "calling sliding on df of 1 rows\n",
      "calling sliding on df of 1 rows\n",
      "calling sliding on df of 1 rows\n",
      "calling sliding on df of 1 rows\n",
      "calling sliding on df of 1 rows\n",
      "calling sliding on df of 1 rows\n",
      "calling sliding on df of 1 rows\n",
      "calling sliding on df of 1 rows\n",
      "calling sliding on df of 1 rows\n",
      "calling sliding on df of 1 rows\n",
      "calling sliding on df of 1 rows\n",
      "calling sliding on df of 1 rows\n",
      "calling sliding on df of 1 rows\n",
      "calling sliding on df of 1 rows\n",
      "calling sliding on df of 1 rows\n",
      "calling sliding on df of 1 rows\n",
      "calling sliding on df of 1 rows\n",
      "calling sliding on df of 1 rows\n",
      "calling sliding on df of 1 rows\n",
      "calling sliding on df of 1 rows\n",
      "calling sliding on df of 1 rows\n",
      "calling sliding on df of 1 rows\n",
      "calling sliding on df of 1 rows\n",
      "calling sliding on df of 1 rows\n",
      "calling sliding on df of 1 rows\n",
      "calling sliding on df of 1 rows\n",
      "calling sliding on df of 1 rows\n",
      "calling sliding on df of 1 rows\n",
      "calling sliding on df of 1 rows\n",
      "calling sliding on df of 1 rows\n",
      "calling sliding on df of 1 rows\n",
      "calling sliding on df of 1 rows\n",
      "calling sliding on df of 1 rows\n",
      "calling sliding on df of 1 rows\n",
      "calling sliding on df of 1 rows\n",
      "calling sliding on df of 1 rows\n",
      "calling sliding on df of 1 rows\n",
      "calling sliding on df of 1 rows\n",
      "calling sliding on df of 1 rows\n",
      "calling sliding on df of 1 rows\n",
      "calling sliding on df of 1 rows\n",
      "calling sliding on df of 1 rows\n",
      "calling sliding on df of 1 rows\n",
      "calling sliding on df of 1 rows\n",
      "calling sliding on df of 1 rows\n",
      "calling sliding on df of 1 rows\n",
      "calling sliding on df of 1 rows\n",
      "calling sliding on df of 1 rows\n",
      "calling sliding on df of 1 rows\n",
      "calling sliding on df of 1 rows\n",
      "calling sliding on df of 1 rows\n"
     ]
    },
    {
     "name": "stderr",
     "output_type": "stream",
     "text": [
      " 67%|██████▋   | 450/672 [00:04<00:02, 107.73it/s]"
     ]
    },
    {
     "name": "stdout",
     "output_type": "stream",
     "text": [
      "calling sliding on df of 1 rows\n",
      "calling sliding on df of 1 rows\n",
      "calling sliding on df of 1 rows\n",
      "calling sliding on df of 1 rows\n",
      "calling sliding on df of 1 rows\n",
      "calling sliding on df of 1 rows\n",
      "calling sliding on df of 1 rows\n",
      "calling sliding on df of 1 rows\n",
      "calling sliding on df of 1 rows\n",
      "calling sliding on df of 1 rows\n",
      "calling sliding on df of 1 rows\n",
      "calling sliding on df of 1 rows\n",
      "calling sliding on df of 1 rows\n",
      "calling sliding on df of 1 rows\n",
      "calling sliding on df of 1 rows\n",
      "calling sliding on df of 1 rows\n",
      "calling sliding on df of 1 rows\n",
      "calling sliding on df of 1 rows\n",
      "calling sliding on df of 1 rows\n",
      "calling sliding on df of 1 rows\n",
      "calling sliding on df of 1 rows\n",
      "calling sliding on df of 1 rows\n",
      "calling sliding on df of 1 rows\n",
      "calling sliding on df of 1 rows\n",
      "calling sliding on df of 1 rows\n",
      "calling sliding on df of 1 rows\n",
      "calling sliding on df of 1 rows\n",
      "calling sliding on df of 1 rows\n",
      "calling sliding on df of 1 rows\n",
      "calling sliding on df of 1 rows\n",
      "calling sliding on df of 1 rows\n",
      "calling sliding on df of 1 rows\n",
      "calling sliding on df of 1 rows\n",
      "calling sliding on df of 1 rows\n",
      "calling sliding on df of 1 rows\n",
      "calling sliding on df of 1 rows\n",
      "calling sliding on df of 1 rows\n",
      "calling sliding on df of 1 rows\n",
      "calling sliding on df of 1 rows\n",
      "calling sliding on df of 1 rows\n",
      "calling sliding on df of 1 rows\n",
      "calling sliding on df of 1 rows\n",
      "calling sliding on df of 1 rows\n",
      "calling sliding on df of 1 rows\n",
      "calling sliding on df of 1 rows\n",
      "calling sliding on df of 1 rows\n",
      "calling sliding on df of 1 rows\n",
      "calling sliding on df of 1 rows\n",
      "calling sliding on df of 1 rows\n",
      "calling sliding on df of 1 rows\n",
      "calling sliding on df of 1 rows\n",
      "calling sliding on df of 1 rows\n",
      "calling sliding on df of 1 rows\n",
      "calling sliding on df of 1 rows\n",
      "calling sliding on df of 1 rows\n",
      "calling sliding on df of 1 rows\n",
      "calling sliding on df of 1 rows\n",
      "calling sliding on df of 1 rows\n",
      "calling sliding on df of 1 rows\n",
      "calling sliding on df of 1 rows\n",
      "calling sliding on df of 1 rows\n",
      "calling sliding on df of 1 rows\n",
      "calling sliding on df of 1 rows\n",
      "calling sliding on df of 1 rows\n",
      "calling sliding on df of 1 rows\n",
      "calling sliding on df of 1 rows\n",
      "calling sliding on df of 1 rows\n",
      "calling sliding on df of 1 rows\n",
      "calling sliding on df of 1 rows\n",
      "calling sliding on df of 1 rows\n",
      "calling sliding on df of 1 rows\n",
      "calling sliding on df of 1 rows\n",
      "calling sliding on df of 1 rows\n",
      "calling sliding on df of 1 rows\n",
      "calling sliding on df of 1 rows\n",
      "calling sliding on df of 1 rows\n",
      "calling sliding on df of 1 rows\n",
      "calling sliding on df of 1 rows\n",
      "calling sliding on df of 1 rows\n",
      "calling sliding on df of 1 rows\n",
      "calling sliding on df of 1 rows\n",
      "calling sliding on df of 1 rows\n",
      "calling sliding on df of 1 rows\n",
      "calling sliding on df of 1 rows\n",
      "calling sliding on df of 1 rows\n",
      "calling sliding on df of 1 rows\n",
      "calling sliding on df of 1 rows\n",
      "calling sliding on df of 1 rows\n",
      "calling sliding on df of 1 rows\n",
      "calling sliding on df of 1 rows\n",
      "calling sliding on df of 1 rows\n",
      "calling sliding on df of 1 rows\n"
     ]
    },
    {
     "name": "stderr",
     "output_type": "stream",
     "text": [
      "[2023-05-08 18:07:16][WARNING] src.exp_logger: Skipping q062215377: `bordeaux ring ring road dir`, not relevant docs found\n",
      " 71%|███████   | 476/672 [00:04<00:01, 114.15it/s]"
     ]
    },
    {
     "name": "stdout",
     "output_type": "stream",
     "text": [
      "calling sliding on df of 1 rows\n",
      "calling sliding on df of 1 rows\n",
      "calling sliding on df of 1 rows\n",
      "calling sliding on df of 1 rows\n",
      "calling sliding on df of 1 rows\n",
      "calling sliding on df of 1 rows\n",
      "calling sliding on df of 1 rows\n",
      "calling sliding on df of 1 rows\n",
      "calling sliding on df of 1 rows\n",
      "calling sliding on df of 1 rows\n",
      "calling sliding on df of 1 rows\n",
      "calling sliding on df of 1 rows\n",
      "calling sliding on df of 1 rows\n",
      "calling sliding on df of 1 rows\n",
      "calling sliding on df of 1 rows\n",
      "calling sliding on df of 1 rows\n",
      "calling sliding on df of 1 rows\n",
      "calling sliding on df of 1 rows\n",
      "calling sliding on df of 1 rows\n",
      "calling sliding on df of 1 rows\n",
      "calling sliding on df of 1 rows\n",
      "calling sliding on df of 1 rows\n",
      "calling sliding on df of 1 rows\n",
      "calling sliding on df of 1 rows\n",
      "calling sliding on df of 1 rows\n",
      "calling sliding on df of 1 rows\n",
      "calling sliding on df of 1 rows\n",
      "calling sliding on df of 1 rows\n",
      "calling sliding on df of 1 rows\n",
      "calling sliding on df of 1 rows\n",
      "calling sliding on df of 1 rows\n",
      "calling sliding on df of 1 rows\n",
      "calling sliding on df of 1 rows\n",
      "calling sliding on df of 1 rows\n",
      "calling sliding on df of 1 rows\n",
      "calling sliding on df of 1 rows\n",
      "calling sliding on df of 1 rows\n",
      "calling sliding on df of 1 rows\n",
      "calling sliding on df of 1 rows\n",
      "calling sliding on df of 1 rows\n",
      "calling sliding on df of 1 rows\n",
      "calling sliding on df of 1 rows\n",
      "calling sliding on df of 1 rows\n",
      "calling sliding on df of 1 rows\n",
      "calling sliding on df of 1 rows\n",
      "calling sliding on df of 1 rows\n",
      "calling sliding on df of 1 rows\n",
      "calling sliding on df of 1 rows\n",
      "calling sliding on df of 1 rows\n",
      "calling sliding on df of 1 rows\n",
      "calling sliding on df of 1 rows\n",
      "calling sliding on df of 1 rows\n",
      "calling sliding on df of 1 rows\n",
      "calling sliding on df of 1 rows\n",
      "calling sliding on df of 1 rows\n",
      "calling sliding on df of 1 rows\n",
      "calling sliding on df of 1 rows\n",
      "calling sliding on df of 1 rows\n",
      "calling sliding on df of 1 rows\n",
      "calling sliding on df of 1 rows\n",
      "calling sliding on df of 1 rows\n",
      "calling sliding on df of 1 rows\n",
      "calling sliding on df of 1 rows\n",
      "calling sliding on df of 1 rows\n",
      "calling sliding on df of 1 rows\n",
      "calling sliding on df of 1 rows\n",
      "calling sliding on df of 1 rows\n",
      "calling sliding on df of 1 rows\n",
      "calling sliding on df of 1 rows\n",
      "calling sliding on df of 1 rows\n",
      "calling sliding on df of 1 rows\n",
      "calling sliding on df of 1 rows\n",
      "calling sliding on df of 1 rows\n",
      "calling sliding on df of 1 rows\n",
      "calling sliding on df of 1 rows\n",
      "calling sliding on df of 1 rows\n",
      "calling sliding on df of 1 rows\n",
      "calling sliding on df of 1 rows\n",
      "calling sliding on df of 1 rows\n",
      "calling sliding on df of 1 rows\n"
     ]
    },
    {
     "name": "stderr",
     "output_type": "stream",
     "text": [
      " 73%|███████▎  | 488/672 [00:04<00:01, 114.70it/s]"
     ]
    },
    {
     "name": "stdout",
     "output_type": "stream",
     "text": [
      "calling sliding on df of 1 rows\n",
      "calling sliding on df of 1 rows\n",
      "calling sliding on df of 1 rows\n",
      "calling sliding on df of 1 rows\n",
      "calling sliding on df of 1 rows\n",
      "calling sliding on df of 1 rows\n",
      "calling sliding on df of 1 rows\n",
      "calling sliding on df of 1 rows\n",
      "calling sliding on df of 1 rows\n",
      "calling sliding on df of 1 rows\n",
      "calling sliding on df of 1 rows\n",
      "calling sliding on df of 1 rows\n",
      "calling sliding on df of 1 rows\n",
      "calling sliding on df of 1 rows\n",
      "calling sliding on df of 1 rows\n",
      "calling sliding on df of 1 rows\n",
      "calling sliding on df of 1 rows\n",
      "calling sliding on df of 1 rows\n",
      "calling sliding on df of 1 rows\n",
      "calling sliding on df of 1 rows\n",
      "calling sliding on df of 1 rows\n",
      "calling sliding on df of 1 rows\n",
      "calling sliding on df of 1 rows\n",
      "calling sliding on df of 1 rows\n",
      "calling sliding on df of 1 rows\n",
      "calling sliding on df of 1 rows\n",
      "calling sliding on df of 1 rows\n",
      "calling sliding on df of 1 rows\n",
      "calling sliding on df of 1 rows\n",
      "calling sliding on df of 1 rows\n",
      "calling sliding on df of 1 rows\n",
      "calling sliding on df of 1 rows\n",
      "calling sliding on df of 1 rows\n",
      "calling sliding on df of 1 rows\n",
      "calling sliding on df of 1 rows\n",
      "calling sliding on df of 1 rows\n",
      "calling sliding on df of 1 rows\n",
      "calling sliding on df of 1 rows\n",
      "calling sliding on df of 1 rows\n",
      "calling sliding on df of 1 rows\n",
      "calling sliding on df of 1 rows\n",
      "calling sliding on df of 1 rows\n",
      "calling sliding on df of 1 rows\n",
      "calling sliding on df of 1 rows\n",
      "calling sliding on df of 1 rows\n",
      "calling sliding on df of 1 rows\n",
      "calling sliding on df of 1 rows\n",
      "calling sliding on df of 1 rows\n",
      "calling sliding on df of 1 rows\n",
      "calling sliding on df of 1 rows\n",
      "calling sliding on df of 1 rows\n",
      "calling sliding on df of 1 rows\n",
      "calling sliding on df of 1 rows\n",
      "calling sliding on df of 1 rows\n",
      "calling sliding on df of 1 rows\n",
      "calling sliding on df of 1 rows\n",
      "calling sliding on df of 1 rows\n",
      "calling sliding on df of 1 rows\n",
      "calling sliding on df of 1 rows\n",
      "calling sliding on df of 1 rows\n",
      "calling sliding on df of 1 rows\n",
      "calling sliding on df of 1 rows\n",
      "calling sliding on df of 1 rows\n",
      "calling sliding on df of 1 rows\n",
      "calling sliding on df of 1 rows\n",
      "calling sliding on df of 1 rows\n",
      "calling sliding on df of 1 rows\n",
      "calling sliding on df of 1 rows\n",
      "calling sliding on df of 1 rows\n",
      "calling sliding on df of 1 rows\n",
      "calling sliding on df of 1 rows\n",
      "calling sliding on df of 1 rows\n",
      "calling sliding on df of 1 rows\n",
      "calling sliding on df of 1 rows\n",
      "calling sliding on df of 1 rows\n",
      "calling sliding on df of 1 rows\n",
      "calling sliding on df of 1 rows\n",
      "calling sliding on df of 1 rows\n"
     ]
    },
    {
     "name": "stderr",
     "output_type": "stream",
     "text": [
      " 76%|███████▌  | 512/672 [00:04<00:01, 108.70it/s]"
     ]
    },
    {
     "name": "stdout",
     "output_type": "stream",
     "text": [
      "calling sliding on df of 1 rows\n",
      "calling sliding on df of 1 rows\n",
      "calling sliding on df of 1 rows\n",
      "calling sliding on df of 1 rows\n",
      "calling sliding on df of 1 rows\n",
      "calling sliding on df of 1 rows\n",
      "calling sliding on df of 1 rows\n",
      "calling sliding on df of 1 rows\n",
      "calling sliding on df of 1 rows\n",
      "calling sliding on df of 1 rows\n",
      "calling sliding on df of 1 rows\n",
      "calling sliding on df of 1 rows\n",
      "calling sliding on df of 1 rows\n",
      "calling sliding on df of 1 rows\n",
      "calling sliding on df of 1 rows\n",
      "calling sliding on df of 1 rows\n",
      "calling sliding on df of 1 rows\n",
      "calling sliding on df of 1 rows\n",
      "calling sliding on df of 1 rows\n",
      "calling sliding on df of 1 rows\n",
      "calling sliding on df of 1 rows\n",
      "calling sliding on df of 1 rows\n",
      "calling sliding on df of 1 rows\n",
      "calling sliding on df of 1 rows\n",
      "calling sliding on df of 1 rows\n",
      "calling sliding on df of 1 rows\n",
      "calling sliding on df of 1 rows\n",
      "calling sliding on df of 1 rows\n",
      "calling sliding on df of 1 rows\n",
      "calling sliding on df of 1 rows\n",
      "calling sliding on df of 1 rows\n",
      "calling sliding on df of 1 rows\n",
      "calling sliding on df of 1 rows\n",
      "calling sliding on df of 1 rows\n",
      "calling sliding on df of 1 rows\n",
      "calling sliding on df of 1 rows\n",
      "calling sliding on df of 1 rows\n",
      "calling sliding on df of 1 rows\n",
      "calling sliding on df of 1 rows\n",
      "calling sliding on df of 1 rows\n",
      "calling sliding on df of 1 rows\n",
      "calling sliding on df of 1 rows\n",
      "calling sliding on df of 1 rows\n",
      "calling sliding on df of 1 rows\n",
      "calling sliding on df of 1 rows\n",
      "calling sliding on df of 1 rows\n",
      "calling sliding on df of 1 rows\n",
      "calling sliding on df of 1 rows\n",
      "calling sliding on df of 1 rows\n",
      "calling sliding on df of 1 rows\n",
      "calling sliding on df of 1 rows\n",
      "calling sliding on df of 1 rows\n",
      "calling sliding on df of 1 rows\n",
      "calling sliding on df of 1 rows\n",
      "calling sliding on df of 1 rows\n",
      "calling sliding on df of 1 rows\n",
      "calling sliding on df of 1 rows\n",
      "calling sliding on df of 1 rows\n",
      "calling sliding on df of 1 rows\n",
      "calling sliding on df of 1 rows\n",
      "calling sliding on df of 1 rows\n",
      "calling sliding on df of 1 rows\n",
      "calling sliding on df of 1 rows\n",
      "calling sliding on df of 1 rows\n",
      "calling sliding on df of 1 rows\n",
      "calling sliding on df of 1 rows\n",
      "calling sliding on df of 1 rows\n",
      "calling sliding on df of 1 rows\n",
      "calling sliding on df of 1 rows\n",
      "calling sliding on df of 1 rows\n",
      "calling sliding on df of 1 rows\n",
      "calling sliding on df of 1 rows\n",
      "calling sliding on df of 1 rows\n",
      "calling sliding on df of 1 rows\n",
      "calling sliding on df of 1 rows\n",
      "calling sliding on df of 1 rows\n",
      "calling sliding on df of 1 rows\n",
      "calling sliding on df of 1 rows\n",
      "calling sliding on df of 1 rows\n",
      "calling sliding on df of 1 rows\n",
      "calling sliding on df of 1 rows\n",
      "calling sliding on df of 1 rows\n",
      "calling sliding on df of 1 rows\n",
      "calling sliding on df of 1 rows\n",
      "calling sliding on df of 1 rows\n",
      "calling sliding on df of 1 rows\n",
      "calling sliding on df of 1 rows\n",
      "calling sliding on df of 1 rows\n"
     ]
    },
    {
     "name": "stderr",
     "output_type": "stream",
     "text": [
      " 79%|███████▉  | 534/672 [00:04<00:01, 96.70it/s] "
     ]
    },
    {
     "name": "stdout",
     "output_type": "stream",
     "text": [
      "calling sliding on df of 1 rows\n",
      "calling sliding on df of 1 rows\n",
      "calling sliding on df of 1 rows\n",
      "calling sliding on df of 1 rows\n",
      "calling sliding on df of 1 rows\n",
      "calling sliding on df of 1 rows\n",
      "calling sliding on df of 1 rows\n",
      "calling sliding on df of 1 rows\n",
      "calling sliding on df of 1 rows\n",
      "calling sliding on df of 1 rows\n",
      "calling sliding on df of 1 rows\n",
      "calling sliding on df of 1 rows\n",
      "calling sliding on df of 1 rows\n",
      "calling sliding on df of 1 rows\n",
      "calling sliding on df of 1 rows\n",
      "calling sliding on df of 1 rows\n",
      "calling sliding on df of 1 rows\n",
      "calling sliding on df of 1 rows\n",
      "calling sliding on df of 1 rows\n",
      "calling sliding on df of 1 rows\n",
      "calling sliding on df of 1 rows\n",
      "calling sliding on df of 1 rows\n",
      "calling sliding on df of 1 rows\n",
      "calling sliding on df of 1 rows\n",
      "calling sliding on df of 1 rows\n",
      "calling sliding on df of 1 rows\n",
      "calling sliding on df of 1 rows\n",
      "calling sliding on df of 1 rows\n",
      "calling sliding on df of 1 rows\n",
      "calling sliding on df of 1 rows\n",
      "calling sliding on df of 1 rows\n",
      "calling sliding on df of 1 rows\n",
      "calling sliding on df of 1 rows\n",
      "calling sliding on df of 1 rows\n",
      "calling sliding on df of 1 rows\n",
      "calling sliding on df of 1 rows\n",
      "calling sliding on df of 1 rows\n",
      "calling sliding on df of 1 rows\n",
      "calling sliding on df of 1 rows\n",
      "calling sliding on df of 1 rows\n",
      "calling sliding on df of 1 rows\n",
      "calling sliding on df of 1 rows\n",
      "calling sliding on df of 1 rows\n",
      "calling sliding on df of 1 rows\n",
      "calling sliding on df of 1 rows\n",
      "calling sliding on df of 1 rows\n",
      "calling sliding on df of 1 rows\n",
      "calling sliding on df of 1 rows\n",
      "calling sliding on df of 1 rows\n",
      "calling sliding on df of 1 rows\n",
      "calling sliding on df of 1 rows\n",
      "calling sliding on df of 1 rows\n",
      "calling sliding on df of 1 rows\n",
      "calling sliding on df of 1 rows\n",
      "calling sliding on df of 1 rows\n",
      "calling sliding on df of 1 rows\n",
      "calling sliding on df of 1 rows\n",
      "calling sliding on df of 1 rows\n",
      "calling sliding on df of 1 rows\n",
      "calling sliding on df of 1 rows\n"
     ]
    },
    {
     "name": "stderr",
     "output_type": "stream",
     "text": [
      " 83%|████████▎ | 561/672 [00:05<00:01, 110.40it/s]"
     ]
    },
    {
     "name": "stdout",
     "output_type": "stream",
     "text": [
      "calling sliding on df of 1 rows\n",
      "calling sliding on df of 1 rows\n",
      "calling sliding on df of 1 rows\n",
      "calling sliding on df of 1 rows\n",
      "calling sliding on df of 1 rows\n",
      "calling sliding on df of 1 rows\n",
      "calling sliding on df of 1 rows\n",
      "calling sliding on df of 1 rows\n",
      "calling sliding on df of 1 rows\n",
      "calling sliding on df of 1 rows\n",
      "calling sliding on df of 1 rows\n",
      "calling sliding on df of 1 rows\n",
      "calling sliding on df of 1 rows\n",
      "calling sliding on df of 1 rows\n",
      "calling sliding on df of 1 rows\n",
      "calling sliding on df of 1 rows\n",
      "calling sliding on df of 1 rows\n",
      "calling sliding on df of 1 rows\n",
      "calling sliding on df of 1 rows\n",
      "calling sliding on df of 1 rows\n",
      "calling sliding on df of 1 rows\n",
      "calling sliding on df of 1 rows\n",
      "calling sliding on df of 1 rows\n",
      "calling sliding on df of 1 rows\n",
      "calling sliding on df of 1 rows\n",
      "calling sliding on df of 1 rows\n",
      "calling sliding on df of 1 rows\n",
      "calling sliding on df of 1 rows\n",
      "calling sliding on df of 1 rows\n",
      "calling sliding on df of 1 rows\n",
      "calling sliding on df of 1 rows\n",
      "calling sliding on df of 1 rows\n",
      "calling sliding on df of 1 rows\n",
      "calling sliding on df of 1 rows\n",
      "calling sliding on df of 1 rows\n",
      "calling sliding on df of 1 rows\n",
      "calling sliding on df of 1 rows\n",
      "calling sliding on df of 1 rows\n",
      "calling sliding on df of 1 rows\n",
      "calling sliding on df of 1 rows\n",
      "calling sliding on df of 1 rows\n",
      "calling sliding on df of 1 rows\n",
      "calling sliding on df of 1 rows\n",
      "calling sliding on df of 1 rows\n",
      "calling sliding on df of 1 rows\n",
      "calling sliding on df of 1 rows\n",
      "calling sliding on df of 1 rows\n",
      "calling sliding on df of 1 rows\n",
      "calling sliding on df of 1 rows\n",
      "calling sliding on df of 1 rows\n",
      "calling sliding on df of 1 rows\n",
      "calling sliding on df of 1 rows\n",
      "calling sliding on df of 1 rows\n",
      "calling sliding on df of 1 rows\n",
      "calling sliding on df of 1 rows\n",
      "calling sliding on df of 1 rows\n",
      "calling sliding on df of 1 rows\n",
      "calling sliding on df of 1 rows\n",
      "calling sliding on df of 1 rows\n",
      "calling sliding on df of 1 rows\n",
      "calling sliding on df of 1 rows\n",
      "calling sliding on df of 1 rows\n",
      "calling sliding on df of 1 rows\n",
      "calling sliding on df of 1 rows\n",
      "calling sliding on df of 1 rows\n",
      "calling sliding on df of 1 rows\n",
      "calling sliding on df of 1 rows\n",
      "calling sliding on df of 1 rows\n",
      "calling sliding on df of 1 rows\n",
      "calling sliding on df of 1 rows\n",
      "calling sliding on df of 1 rows\n",
      "calling sliding on df of 1 rows\n",
      "calling sliding on df of 1 rows\n",
      "calling sliding on df of 1 rows\n",
      "calling sliding on df of 1 rows\n",
      "calling sliding on df of 1 rows\n",
      "calling sliding on df of 1 rows\n",
      "calling sliding on df of 1 rows\n",
      "calling sliding on df of 1 rows\n",
      "calling sliding on df of 1 rows\n",
      "calling sliding on df of 1 rows\n",
      "calling sliding on df of 1 rows\n",
      "calling sliding on df of 1 rows\n",
      "calling sliding on df of 1 rows\n",
      "calling sliding on df of 1 rows\n",
      "calling sliding on df of 1 rows\n",
      "calling sliding on df of 1 rows\n",
      "calling sliding on df of 1 rows\n",
      "calling sliding on df of 1 rows\n",
      "calling sliding on df of 1 rows\n",
      "calling sliding on df of 1 rows\n",
      "calling sliding on df of 1 rows\n",
      "calling sliding on df of 1 rows\n",
      "calling sliding on df of 1 rows\n",
      "calling sliding on df of 1 rows\n",
      "calling sliding on df of 1 rows\n"
     ]
    },
    {
     "name": "stderr",
     "output_type": "stream",
     "text": [
      " 85%|████████▌ | 573/672 [00:05<00:00, 110.63it/s]"
     ]
    },
    {
     "name": "stdout",
     "output_type": "stream",
     "text": [
      "calling sliding on df of 1 rows\n",
      "calling sliding on df of 1 rows\n",
      "calling sliding on df of 1 rows\n",
      "calling sliding on df of 1 rows\n",
      "calling sliding on df of 1 rows\n",
      "calling sliding on df of 1 rows\n",
      "calling sliding on df of 1 rows\n",
      "calling sliding on df of 1 rows\n",
      "calling sliding on df of 1 rows\n",
      "calling sliding on df of 1 rows\n",
      "calling sliding on df of 1 rows\n",
      "calling sliding on df of 1 rows\n",
      "calling sliding on df of 1 rows\n",
      "calling sliding on df of 1 rows\n",
      "calling sliding on df of 1 rows\n",
      "calling sliding on df of 1 rows\n",
      "calling sliding on df of 1 rows\n",
      "calling sliding on df of 1 rows\n",
      "calling sliding on df of 1 rows\n",
      "calling sliding on df of 1 rows\n",
      "calling sliding on df of 1 rows\n",
      "calling sliding on df of 1 rows\n",
      "calling sliding on df of 1 rows\n",
      "calling sliding on df of 1 rows\n",
      "calling sliding on df of 1 rows\n",
      "calling sliding on df of 1 rows\n",
      "calling sliding on df of 1 rows\n",
      "calling sliding on df of 1 rows\n",
      "calling sliding on df of 1 rows\n",
      "calling sliding on df of 1 rows\n",
      "calling sliding on df of 1 rows\n",
      "calling sliding on df of 1 rows\n",
      "calling sliding on df of 1 rows\n",
      "calling sliding on df of 1 rows\n",
      "calling sliding on df of 1 rows\n",
      "calling sliding on df of 1 rows\n",
      "calling sliding on df of 1 rows\n",
      "calling sliding on df of 1 rows\n",
      "calling sliding on df of 1 rows\n",
      "calling sliding on df of 1 rows\n",
      "calling sliding on df of 1 rows\n",
      "calling sliding on df of 1 rows\n",
      "calling sliding on df of 1 rows\n",
      "calling sliding on df of 1 rows\n",
      "calling sliding on df of 1 rows\n",
      "calling sliding on df of 1 rows\n",
      "calling sliding on df of 1 rows\n",
      "calling sliding on df of 1 rows\n",
      "calling sliding on df of 1 rows\n",
      "calling sliding on df of 1 rows\n",
      "calling sliding on df of 1 rows\n",
      "calling sliding on df of 1 rows\n",
      "calling sliding on df of 1 rows\n",
      "calling sliding on df of 1 rows\n",
      "calling sliding on df of 1 rows\n",
      "calling sliding on df of 1 rows\n",
      "calling sliding on df of 1 rows\n",
      "calling sliding on df of 1 rows\n",
      "calling sliding on df of 1 rows\n",
      "calling sliding on df of 1 rows\n",
      "calling sliding on df of 1 rows\n",
      "calling sliding on df of 1 rows\n",
      "calling sliding on df of 1 rows\n",
      "calling sliding on df of 1 rows\n",
      "calling sliding on df of 1 rows\n",
      "calling sliding on df of 1 rows\n",
      "calling sliding on df of 1 rows\n",
      "calling sliding on df of 1 rows\n",
      "calling sliding on df of 1 rows\n",
      "calling sliding on df of 1 rows\n",
      "calling sliding on df of 1 rows\n",
      "calling sliding on df of 1 rows\n",
      "calling sliding on df of 1 rows\n",
      "calling sliding on df of 1 rows\n",
      "calling sliding on df of 1 rows\n",
      "calling sliding on df of 1 rows\n"
     ]
    },
    {
     "name": "stderr",
     "output_type": "stream",
     "text": [
      "[2023-05-08 18:07:17][WARNING] src.exp_logger: Skipping q062220780: `used car rental`, not relevant docs found\n",
      " 89%|████████▉ | 597/672 [00:05<00:00, 105.16it/s]"
     ]
    },
    {
     "name": "stdout",
     "output_type": "stream",
     "text": [
      "calling sliding on df of 1 rows\n",
      "calling sliding on df of 1 rows\n",
      "calling sliding on df of 1 rows\n",
      "calling sliding on df of 1 rows\n",
      "calling sliding on df of 1 rows\n",
      "calling sliding on df of 1 rows\n",
      "calling sliding on df of 1 rows\n",
      "calling sliding on df of 1 rows\n",
      "calling sliding on df of 1 rows\n",
      "calling sliding on df of 1 rows\n",
      "calling sliding on df of 1 rows\n",
      "calling sliding on df of 1 rows\n",
      "calling sliding on df of 1 rows\n",
      "calling sliding on df of 1 rows\n",
      "calling sliding on df of 1 rows\n",
      "calling sliding on df of 1 rows\n",
      "calling sliding on df of 1 rows\n",
      "calling sliding on df of 1 rows\n",
      "calling sliding on df of 1 rows\n",
      "calling sliding on df of 1 rows\n",
      "calling sliding on df of 1 rows\n",
      "calling sliding on df of 1 rows\n",
      "calling sliding on df of 1 rows\n",
      "calling sliding on df of 1 rows\n",
      "calling sliding on df of 1 rows\n",
      "calling sliding on df of 1 rows\n",
      "calling sliding on df of 1 rows\n",
      "calling sliding on df of 1 rows\n",
      "calling sliding on df of 1 rows\n",
      "calling sliding on df of 1 rows\n",
      "calling sliding on df of 1 rows\n",
      "calling sliding on df of 1 rows\n",
      "calling sliding on df of 1 rows\n",
      "calling sliding on df of 1 rows\n",
      "calling sliding on df of 1 rows\n",
      "calling sliding on df of 1 rows\n",
      "calling sliding on df of 1 rows\n",
      "calling sliding on df of 1 rows\n",
      "calling sliding on df of 1 rows\n",
      "calling sliding on df of 1 rows\n",
      "calling sliding on df of 1 rows\n",
      "calling sliding on df of 1 rows\n",
      "calling sliding on df of 1 rows\n",
      "calling sliding on df of 1 rows\n",
      "calling sliding on df of 1 rows\n",
      "calling sliding on df of 1 rows\n",
      "calling sliding on df of 1 rows\n",
      "calling sliding on df of 1 rows\n",
      "calling sliding on df of 1 rows\n",
      "calling sliding on df of 1 rows\n",
      "calling sliding on df of 1 rows\n",
      "calling sliding on df of 1 rows\n",
      "calling sliding on df of 1 rows\n",
      "calling sliding on df of 1 rows\n",
      "calling sliding on df of 1 rows\n",
      "calling sliding on df of 1 rows\n",
      "calling sliding on df of 1 rows\n",
      "calling sliding on df of 1 rows\n",
      "calling sliding on df of 1 rows\n",
      "calling sliding on df of 1 rows\n",
      "calling sliding on df of 1 rows\n",
      "calling sliding on df of 1 rows\n",
      "calling sliding on df of 1 rows\n",
      "calling sliding on df of 1 rows\n",
      "calling sliding on df of 1 rows\n",
      "calling sliding on df of 1 rows\n",
      "calling sliding on df of 1 rows\n",
      "calling sliding on df of 1 rows\n",
      "calling sliding on df of 1 rows\n",
      "calling sliding on df of 1 rows\n",
      "calling sliding on df of 1 rows\n",
      "calling sliding on df of 1 rows\n",
      "calling sliding on df of 1 rows\n",
      "calling sliding on df of 1 rows\n",
      "calling sliding on df of 1 rows\n",
      "calling sliding on df of 1 rows\n",
      "calling sliding on df of 1 rows\n",
      "calling sliding on df of 1 rows\n",
      "calling sliding on df of 1 rows\n",
      "calling sliding on df of 1 rows\n",
      "calling sliding on df of 1 rows\n",
      "calling sliding on df of 1 rows\n",
      "calling sliding on df of 1 rows\n",
      "calling sliding on df of 1 rows\n",
      "calling sliding on df of 1 rows\n",
      "calling sliding on df of 1 rows\n",
      "calling sliding on df of 1 rows\n",
      "calling sliding on df of 1 rows\n",
      "calling sliding on df of 1 rows\n",
      "calling sliding on df of 1 rows\n"
     ]
    },
    {
     "name": "stderr",
     "output_type": "stream",
     "text": [
      " 91%|█████████ | 609/672 [00:05<00:00, 107.49it/s][2023-05-08 18:07:17][WARNING] src.exp_logger: Skipping q062222134: `most reliable cars`, not relevant docs found\n",
      " 93%|█████████▎| 624/672 [00:05<00:00, 118.03it/s]"
     ]
    },
    {
     "name": "stdout",
     "output_type": "stream",
     "text": [
      "calling sliding on df of 1 rows\n",
      "calling sliding on df of 1 rows\n",
      "calling sliding on df of 1 rows\n",
      "calling sliding on df of 1 rows\n",
      "calling sliding on df of 1 rows\n",
      "calling sliding on df of 1 rows\n",
      "calling sliding on df of 1 rows\n",
      "calling sliding on df of 1 rows\n",
      "calling sliding on df of 1 rows\n",
      "calling sliding on df of 1 rows\n",
      "calling sliding on df of 1 rows\n",
      "calling sliding on df of 1 rows\n",
      "calling sliding on df of 1 rows\n",
      "calling sliding on df of 1 rows\n",
      "calling sliding on df of 1 rows\n",
      "calling sliding on df of 1 rows\n",
      "calling sliding on df of 1 rows\n",
      "calling sliding on df of 1 rows\n",
      "calling sliding on df of 1 rows\n",
      "calling sliding on df of 1 rows\n",
      "calling sliding on df of 1 rows\n",
      "calling sliding on df of 1 rows\n",
      "calling sliding on df of 1 rows\n",
      "calling sliding on df of 1 rows\n",
      "calling sliding on df of 1 rows\n",
      "calling sliding on df of 1 rows\n",
      "calling sliding on df of 1 rows\n",
      "calling sliding on df of 1 rows\n",
      "calling sliding on df of 1 rows\n",
      "calling sliding on df of 1 rows\n",
      "calling sliding on df of 1 rows\n",
      "calling sliding on df of 1 rows\n",
      "calling sliding on df of 1 rows\n",
      "calling sliding on df of 1 rows\n",
      "calling sliding on df of 1 rows\n",
      "calling sliding on df of 1 rows\n",
      "calling sliding on df of 1 rows\n",
      "calling sliding on df of 1 rows\n",
      "calling sliding on df of 1 rows\n",
      "calling sliding on df of 1 rows\n",
      "calling sliding on df of 1 rows\n",
      "calling sliding on df of 1 rows\n",
      "calling sliding on df of 1 rows\n",
      "calling sliding on df of 1 rows\n",
      "calling sliding on df of 1 rows\n",
      "calling sliding on df of 1 rows\n",
      "calling sliding on df of 1 rows\n",
      "calling sliding on df of 1 rows\n",
      "calling sliding on df of 1 rows\n",
      "calling sliding on df of 1 rows\n",
      "calling sliding on df of 1 rows\n",
      "calling sliding on df of 1 rows\n",
      "calling sliding on df of 1 rows\n",
      "calling sliding on df of 1 rows\n",
      "calling sliding on df of 1 rows\n",
      "calling sliding on df of 1 rows\n",
      "calling sliding on df of 1 rows\n",
      "calling sliding on df of 1 rows\n",
      "calling sliding on df of 1 rows\n",
      "calling sliding on df of 1 rows\n",
      "calling sliding on df of 1 rows\n",
      "calling sliding on df of 1 rows\n",
      "calling sliding on df of 1 rows\n",
      "calling sliding on df of 1 rows\n",
      "calling sliding on df of 1 rows\n",
      "calling sliding on df of 1 rows\n",
      "calling sliding on df of 1 rows\n",
      "calling sliding on df of 1 rows\n",
      "calling sliding on df of 1 rows\n",
      "calling sliding on df of 1 rows\n",
      "calling sliding on df of 1 rows\n",
      "calling sliding on df of 1 rows\n",
      "calling sliding on df of 1 rows\n",
      "calling sliding on df of 1 rows\n",
      "calling sliding on df of 1 rows\n",
      "calling sliding on df of 1 rows\n",
      "calling sliding on df of 1 rows\n",
      "calling sliding on df of 1 rows\n",
      "calling sliding on df of 1 rows\n",
      "calling sliding on df of 1 rows\n",
      "calling sliding on df of 1 rows\n",
      "calling sliding on df of 1 rows\n",
      "calling sliding on df of 1 rows\n",
      "calling sliding on df of 1 rows\n",
      "calling sliding on df of 1 rows\n",
      "calling sliding on df of 1 rows\n",
      "calling sliding on df of 1 rows\n"
     ]
    },
    {
     "name": "stderr",
     "output_type": "stream",
     "text": [
      "[2023-05-08 18:07:17][WARNING] src.exp_logger: Skipping q062223487: `gateau leger`, not relevant docs found\n",
      "[2023-05-08 18:07:17][WARNING] src.exp_logger: Skipping q062223622: `weekly horoscope of the verse`, not relevant docs found\n",
      " 97%|█████████▋| 649/672 [00:05<00:00, 108.33it/s]"
     ]
    },
    {
     "name": "stdout",
     "output_type": "stream",
     "text": [
      "calling sliding on df of 1 rows\n",
      "calling sliding on df of 1 rows\n",
      "calling sliding on df of 1 rows\n",
      "calling sliding on df of 1 rows\n",
      "calling sliding on df of 1 rows\n",
      "calling sliding on df of 1 rows\n",
      "calling sliding on df of 1 rows\n",
      "calling sliding on df of 1 rows\n",
      "calling sliding on df of 1 rows\n",
      "calling sliding on df of 1 rows\n",
      "calling sliding on df of 1 rows\n",
      "calling sliding on df of 1 rows\n",
      "calling sliding on df of 1 rows\n",
      "calling sliding on df of 1 rows\n",
      "calling sliding on df of 1 rows\n",
      "calling sliding on df of 1 rows\n",
      "calling sliding on df of 1 rows\n",
      "calling sliding on df of 1 rows\n",
      "calling sliding on df of 1 rows\n",
      "calling sliding on df of 1 rows\n",
      "calling sliding on df of 1 rows\n",
      "calling sliding on df of 1 rows\n",
      "calling sliding on df of 1 rows\n",
      "calling sliding on df of 1 rows\n",
      "calling sliding on df of 1 rows\n",
      "calling sliding on df of 1 rows\n",
      "calling sliding on df of 1 rows\n",
      "calling sliding on df of 1 rows\n",
      "calling sliding on df of 1 rows\n",
      "calling sliding on df of 1 rows\n",
      "calling sliding on df of 1 rows\n",
      "calling sliding on df of 1 rows\n",
      "calling sliding on df of 1 rows\n",
      "calling sliding on df of 1 rows\n",
      "calling sliding on df of 1 rows\n",
      "calling sliding on df of 1 rows\n",
      "calling sliding on df of 1 rows\n",
      "calling sliding on df of 1 rows\n",
      "calling sliding on df of 1 rows\n",
      "calling sliding on df of 1 rows\n",
      "calling sliding on df of 1 rows\n",
      "calling sliding on df of 1 rows\n",
      "calling sliding on df of 1 rows\n",
      "calling sliding on df of 1 rows\n",
      "calling sliding on df of 1 rows\n",
      "calling sliding on df of 1 rows\n",
      "calling sliding on df of 1 rows\n",
      "calling sliding on df of 1 rows\n",
      "calling sliding on df of 1 rows\n",
      "calling sliding on df of 1 rows\n",
      "calling sliding on df of 1 rows\n",
      "calling sliding on df of 1 rows\n",
      "calling sliding on df of 1 rows\n",
      "calling sliding on df of 1 rows\n",
      "calling sliding on df of 1 rows\n",
      "calling sliding on df of 1 rows\n",
      "calling sliding on df of 1 rows\n",
      "calling sliding on df of 1 rows\n",
      "calling sliding on df of 1 rows\n",
      "calling sliding on df of 1 rows\n",
      "calling sliding on df of 1 rows\n",
      "calling sliding on df of 1 rows\n",
      "calling sliding on df of 1 rows\n",
      "calling sliding on df of 1 rows\n",
      "calling sliding on df of 1 rows\n",
      "calling sliding on df of 1 rows\n",
      "calling sliding on df of 1 rows\n",
      "calling sliding on df of 1 rows\n",
      "calling sliding on df of 1 rows\n",
      "calling sliding on df of 1 rows\n",
      "calling sliding on df of 1 rows\n",
      "calling sliding on df of 1 rows\n",
      "calling sliding on df of 1 rows\n",
      "calling sliding on df of 1 rows\n",
      "calling sliding on df of 1 rows\n",
      "calling sliding on df of 1 rows\n",
      "calling sliding on df of 1 rows\n",
      "calling sliding on df of 1 rows\n",
      "calling sliding on df of 1 rows\n",
      "calling sliding on df of 1 rows\n",
      "calling sliding on df of 1 rows\n"
     ]
    },
    {
     "name": "stderr",
     "output_type": "stream",
     "text": [
      "100%|██████████| 672/672 [00:06<00:00, 110.30it/s]\n"
     ]
    },
    {
     "name": "stdout",
     "output_type": "stream",
     "text": [
      "calling sliding on df of 1 rows\n",
      "calling sliding on df of 1 rows\n",
      "calling sliding on df of 1 rows\n",
      "calling sliding on df of 1 rows\n",
      "calling sliding on df of 1 rows\n",
      "calling sliding on df of 1 rows\n",
      "calling sliding on df of 1 rows\n",
      "calling sliding on df of 1 rows\n",
      "calling sliding on df of 1 rows\n",
      "calling sliding on df of 1 rows\n",
      "calling sliding on df of 1 rows\n",
      "calling sliding on df of 1 rows\n",
      "calling sliding on df of 1 rows\n",
      "calling sliding on df of 1 rows\n",
      "calling sliding on df of 1 rows\n",
      "calling sliding on df of 1 rows\n",
      "calling sliding on df of 1 rows\n",
      "calling sliding on df of 1 rows\n",
      "calling sliding on df of 1 rows\n",
      "calling sliding on df of 1 rows\n",
      "calling sliding on df of 1 rows\n",
      "calling sliding on df of 1 rows\n",
      "calling sliding on df of 1 rows\n",
      "calling sliding on df of 1 rows\n",
      "calling sliding on df of 1 rows\n",
      "calling sliding on df of 1 rows\n",
      "calling sliding on df of 1 rows\n",
      "calling sliding on df of 1 rows\n",
      "calling sliding on df of 1 rows\n",
      "calling sliding on df of 1 rows\n",
      "calling sliding on df of 1 rows\n",
      "calling sliding on df of 1 rows\n",
      "calling sliding on df of 1 rows\n",
      "calling sliding on df of 1 rows\n",
      "calling sliding on df of 1 rows\n",
      "calling sliding on df of 1 rows\n",
      "calling sliding on df of 1 rows\n",
      "calling sliding on df of 1 rows\n",
      "calling sliding on df of 1 rows\n",
      "calling sliding on df of 1 rows\n",
      "calling sliding on df of 1 rows\n",
      "calling sliding on df of 1 rows\n",
      "calling sliding on df of 1 rows\n",
      "calling sliding on df of 1 rows\n",
      "calling sliding on df of 1 rows\n",
      "calling sliding on df of 1 rows\n",
      "calling sliding on df of 1 rows\n",
      "calling sliding on df of 1 rows\n",
      "calling sliding on df of 1 rows\n",
      "calling sliding on df of 1 rows\n",
      "calling sliding on df of 1 rows\n",
      "calling sliding on df of 1 rows\n",
      "calling sliding on df of 1 rows\n",
      "calling sliding on df of 1 rows\n",
      "calling sliding on df of 1 rows\n",
      "calling sliding on df of 1 rows\n",
      "calling sliding on df of 1 rows\n",
      "calling sliding on df of 1 rows\n",
      "calling sliding on df of 1 rows\n",
      "calling sliding on df of 1 rows\n",
      "calling sliding on df of 1 rows\n",
      "calling sliding on df of 1 rows\n",
      "calling sliding on df of 1 rows\n",
      "calling sliding on df of 1 rows\n",
      "calling sliding on df of 1 rows\n",
      "calling sliding on df of 1 rows\n",
      "calling sliding on df of 1 rows\n",
      "calling sliding on df of 1 rows\n",
      "calling sliding on df of 1 rows\n",
      "calling sliding on df of 1 rows\n",
      "calling sliding on df of 1 rows\n",
      "calling sliding on df of 1 rows\n",
      "calling sliding on df of 1 rows\n",
      "calling sliding on df of 1 rows\n",
      "calling sliding on df of 1 rows\n",
      "calling sliding on df of 1 rows\n",
      "calling sliding on df of 1 rows\n",
      "calling sliding on df of 1 rows\n",
      "calling sliding on df of 1 rows\n",
      "calling sliding on df of 1 rows\n"
     ]
    },
    {
     "name": "stderr",
     "output_type": "stream",
     "text": [
      "  0%|          | 1/672 [00:01<13:55,  1.25s/it]"
     ]
    },
    {
     "name": "stdout",
     "output_type": "stream",
     "text": [
      "calling sliding on df of 1 rows\n",
      "calling sliding on df of 1 rows\n",
      "calling sliding on df of 1 rows\n",
      "calling sliding on df of 1 rows\n",
      "calling sliding on df of 1 rows\n",
      "calling sliding on df of 1 rows\n",
      "calling sliding on df of 1 rows\n",
      "calling sliding on df of 1 rows\n"
     ]
    },
    {
     "name": "stderr",
     "output_type": "stream",
     "text": [
      "  0%|          | 2/672 [00:02<13:05,  1.17s/it]"
     ]
    },
    {
     "name": "stdout",
     "output_type": "stream",
     "text": [
      "calling sliding on df of 1 rows\n",
      "calling sliding on df of 1 rows\n",
      "calling sliding on df of 1 rows\n"
     ]
    },
    {
     "name": "stderr",
     "output_type": "stream",
     "text": [
      "  0%|          | 3/672 [00:03<12:22,  1.11s/it]"
     ]
    },
    {
     "name": "stdout",
     "output_type": "stream",
     "text": [
      "calling sliding on df of 1 rows\n",
      "calling sliding on df of 1 rows\n",
      "calling sliding on df of 1 rows\n",
      "calling sliding on df of 1 rows\n",
      "calling sliding on df of 1 rows\n",
      "calling sliding on df of 1 rows\n",
      "calling sliding on df of 1 rows\n",
      "calling sliding on df of 1 rows\n",
      "calling sliding on df of 1 rows\n",
      "calling sliding on df of 1 rows\n",
      "calling sliding on df of 1 rows\n",
      "calling sliding on df of 1 rows\n"
     ]
    },
    {
     "name": "stderr",
     "output_type": "stream",
     "text": [
      "  1%|          | 4/672 [00:04<12:13,  1.10s/it]"
     ]
    },
    {
     "name": "stdout",
     "output_type": "stream",
     "text": [
      "calling sliding on df of 1 rows\n",
      "calling sliding on df of 1 rows\n",
      "calling sliding on df of 1 rows\n",
      "calling sliding on df of 1 rows\n",
      "calling sliding on df of 1 rows\n",
      "calling sliding on df of 1 rows\n",
      "calling sliding on df of 1 rows\n",
      "calling sliding on df of 1 rows\n",
      "calling sliding on df of 1 rows\n",
      "calling sliding on df of 1 rows\n",
      "calling sliding on df of 1 rows\n",
      "calling sliding on df of 1 rows\n",
      "calling sliding on df of 1 rows\n",
      "calling sliding on df of 1 rows\n",
      "calling sliding on df of 1 rows\n",
      "calling sliding on df of 1 rows\n",
      "calling sliding on df of 1 rows\n",
      "calling sliding on df of 1 rows\n",
      "calling sliding on df of 1 rows\n",
      "calling sliding on df of 1 rows\n",
      "calling sliding on df of 1 rows\n",
      "calling sliding on df of 1 rows\n",
      "calling sliding on df of 1 rows\n",
      "calling sliding on df of 1 rows\n",
      "calling sliding on df of 1 rows\n",
      "calling sliding on df of 1 rows\n"
     ]
    },
    {
     "name": "stderr",
     "output_type": "stream",
     "text": [
      "  1%|          | 5/672 [00:05<11:41,  1.05s/it]"
     ]
    },
    {
     "name": "stdout",
     "output_type": "stream",
     "text": [
      "calling sliding on df of 1 rows\n",
      "calling sliding on df of 1 rows\n",
      "calling sliding on df of 1 rows\n",
      "calling sliding on df of 1 rows\n",
      "calling sliding on df of 1 rows\n"
     ]
    },
    {
     "name": "stderr",
     "output_type": "stream",
     "text": [
      "  1%|          | 6/672 [00:06<11:29,  1.04s/it]"
     ]
    },
    {
     "name": "stdout",
     "output_type": "stream",
     "text": [
      "calling sliding on df of 1 rows\n",
      "calling sliding on df of 1 rows\n",
      "calling sliding on df of 1 rows\n",
      "calling sliding on df of 1 rows\n",
      "calling sliding on df of 1 rows\n",
      "calling sliding on df of 1 rows\n",
      "calling sliding on df of 1 rows\n",
      "calling sliding on df of 1 rows\n",
      "calling sliding on df of 1 rows\n",
      "calling sliding on df of 1 rows\n",
      "calling sliding on df of 1 rows\n",
      "calling sliding on df of 1 rows\n",
      "calling sliding on df of 1 rows\n",
      "calling sliding on df of 1 rows\n"
     ]
    },
    {
     "name": "stderr",
     "output_type": "stream",
     "text": [
      "  1%|          | 7/672 [00:07<11:21,  1.02s/it]"
     ]
    },
    {
     "name": "stdout",
     "output_type": "stream",
     "text": [
      "calling sliding on df of 1 rows\n",
      "calling sliding on df of 1 rows\n",
      "calling sliding on df of 1 rows\n",
      "calling sliding on df of 1 rows\n",
      "calling sliding on df of 1 rows\n"
     ]
    },
    {
     "name": "stderr",
     "output_type": "stream",
     "text": [
      "  1%|          | 8/672 [00:08<11:33,  1.04s/it]"
     ]
    },
    {
     "name": "stdout",
     "output_type": "stream",
     "text": [
      "calling sliding on df of 1 rows\n",
      "calling sliding on df of 1 rows\n",
      "calling sliding on df of 1 rows\n",
      "calling sliding on df of 1 rows\n",
      "calling sliding on df of 1 rows\n",
      "calling sliding on df of 1 rows\n"
     ]
    },
    {
     "name": "stderr",
     "output_type": "stream",
     "text": [
      "  1%|▏         | 9/672 [00:09<11:52,  1.08s/it]"
     ]
    },
    {
     "name": "stdout",
     "output_type": "stream",
     "text": [
      "calling sliding on df of 1 rows\n",
      "calling sliding on df of 1 rows\n",
      "calling sliding on df of 1 rows\n",
      "calling sliding on df of 1 rows\n",
      "calling sliding on df of 1 rows\n",
      "calling sliding on df of 1 rows\n",
      "calling sliding on df of 1 rows\n",
      "calling sliding on df of 1 rows\n"
     ]
    },
    {
     "name": "stderr",
     "output_type": "stream",
     "text": [
      "  1%|▏         | 10/672 [00:10<11:48,  1.07s/it]"
     ]
    },
    {
     "name": "stdout",
     "output_type": "stream",
     "text": [
      "calling sliding on df of 1 rows\n",
      "calling sliding on df of 1 rows\n",
      "calling sliding on df of 1 rows\n",
      "calling sliding on df of 1 rows\n",
      "calling sliding on df of 1 rows\n",
      "calling sliding on df of 1 rows\n",
      "calling sliding on df of 1 rows\n",
      "calling sliding on df of 1 rows\n",
      "calling sliding on df of 1 rows\n",
      "calling sliding on df of 1 rows\n"
     ]
    },
    {
     "name": "stderr",
     "output_type": "stream",
     "text": [
      "  2%|▏         | 11/672 [00:11<12:06,  1.10s/it]"
     ]
    },
    {
     "name": "stdout",
     "output_type": "stream",
     "text": [
      "calling sliding on df of 1 rows\n",
      "calling sliding on df of 1 rows\n",
      "calling sliding on df of 1 rows\n",
      "calling sliding on df of 1 rows\n",
      "calling sliding on df of 1 rows\n",
      "calling sliding on df of 1 rows\n"
     ]
    },
    {
     "name": "stderr",
     "output_type": "stream",
     "text": [
      "  2%|▏         | 12/672 [00:12<11:55,  1.08s/it]"
     ]
    },
    {
     "name": "stdout",
     "output_type": "stream",
     "text": [
      "calling sliding on df of 1 rows\n",
      "calling sliding on df of 1 rows\n",
      "calling sliding on df of 1 rows\n",
      "calling sliding on df of 1 rows\n",
      "calling sliding on df of 1 rows\n"
     ]
    },
    {
     "name": "stderr",
     "output_type": "stream",
     "text": [
      "  2%|▏         | 13/672 [00:13<09:01,  1.22it/s]"
     ]
    },
    {
     "name": "stdout",
     "output_type": "stream",
     "text": [
      "calling sliding on df of 1 rows\n",
      "calling sliding on df of 1 rows\n",
      "calling sliding on df of 1 rows\n",
      "calling sliding on df of 1 rows\n",
      "calling sliding on df of 1 rows\n",
      "calling sliding on df of 1 rows\n",
      "calling sliding on df of 1 rows\n",
      "calling sliding on df of 1 rows\n",
      "calling sliding on df of 1 rows\n"
     ]
    },
    {
     "name": "stderr",
     "output_type": "stream",
     "text": [
      "  2%|▏         | 14/672 [00:14<09:51,  1.11it/s]"
     ]
    },
    {
     "name": "stdout",
     "output_type": "stream",
     "text": [
      "calling sliding on df of 1 rows\n",
      "calling sliding on df of 1 rows\n",
      "calling sliding on df of 1 rows\n",
      "calling sliding on df of 1 rows\n",
      "calling sliding on df of 1 rows\n",
      "calling sliding on df of 1 rows\n",
      "calling sliding on df of 1 rows\n",
      "calling sliding on df of 1 rows\n"
     ]
    },
    {
     "name": "stderr",
     "output_type": "stream",
     "text": [
      "  2%|▏         | 16/672 [00:16<11:19,  1.04s/it]"
     ]
    },
    {
     "name": "stdout",
     "output_type": "stream",
     "text": [
      "calling sliding on df of 1 rows\n",
      "calling sliding on df of 1 rows\n"
     ]
    },
    {
     "name": "stderr",
     "output_type": "stream",
     "text": [
      "  3%|▎         | 17/672 [00:17<11:44,  1.08s/it]"
     ]
    },
    {
     "name": "stdout",
     "output_type": "stream",
     "text": [
      "calling sliding on df of 1 rows\n",
      "calling sliding on df of 1 rows\n",
      "calling sliding on df of 1 rows\n",
      "calling sliding on df of 1 rows\n",
      "calling sliding on df of 1 rows\n",
      "calling sliding on df of 1 rows\n",
      "calling sliding on df of 1 rows\n"
     ]
    },
    {
     "name": "stderr",
     "output_type": "stream",
     "text": [
      "  3%|▎         | 19/672 [00:18<09:17,  1.17it/s]"
     ]
    },
    {
     "name": "stdout",
     "output_type": "stream",
     "text": [
      "calling sliding on df of 1 rows\n",
      "calling sliding on df of 1 rows\n",
      "calling sliding on df of 1 rows\n",
      "calling sliding on df of 1 rows\n",
      "calling sliding on df of 1 rows\n"
     ]
    },
    {
     "name": "stderr",
     "output_type": "stream",
     "text": [
      "  3%|▎         | 20/672 [00:20<10:32,  1.03it/s]"
     ]
    },
    {
     "name": "stdout",
     "output_type": "stream",
     "text": [
      "calling sliding on df of 1 rows\n",
      "calling sliding on df of 1 rows\n",
      "calling sliding on df of 1 rows\n"
     ]
    },
    {
     "name": "stderr",
     "output_type": "stream",
     "text": [
      "  3%|▎         | 21/672 [00:21<11:16,  1.04s/it]"
     ]
    },
    {
     "name": "stdout",
     "output_type": "stream",
     "text": [
      "calling sliding on df of 1 rows\n",
      "calling sliding on df of 1 rows\n",
      "calling sliding on df of 1 rows\n",
      "calling sliding on df of 1 rows\n",
      "calling sliding on df of 1 rows\n",
      "calling sliding on df of 1 rows\n",
      "calling sliding on df of 1 rows\n",
      "calling sliding on df of 1 rows\n",
      "calling sliding on df of 1 rows\n",
      "calling sliding on df of 1 rows\n"
     ]
    },
    {
     "name": "stderr",
     "output_type": "stream",
     "text": [
      "  3%|▎         | 22/672 [00:22<11:08,  1.03s/it]"
     ]
    },
    {
     "name": "stdout",
     "output_type": "stream",
     "text": [
      "calling sliding on df of 1 rows\n",
      "calling sliding on df of 1 rows\n"
     ]
    },
    {
     "name": "stderr",
     "output_type": "stream",
     "text": [
      "  3%|▎         | 23/672 [00:23<11:59,  1.11s/it]"
     ]
    },
    {
     "name": "stdout",
     "output_type": "stream",
     "text": [
      "calling sliding on df of 1 rows\n",
      "calling sliding on df of 1 rows\n",
      "calling sliding on df of 1 rows\n",
      "calling sliding on df of 1 rows\n",
      "calling sliding on df of 1 rows\n",
      "calling sliding on df of 1 rows\n",
      "calling sliding on df of 1 rows\n",
      "calling sliding on df of 1 rows\n",
      "calling sliding on df of 1 rows\n",
      "calling sliding on df of 1 rows\n",
      "calling sliding on df of 1 rows\n",
      "calling sliding on df of 1 rows\n",
      "calling sliding on df of 1 rows\n"
     ]
    },
    {
     "name": "stderr",
     "output_type": "stream",
     "text": [
      "  4%|▎         | 24/672 [00:25<12:08,  1.12s/it]"
     ]
    },
    {
     "name": "stdout",
     "output_type": "stream",
     "text": [
      "calling sliding on df of 1 rows\n",
      "calling sliding on df of 1 rows\n"
     ]
    },
    {
     "name": "stderr",
     "output_type": "stream",
     "text": [
      "  4%|▎         | 25/672 [00:26<12:41,  1.18s/it]"
     ]
    },
    {
     "name": "stdout",
     "output_type": "stream",
     "text": [
      "calling sliding on df of 1 rows\n",
      "calling sliding on df of 1 rows\n",
      "calling sliding on df of 1 rows\n",
      "calling sliding on df of 1 rows\n",
      "calling sliding on df of 1 rows\n",
      "calling sliding on df of 1 rows\n"
     ]
    },
    {
     "name": "stderr",
     "output_type": "stream",
     "text": [
      "  4%|▍         | 26/672 [00:27<12:52,  1.20s/it]"
     ]
    },
    {
     "name": "stdout",
     "output_type": "stream",
     "text": [
      "calling sliding on df of 1 rows\n",
      "calling sliding on df of 1 rows\n",
      "calling sliding on df of 1 rows\n",
      "calling sliding on df of 1 rows\n",
      "calling sliding on df of 1 rows\n",
      "calling sliding on df of 1 rows\n"
     ]
    },
    {
     "name": "stderr",
     "output_type": "stream",
     "text": [
      "  4%|▍         | 27/672 [00:28<12:59,  1.21s/it]"
     ]
    },
    {
     "name": "stdout",
     "output_type": "stream",
     "text": [
      "calling sliding on df of 1 rows\n",
      "calling sliding on df of 1 rows\n",
      "calling sliding on df of 1 rows\n",
      "calling sliding on df of 1 rows\n",
      "calling sliding on df of 1 rows\n"
     ]
    },
    {
     "name": "stderr",
     "output_type": "stream",
     "text": [
      "  4%|▍         | 28/672 [00:30<13:25,  1.25s/it]"
     ]
    },
    {
     "name": "stdout",
     "output_type": "stream",
     "text": [
      "calling sliding on df of 1 rows\n",
      "calling sliding on df of 1 rows\n",
      "calling sliding on df of 1 rows\n",
      "calling sliding on df of 1 rows\n",
      "calling sliding on df of 1 rows\n"
     ]
    },
    {
     "name": "stderr",
     "output_type": "stream",
     "text": [
      "  4%|▍         | 29/672 [00:31<12:43,  1.19s/it]"
     ]
    },
    {
     "name": "stdout",
     "output_type": "stream",
     "text": [
      "calling sliding on df of 1 rows\n",
      "calling sliding on df of 1 rows\n",
      "calling sliding on df of 1 rows\n",
      "calling sliding on df of 1 rows\n",
      "calling sliding on df of 1 rows\n",
      "calling sliding on df of 1 rows\n",
      "calling sliding on df of 1 rows\n",
      "calling sliding on df of 1 rows\n"
     ]
    },
    {
     "name": "stderr",
     "output_type": "stream",
     "text": [
      "  4%|▍         | 30/672 [00:32<12:13,  1.14s/it]"
     ]
    },
    {
     "name": "stdout",
     "output_type": "stream",
     "text": [
      "calling sliding on df of 1 rows\n",
      "calling sliding on df of 1 rows\n",
      "calling sliding on df of 1 rows\n",
      "calling sliding on df of 1 rows\n",
      "calling sliding on df of 1 rows\n",
      "calling sliding on df of 1 rows\n"
     ]
    },
    {
     "name": "stderr",
     "output_type": "stream",
     "text": [
      "  5%|▍         | 32/672 [00:34<11:28,  1.08s/it]"
     ]
    },
    {
     "name": "stdout",
     "output_type": "stream",
     "text": [
      "calling sliding on df of 1 rows\n",
      "calling sliding on df of 1 rows\n",
      "calling sliding on df of 1 rows\n"
     ]
    },
    {
     "name": "stderr",
     "output_type": "stream",
     "text": [
      "  5%|▍         | 33/672 [00:35<11:43,  1.10s/it]"
     ]
    },
    {
     "name": "stdout",
     "output_type": "stream",
     "text": [
      "calling sliding on df of 1 rows\n",
      "calling sliding on df of 1 rows\n",
      "calling sliding on df of 1 rows\n",
      "calling sliding on df of 1 rows\n",
      "calling sliding on df of 1 rows\n",
      "calling sliding on df of 1 rows\n",
      "calling sliding on df of 1 rows\n",
      "calling sliding on df of 1 rows\n",
      "calling sliding on df of 1 rows\n",
      "calling sliding on df of 1 rows\n",
      "calling sliding on df of 1 rows\n",
      "calling sliding on df of 1 rows\n",
      "calling sliding on df of 1 rows\n"
     ]
    },
    {
     "name": "stderr",
     "output_type": "stream",
     "text": [
      "  5%|▌         | 34/672 [00:36<11:54,  1.12s/it]"
     ]
    },
    {
     "name": "stdout",
     "output_type": "stream",
     "text": [
      "calling sliding on df of 1 rows\n",
      "calling sliding on df of 1 rows\n",
      "calling sliding on df of 1 rows\n",
      "calling sliding on df of 1 rows\n",
      "calling sliding on df of 1 rows\n"
     ]
    },
    {
     "name": "stderr",
     "output_type": "stream",
     "text": [
      "  5%|▌         | 35/672 [00:37<11:32,  1.09s/it]"
     ]
    },
    {
     "name": "stdout",
     "output_type": "stream",
     "text": [
      "calling sliding on df of 1 rows\n",
      "calling sliding on df of 1 rows\n",
      "calling sliding on df of 1 rows\n",
      "calling sliding on df of 1 rows\n",
      "calling sliding on df of 1 rows\n",
      "calling sliding on df of 1 rows\n",
      "calling sliding on df of 1 rows\n",
      "calling sliding on df of 1 rows\n"
     ]
    },
    {
     "name": "stderr",
     "output_type": "stream",
     "text": [
      "  6%|▌         | 37/672 [00:39<11:29,  1.09s/it]"
     ]
    },
    {
     "name": "stdout",
     "output_type": "stream",
     "text": [
      "calling sliding on df of 1 rows\n",
      "calling sliding on df of 1 rows\n",
      "calling sliding on df of 1 rows\n",
      "calling sliding on df of 1 rows\n",
      "calling sliding on df of 1 rows\n",
      "calling sliding on df of 1 rows\n"
     ]
    },
    {
     "name": "stderr",
     "output_type": "stream",
     "text": [
      "  6%|▌         | 38/672 [00:40<11:28,  1.09s/it]"
     ]
    },
    {
     "name": "stdout",
     "output_type": "stream",
     "text": [
      "calling sliding on df of 1 rows\n",
      "calling sliding on df of 1 rows\n",
      "calling sliding on df of 1 rows\n",
      "calling sliding on df of 1 rows\n",
      "calling sliding on df of 1 rows\n",
      "calling sliding on df of 1 rows\n"
     ]
    },
    {
     "name": "stderr",
     "output_type": "stream",
     "text": [
      "  6%|▌         | 39/672 [00:41<11:50,  1.12s/it]"
     ]
    },
    {
     "name": "stdout",
     "output_type": "stream",
     "text": [
      "calling sliding on df of 1 rows\n",
      "calling sliding on df of 1 rows\n",
      "calling sliding on df of 1 rows\n"
     ]
    },
    {
     "name": "stderr",
     "output_type": "stream",
     "text": [
      "  6%|▌         | 40/672 [00:43<11:33,  1.10s/it]"
     ]
    },
    {
     "name": "stdout",
     "output_type": "stream",
     "text": [
      "calling sliding on df of 1 rows\n",
      "calling sliding on df of 1 rows\n",
      "calling sliding on df of 1 rows\n"
     ]
    },
    {
     "name": "stderr",
     "output_type": "stream",
     "text": [
      "  6%|▌         | 41/672 [00:44<11:13,  1.07s/it]"
     ]
    },
    {
     "name": "stdout",
     "output_type": "stream",
     "text": [
      "calling sliding on df of 1 rows\n",
      "calling sliding on df of 1 rows\n",
      "calling sliding on df of 1 rows\n",
      "calling sliding on df of 1 rows\n",
      "calling sliding on df of 1 rows\n",
      "calling sliding on df of 1 rows\n"
     ]
    },
    {
     "name": "stderr",
     "output_type": "stream",
     "text": [
      "  6%|▋         | 42/672 [00:45<11:26,  1.09s/it]"
     ]
    },
    {
     "name": "stdout",
     "output_type": "stream",
     "text": [
      "calling sliding on df of 1 rows\n",
      "calling sliding on df of 1 rows\n",
      "calling sliding on df of 1 rows\n",
      "calling sliding on df of 1 rows\n",
      "calling sliding on df of 1 rows\n",
      "calling sliding on df of 1 rows\n",
      "calling sliding on df of 1 rows\n",
      "calling sliding on df of 1 rows\n",
      "calling sliding on df of 1 rows\n"
     ]
    },
    {
     "name": "stderr",
     "output_type": "stream",
     "text": [
      "  6%|▋         | 43/672 [00:46<11:29,  1.10s/it]"
     ]
    },
    {
     "name": "stdout",
     "output_type": "stream",
     "text": [
      "calling sliding on df of 1 rows\n",
      "calling sliding on df of 1 rows\n"
     ]
    },
    {
     "name": "stderr",
     "output_type": "stream",
     "text": [
      "  7%|▋         | 44/672 [00:47<11:27,  1.09s/it]"
     ]
    },
    {
     "name": "stdout",
     "output_type": "stream",
     "text": [
      "calling sliding on df of 1 rows\n",
      "calling sliding on df of 1 rows\n",
      "calling sliding on df of 1 rows\n",
      "calling sliding on df of 1 rows\n",
      "calling sliding on df of 1 rows\n"
     ]
    },
    {
     "name": "stderr",
     "output_type": "stream",
     "text": [
      "  7%|▋         | 45/672 [00:48<11:09,  1.07s/it]"
     ]
    },
    {
     "name": "stdout",
     "output_type": "stream",
     "text": [
      "calling sliding on df of 1 rows\n",
      "calling sliding on df of 1 rows\n",
      "calling sliding on df of 1 rows\n",
      "calling sliding on df of 1 rows\n",
      "calling sliding on df of 1 rows\n",
      "calling sliding on df of 1 rows\n",
      "calling sliding on df of 1 rows\n"
     ]
    },
    {
     "name": "stderr",
     "output_type": "stream",
     "text": [
      "  7%|▋         | 46/672 [00:49<11:10,  1.07s/it]"
     ]
    },
    {
     "name": "stdout",
     "output_type": "stream",
     "text": [
      "calling sliding on df of 1 rows\n",
      "calling sliding on df of 1 rows\n",
      "calling sliding on df of 1 rows\n",
      "calling sliding on df of 1 rows\n",
      "calling sliding on df of 1 rows\n",
      "calling sliding on df of 1 rows\n"
     ]
    },
    {
     "name": "stderr",
     "output_type": "stream",
     "text": [
      "  7%|▋         | 47/672 [00:50<11:17,  1.08s/it]"
     ]
    },
    {
     "name": "stdout",
     "output_type": "stream",
     "text": [
      "calling sliding on df of 1 rows\n",
      "calling sliding on df of 1 rows\n",
      "calling sliding on df of 1 rows\n",
      "calling sliding on df of 1 rows\n",
      "calling sliding on df of 1 rows\n"
     ]
    },
    {
     "name": "stderr",
     "output_type": "stream",
     "text": [
      "  7%|▋         | 48/672 [00:51<11:29,  1.11s/it]"
     ]
    },
    {
     "name": "stdout",
     "output_type": "stream",
     "text": [
      "calling sliding on df of 1 rows\n",
      "calling sliding on df of 1 rows\n",
      "calling sliding on df of 1 rows\n",
      "calling sliding on df of 1 rows\n",
      "calling sliding on df of 1 rows\n",
      "calling sliding on df of 1 rows\n",
      "calling sliding on df of 1 rows\n"
     ]
    },
    {
     "name": "stderr",
     "output_type": "stream",
     "text": [
      "  7%|▋         | 49/672 [00:52<11:10,  1.08s/it]"
     ]
    },
    {
     "name": "stdout",
     "output_type": "stream",
     "text": [
      "calling sliding on df of 1 rows\n",
      "calling sliding on df of 1 rows\n",
      "calling sliding on df of 1 rows\n",
      "calling sliding on df of 1 rows\n",
      "calling sliding on df of 1 rows\n"
     ]
    },
    {
     "name": "stderr",
     "output_type": "stream",
     "text": [
      "  8%|▊         | 51/672 [00:54<10:49,  1.05s/it]"
     ]
    },
    {
     "name": "stdout",
     "output_type": "stream",
     "text": [
      "calling sliding on df of 1 rows\n",
      "calling sliding on df of 1 rows\n",
      "calling sliding on df of 1 rows\n"
     ]
    },
    {
     "name": "stderr",
     "output_type": "stream",
     "text": [
      "  8%|▊         | 52/672 [00:55<10:59,  1.06s/it]"
     ]
    },
    {
     "name": "stdout",
     "output_type": "stream",
     "text": [
      "calling sliding on df of 1 rows\n"
     ]
    },
    {
     "name": "stderr",
     "output_type": "stream",
     "text": [
      "  8%|▊         | 53/672 [00:56<10:45,  1.04s/it]"
     ]
    },
    {
     "name": "stdout",
     "output_type": "stream",
     "text": [
      "calling sliding on df of 1 rows\n"
     ]
    },
    {
     "name": "stderr",
     "output_type": "stream",
     "text": [
      "  8%|▊         | 54/672 [00:57<10:57,  1.06s/it]"
     ]
    },
    {
     "name": "stdout",
     "output_type": "stream",
     "text": [
      "calling sliding on df of 1 rows\n",
      "calling sliding on df of 1 rows\n",
      "calling sliding on df of 1 rows\n",
      "calling sliding on df of 1 rows\n",
      "calling sliding on df of 1 rows\n",
      "calling sliding on df of 1 rows\n",
      "calling sliding on df of 1 rows\n",
      "calling sliding on df of 1 rows\n",
      "calling sliding on df of 1 rows\n",
      "calling sliding on df of 1 rows\n",
      "calling sliding on df of 1 rows\n",
      "calling sliding on df of 1 rows\n",
      "calling sliding on df of 1 rows\n"
     ]
    },
    {
     "name": "stderr",
     "output_type": "stream",
     "text": [
      "  8%|▊         | 55/672 [00:59<11:18,  1.10s/it]"
     ]
    },
    {
     "name": "stdout",
     "output_type": "stream",
     "text": [
      "calling sliding on df of 1 rows\n",
      "calling sliding on df of 1 rows\n",
      "calling sliding on df of 1 rows\n",
      "calling sliding on df of 1 rows\n",
      "calling sliding on df of 1 rows\n",
      "calling sliding on df of 1 rows\n"
     ]
    },
    {
     "name": "stderr",
     "output_type": "stream",
     "text": [
      "  8%|▊         | 56/672 [01:00<11:02,  1.08s/it]"
     ]
    },
    {
     "name": "stdout",
     "output_type": "stream",
     "text": [
      "calling sliding on df of 1 rows\n",
      "calling sliding on df of 1 rows\n",
      "calling sliding on df of 1 rows\n",
      "calling sliding on df of 1 rows\n",
      "calling sliding on df of 1 rows\n",
      "calling sliding on df of 1 rows\n",
      "calling sliding on df of 1 rows\n",
      "calling sliding on df of 1 rows\n",
      "calling sliding on df of 1 rows\n",
      "calling sliding on df of 1 rows\n",
      "calling sliding on df of 1 rows\n"
     ]
    },
    {
     "name": "stderr",
     "output_type": "stream",
     "text": [
      "  8%|▊         | 57/672 [01:01<11:01,  1.08s/it]"
     ]
    },
    {
     "name": "stdout",
     "output_type": "stream",
     "text": [
      "calling sliding on df of 1 rows\n",
      "calling sliding on df of 1 rows\n",
      "calling sliding on df of 1 rows\n",
      "calling sliding on df of 1 rows\n",
      "calling sliding on df of 1 rows\n",
      "calling sliding on df of 1 rows\n",
      "calling sliding on df of 1 rows\n",
      "calling sliding on df of 1 rows\n",
      "calling sliding on df of 1 rows\n",
      "calling sliding on df of 1 rows\n",
      "calling sliding on df of 1 rows\n",
      "calling sliding on df of 1 rows\n",
      "calling sliding on df of 1 rows\n",
      "calling sliding on df of 1 rows\n",
      "calling sliding on df of 1 rows\n",
      "calling sliding on df of 1 rows\n"
     ]
    },
    {
     "name": "stderr",
     "output_type": "stream",
     "text": [
      "  9%|▊         | 58/672 [01:02<10:47,  1.05s/it]"
     ]
    },
    {
     "name": "stdout",
     "output_type": "stream",
     "text": [
      "calling sliding on df of 1 rows\n",
      "calling sliding on df of 1 rows\n",
      "calling sliding on df of 1 rows\n",
      "calling sliding on df of 1 rows\n",
      "calling sliding on df of 1 rows\n",
      "calling sliding on df of 1 rows\n",
      "calling sliding on df of 1 rows\n",
      "calling sliding on df of 1 rows\n",
      "calling sliding on df of 1 rows\n"
     ]
    },
    {
     "name": "stderr",
     "output_type": "stream",
     "text": [
      "  9%|▉         | 59/672 [01:03<10:55,  1.07s/it]"
     ]
    },
    {
     "name": "stdout",
     "output_type": "stream",
     "text": [
      "calling sliding on df of 1 rows\n",
      "calling sliding on df of 1 rows\n",
      "calling sliding on df of 1 rows\n",
      "calling sliding on df of 1 rows\n",
      "calling sliding on df of 1 rows\n",
      "calling sliding on df of 1 rows\n",
      "calling sliding on df of 1 rows\n"
     ]
    },
    {
     "name": "stderr",
     "output_type": "stream",
     "text": [
      "  9%|▉         | 60/672 [01:04<10:52,  1.07s/it]"
     ]
    },
    {
     "name": "stdout",
     "output_type": "stream",
     "text": [
      "calling sliding on df of 1 rows\n",
      "calling sliding on df of 1 rows\n",
      "calling sliding on df of 1 rows\n",
      "calling sliding on df of 1 rows\n",
      "calling sliding on df of 1 rows\n",
      "calling sliding on df of 1 rows\n",
      "calling sliding on df of 1 rows\n",
      "calling sliding on df of 1 rows\n",
      "calling sliding on df of 1 rows\n",
      "calling sliding on df of 1 rows\n",
      "calling sliding on df of 1 rows\n",
      "calling sliding on df of 1 rows\n",
      "calling sliding on df of 1 rows\n",
      "calling sliding on df of 1 rows\n",
      "calling sliding on df of 1 rows\n",
      "calling sliding on df of 1 rows\n",
      "calling sliding on df of 1 rows\n",
      "calling sliding on df of 1 rows\n",
      "calling sliding on df of 1 rows\n",
      "calling sliding on df of 1 rows\n",
      "calling sliding on df of 1 rows\n",
      "calling sliding on df of 1 rows\n",
      "calling sliding on df of 1 rows\n",
      "calling sliding on df of 1 rows\n",
      "calling sliding on df of 1 rows\n",
      "calling sliding on df of 1 rows\n",
      "calling sliding on df of 1 rows\n",
      "calling sliding on df of 1 rows\n",
      "calling sliding on df of 1 rows\n",
      "calling sliding on df of 1 rows\n",
      "calling sliding on df of 1 rows\n",
      "calling sliding on df of 1 rows\n",
      "calling sliding on df of 1 rows\n"
     ]
    },
    {
     "name": "stderr",
     "output_type": "stream",
     "text": [
      "  9%|▉         | 61/672 [01:05<11:06,  1.09s/it]"
     ]
    },
    {
     "name": "stdout",
     "output_type": "stream",
     "text": [
      "calling sliding on df of 1 rows\n",
      "calling sliding on df of 1 rows\n",
      "calling sliding on df of 1 rows\n",
      "calling sliding on df of 1 rows\n",
      "calling sliding on df of 1 rows\n",
      "calling sliding on df of 1 rows\n",
      "calling sliding on df of 1 rows\n",
      "calling sliding on df of 1 rows\n",
      "calling sliding on df of 1 rows\n",
      "calling sliding on df of 1 rows\n",
      "calling sliding on df of 1 rows\n",
      "calling sliding on df of 1 rows\n",
      "calling sliding on df of 1 rows\n",
      "calling sliding on df of 1 rows\n",
      "calling sliding on df of 1 rows\n",
      "calling sliding on df of 1 rows\n",
      "calling sliding on df of 1 rows\n",
      "calling sliding on df of 1 rows\n",
      "calling sliding on df of 1 rows\n",
      "calling sliding on df of 1 rows\n",
      "calling sliding on df of 1 rows\n",
      "calling sliding on df of 1 rows\n",
      "calling sliding on df of 1 rows\n",
      "calling sliding on df of 1 rows\n",
      "calling sliding on df of 1 rows\n",
      "calling sliding on df of 1 rows\n",
      "calling sliding on df of 1 rows\n",
      "calling sliding on df of 1 rows\n",
      "calling sliding on df of 1 rows\n",
      "calling sliding on df of 1 rows\n",
      "calling sliding on df of 1 rows\n"
     ]
    },
    {
     "name": "stderr",
     "output_type": "stream",
     "text": [
      "  9%|▉         | 62/672 [01:06<11:13,  1.10s/it]"
     ]
    },
    {
     "name": "stdout",
     "output_type": "stream",
     "text": [
      "calling sliding on df of 1 rows\n",
      "calling sliding on df of 1 rows\n",
      "calling sliding on df of 1 rows\n",
      "calling sliding on df of 1 rows\n",
      "calling sliding on df of 1 rows\n",
      "calling sliding on df of 1 rows\n",
      "calling sliding on df of 1 rows\n",
      "calling sliding on df of 1 rows\n"
     ]
    },
    {
     "name": "stderr",
     "output_type": "stream",
     "text": [
      "  9%|▉         | 63/672 [01:07<11:09,  1.10s/it]"
     ]
    },
    {
     "name": "stdout",
     "output_type": "stream",
     "text": [
      "calling sliding on df of 1 rows\n",
      "calling sliding on df of 1 rows\n",
      "calling sliding on df of 1 rows\n",
      "calling sliding on df of 1 rows\n",
      "calling sliding on df of 1 rows\n",
      "calling sliding on df of 1 rows\n",
      "calling sliding on df of 1 rows\n",
      "calling sliding on df of 1 rows\n",
      "calling sliding on df of 1 rows\n"
     ]
    },
    {
     "name": "stderr",
     "output_type": "stream",
     "text": [
      " 10%|▉         | 64/672 [01:08<10:44,  1.06s/it]"
     ]
    },
    {
     "name": "stdout",
     "output_type": "stream",
     "text": [
      "calling sliding on df of 1 rows\n"
     ]
    },
    {
     "name": "stderr",
     "output_type": "stream",
     "text": [
      " 10%|▉         | 65/672 [01:09<10:37,  1.05s/it]"
     ]
    },
    {
     "name": "stdout",
     "output_type": "stream",
     "text": [
      "calling sliding on df of 1 rows\n",
      "calling sliding on df of 1 rows\n",
      "calling sliding on df of 1 rows\n",
      "calling sliding on df of 1 rows\n",
      "calling sliding on df of 1 rows\n",
      "calling sliding on df of 1 rows\n"
     ]
    },
    {
     "name": "stderr",
     "output_type": "stream",
     "text": [
      " 10%|▉         | 67/672 [01:11<10:12,  1.01s/it]"
     ]
    },
    {
     "name": "stdout",
     "output_type": "stream",
     "text": [
      "calling sliding on df of 1 rows\n"
     ]
    },
    {
     "name": "stderr",
     "output_type": "stream",
     "text": [
      " 10%|█         | 68/672 [01:12<10:17,  1.02s/it]"
     ]
    },
    {
     "name": "stdout",
     "output_type": "stream",
     "text": [
      "calling sliding on df of 1 rows\n",
      "calling sliding on df of 1 rows\n"
     ]
    },
    {
     "name": "stderr",
     "output_type": "stream",
     "text": [
      " 10%|█         | 69/672 [01:13<10:00,  1.00it/s]"
     ]
    },
    {
     "name": "stdout",
     "output_type": "stream",
     "text": [
      "calling sliding on df of 1 rows\n",
      "calling sliding on df of 1 rows\n",
      "calling sliding on df of 1 rows\n",
      "calling sliding on df of 1 rows\n",
      "calling sliding on df of 1 rows\n"
     ]
    },
    {
     "name": "stderr",
     "output_type": "stream",
     "text": [
      " 10%|█         | 70/672 [01:14<10:11,  1.02s/it]"
     ]
    },
    {
     "name": "stdout",
     "output_type": "stream",
     "text": [
      "calling sliding on df of 1 rows\n",
      "calling sliding on df of 1 rows\n",
      "calling sliding on df of 1 rows\n",
      "calling sliding on df of 1 rows\n",
      "calling sliding on df of 1 rows\n",
      "calling sliding on df of 1 rows\n",
      "calling sliding on df of 1 rows\n",
      "calling sliding on df of 1 rows\n",
      "calling sliding on df of 1 rows\n",
      "calling sliding on df of 1 rows\n",
      "calling sliding on df of 1 rows\n"
     ]
    },
    {
     "name": "stderr",
     "output_type": "stream",
     "text": [
      " 11%|█         | 71/672 [01:15<10:03,  1.00s/it]"
     ]
    },
    {
     "name": "stdout",
     "output_type": "stream",
     "text": [
      "calling sliding on df of 1 rows\n",
      "calling sliding on df of 1 rows\n",
      "calling sliding on df of 1 rows\n",
      "calling sliding on df of 1 rows\n",
      "calling sliding on df of 1 rows\n"
     ]
    },
    {
     "name": "stderr",
     "output_type": "stream",
     "text": [
      " 11%|█         | 72/672 [01:17<10:52,  1.09s/it]"
     ]
    },
    {
     "name": "stdout",
     "output_type": "stream",
     "text": [
      "calling sliding on df of 1 rows\n",
      "calling sliding on df of 1 rows\n",
      "calling sliding on df of 1 rows\n",
      "calling sliding on df of 1 rows\n"
     ]
    },
    {
     "name": "stderr",
     "output_type": "stream",
     "text": [
      " 11%|█         | 73/672 [01:18<10:40,  1.07s/it]"
     ]
    },
    {
     "name": "stdout",
     "output_type": "stream",
     "text": [
      "calling sliding on df of 1 rows\n",
      "calling sliding on df of 1 rows\n",
      "calling sliding on df of 1 rows\n",
      "calling sliding on df of 1 rows\n",
      "calling sliding on df of 1 rows\n"
     ]
    },
    {
     "name": "stderr",
     "output_type": "stream",
     "text": [
      " 11%|█         | 74/672 [01:19<10:12,  1.02s/it]"
     ]
    },
    {
     "name": "stdout",
     "output_type": "stream",
     "text": [
      "calling sliding on df of 1 rows\n",
      "calling sliding on df of 1 rows\n"
     ]
    },
    {
     "name": "stderr",
     "output_type": "stream",
     "text": [
      " 11%|█         | 75/672 [01:19<09:49,  1.01it/s]"
     ]
    },
    {
     "name": "stdout",
     "output_type": "stream",
     "text": [
      "calling sliding on df of 1 rows\n",
      "calling sliding on df of 1 rows\n",
      "calling sliding on df of 1 rows\n",
      "calling sliding on df of 1 rows\n",
      "calling sliding on df of 1 rows\n",
      "calling sliding on df of 1 rows\n",
      "calling sliding on df of 1 rows\n",
      "calling sliding on df of 1 rows\n",
      "calling sliding on df of 1 rows\n",
      "calling sliding on df of 1 rows\n",
      "calling sliding on df of 1 rows\n",
      "calling sliding on df of 1 rows\n",
      "calling sliding on df of 1 rows\n",
      "calling sliding on df of 1 rows\n",
      "calling sliding on df of 1 rows\n",
      "calling sliding on df of 1 rows\n",
      "calling sliding on df of 1 rows\n",
      "calling sliding on df of 1 rows\n",
      "calling sliding on df of 1 rows\n"
     ]
    },
    {
     "name": "stderr",
     "output_type": "stream",
     "text": [
      " 11%|█▏        | 76/672 [01:21<10:04,  1.01s/it]"
     ]
    },
    {
     "name": "stdout",
     "output_type": "stream",
     "text": [
      "calling sliding on df of 1 rows\n",
      "calling sliding on df of 1 rows\n",
      "calling sliding on df of 1 rows\n",
      "calling sliding on df of 1 rows\n"
     ]
    },
    {
     "name": "stderr",
     "output_type": "stream",
     "text": [
      " 11%|█▏        | 77/672 [01:21<09:55,  1.00s/it]"
     ]
    },
    {
     "name": "stdout",
     "output_type": "stream",
     "text": [
      "calling sliding on df of 1 rows\n",
      "calling sliding on df of 1 rows\n",
      "calling sliding on df of 1 rows\n",
      "calling sliding on df of 1 rows\n",
      "calling sliding on df of 1 rows\n",
      "calling sliding on df of 1 rows\n",
      "calling sliding on df of 1 rows\n",
      "calling sliding on df of 1 rows\n",
      "calling sliding on df of 1 rows\n",
      "calling sliding on df of 1 rows\n",
      "calling sliding on df of 1 rows\n",
      "calling sliding on df of 1 rows\n",
      "calling sliding on df of 1 rows\n",
      "calling sliding on df of 1 rows\n",
      "calling sliding on df of 1 rows\n",
      "calling sliding on df of 1 rows\n",
      "calling sliding on df of 1 rows\n"
     ]
    },
    {
     "name": "stderr",
     "output_type": "stream",
     "text": [
      " 12%|█▏        | 78/672 [01:22<09:52,  1.00it/s]"
     ]
    },
    {
     "name": "stdout",
     "output_type": "stream",
     "text": [
      "calling sliding on df of 1 rows\n",
      "calling sliding on df of 1 rows\n",
      "calling sliding on df of 1 rows\n",
      "calling sliding on df of 1 rows\n",
      "calling sliding on df of 1 rows\n",
      "calling sliding on df of 1 rows\n"
     ]
    },
    {
     "name": "stderr",
     "output_type": "stream",
     "text": [
      " 12%|█▏        | 79/672 [01:23<09:23,  1.05it/s]"
     ]
    },
    {
     "name": "stdout",
     "output_type": "stream",
     "text": [
      "calling sliding on df of 1 rows\n",
      "calling sliding on df of 1 rows\n",
      "calling sliding on df of 1 rows\n",
      "calling sliding on df of 1 rows\n",
      "calling sliding on df of 1 rows\n",
      "calling sliding on df of 1 rows\n",
      "calling sliding on df of 1 rows\n",
      "calling sliding on df of 1 rows\n",
      "calling sliding on df of 1 rows\n",
      "calling sliding on df of 1 rows\n",
      "calling sliding on df of 1 rows\n",
      "calling sliding on df of 1 rows\n"
     ]
    },
    {
     "name": "stderr",
     "output_type": "stream",
     "text": [
      " 12%|█▏        | 80/672 [01:24<09:12,  1.07it/s]"
     ]
    },
    {
     "name": "stdout",
     "output_type": "stream",
     "text": [
      "calling sliding on df of 1 rows\n",
      "calling sliding on df of 1 rows\n",
      "calling sliding on df of 1 rows\n",
      "calling sliding on df of 1 rows\n",
      "calling sliding on df of 1 rows\n",
      "calling sliding on df of 1 rows\n",
      "calling sliding on df of 1 rows\n",
      "calling sliding on df of 1 rows\n",
      "calling sliding on df of 1 rows\n",
      "calling sliding on df of 1 rows\n",
      "calling sliding on df of 1 rows\n",
      "calling sliding on df of 1 rows\n",
      "calling sliding on df of 1 rows\n",
      "calling sliding on df of 1 rows\n",
      "calling sliding on df of 1 rows\n"
     ]
    },
    {
     "name": "stderr",
     "output_type": "stream",
     "text": [
      " 12%|█▏        | 81/672 [01:25<09:27,  1.04it/s]"
     ]
    },
    {
     "name": "stdout",
     "output_type": "stream",
     "text": [
      "calling sliding on df of 1 rows\n",
      "calling sliding on df of 1 rows\n",
      "calling sliding on df of 1 rows\n",
      "calling sliding on df of 1 rows\n",
      "calling sliding on df of 1 rows\n",
      "calling sliding on df of 1 rows\n",
      "calling sliding on df of 1 rows\n",
      "calling sliding on df of 1 rows\n",
      "calling sliding on df of 1 rows\n",
      "calling sliding on df of 1 rows\n",
      "calling sliding on df of 1 rows\n",
      "calling sliding on df of 1 rows\n",
      "calling sliding on df of 1 rows\n"
     ]
    },
    {
     "name": "stderr",
     "output_type": "stream",
     "text": [
      " 12%|█▏        | 82/672 [01:26<09:30,  1.03it/s]"
     ]
    },
    {
     "name": "stdout",
     "output_type": "stream",
     "text": [
      "calling sliding on df of 1 rows\n",
      "calling sliding on df of 1 rows\n",
      "calling sliding on df of 1 rows\n",
      "calling sliding on df of 1 rows\n",
      "calling sliding on df of 1 rows\n",
      "calling sliding on df of 1 rows\n",
      "calling sliding on df of 1 rows\n",
      "calling sliding on df of 1 rows\n",
      "calling sliding on df of 1 rows\n"
     ]
    },
    {
     "name": "stderr",
     "output_type": "stream",
     "text": [
      " 12%|█▏        | 83/672 [01:27<09:39,  1.02it/s]"
     ]
    },
    {
     "name": "stdout",
     "output_type": "stream",
     "text": [
      "calling sliding on df of 1 rows\n",
      "calling sliding on df of 1 rows\n",
      "calling sliding on df of 1 rows\n",
      "calling sliding on df of 1 rows\n",
      "calling sliding on df of 1 rows\n",
      "calling sliding on df of 1 rows\n",
      "calling sliding on df of 1 rows\n"
     ]
    },
    {
     "name": "stderr",
     "output_type": "stream",
     "text": [
      " 12%|█▎        | 84/672 [01:28<09:33,  1.03it/s]"
     ]
    },
    {
     "name": "stdout",
     "output_type": "stream",
     "text": [
      "calling sliding on df of 1 rows\n",
      "calling sliding on df of 1 rows\n",
      "calling sliding on df of 1 rows\n",
      "calling sliding on df of 1 rows\n",
      "calling sliding on df of 1 rows\n",
      "calling sliding on df of 1 rows\n"
     ]
    },
    {
     "name": "stderr",
     "output_type": "stream",
     "text": [
      " 13%|█▎        | 85/672 [01:29<09:24,  1.04it/s]"
     ]
    },
    {
     "name": "stdout",
     "output_type": "stream",
     "text": [
      "calling sliding on df of 1 rows\n",
      "calling sliding on df of 1 rows\n",
      "calling sliding on df of 1 rows\n",
      "calling sliding on df of 1 rows\n",
      "calling sliding on df of 1 rows\n",
      "calling sliding on df of 1 rows\n"
     ]
    },
    {
     "name": "stderr",
     "output_type": "stream",
     "text": [
      " 13%|█▎        | 86/672 [01:30<09:25,  1.04it/s]"
     ]
    },
    {
     "name": "stdout",
     "output_type": "stream",
     "text": [
      "calling sliding on df of 1 rows\n",
      "calling sliding on df of 1 rows\n",
      "calling sliding on df of 1 rows\n",
      "calling sliding on df of 1 rows\n",
      "calling sliding on df of 1 rows\n",
      "calling sliding on df of 1 rows\n",
      "calling sliding on df of 1 rows\n",
      "calling sliding on df of 1 rows\n",
      "calling sliding on df of 1 rows\n"
     ]
    },
    {
     "name": "stderr",
     "output_type": "stream",
     "text": [
      " 13%|█▎        | 87/672 [01:31<09:28,  1.03it/s]"
     ]
    },
    {
     "name": "stdout",
     "output_type": "stream",
     "text": [
      "calling sliding on df of 1 rows\n",
      "calling sliding on df of 1 rows\n",
      "calling sliding on df of 1 rows\n",
      "calling sliding on df of 1 rows\n",
      "calling sliding on df of 1 rows\n",
      "calling sliding on df of 1 rows\n",
      "calling sliding on df of 1 rows\n",
      "calling sliding on df of 1 rows\n",
      "calling sliding on df of 1 rows\n",
      "calling sliding on df of 1 rows\n",
      "calling sliding on df of 1 rows\n",
      "calling sliding on df of 1 rows\n"
     ]
    },
    {
     "name": "stderr",
     "output_type": "stream",
     "text": [
      " 13%|█▎        | 89/672 [01:33<09:14,  1.05it/s]"
     ]
    },
    {
     "name": "stdout",
     "output_type": "stream",
     "text": [
      "calling sliding on df of 1 rows\n",
      "calling sliding on df of 1 rows\n",
      "calling sliding on df of 1 rows\n",
      "calling sliding on df of 1 rows\n",
      "calling sliding on df of 1 rows\n",
      "calling sliding on df of 1 rows\n",
      "calling sliding on df of 1 rows\n"
     ]
    },
    {
     "name": "stderr",
     "output_type": "stream",
     "text": [
      " 13%|█▎        | 90/672 [01:34<08:57,  1.08it/s]"
     ]
    },
    {
     "name": "stdout",
     "output_type": "stream",
     "text": [
      "calling sliding on df of 1 rows\n",
      "calling sliding on df of 1 rows\n",
      "calling sliding on df of 1 rows\n",
      "calling sliding on df of 1 rows\n",
      "calling sliding on df of 1 rows\n",
      "calling sliding on df of 1 rows\n",
      "calling sliding on df of 1 rows\n",
      "calling sliding on df of 1 rows\n",
      "calling sliding on df of 1 rows\n",
      "calling sliding on df of 1 rows\n",
      "calling sliding on df of 1 rows\n",
      "calling sliding on df of 1 rows\n",
      "calling sliding on df of 1 rows\n",
      "calling sliding on df of 1 rows\n",
      "calling sliding on df of 1 rows\n",
      "calling sliding on df of 1 rows\n",
      "calling sliding on df of 1 rows\n",
      "calling sliding on df of 1 rows\n"
     ]
    },
    {
     "name": "stderr",
     "output_type": "stream",
     "text": [
      " 14%|█▎        | 91/672 [01:35<09:08,  1.06it/s]"
     ]
    },
    {
     "name": "stdout",
     "output_type": "stream",
     "text": [
      "calling sliding on df of 1 rows\n",
      "calling sliding on df of 1 rows\n",
      "calling sliding on df of 1 rows\n",
      "calling sliding on df of 1 rows\n",
      "calling sliding on df of 1 rows\n",
      "calling sliding on df of 1 rows\n",
      "calling sliding on df of 1 rows\n",
      "calling sliding on df of 1 rows\n"
     ]
    },
    {
     "name": "stderr",
     "output_type": "stream",
     "text": [
      " 14%|█▎        | 92/672 [01:36<09:08,  1.06it/s]"
     ]
    },
    {
     "name": "stdout",
     "output_type": "stream",
     "text": [
      "calling sliding on df of 1 rows\n",
      "calling sliding on df of 1 rows\n",
      "calling sliding on df of 1 rows\n"
     ]
    },
    {
     "name": "stderr",
     "output_type": "stream",
     "text": [
      " 14%|█▍        | 93/672 [01:37<09:18,  1.04it/s]"
     ]
    },
    {
     "name": "stdout",
     "output_type": "stream",
     "text": [
      "calling sliding on df of 1 rows\n",
      "calling sliding on df of 1 rows\n",
      "calling sliding on df of 1 rows\n",
      "calling sliding on df of 1 rows\n",
      "calling sliding on df of 1 rows\n",
      "calling sliding on df of 1 rows\n",
      "calling sliding on df of 1 rows\n",
      "calling sliding on df of 1 rows\n",
      "calling sliding on df of 1 rows\n",
      "calling sliding on df of 1 rows\n",
      "calling sliding on df of 1 rows\n"
     ]
    },
    {
     "name": "stderr",
     "output_type": "stream",
     "text": [
      " 14%|█▍        | 94/672 [01:38<09:26,  1.02it/s]"
     ]
    },
    {
     "name": "stdout",
     "output_type": "stream",
     "text": [
      "calling sliding on df of 1 rows\n",
      "calling sliding on df of 1 rows\n",
      "calling sliding on df of 1 rows\n",
      "calling sliding on df of 1 rows\n",
      "calling sliding on df of 1 rows\n",
      "calling sliding on df of 1 rows\n",
      "calling sliding on df of 1 rows\n",
      "calling sliding on df of 1 rows\n"
     ]
    },
    {
     "name": "stderr",
     "output_type": "stream",
     "text": [
      " 14%|█▍        | 95/672 [01:39<09:30,  1.01it/s]"
     ]
    },
    {
     "name": "stdout",
     "output_type": "stream",
     "text": [
      "calling sliding on df of 1 rows\n",
      "calling sliding on df of 1 rows\n",
      "calling sliding on df of 1 rows\n",
      "calling sliding on df of 1 rows\n",
      "calling sliding on df of 1 rows\n"
     ]
    },
    {
     "name": "stderr",
     "output_type": "stream",
     "text": [
      " 15%|█▍        | 99/672 [01:43<09:27,  1.01it/s]"
     ]
    },
    {
     "name": "stdout",
     "output_type": "stream",
     "text": [
      "calling sliding on df of 1 rows\n",
      "calling sliding on df of 1 rows\n",
      "calling sliding on df of 1 rows\n",
      "calling sliding on df of 1 rows\n",
      "calling sliding on df of 1 rows\n",
      "calling sliding on df of 1 rows\n",
      "calling sliding on df of 1 rows\n",
      "calling sliding on df of 1 rows\n"
     ]
    },
    {
     "name": "stderr",
     "output_type": "stream",
     "text": [
      " 15%|█▍        | 100/672 [01:44<09:35,  1.01s/it]"
     ]
    },
    {
     "name": "stdout",
     "output_type": "stream",
     "text": [
      "calling sliding on df of 1 rows\n",
      "calling sliding on df of 1 rows\n",
      "calling sliding on df of 1 rows\n",
      "calling sliding on df of 1 rows\n",
      "calling sliding on df of 1 rows\n",
      "calling sliding on df of 1 rows\n",
      "calling sliding on df of 1 rows\n",
      "calling sliding on df of 1 rows\n",
      "calling sliding on df of 1 rows\n",
      "calling sliding on df of 1 rows\n",
      "calling sliding on df of 1 rows\n"
     ]
    },
    {
     "name": "stderr",
     "output_type": "stream",
     "text": [
      " 15%|█▌        | 101/672 [01:45<09:37,  1.01s/it]"
     ]
    },
    {
     "name": "stdout",
     "output_type": "stream",
     "text": [
      "calling sliding on df of 1 rows\n",
      "calling sliding on df of 1 rows\n",
      "calling sliding on df of 1 rows\n",
      "calling sliding on df of 1 rows\n",
      "calling sliding on df of 1 rows\n",
      "calling sliding on df of 1 rows\n",
      "calling sliding on df of 1 rows\n",
      "calling sliding on df of 1 rows\n",
      "calling sliding on df of 1 rows\n",
      "calling sliding on df of 1 rows\n",
      "calling sliding on df of 1 rows\n",
      "calling sliding on df of 1 rows\n",
      "calling sliding on df of 1 rows\n",
      "calling sliding on df of 1 rows\n",
      "calling sliding on df of 1 rows\n",
      "calling sliding on df of 1 rows\n",
      "calling sliding on df of 1 rows\n",
      "calling sliding on df of 1 rows\n",
      "calling sliding on df of 1 rows\n",
      "calling sliding on df of 1 rows\n",
      "calling sliding on df of 1 rows\n"
     ]
    },
    {
     "name": "stderr",
     "output_type": "stream",
     "text": [
      " 15%|█▌        | 102/672 [01:46<09:43,  1.02s/it]"
     ]
    },
    {
     "name": "stdout",
     "output_type": "stream",
     "text": [
      "calling sliding on df of 1 rows\n",
      "calling sliding on df of 1 rows\n",
      "calling sliding on df of 1 rows\n",
      "calling sliding on df of 1 rows\n",
      "calling sliding on df of 1 rows\n",
      "calling sliding on df of 1 rows\n",
      "calling sliding on df of 1 rows\n",
      "calling sliding on df of 1 rows\n",
      "calling sliding on df of 1 rows\n",
      "calling sliding on df of 1 rows\n",
      "calling sliding on df of 1 rows\n",
      "calling sliding on df of 1 rows\n",
      "calling sliding on df of 1 rows\n",
      "calling sliding on df of 1 rows\n",
      "calling sliding on df of 1 rows\n",
      "calling sliding on df of 1 rows\n",
      "calling sliding on df of 1 rows\n",
      "calling sliding on df of 1 rows\n",
      "calling sliding on df of 1 rows\n",
      "calling sliding on df of 1 rows\n",
      "calling sliding on df of 1 rows\n",
      "calling sliding on df of 1 rows\n",
      "calling sliding on df of 1 rows\n",
      "calling sliding on df of 1 rows\n",
      "calling sliding on df of 1 rows\n",
      "calling sliding on df of 1 rows\n"
     ]
    },
    {
     "name": "stderr",
     "output_type": "stream",
     "text": [
      " 15%|█▌        | 103/672 [01:47<09:24,  1.01it/s]"
     ]
    },
    {
     "name": "stdout",
     "output_type": "stream",
     "text": [
      "calling sliding on df of 1 rows\n",
      "calling sliding on df of 1 rows\n",
      "calling sliding on df of 1 rows\n",
      "calling sliding on df of 1 rows\n",
      "calling sliding on df of 1 rows\n",
      "calling sliding on df of 1 rows\n",
      "calling sliding on df of 1 rows\n"
     ]
    },
    {
     "name": "stderr",
     "output_type": "stream",
     "text": [
      " 15%|█▌        | 104/672 [01:48<09:50,  1.04s/it]"
     ]
    },
    {
     "name": "stdout",
     "output_type": "stream",
     "text": [
      "calling sliding on df of 1 rows\n",
      "calling sliding on df of 1 rows\n",
      "calling sliding on df of 1 rows\n",
      "calling sliding on df of 1 rows\n",
      "calling sliding on df of 1 rows\n"
     ]
    },
    {
     "name": "stderr",
     "output_type": "stream",
     "text": [
      " 16%|█▌        | 105/672 [01:49<09:46,  1.03s/it]"
     ]
    },
    {
     "name": "stdout",
     "output_type": "stream",
     "text": [
      "calling sliding on df of 1 rows\n",
      "calling sliding on df of 1 rows\n",
      "calling sliding on df of 1 rows\n",
      "calling sliding on df of 1 rows\n",
      "calling sliding on df of 1 rows\n"
     ]
    },
    {
     "name": "stderr",
     "output_type": "stream",
     "text": [
      " 16%|█▌        | 107/672 [01:51<09:49,  1.04s/it]"
     ]
    },
    {
     "name": "stdout",
     "output_type": "stream",
     "text": [
      "calling sliding on df of 1 rows\n",
      "calling sliding on df of 1 rows\n",
      "calling sliding on df of 1 rows\n",
      "calling sliding on df of 1 rows\n",
      "calling sliding on df of 1 rows\n",
      "calling sliding on df of 1 rows\n",
      "calling sliding on df of 1 rows\n",
      "calling sliding on df of 1 rows\n",
      "calling sliding on df of 1 rows\n",
      "calling sliding on df of 1 rows\n",
      "calling sliding on df of 1 rows\n",
      "calling sliding on df of 1 rows\n",
      "calling sliding on df of 1 rows\n",
      "calling sliding on df of 1 rows\n"
     ]
    },
    {
     "name": "stderr",
     "output_type": "stream",
     "text": [
      " 16%|█▌        | 108/672 [01:52<09:58,  1.06s/it]"
     ]
    },
    {
     "name": "stdout",
     "output_type": "stream",
     "text": [
      "calling sliding on df of 1 rows\n"
     ]
    },
    {
     "name": "stderr",
     "output_type": "stream",
     "text": [
      " 16%|█▌        | 109/672 [01:53<09:56,  1.06s/it]"
     ]
    },
    {
     "name": "stdout",
     "output_type": "stream",
     "text": [
      "calling sliding on df of 1 rows\n",
      "calling sliding on df of 1 rows\n"
     ]
    },
    {
     "name": "stderr",
     "output_type": "stream",
     "text": [
      " 16%|█▋        | 110/672 [01:54<09:50,  1.05s/it]"
     ]
    },
    {
     "name": "stdout",
     "output_type": "stream",
     "text": [
      "calling sliding on df of 1 rows\n",
      "calling sliding on df of 1 rows\n",
      "calling sliding on df of 1 rows\n",
      "calling sliding on df of 1 rows\n",
      "calling sliding on df of 1 rows\n",
      "calling sliding on df of 1 rows\n",
      "calling sliding on df of 1 rows\n",
      "calling sliding on df of 1 rows\n",
      "calling sliding on df of 1 rows\n"
     ]
    },
    {
     "name": "stderr",
     "output_type": "stream",
     "text": [
      " 17%|█▋        | 113/672 [01:57<09:22,  1.01s/it]"
     ]
    },
    {
     "name": "stdout",
     "output_type": "stream",
     "text": [
      "calling sliding on df of 1 rows\n",
      "calling sliding on df of 1 rows\n",
      "calling sliding on df of 1 rows\n"
     ]
    },
    {
     "name": "stderr",
     "output_type": "stream",
     "text": [
      " 17%|█▋        | 114/672 [01:58<09:19,  1.00s/it]"
     ]
    },
    {
     "name": "stdout",
     "output_type": "stream",
     "text": [
      "calling sliding on df of 1 rows\n",
      "calling sliding on df of 1 rows\n",
      "calling sliding on df of 1 rows\n",
      "calling sliding on df of 1 rows\n"
     ]
    },
    {
     "name": "stderr",
     "output_type": "stream",
     "text": [
      " 17%|█▋        | 115/672 [01:59<09:17,  1.00s/it]"
     ]
    },
    {
     "name": "stdout",
     "output_type": "stream",
     "text": [
      "calling sliding on df of 1 rows\n",
      "calling sliding on df of 1 rows\n",
      "calling sliding on df of 1 rows\n",
      "calling sliding on df of 1 rows\n"
     ]
    },
    {
     "name": "stderr",
     "output_type": "stream",
     "text": [
      " 17%|█▋        | 116/672 [02:00<09:17,  1.00s/it]"
     ]
    },
    {
     "name": "stdout",
     "output_type": "stream",
     "text": [
      "calling sliding on df of 1 rows\n",
      "calling sliding on df of 1 rows\n",
      "calling sliding on df of 1 rows\n",
      "calling sliding on df of 1 rows\n",
      "calling sliding on df of 1 rows\n",
      "calling sliding on df of 1 rows\n"
     ]
    },
    {
     "name": "stderr",
     "output_type": "stream",
     "text": [
      " 17%|█▋        | 117/672 [02:01<09:17,  1.00s/it]"
     ]
    },
    {
     "name": "stdout",
     "output_type": "stream",
     "text": [
      "calling sliding on df of 1 rows\n",
      "calling sliding on df of 1 rows\n",
      "calling sliding on df of 1 rows\n",
      "calling sliding on df of 1 rows\n"
     ]
    },
    {
     "name": "stderr",
     "output_type": "stream",
     "text": [
      " 18%|█▊        | 118/672 [02:02<08:52,  1.04it/s]"
     ]
    },
    {
     "name": "stdout",
     "output_type": "stream",
     "text": [
      "calling sliding on df of 1 rows\n",
      "calling sliding on df of 1 rows\n",
      "calling sliding on df of 1 rows\n",
      "calling sliding on df of 1 rows\n",
      "calling sliding on df of 1 rows\n",
      "calling sliding on df of 1 rows\n",
      "calling sliding on df of 1 rows\n",
      "calling sliding on df of 1 rows\n",
      "calling sliding on df of 1 rows\n",
      "calling sliding on df of 1 rows\n"
     ]
    },
    {
     "name": "stderr",
     "output_type": "stream",
     "text": [
      " 18%|█▊        | 119/672 [02:03<08:53,  1.04it/s]"
     ]
    },
    {
     "name": "stdout",
     "output_type": "stream",
     "text": [
      "calling sliding on df of 1 rows\n",
      "calling sliding on df of 1 rows\n",
      "calling sliding on df of 1 rows\n",
      "calling sliding on df of 1 rows\n",
      "calling sliding on df of 1 rows\n",
      "calling sliding on df of 1 rows\n"
     ]
    },
    {
     "name": "stderr",
     "output_type": "stream",
     "text": [
      " 18%|█▊        | 120/672 [02:04<09:03,  1.02it/s]"
     ]
    },
    {
     "name": "stdout",
     "output_type": "stream",
     "text": [
      "calling sliding on df of 1 rows\n",
      "calling sliding on df of 1 rows\n",
      "calling sliding on df of 1 rows\n",
      "calling sliding on df of 1 rows\n"
     ]
    },
    {
     "name": "stderr",
     "output_type": "stream",
     "text": [
      " 18%|█▊        | 121/672 [02:05<09:16,  1.01s/it]"
     ]
    },
    {
     "name": "stdout",
     "output_type": "stream",
     "text": [
      "calling sliding on df of 1 rows\n",
      "calling sliding on df of 1 rows\n",
      "calling sliding on df of 1 rows\n",
      "calling sliding on df of 1 rows\n",
      "calling sliding on df of 1 rows\n",
      "calling sliding on df of 1 rows\n",
      "calling sliding on df of 1 rows\n",
      "calling sliding on df of 1 rows\n"
     ]
    },
    {
     "name": "stderr",
     "output_type": "stream",
     "text": [
      " 18%|█▊        | 122/672 [02:06<08:58,  1.02it/s]"
     ]
    },
    {
     "name": "stdout",
     "output_type": "stream",
     "text": [
      "calling sliding on df of 1 rows\n",
      "calling sliding on df of 1 rows\n",
      "calling sliding on df of 1 rows\n",
      "calling sliding on df of 1 rows\n",
      "calling sliding on df of 1 rows\n",
      "calling sliding on df of 1 rows\n",
      "calling sliding on df of 1 rows\n",
      "calling sliding on df of 1 rows\n",
      "calling sliding on df of 1 rows\n"
     ]
    },
    {
     "name": "stderr",
     "output_type": "stream",
     "text": [
      " 18%|█▊        | 123/672 [02:07<09:05,  1.01it/s]"
     ]
    },
    {
     "name": "stdout",
     "output_type": "stream",
     "text": [
      "calling sliding on df of 1 rows\n",
      "calling sliding on df of 1 rows\n",
      "calling sliding on df of 1 rows\n",
      "calling sliding on df of 1 rows\n",
      "calling sliding on df of 1 rows\n",
      "calling sliding on df of 1 rows\n",
      "calling sliding on df of 1 rows\n",
      "calling sliding on df of 1 rows\n",
      "calling sliding on df of 1 rows\n",
      "calling sliding on df of 1 rows\n"
     ]
    },
    {
     "name": "stderr",
     "output_type": "stream",
     "text": [
      " 18%|█▊        | 124/672 [02:08<08:47,  1.04it/s]"
     ]
    },
    {
     "name": "stdout",
     "output_type": "stream",
     "text": [
      "calling sliding on df of 1 rows\n",
      "calling sliding on df of 1 rows\n",
      "calling sliding on df of 1 rows\n",
      "calling sliding on df of 1 rows\n",
      "calling sliding on df of 1 rows\n",
      "calling sliding on df of 1 rows\n",
      "calling sliding on df of 1 rows\n",
      "calling sliding on df of 1 rows\n",
      "calling sliding on df of 1 rows\n",
      "calling sliding on df of 1 rows\n"
     ]
    },
    {
     "name": "stderr",
     "output_type": "stream",
     "text": [
      " 19%|█▊        | 125/672 [02:09<09:02,  1.01it/s]"
     ]
    },
    {
     "name": "stdout",
     "output_type": "stream",
     "text": [
      "calling sliding on df of 1 rows\n",
      "calling sliding on df of 1 rows\n",
      "calling sliding on df of 1 rows\n",
      "calling sliding on df of 1 rows\n",
      "calling sliding on df of 1 rows\n",
      "calling sliding on df of 1 rows\n",
      "calling sliding on df of 1 rows\n",
      "calling sliding on df of 1 rows\n",
      "calling sliding on df of 1 rows\n"
     ]
    },
    {
     "name": "stderr",
     "output_type": "stream",
     "text": [
      " 19%|█▉        | 126/672 [02:10<08:47,  1.03it/s]"
     ]
    },
    {
     "name": "stdout",
     "output_type": "stream",
     "text": [
      "calling sliding on df of 1 rows\n",
      "calling sliding on df of 1 rows\n",
      "calling sliding on df of 1 rows\n",
      "calling sliding on df of 1 rows\n",
      "calling sliding on df of 1 rows\n",
      "calling sliding on df of 1 rows\n"
     ]
    },
    {
     "name": "stderr",
     "output_type": "stream",
     "text": [
      " 19%|█▉        | 127/672 [02:11<08:49,  1.03it/s]"
     ]
    },
    {
     "name": "stdout",
     "output_type": "stream",
     "text": [
      "calling sliding on df of 1 rows\n",
      "calling sliding on df of 1 rows\n",
      "calling sliding on df of 1 rows\n",
      "calling sliding on df of 1 rows\n",
      "calling sliding on df of 1 rows\n",
      "calling sliding on df of 1 rows\n",
      "calling sliding on df of 1 rows\n",
      "calling sliding on df of 1 rows\n",
      "calling sliding on df of 1 rows\n",
      "calling sliding on df of 1 rows\n"
     ]
    },
    {
     "name": "stderr",
     "output_type": "stream",
     "text": [
      " 19%|█▉        | 128/672 [02:12<09:15,  1.02s/it]"
     ]
    },
    {
     "name": "stdout",
     "output_type": "stream",
     "text": [
      "calling sliding on df of 1 rows\n",
      "calling sliding on df of 1 rows\n",
      "calling sliding on df of 1 rows\n",
      "calling sliding on df of 1 rows\n",
      "calling sliding on df of 1 rows\n",
      "calling sliding on df of 1 rows\n",
      "calling sliding on df of 1 rows\n",
      "calling sliding on df of 1 rows\n",
      "calling sliding on df of 1 rows\n",
      "calling sliding on df of 1 rows\n",
      "calling sliding on df of 1 rows\n"
     ]
    },
    {
     "name": "stderr",
     "output_type": "stream",
     "text": [
      " 19%|█▉        | 129/672 [02:13<09:08,  1.01s/it]"
     ]
    },
    {
     "name": "stdout",
     "output_type": "stream",
     "text": [
      "calling sliding on df of 1 rows\n",
      "calling sliding on df of 1 rows\n"
     ]
    },
    {
     "name": "stderr",
     "output_type": "stream",
     "text": [
      " 19%|█▉        | 130/672 [02:14<09:00,  1.00it/s]"
     ]
    },
    {
     "name": "stdout",
     "output_type": "stream",
     "text": [
      "calling sliding on df of 1 rows\n",
      "calling sliding on df of 1 rows\n",
      "calling sliding on df of 1 rows\n",
      "calling sliding on df of 1 rows\n",
      "calling sliding on df of 1 rows\n",
      "calling sliding on df of 1 rows\n",
      "calling sliding on df of 1 rows\n"
     ]
    },
    {
     "name": "stderr",
     "output_type": "stream",
     "text": [
      " 20%|█▉        | 132/672 [02:16<08:17,  1.09it/s]"
     ]
    },
    {
     "name": "stdout",
     "output_type": "stream",
     "text": [
      "calling sliding on df of 1 rows\n",
      "calling sliding on df of 1 rows\n",
      "calling sliding on df of 1 rows\n",
      "calling sliding on df of 1 rows\n",
      "calling sliding on df of 1 rows\n",
      "calling sliding on df of 1 rows\n",
      "calling sliding on df of 1 rows\n",
      "calling sliding on df of 1 rows\n",
      "calling sliding on df of 1 rows\n"
     ]
    },
    {
     "name": "stderr",
     "output_type": "stream",
     "text": [
      " 20%|█▉        | 133/672 [02:17<08:55,  1.01it/s]"
     ]
    },
    {
     "name": "stdout",
     "output_type": "stream",
     "text": [
      "calling sliding on df of 1 rows\n",
      "calling sliding on df of 1 rows\n",
      "calling sliding on df of 1 rows\n",
      "calling sliding on df of 1 rows\n",
      "calling sliding on df of 1 rows\n"
     ]
    },
    {
     "name": "stderr",
     "output_type": "stream",
     "text": [
      " 20%|█▉        | 134/672 [02:18<08:45,  1.02it/s]"
     ]
    },
    {
     "name": "stdout",
     "output_type": "stream",
     "text": [
      "calling sliding on df of 1 rows\n",
      "calling sliding on df of 1 rows\n",
      "calling sliding on df of 1 rows\n",
      "calling sliding on df of 1 rows\n",
      "calling sliding on df of 1 rows\n",
      "calling sliding on df of 1 rows\n",
      "calling sliding on df of 1 rows\n",
      "calling sliding on df of 1 rows\n",
      "calling sliding on df of 1 rows\n",
      "calling sliding on df of 1 rows\n",
      "calling sliding on df of 1 rows\n",
      "calling sliding on df of 1 rows\n",
      "calling sliding on df of 1 rows\n",
      "calling sliding on df of 1 rows\n",
      "calling sliding on df of 1 rows\n",
      "calling sliding on df of 1 rows\n",
      "calling sliding on df of 1 rows\n"
     ]
    },
    {
     "name": "stderr",
     "output_type": "stream",
     "text": [
      " 20%|██        | 135/672 [02:19<08:50,  1.01it/s]"
     ]
    },
    {
     "name": "stdout",
     "output_type": "stream",
     "text": [
      "calling sliding on df of 1 rows\n",
      "calling sliding on df of 1 rows\n"
     ]
    },
    {
     "name": "stderr",
     "output_type": "stream",
     "text": [
      " 20%|██        | 136/672 [02:20<08:35,  1.04it/s]"
     ]
    },
    {
     "name": "stdout",
     "output_type": "stream",
     "text": [
      "calling sliding on df of 1 rows\n",
      "calling sliding on df of 1 rows\n",
      "calling sliding on df of 1 rows\n",
      "calling sliding on df of 1 rows\n",
      "calling sliding on df of 1 rows\n"
     ]
    },
    {
     "name": "stderr",
     "output_type": "stream",
     "text": [
      " 20%|██        | 137/672 [02:20<08:27,  1.05it/s]"
     ]
    },
    {
     "name": "stdout",
     "output_type": "stream",
     "text": [
      "calling sliding on df of 1 rows\n",
      "calling sliding on df of 1 rows\n",
      "calling sliding on df of 1 rows\n",
      "calling sliding on df of 1 rows\n",
      "calling sliding on df of 1 rows\n",
      "calling sliding on df of 1 rows\n"
     ]
    },
    {
     "name": "stderr",
     "output_type": "stream",
     "text": [
      " 21%|██        | 138/672 [02:21<08:26,  1.05it/s]"
     ]
    },
    {
     "name": "stdout",
     "output_type": "stream",
     "text": [
      "calling sliding on df of 1 rows\n",
      "calling sliding on df of 1 rows\n",
      "calling sliding on df of 1 rows\n",
      "calling sliding on df of 1 rows\n"
     ]
    },
    {
     "name": "stderr",
     "output_type": "stream",
     "text": [
      " 21%|██        | 139/672 [02:22<08:21,  1.06it/s]"
     ]
    },
    {
     "name": "stdout",
     "output_type": "stream",
     "text": [
      "calling sliding on df of 1 rows\n",
      "calling sliding on df of 1 rows\n",
      "calling sliding on df of 1 rows\n"
     ]
    },
    {
     "name": "stderr",
     "output_type": "stream",
     "text": [
      " 21%|██        | 140/672 [02:23<08:31,  1.04it/s]"
     ]
    },
    {
     "name": "stdout",
     "output_type": "stream",
     "text": [
      "calling sliding on df of 1 rows\n",
      "calling sliding on df of 1 rows\n",
      "calling sliding on df of 1 rows\n",
      "calling sliding on df of 1 rows\n",
      "calling sliding on df of 1 rows\n",
      "calling sliding on df of 1 rows\n"
     ]
    },
    {
     "name": "stderr",
     "output_type": "stream",
     "text": [
      " 21%|██        | 141/672 [02:24<08:49,  1.00it/s]"
     ]
    },
    {
     "name": "stdout",
     "output_type": "stream",
     "text": [
      "calling sliding on df of 1 rows\n",
      "calling sliding on df of 1 rows\n",
      "calling sliding on df of 1 rows\n",
      "calling sliding on df of 1 rows\n"
     ]
    },
    {
     "name": "stderr",
     "output_type": "stream",
     "text": [
      " 21%|██        | 142/672 [02:25<08:48,  1.00it/s]"
     ]
    },
    {
     "name": "stdout",
     "output_type": "stream",
     "text": [
      "calling sliding on df of 1 rows\n",
      "calling sliding on df of 1 rows\n",
      "calling sliding on df of 1 rows\n",
      "calling sliding on df of 1 rows\n",
      "calling sliding on df of 1 rows\n"
     ]
    },
    {
     "name": "stderr",
     "output_type": "stream",
     "text": [
      " 21%|██▏       | 143/672 [02:26<08:32,  1.03it/s]"
     ]
    },
    {
     "name": "stdout",
     "output_type": "stream",
     "text": [
      "calling sliding on df of 1 rows\n",
      "calling sliding on df of 1 rows\n",
      "calling sliding on df of 1 rows\n",
      "calling sliding on df of 1 rows\n",
      "calling sliding on df of 1 rows\n",
      "calling sliding on df of 1 rows\n",
      "calling sliding on df of 1 rows\n",
      "calling sliding on df of 1 rows\n"
     ]
    },
    {
     "name": "stderr",
     "output_type": "stream",
     "text": [
      " 21%|██▏       | 144/672 [02:27<08:29,  1.04it/s]"
     ]
    },
    {
     "name": "stdout",
     "output_type": "stream",
     "text": [
      "calling sliding on df of 1 rows\n",
      "calling sliding on df of 1 rows\n",
      "calling sliding on df of 1 rows\n",
      "calling sliding on df of 1 rows\n",
      "calling sliding on df of 1 rows\n",
      "calling sliding on df of 1 rows\n",
      "calling sliding on df of 1 rows\n",
      "calling sliding on df of 1 rows\n"
     ]
    },
    {
     "name": "stderr",
     "output_type": "stream",
     "text": [
      " 22%|██▏       | 145/672 [02:28<08:32,  1.03it/s]"
     ]
    },
    {
     "name": "stdout",
     "output_type": "stream",
     "text": [
      "calling sliding on df of 1 rows\n",
      "calling sliding on df of 1 rows\n",
      "calling sliding on df of 1 rows\n",
      "calling sliding on df of 1 rows\n",
      "calling sliding on df of 1 rows\n"
     ]
    },
    {
     "name": "stderr",
     "output_type": "stream",
     "text": [
      " 22%|██▏       | 146/672 [02:29<08:37,  1.02it/s]"
     ]
    },
    {
     "name": "stdout",
     "output_type": "stream",
     "text": [
      "calling sliding on df of 1 rows\n",
      "calling sliding on df of 1 rows\n",
      "calling sliding on df of 1 rows\n",
      "calling sliding on df of 1 rows\n",
      "calling sliding on df of 1 rows\n",
      "calling sliding on df of 1 rows\n",
      "calling sliding on df of 1 rows\n",
      "calling sliding on df of 1 rows\n"
     ]
    },
    {
     "name": "stderr",
     "output_type": "stream",
     "text": [
      " 22%|██▏       | 147/672 [02:30<08:32,  1.02it/s]"
     ]
    },
    {
     "name": "stdout",
     "output_type": "stream",
     "text": [
      "calling sliding on df of 1 rows\n",
      "calling sliding on df of 1 rows\n",
      "calling sliding on df of 1 rows\n"
     ]
    },
    {
     "name": "stderr",
     "output_type": "stream",
     "text": [
      " 22%|██▏       | 148/672 [02:31<08:46,  1.01s/it]"
     ]
    },
    {
     "name": "stdout",
     "output_type": "stream",
     "text": [
      "calling sliding on df of 1 rows\n",
      "calling sliding on df of 1 rows\n",
      "calling sliding on df of 1 rows\n",
      "calling sliding on df of 1 rows\n"
     ]
    },
    {
     "name": "stderr",
     "output_type": "stream",
     "text": [
      " 22%|██▏       | 149/672 [02:32<08:35,  1.01it/s]"
     ]
    },
    {
     "name": "stdout",
     "output_type": "stream",
     "text": [
      "calling sliding on df of 1 rows\n",
      "calling sliding on df of 1 rows\n"
     ]
    },
    {
     "name": "stderr",
     "output_type": "stream",
     "text": [
      " 22%|██▏       | 150/672 [02:33<08:34,  1.01it/s]"
     ]
    },
    {
     "name": "stdout",
     "output_type": "stream",
     "text": [
      "calling sliding on df of 1 rows\n",
      "calling sliding on df of 1 rows\n",
      "calling sliding on df of 1 rows\n"
     ]
    },
    {
     "name": "stderr",
     "output_type": "stream",
     "text": [
      " 22%|██▏       | 151/672 [02:34<08:29,  1.02it/s]"
     ]
    },
    {
     "name": "stdout",
     "output_type": "stream",
     "text": [
      "calling sliding on df of 1 rows\n",
      "calling sliding on df of 1 rows\n",
      "calling sliding on df of 1 rows\n",
      "calling sliding on df of 1 rows\n",
      "calling sliding on df of 1 rows\n",
      "calling sliding on df of 1 rows\n",
      "calling sliding on df of 1 rows\n",
      "calling sliding on df of 1 rows\n",
      "calling sliding on df of 1 rows\n",
      "calling sliding on df of 1 rows\n",
      "calling sliding on df of 1 rows\n"
     ]
    },
    {
     "name": "stderr",
     "output_type": "stream",
     "text": [
      " 23%|██▎       | 152/672 [02:35<08:56,  1.03s/it]"
     ]
    },
    {
     "name": "stdout",
     "output_type": "stream",
     "text": [
      "calling sliding on df of 1 rows\n",
      "calling sliding on df of 1 rows\n",
      "calling sliding on df of 1 rows\n"
     ]
    },
    {
     "name": "stderr",
     "output_type": "stream",
     "text": [
      " 23%|██▎       | 153/672 [02:36<09:00,  1.04s/it]"
     ]
    },
    {
     "name": "stdout",
     "output_type": "stream",
     "text": [
      "calling sliding on df of 1 rows\n",
      "calling sliding on df of 1 rows\n",
      "calling sliding on df of 1 rows\n"
     ]
    },
    {
     "name": "stderr",
     "output_type": "stream",
     "text": [
      " 23%|██▎       | 154/672 [02:38<09:01,  1.05s/it]"
     ]
    },
    {
     "name": "stdout",
     "output_type": "stream",
     "text": [
      "calling sliding on df of 1 rows\n",
      "calling sliding on df of 1 rows\n",
      "calling sliding on df of 1 rows\n"
     ]
    },
    {
     "name": "stderr",
     "output_type": "stream",
     "text": [
      " 23%|██▎       | 155/672 [02:38<08:41,  1.01s/it]"
     ]
    },
    {
     "name": "stdout",
     "output_type": "stream",
     "text": [
      "calling sliding on df of 1 rows\n",
      "calling sliding on df of 1 rows\n",
      "calling sliding on df of 1 rows\n",
      "calling sliding on df of 1 rows\n",
      "calling sliding on df of 1 rows\n",
      "calling sliding on df of 1 rows\n",
      "calling sliding on df of 1 rows\n"
     ]
    },
    {
     "name": "stderr",
     "output_type": "stream",
     "text": [
      " 23%|██▎       | 156/672 [02:39<08:32,  1.01it/s]"
     ]
    },
    {
     "name": "stdout",
     "output_type": "stream",
     "text": [
      "calling sliding on df of 1 rows\n",
      "calling sliding on df of 1 rows\n",
      "calling sliding on df of 1 rows\n",
      "calling sliding on df of 1 rows\n",
      "calling sliding on df of 1 rows\n",
      "calling sliding on df of 1 rows\n",
      "calling sliding on df of 1 rows\n",
      "calling sliding on df of 1 rows\n",
      "calling sliding on df of 1 rows\n",
      "calling sliding on df of 1 rows\n",
      "calling sliding on df of 1 rows\n",
      "calling sliding on df of 1 rows\n",
      "calling sliding on df of 1 rows\n",
      "calling sliding on df of 1 rows\n"
     ]
    },
    {
     "name": "stderr",
     "output_type": "stream",
     "text": [
      " 23%|██▎       | 157/672 [02:40<08:34,  1.00it/s]"
     ]
    },
    {
     "name": "stdout",
     "output_type": "stream",
     "text": [
      "calling sliding on df of 1 rows\n",
      "calling sliding on df of 1 rows\n",
      "calling sliding on df of 1 rows\n",
      "calling sliding on df of 1 rows\n",
      "calling sliding on df of 1 rows\n",
      "calling sliding on df of 1 rows\n",
      "calling sliding on df of 1 rows\n",
      "calling sliding on df of 1 rows\n",
      "calling sliding on df of 1 rows\n",
      "calling sliding on df of 1 rows\n"
     ]
    },
    {
     "name": "stderr",
     "output_type": "stream",
     "text": [
      " 24%|██▎       | 158/672 [02:41<08:22,  1.02it/s]"
     ]
    },
    {
     "name": "stdout",
     "output_type": "stream",
     "text": [
      "calling sliding on df of 1 rows\n",
      "calling sliding on df of 1 rows\n",
      "calling sliding on df of 1 rows\n",
      "calling sliding on df of 1 rows\n",
      "calling sliding on df of 1 rows\n"
     ]
    },
    {
     "name": "stderr",
     "output_type": "stream",
     "text": [
      " 24%|██▎       | 159/672 [02:42<08:18,  1.03it/s]"
     ]
    },
    {
     "name": "stdout",
     "output_type": "stream",
     "text": [
      "calling sliding on df of 1 rows\n",
      "calling sliding on df of 1 rows\n",
      "calling sliding on df of 1 rows\n",
      "calling sliding on df of 1 rows\n",
      "calling sliding on df of 1 rows\n",
      "calling sliding on df of 1 rows\n",
      "calling sliding on df of 1 rows\n",
      "calling sliding on df of 1 rows\n",
      "calling sliding on df of 1 rows\n",
      "calling sliding on df of 1 rows\n"
     ]
    },
    {
     "name": "stderr",
     "output_type": "stream",
     "text": [
      " 24%|██▍       | 160/672 [02:43<08:15,  1.03it/s]"
     ]
    },
    {
     "name": "stdout",
     "output_type": "stream",
     "text": [
      "calling sliding on df of 1 rows\n",
      "calling sliding on df of 1 rows\n",
      "calling sliding on df of 1 rows\n"
     ]
    },
    {
     "name": "stderr",
     "output_type": "stream",
     "text": [
      " 24%|██▍       | 161/672 [02:44<08:04,  1.05it/s]"
     ]
    },
    {
     "name": "stdout",
     "output_type": "stream",
     "text": [
      "calling sliding on df of 1 rows\n",
      "calling sliding on df of 1 rows\n"
     ]
    },
    {
     "name": "stderr",
     "output_type": "stream",
     "text": [
      " 24%|██▍       | 162/672 [02:45<08:04,  1.05it/s]"
     ]
    },
    {
     "name": "stdout",
     "output_type": "stream",
     "text": [
      "calling sliding on df of 1 rows\n",
      "calling sliding on df of 1 rows\n",
      "calling sliding on df of 1 rows\n",
      "calling sliding on df of 1 rows\n",
      "calling sliding on df of 1 rows\n"
     ]
    },
    {
     "name": "stderr",
     "output_type": "stream",
     "text": [
      " 24%|██▍       | 164/672 [02:47<08:14,  1.03it/s]"
     ]
    },
    {
     "name": "stdout",
     "output_type": "stream",
     "text": [
      "calling sliding on df of 1 rows\n"
     ]
    },
    {
     "name": "stderr",
     "output_type": "stream",
     "text": [
      " 25%|██▍       | 165/672 [02:48<08:16,  1.02it/s]"
     ]
    },
    {
     "name": "stdout",
     "output_type": "stream",
     "text": [
      "calling sliding on df of 1 rows\n",
      "calling sliding on df of 1 rows\n",
      "calling sliding on df of 1 rows\n",
      "calling sliding on df of 1 rows\n",
      "calling sliding on df of 1 rows\n",
      "calling sliding on df of 1 rows\n"
     ]
    },
    {
     "name": "stderr",
     "output_type": "stream",
     "text": [
      " 25%|██▍       | 166/672 [02:49<08:17,  1.02it/s]"
     ]
    },
    {
     "name": "stdout",
     "output_type": "stream",
     "text": [
      "calling sliding on df of 1 rows\n",
      "calling sliding on df of 1 rows\n",
      "calling sliding on df of 1 rows\n",
      "calling sliding on df of 1 rows\n",
      "calling sliding on df of 1 rows\n",
      "calling sliding on df of 1 rows\n",
      "calling sliding on df of 1 rows\n"
     ]
    },
    {
     "name": "stderr",
     "output_type": "stream",
     "text": [
      " 25%|██▍       | 167/672 [02:50<08:06,  1.04it/s]"
     ]
    },
    {
     "name": "stdout",
     "output_type": "stream",
     "text": [
      "calling sliding on df of 1 rows\n",
      "calling sliding on df of 1 rows\n",
      "calling sliding on df of 1 rows\n",
      "calling sliding on df of 1 rows\n",
      "calling sliding on df of 1 rows\n",
      "calling sliding on df of 1 rows\n"
     ]
    },
    {
     "name": "stderr",
     "output_type": "stream",
     "text": [
      " 25%|██▌       | 168/672 [02:51<08:27,  1.01s/it]"
     ]
    },
    {
     "name": "stdout",
     "output_type": "stream",
     "text": [
      "calling sliding on df of 1 rows\n",
      "calling sliding on df of 1 rows\n",
      "calling sliding on df of 1 rows\n"
     ]
    },
    {
     "name": "stderr",
     "output_type": "stream",
     "text": [
      " 25%|██▌       | 170/672 [02:52<06:35,  1.27it/s]"
     ]
    },
    {
     "name": "stdout",
     "output_type": "stream",
     "text": [
      "calling sliding on df of 1 rows\n",
      "calling sliding on df of 1 rows\n",
      "calling sliding on df of 1 rows\n",
      "calling sliding on df of 1 rows\n",
      "calling sliding on df of 1 rows\n",
      "calling sliding on df of 1 rows\n"
     ]
    },
    {
     "name": "stderr",
     "output_type": "stream",
     "text": [
      " 25%|██▌       | 171/672 [02:53<06:53,  1.21it/s]"
     ]
    },
    {
     "name": "stdout",
     "output_type": "stream",
     "text": [
      "calling sliding on df of 1 rows\n",
      "calling sliding on df of 1 rows\n",
      "calling sliding on df of 1 rows\n",
      "calling sliding on df of 1 rows\n",
      "calling sliding on df of 1 rows\n",
      "calling sliding on df of 1 rows\n",
      "calling sliding on df of 1 rows\n"
     ]
    },
    {
     "name": "stderr",
     "output_type": "stream",
     "text": [
      " 26%|██▌       | 172/672 [02:54<07:13,  1.15it/s]"
     ]
    },
    {
     "name": "stdout",
     "output_type": "stream",
     "text": [
      "calling sliding on df of 1 rows\n",
      "calling sliding on df of 1 rows\n",
      "calling sliding on df of 1 rows\n",
      "calling sliding on df of 1 rows\n",
      "calling sliding on df of 1 rows\n",
      "calling sliding on df of 1 rows\n",
      "calling sliding on df of 1 rows\n",
      "calling sliding on df of 1 rows\n",
      "calling sliding on df of 1 rows\n",
      "calling sliding on df of 1 rows\n",
      "calling sliding on df of 1 rows\n",
      "calling sliding on df of 1 rows\n",
      "calling sliding on df of 1 rows\n",
      "calling sliding on df of 1 rows\n",
      "calling sliding on df of 1 rows\n"
     ]
    },
    {
     "name": "stderr",
     "output_type": "stream",
     "text": [
      " 26%|██▌       | 173/672 [02:55<07:23,  1.13it/s]"
     ]
    },
    {
     "name": "stdout",
     "output_type": "stream",
     "text": [
      "calling sliding on df of 1 rows\n",
      "calling sliding on df of 1 rows\n",
      "calling sliding on df of 1 rows\n"
     ]
    },
    {
     "name": "stderr",
     "output_type": "stream",
     "text": [
      " 26%|██▌       | 174/672 [02:56<07:34,  1.10it/s]"
     ]
    },
    {
     "name": "stdout",
     "output_type": "stream",
     "text": [
      "calling sliding on df of 1 rows\n",
      "calling sliding on df of 1 rows\n"
     ]
    },
    {
     "name": "stderr",
     "output_type": "stream",
     "text": [
      " 26%|██▌       | 175/672 [02:57<07:47,  1.06it/s]"
     ]
    },
    {
     "name": "stdout",
     "output_type": "stream",
     "text": [
      "calling sliding on df of 1 rows\n",
      "calling sliding on df of 1 rows\n",
      "calling sliding on df of 1 rows\n",
      "calling sliding on df of 1 rows\n",
      "calling sliding on df of 1 rows\n",
      "calling sliding on df of 1 rows\n",
      "calling sliding on df of 1 rows\n",
      "calling sliding on df of 1 rows\n",
      "calling sliding on df of 1 rows\n",
      "calling sliding on df of 1 rows\n",
      "calling sliding on df of 1 rows\n"
     ]
    },
    {
     "name": "stderr",
     "output_type": "stream",
     "text": [
      " 26%|██▌       | 176/672 [02:58<07:45,  1.07it/s]"
     ]
    },
    {
     "name": "stdout",
     "output_type": "stream",
     "text": [
      "calling sliding on df of 1 rows\n",
      "calling sliding on df of 1 rows\n",
      "calling sliding on df of 1 rows\n",
      "calling sliding on df of 1 rows\n",
      "calling sliding on df of 1 rows\n",
      "calling sliding on df of 1 rows\n",
      "calling sliding on df of 1 rows\n",
      "calling sliding on df of 1 rows\n",
      "calling sliding on df of 1 rows\n",
      "calling sliding on df of 1 rows\n",
      "calling sliding on df of 1 rows\n",
      "calling sliding on df of 1 rows\n",
      "calling sliding on df of 1 rows\n",
      "calling sliding on df of 1 rows\n"
     ]
    },
    {
     "name": "stderr",
     "output_type": "stream",
     "text": [
      " 26%|██▋       | 177/672 [02:59<07:45,  1.06it/s]"
     ]
    },
    {
     "name": "stdout",
     "output_type": "stream",
     "text": [
      "calling sliding on df of 1 rows\n",
      "calling sliding on df of 1 rows\n",
      "calling sliding on df of 1 rows\n",
      "calling sliding on df of 1 rows\n",
      "calling sliding on df of 1 rows\n",
      "calling sliding on df of 1 rows\n"
     ]
    },
    {
     "name": "stderr",
     "output_type": "stream",
     "text": [
      " 26%|██▋       | 178/672 [03:00<08:02,  1.02it/s]"
     ]
    },
    {
     "name": "stdout",
     "output_type": "stream",
     "text": [
      "calling sliding on df of 1 rows\n",
      "calling sliding on df of 1 rows\n",
      "calling sliding on df of 1 rows\n"
     ]
    },
    {
     "name": "stderr",
     "output_type": "stream",
     "text": [
      " 27%|██▋       | 179/672 [03:01<07:54,  1.04it/s]"
     ]
    },
    {
     "name": "stdout",
     "output_type": "stream",
     "text": [
      "calling sliding on df of 1 rows\n",
      "calling sliding on df of 1 rows\n",
      "calling sliding on df of 1 rows\n"
     ]
    },
    {
     "name": "stderr",
     "output_type": "stream",
     "text": [
      " 27%|██▋       | 180/672 [03:02<07:46,  1.05it/s]"
     ]
    },
    {
     "name": "stdout",
     "output_type": "stream",
     "text": [
      "calling sliding on df of 1 rows\n",
      "calling sliding on df of 1 rows\n",
      "calling sliding on df of 1 rows\n",
      "calling sliding on df of 1 rows\n"
     ]
    },
    {
     "name": "stderr",
     "output_type": "stream",
     "text": [
      " 27%|██▋       | 181/672 [03:03<07:43,  1.06it/s]"
     ]
    },
    {
     "name": "stdout",
     "output_type": "stream",
     "text": [
      "calling sliding on df of 1 rows\n",
      "calling sliding on df of 1 rows\n",
      "calling sliding on df of 1 rows\n",
      "calling sliding on df of 1 rows\n",
      "calling sliding on df of 1 rows\n"
     ]
    },
    {
     "name": "stderr",
     "output_type": "stream",
     "text": [
      " 27%|██▋       | 182/672 [03:04<08:00,  1.02it/s]"
     ]
    },
    {
     "name": "stdout",
     "output_type": "stream",
     "text": [
      "calling sliding on df of 1 rows\n",
      "calling sliding on df of 1 rows\n",
      "calling sliding on df of 1 rows\n",
      "calling sliding on df of 1 rows\n"
     ]
    },
    {
     "name": "stderr",
     "output_type": "stream",
     "text": [
      " 27%|██▋       | 183/672 [03:05<07:57,  1.02it/s]"
     ]
    },
    {
     "name": "stdout",
     "output_type": "stream",
     "text": [
      "calling sliding on df of 1 rows\n",
      "calling sliding on df of 1 rows\n",
      "calling sliding on df of 1 rows\n",
      "calling sliding on df of 1 rows\n",
      "calling sliding on df of 1 rows\n",
      "calling sliding on df of 1 rows\n",
      "calling sliding on df of 1 rows\n",
      "calling sliding on df of 1 rows\n",
      "calling sliding on df of 1 rows\n",
      "calling sliding on df of 1 rows\n",
      "calling sliding on df of 1 rows\n",
      "calling sliding on df of 1 rows\n",
      "calling sliding on df of 1 rows\n",
      "calling sliding on df of 1 rows\n"
     ]
    },
    {
     "name": "stderr",
     "output_type": "stream",
     "text": [
      " 27%|██▋       | 184/672 [03:06<08:00,  1.01it/s]"
     ]
    },
    {
     "name": "stdout",
     "output_type": "stream",
     "text": [
      "calling sliding on df of 1 rows\n",
      "calling sliding on df of 1 rows\n",
      "calling sliding on df of 1 rows\n"
     ]
    },
    {
     "name": "stderr",
     "output_type": "stream",
     "text": [
      " 28%|██▊       | 185/672 [03:07<08:02,  1.01it/s]"
     ]
    },
    {
     "name": "stdout",
     "output_type": "stream",
     "text": [
      "calling sliding on df of 1 rows\n",
      "calling sliding on df of 1 rows\n",
      "calling sliding on df of 1 rows\n"
     ]
    },
    {
     "name": "stderr",
     "output_type": "stream",
     "text": [
      " 28%|██▊       | 186/672 [03:08<08:09,  1.01s/it]"
     ]
    },
    {
     "name": "stdout",
     "output_type": "stream",
     "text": [
      "calling sliding on df of 1 rows\n",
      "calling sliding on df of 1 rows\n",
      "calling sliding on df of 1 rows\n",
      "calling sliding on df of 1 rows\n",
      "calling sliding on df of 1 rows\n",
      "calling sliding on df of 1 rows\n"
     ]
    },
    {
     "name": "stderr",
     "output_type": "stream",
     "text": [
      " 28%|██▊       | 187/672 [03:09<07:58,  1.01it/s]"
     ]
    },
    {
     "name": "stdout",
     "output_type": "stream",
     "text": [
      "calling sliding on df of 1 rows\n",
      "calling sliding on df of 1 rows\n",
      "calling sliding on df of 1 rows\n",
      "calling sliding on df of 1 rows\n",
      "calling sliding on df of 1 rows\n",
      "calling sliding on df of 1 rows\n",
      "calling sliding on df of 1 rows\n",
      "calling sliding on df of 1 rows\n"
     ]
    },
    {
     "name": "stderr",
     "output_type": "stream",
     "text": [
      " 28%|██▊       | 188/672 [03:10<08:00,  1.01it/s]"
     ]
    },
    {
     "name": "stdout",
     "output_type": "stream",
     "text": [
      "calling sliding on df of 1 rows\n",
      "calling sliding on df of 1 rows\n",
      "calling sliding on df of 1 rows\n",
      "calling sliding on df of 1 rows\n",
      "calling sliding on df of 1 rows\n",
      "calling sliding on df of 1 rows\n",
      "calling sliding on df of 1 rows\n",
      "calling sliding on df of 1 rows\n",
      "calling sliding on df of 1 rows\n",
      "calling sliding on df of 1 rows\n",
      "calling sliding on df of 1 rows\n",
      "calling sliding on df of 1 rows\n",
      "calling sliding on df of 1 rows\n",
      "calling sliding on df of 1 rows\n",
      "calling sliding on df of 1 rows\n",
      "calling sliding on df of 1 rows\n",
      "calling sliding on df of 1 rows\n",
      "calling sliding on df of 1 rows\n",
      "calling sliding on df of 1 rows\n",
      "calling sliding on df of 1 rows\n",
      "calling sliding on df of 1 rows\n",
      "calling sliding on df of 1 rows\n",
      "calling sliding on df of 1 rows\n",
      "calling sliding on df of 1 rows\n",
      "calling sliding on df of 1 rows\n",
      "calling sliding on df of 1 rows\n",
      "calling sliding on df of 1 rows\n",
      "calling sliding on df of 1 rows\n",
      "calling sliding on df of 1 rows\n",
      "calling sliding on df of 1 rows\n",
      "calling sliding on df of 1 rows\n",
      "calling sliding on df of 1 rows\n",
      "calling sliding on df of 1 rows\n"
     ]
    },
    {
     "name": "stderr",
     "output_type": "stream",
     "text": [
      " 28%|██▊       | 190/672 [03:11<06:14,  1.29it/s]"
     ]
    },
    {
     "name": "stdout",
     "output_type": "stream",
     "text": [
      "calling sliding on df of 1 rows\n",
      "calling sliding on df of 1 rows\n",
      "calling sliding on df of 1 rows\n",
      "calling sliding on df of 1 rows\n",
      "calling sliding on df of 1 rows\n",
      "calling sliding on df of 1 rows\n"
     ]
    },
    {
     "name": "stderr",
     "output_type": "stream",
     "text": [
      " 28%|██▊       | 191/672 [03:12<06:34,  1.22it/s]"
     ]
    },
    {
     "name": "stdout",
     "output_type": "stream",
     "text": [
      "calling sliding on df of 1 rows\n",
      "calling sliding on df of 1 rows\n",
      "calling sliding on df of 1 rows\n",
      "calling sliding on df of 1 rows\n",
      "calling sliding on df of 1 rows\n",
      "calling sliding on df of 1 rows\n",
      "calling sliding on df of 1 rows\n"
     ]
    },
    {
     "name": "stderr",
     "output_type": "stream",
     "text": [
      " 29%|██▊       | 192/672 [03:13<07:05,  1.13it/s]"
     ]
    },
    {
     "name": "stdout",
     "output_type": "stream",
     "text": [
      "calling sliding on df of 1 rows\n",
      "calling sliding on df of 1 rows\n",
      "calling sliding on df of 1 rows\n",
      "calling sliding on df of 1 rows\n",
      "calling sliding on df of 1 rows\n",
      "calling sliding on df of 1 rows\n",
      "calling sliding on df of 1 rows\n",
      "calling sliding on df of 1 rows\n",
      "calling sliding on df of 1 rows\n",
      "calling sliding on df of 1 rows\n",
      "calling sliding on df of 1 rows\n",
      "calling sliding on df of 1 rows\n",
      "calling sliding on df of 1 rows\n",
      "calling sliding on df of 1 rows\n",
      "calling sliding on df of 1 rows\n",
      "calling sliding on df of 1 rows\n",
      "calling sliding on df of 1 rows\n",
      "calling sliding on df of 1 rows\n",
      "calling sliding on df of 1 rows\n",
      "calling sliding on df of 1 rows\n",
      "calling sliding on df of 1 rows\n",
      "calling sliding on df of 1 rows\n",
      "calling sliding on df of 1 rows\n",
      "calling sliding on df of 1 rows\n",
      "calling sliding on df of 1 rows\n",
      "calling sliding on df of 1 rows\n",
      "calling sliding on df of 1 rows\n",
      "calling sliding on df of 1 rows\n",
      "calling sliding on df of 1 rows\n",
      "calling sliding on df of 1 rows\n",
      "calling sliding on df of 1 rows\n"
     ]
    },
    {
     "name": "stderr",
     "output_type": "stream",
     "text": [
      " 29%|██▊       | 193/672 [03:14<07:22,  1.08it/s]"
     ]
    },
    {
     "name": "stdout",
     "output_type": "stream",
     "text": [
      "calling sliding on df of 1 rows\n",
      "calling sliding on df of 1 rows\n",
      "calling sliding on df of 1 rows\n",
      "calling sliding on df of 1 rows\n",
      "calling sliding on df of 1 rows\n",
      "calling sliding on df of 1 rows\n"
     ]
    },
    {
     "name": "stderr",
     "output_type": "stream",
     "text": [
      " 29%|██▉       | 195/672 [03:16<07:46,  1.02it/s]"
     ]
    },
    {
     "name": "stdout",
     "output_type": "stream",
     "text": [
      "calling sliding on df of 1 rows\n",
      "calling sliding on df of 1 rows\n",
      "calling sliding on df of 1 rows\n",
      "calling sliding on df of 1 rows\n",
      "calling sliding on df of 1 rows\n",
      "calling sliding on df of 1 rows\n",
      "calling sliding on df of 1 rows\n",
      "calling sliding on df of 1 rows\n"
     ]
    },
    {
     "name": "stderr",
     "output_type": "stream",
     "text": [
      " 29%|██▉       | 196/672 [03:17<07:49,  1.01it/s]"
     ]
    },
    {
     "name": "stdout",
     "output_type": "stream",
     "text": [
      "calling sliding on df of 1 rows\n",
      "calling sliding on df of 1 rows\n",
      "calling sliding on df of 1 rows\n",
      "calling sliding on df of 1 rows\n",
      "calling sliding on df of 1 rows\n",
      "calling sliding on df of 1 rows\n",
      "calling sliding on df of 1 rows\n",
      "calling sliding on df of 1 rows\n",
      "calling sliding on df of 1 rows\n"
     ]
    },
    {
     "name": "stderr",
     "output_type": "stream",
     "text": [
      " 29%|██▉       | 197/672 [03:18<07:52,  1.01it/s]"
     ]
    },
    {
     "name": "stdout",
     "output_type": "stream",
     "text": [
      "calling sliding on df of 1 rows\n",
      "calling sliding on df of 1 rows\n",
      "calling sliding on df of 1 rows\n",
      "calling sliding on df of 1 rows\n",
      "calling sliding on df of 1 rows\n",
      "calling sliding on df of 1 rows\n",
      "calling sliding on df of 1 rows\n",
      "calling sliding on df of 1 rows\n",
      "calling sliding on df of 1 rows\n",
      "calling sliding on df of 1 rows\n"
     ]
    },
    {
     "name": "stderr",
     "output_type": "stream",
     "text": [
      " 30%|██▉       | 200/672 [03:20<06:12,  1.27it/s]"
     ]
    },
    {
     "name": "stdout",
     "output_type": "stream",
     "text": [
      "calling sliding on df of 1 rows\n",
      "calling sliding on df of 1 rows\n",
      "calling sliding on df of 1 rows\n",
      "calling sliding on df of 1 rows\n",
      "calling sliding on df of 1 rows\n",
      "calling sliding on df of 1 rows\n",
      "calling sliding on df of 1 rows\n",
      "calling sliding on df of 1 rows\n",
      "calling sliding on df of 1 rows\n"
     ]
    },
    {
     "name": "stderr",
     "output_type": "stream",
     "text": [
      " 30%|██▉       | 201/672 [03:21<06:30,  1.21it/s]"
     ]
    },
    {
     "name": "stdout",
     "output_type": "stream",
     "text": [
      "calling sliding on df of 1 rows\n",
      "calling sliding on df of 1 rows\n",
      "calling sliding on df of 1 rows\n",
      "calling sliding on df of 1 rows\n",
      "calling sliding on df of 1 rows\n",
      "calling sliding on df of 1 rows\n",
      "calling sliding on df of 1 rows\n",
      "calling sliding on df of 1 rows\n",
      "calling sliding on df of 1 rows\n",
      "calling sliding on df of 1 rows\n",
      "calling sliding on df of 1 rows\n",
      "calling sliding on df of 1 rows\n",
      "calling sliding on df of 1 rows\n",
      "calling sliding on df of 1 rows\n",
      "calling sliding on df of 1 rows\n",
      "calling sliding on df of 1 rows\n",
      "calling sliding on df of 1 rows\n"
     ]
    },
    {
     "name": "stderr",
     "output_type": "stream",
     "text": [
      " 30%|███       | 202/672 [03:22<07:02,  1.11it/s]"
     ]
    },
    {
     "name": "stdout",
     "output_type": "stream",
     "text": [
      "calling sliding on df of 1 rows\n",
      "calling sliding on df of 1 rows\n",
      "calling sliding on df of 1 rows\n",
      "calling sliding on df of 1 rows\n",
      "calling sliding on df of 1 rows\n",
      "calling sliding on df of 1 rows\n",
      "calling sliding on df of 1 rows\n",
      "calling sliding on df of 1 rows\n",
      "calling sliding on df of 1 rows\n",
      "calling sliding on df of 1 rows\n",
      "calling sliding on df of 1 rows\n"
     ]
    },
    {
     "name": "stderr",
     "output_type": "stream",
     "text": [
      " 30%|███       | 203/672 [03:23<07:12,  1.08it/s]"
     ]
    },
    {
     "name": "stdout",
     "output_type": "stream",
     "text": [
      "calling sliding on df of 1 rows\n",
      "calling sliding on df of 1 rows\n",
      "calling sliding on df of 1 rows\n"
     ]
    },
    {
     "name": "stderr",
     "output_type": "stream",
     "text": [
      " 30%|███       | 204/672 [03:24<06:58,  1.12it/s]"
     ]
    },
    {
     "name": "stdout",
     "output_type": "stream",
     "text": [
      "calling sliding on df of 1 rows\n",
      "calling sliding on df of 1 rows\n",
      "calling sliding on df of 1 rows\n",
      "calling sliding on df of 1 rows\n",
      "calling sliding on df of 1 rows\n",
      "calling sliding on df of 1 rows\n",
      "calling sliding on df of 1 rows\n",
      "calling sliding on df of 1 rows\n"
     ]
    },
    {
     "name": "stderr",
     "output_type": "stream",
     "text": [
      " 31%|███       | 205/672 [03:25<07:06,  1.10it/s]"
     ]
    },
    {
     "name": "stdout",
     "output_type": "stream",
     "text": [
      "calling sliding on df of 1 rows\n",
      "calling sliding on df of 1 rows\n"
     ]
    },
    {
     "name": "stderr",
     "output_type": "stream",
     "text": [
      " 31%|███       | 206/672 [03:26<07:12,  1.08it/s]"
     ]
    },
    {
     "name": "stdout",
     "output_type": "stream",
     "text": [
      "calling sliding on df of 1 rows\n",
      "calling sliding on df of 1 rows\n",
      "calling sliding on df of 1 rows\n",
      "calling sliding on df of 1 rows\n",
      "calling sliding on df of 1 rows\n",
      "calling sliding on df of 1 rows\n",
      "calling sliding on df of 1 rows\n"
     ]
    },
    {
     "name": "stderr",
     "output_type": "stream",
     "text": [
      " 31%|███       | 207/672 [03:27<07:40,  1.01it/s]"
     ]
    },
    {
     "name": "stdout",
     "output_type": "stream",
     "text": [
      "calling sliding on df of 1 rows\n",
      "calling sliding on df of 1 rows\n"
     ]
    },
    {
     "name": "stderr",
     "output_type": "stream",
     "text": [
      " 31%|███       | 209/672 [03:28<07:08,  1.08it/s]"
     ]
    },
    {
     "name": "stdout",
     "output_type": "stream",
     "text": [
      "calling sliding on df of 1 rows\n",
      "calling sliding on df of 1 rows\n",
      "calling sliding on df of 1 rows\n",
      "calling sliding on df of 1 rows\n",
      "calling sliding on df of 1 rows\n",
      "calling sliding on df of 1 rows\n",
      "calling sliding on df of 1 rows\n",
      "calling sliding on df of 1 rows\n",
      "calling sliding on df of 1 rows\n",
      "calling sliding on df of 1 rows\n"
     ]
    },
    {
     "name": "stderr",
     "output_type": "stream",
     "text": [
      " 31%|███▏      | 210/672 [03:29<07:23,  1.04it/s]"
     ]
    },
    {
     "name": "stdout",
     "output_type": "stream",
     "text": [
      "calling sliding on df of 1 rows\n",
      "calling sliding on df of 1 rows\n",
      "calling sliding on df of 1 rows\n",
      "calling sliding on df of 1 rows\n",
      "calling sliding on df of 1 rows\n",
      "calling sliding on df of 1 rows\n",
      "calling sliding on df of 1 rows\n",
      "calling sliding on df of 1 rows\n",
      "calling sliding on df of 1 rows\n"
     ]
    },
    {
     "name": "stderr",
     "output_type": "stream",
     "text": [
      " 32%|███▏      | 212/672 [03:31<07:25,  1.03it/s]"
     ]
    },
    {
     "name": "stdout",
     "output_type": "stream",
     "text": [
      "calling sliding on df of 1 rows\n",
      "calling sliding on df of 1 rows\n",
      "calling sliding on df of 1 rows\n",
      "calling sliding on df of 1 rows\n",
      "calling sliding on df of 1 rows\n",
      "calling sliding on df of 1 rows\n",
      "calling sliding on df of 1 rows\n",
      "calling sliding on df of 1 rows\n",
      "calling sliding on df of 1 rows\n",
      "calling sliding on df of 1 rows\n",
      "calling sliding on df of 1 rows\n",
      "calling sliding on df of 1 rows\n"
     ]
    },
    {
     "name": "stderr",
     "output_type": "stream",
     "text": [
      " 32%|███▏      | 213/672 [03:32<07:12,  1.06it/s]"
     ]
    },
    {
     "name": "stdout",
     "output_type": "stream",
     "text": [
      "calling sliding on df of 1 rows\n",
      "calling sliding on df of 1 rows\n",
      "calling sliding on df of 1 rows\n",
      "calling sliding on df of 1 rows\n",
      "calling sliding on df of 1 rows\n",
      "calling sliding on df of 1 rows\n",
      "calling sliding on df of 1 rows\n",
      "calling sliding on df of 1 rows\n",
      "calling sliding on df of 1 rows\n",
      "calling sliding on df of 1 rows\n",
      "calling sliding on df of 1 rows\n"
     ]
    },
    {
     "name": "stderr",
     "output_type": "stream",
     "text": [
      " 32%|███▏      | 214/672 [03:34<08:01,  1.05s/it]"
     ]
    },
    {
     "name": "stdout",
     "output_type": "stream",
     "text": [
      "calling sliding on df of 1 rows\n",
      "calling sliding on df of 1 rows\n",
      "calling sliding on df of 1 rows\n",
      "calling sliding on df of 1 rows\n",
      "calling sliding on df of 1 rows\n",
      "calling sliding on df of 1 rows\n",
      "calling sliding on df of 1 rows\n",
      "calling sliding on df of 1 rows\n",
      "calling sliding on df of 1 rows\n",
      "calling sliding on df of 1 rows\n",
      "calling sliding on df of 1 rows\n",
      "calling sliding on df of 1 rows\n",
      "calling sliding on df of 1 rows\n"
     ]
    },
    {
     "name": "stderr",
     "output_type": "stream",
     "text": [
      " 32%|███▏      | 215/672 [03:35<08:32,  1.12s/it]"
     ]
    },
    {
     "name": "stdout",
     "output_type": "stream",
     "text": [
      "calling sliding on df of 1 rows\n",
      "calling sliding on df of 1 rows\n",
      "calling sliding on df of 1 rows\n",
      "calling sliding on df of 1 rows\n"
     ]
    },
    {
     "name": "stderr",
     "output_type": "stream",
     "text": [
      " 32%|███▏      | 216/672 [03:36<08:42,  1.15s/it]"
     ]
    },
    {
     "name": "stdout",
     "output_type": "stream",
     "text": [
      "calling sliding on df of 1 rows\n",
      "calling sliding on df of 1 rows\n",
      "calling sliding on df of 1 rows\n",
      "calling sliding on df of 1 rows\n",
      "calling sliding on df of 1 rows\n"
     ]
    },
    {
     "name": "stderr",
     "output_type": "stream",
     "text": [
      " 32%|███▏      | 217/672 [03:37<08:47,  1.16s/it]"
     ]
    },
    {
     "name": "stdout",
     "output_type": "stream",
     "text": [
      "calling sliding on df of 1 rows\n",
      "calling sliding on df of 1 rows\n"
     ]
    },
    {
     "name": "stderr",
     "output_type": "stream",
     "text": [
      " 33%|███▎      | 219/672 [03:40<08:42,  1.15s/it]"
     ]
    },
    {
     "name": "stdout",
     "output_type": "stream",
     "text": [
      "calling sliding on df of 1 rows\n",
      "calling sliding on df of 1 rows\n",
      "calling sliding on df of 1 rows\n",
      "calling sliding on df of 1 rows\n",
      "calling sliding on df of 1 rows\n",
      "calling sliding on df of 1 rows\n",
      "calling sliding on df of 1 rows\n",
      "calling sliding on df of 1 rows\n",
      "calling sliding on df of 1 rows\n",
      "calling sliding on df of 1 rows\n",
      "calling sliding on df of 1 rows\n",
      "calling sliding on df of 1 rows\n"
     ]
    },
    {
     "name": "stderr",
     "output_type": "stream",
     "text": [
      " 33%|███▎      | 220/672 [03:41<08:24,  1.12s/it]"
     ]
    },
    {
     "name": "stdout",
     "output_type": "stream",
     "text": [
      "calling sliding on df of 1 rows\n",
      "calling sliding on df of 1 rows\n",
      "calling sliding on df of 1 rows\n",
      "calling sliding on df of 1 rows\n",
      "calling sliding on df of 1 rows\n",
      "calling sliding on df of 1 rows\n",
      "calling sliding on df of 1 rows\n"
     ]
    },
    {
     "name": "stderr",
     "output_type": "stream",
     "text": [
      " 33%|███▎      | 221/672 [03:42<08:06,  1.08s/it]"
     ]
    },
    {
     "name": "stdout",
     "output_type": "stream",
     "text": [
      "calling sliding on df of 1 rows\n",
      "calling sliding on df of 1 rows\n",
      "calling sliding on df of 1 rows\n",
      "calling sliding on df of 1 rows\n",
      "calling sliding on df of 1 rows\n",
      "calling sliding on df of 1 rows\n"
     ]
    },
    {
     "name": "stderr",
     "output_type": "stream",
     "text": [
      " 33%|███▎      | 222/672 [03:43<07:57,  1.06s/it]"
     ]
    },
    {
     "name": "stdout",
     "output_type": "stream",
     "text": [
      "calling sliding on df of 1 rows\n",
      "calling sliding on df of 1 rows\n",
      "calling sliding on df of 1 rows\n",
      "calling sliding on df of 1 rows\n"
     ]
    },
    {
     "name": "stderr",
     "output_type": "stream",
     "text": [
      " 33%|███▎      | 223/672 [03:43<07:31,  1.01s/it]"
     ]
    },
    {
     "name": "stdout",
     "output_type": "stream",
     "text": [
      "calling sliding on df of 1 rows\n",
      "calling sliding on df of 1 rows\n",
      "calling sliding on df of 1 rows\n",
      "calling sliding on df of 1 rows\n",
      "calling sliding on df of 1 rows\n",
      "calling sliding on df of 1 rows\n",
      "calling sliding on df of 1 rows\n",
      "calling sliding on df of 1 rows\n",
      "calling sliding on df of 1 rows\n",
      "calling sliding on df of 1 rows\n",
      "calling sliding on df of 1 rows\n"
     ]
    },
    {
     "name": "stderr",
     "output_type": "stream",
     "text": [
      " 33%|███▎      | 224/672 [03:44<07:28,  1.00s/it]"
     ]
    },
    {
     "name": "stdout",
     "output_type": "stream",
     "text": [
      "calling sliding on df of 1 rows\n",
      "calling sliding on df of 1 rows\n"
     ]
    },
    {
     "name": "stderr",
     "output_type": "stream",
     "text": [
      " 33%|███▎      | 225/672 [03:45<06:58,  1.07it/s]"
     ]
    },
    {
     "name": "stdout",
     "output_type": "stream",
     "text": [
      "calling sliding on df of 1 rows\n",
      "calling sliding on df of 1 rows\n",
      "calling sliding on df of 1 rows\n",
      "calling sliding on df of 1 rows\n",
      "calling sliding on df of 1 rows\n"
     ]
    },
    {
     "name": "stderr",
     "output_type": "stream",
     "text": [
      " 34%|███▎      | 226/672 [03:46<06:51,  1.08it/s]"
     ]
    },
    {
     "name": "stdout",
     "output_type": "stream",
     "text": [
      "calling sliding on df of 1 rows\n",
      "calling sliding on df of 1 rows\n",
      "calling sliding on df of 1 rows\n",
      "calling sliding on df of 1 rows\n",
      "calling sliding on df of 1 rows\n",
      "calling sliding on df of 1 rows\n",
      "calling sliding on df of 1 rows\n",
      "calling sliding on df of 1 rows\n",
      "calling sliding on df of 1 rows\n"
     ]
    },
    {
     "name": "stderr",
     "output_type": "stream",
     "text": [
      " 34%|███▍      | 227/672 [03:47<06:53,  1.08it/s]"
     ]
    },
    {
     "name": "stdout",
     "output_type": "stream",
     "text": [
      "calling sliding on df of 1 rows\n",
      "calling sliding on df of 1 rows\n",
      "calling sliding on df of 1 rows\n",
      "calling sliding on df of 1 rows\n"
     ]
    },
    {
     "name": "stderr",
     "output_type": "stream",
     "text": [
      " 34%|███▍      | 228/672 [03:48<06:53,  1.07it/s]"
     ]
    },
    {
     "name": "stdout",
     "output_type": "stream",
     "text": [
      "calling sliding on df of 1 rows\n"
     ]
    },
    {
     "name": "stderr",
     "output_type": "stream",
     "text": [
      " 34%|███▍      | 229/672 [03:49<06:53,  1.07it/s]"
     ]
    },
    {
     "name": "stdout",
     "output_type": "stream",
     "text": [
      "calling sliding on df of 1 rows\n"
     ]
    },
    {
     "name": "stderr",
     "output_type": "stream",
     "text": [
      " 34%|███▍      | 231/672 [03:51<06:35,  1.11it/s]"
     ]
    },
    {
     "name": "stdout",
     "output_type": "stream",
     "text": [
      "calling sliding on df of 1 rows\n",
      "calling sliding on df of 1 rows\n",
      "calling sliding on df of 1 rows\n",
      "calling sliding on df of 1 rows\n",
      "calling sliding on df of 1 rows\n",
      "calling sliding on df of 1 rows\n",
      "calling sliding on df of 1 rows\n",
      "calling sliding on df of 1 rows\n",
      "calling sliding on df of 1 rows\n"
     ]
    },
    {
     "name": "stderr",
     "output_type": "stream",
     "text": [
      " 35%|███▍      | 232/672 [03:52<06:39,  1.10it/s]"
     ]
    },
    {
     "name": "stdout",
     "output_type": "stream",
     "text": [
      "calling sliding on df of 1 rows\n",
      "calling sliding on df of 1 rows\n",
      "calling sliding on df of 1 rows\n",
      "calling sliding on df of 1 rows\n",
      "calling sliding on df of 1 rows\n",
      "calling sliding on df of 1 rows\n",
      "calling sliding on df of 1 rows\n",
      "calling sliding on df of 1 rows\n",
      "calling sliding on df of 1 rows\n",
      "calling sliding on df of 1 rows\n",
      "calling sliding on df of 1 rows\n"
     ]
    },
    {
     "name": "stderr",
     "output_type": "stream",
     "text": [
      " 35%|███▍      | 233/672 [03:52<06:29,  1.13it/s]"
     ]
    },
    {
     "name": "stdout",
     "output_type": "stream",
     "text": [
      "calling sliding on df of 1 rows\n",
      "calling sliding on df of 1 rows\n",
      "calling sliding on df of 1 rows\n",
      "calling sliding on df of 1 rows\n",
      "calling sliding on df of 1 rows\n",
      "calling sliding on df of 1 rows\n",
      "calling sliding on df of 1 rows\n",
      "calling sliding on df of 1 rows\n",
      "calling sliding on df of 1 rows\n",
      "calling sliding on df of 1 rows\n"
     ]
    },
    {
     "name": "stderr",
     "output_type": "stream",
     "text": [
      " 35%|███▍      | 234/672 [03:53<06:25,  1.14it/s]"
     ]
    },
    {
     "name": "stdout",
     "output_type": "stream",
     "text": [
      "calling sliding on df of 1 rows\n",
      "calling sliding on df of 1 rows\n",
      "calling sliding on df of 1 rows\n",
      "calling sliding on df of 1 rows\n"
     ]
    },
    {
     "name": "stderr",
     "output_type": "stream",
     "text": [
      " 35%|███▍      | 235/672 [03:54<06:14,  1.17it/s]"
     ]
    },
    {
     "name": "stdout",
     "output_type": "stream",
     "text": [
      "calling sliding on df of 1 rows\n"
     ]
    },
    {
     "name": "stderr",
     "output_type": "stream",
     "text": [
      " 35%|███▌      | 236/672 [03:55<06:10,  1.18it/s]"
     ]
    },
    {
     "name": "stdout",
     "output_type": "stream",
     "text": [
      "calling sliding on df of 1 rows\n",
      "calling sliding on df of 1 rows\n",
      "calling sliding on df of 1 rows\n",
      "calling sliding on df of 1 rows\n"
     ]
    },
    {
     "name": "stderr",
     "output_type": "stream",
     "text": [
      " 35%|███▌      | 237/672 [03:56<06:05,  1.19it/s]"
     ]
    },
    {
     "name": "stdout",
     "output_type": "stream",
     "text": [
      "calling sliding on df of 1 rows\n",
      "calling sliding on df of 1 rows\n",
      "calling sliding on df of 1 rows\n",
      "calling sliding on df of 1 rows\n"
     ]
    },
    {
     "name": "stderr",
     "output_type": "stream",
     "text": [
      " 35%|███▌      | 238/672 [03:57<06:10,  1.17it/s]"
     ]
    },
    {
     "name": "stdout",
     "output_type": "stream",
     "text": [
      "calling sliding on df of 1 rows\n",
      "calling sliding on df of 1 rows\n",
      "calling sliding on df of 1 rows\n"
     ]
    },
    {
     "name": "stderr",
     "output_type": "stream",
     "text": [
      " 36%|███▌      | 239/672 [03:58<06:11,  1.17it/s]"
     ]
    },
    {
     "name": "stdout",
     "output_type": "stream",
     "text": [
      "calling sliding on df of 1 rows\n",
      "calling sliding on df of 1 rows\n",
      "calling sliding on df of 1 rows\n",
      "calling sliding on df of 1 rows\n",
      "calling sliding on df of 1 rows\n",
      "calling sliding on df of 1 rows\n",
      "calling sliding on df of 1 rows\n"
     ]
    },
    {
     "name": "stderr",
     "output_type": "stream",
     "text": [
      " 36%|███▌      | 240/672 [03:58<06:15,  1.15it/s]"
     ]
    },
    {
     "name": "stdout",
     "output_type": "stream",
     "text": [
      "calling sliding on df of 1 rows\n",
      "calling sliding on df of 1 rows\n",
      "calling sliding on df of 1 rows\n",
      "calling sliding on df of 1 rows\n",
      "calling sliding on df of 1 rows\n"
     ]
    },
    {
     "name": "stderr",
     "output_type": "stream",
     "text": [
      " 36%|███▌      | 241/672 [03:59<06:09,  1.17it/s]"
     ]
    },
    {
     "name": "stdout",
     "output_type": "stream",
     "text": [
      "calling sliding on df of 1 rows\n"
     ]
    },
    {
     "name": "stderr",
     "output_type": "stream",
     "text": [
      " 36%|███▌      | 242/672 [04:00<05:59,  1.20it/s]"
     ]
    },
    {
     "name": "stdout",
     "output_type": "stream",
     "text": [
      "calling sliding on df of 1 rows\n",
      "calling sliding on df of 1 rows\n",
      "calling sliding on df of 1 rows\n",
      "calling sliding on df of 1 rows\n"
     ]
    },
    {
     "name": "stderr",
     "output_type": "stream",
     "text": [
      " 36%|███▌      | 243/672 [04:01<06:17,  1.14it/s]"
     ]
    },
    {
     "name": "stdout",
     "output_type": "stream",
     "text": [
      "calling sliding on df of 1 rows\n"
     ]
    },
    {
     "name": "stderr",
     "output_type": "stream",
     "text": [
      " 36%|███▋      | 244/672 [04:02<06:10,  1.16it/s]"
     ]
    },
    {
     "name": "stdout",
     "output_type": "stream",
     "text": [
      "calling sliding on df of 1 rows\n",
      "calling sliding on df of 1 rows\n",
      "calling sliding on df of 1 rows\n",
      "calling sliding on df of 1 rows\n",
      "calling sliding on df of 1 rows\n",
      "calling sliding on df of 1 rows\n",
      "calling sliding on df of 1 rows\n"
     ]
    },
    {
     "name": "stderr",
     "output_type": "stream",
     "text": [
      " 36%|███▋      | 245/672 [04:03<06:01,  1.18it/s]"
     ]
    },
    {
     "name": "stdout",
     "output_type": "stream",
     "text": [
      "calling sliding on df of 1 rows\n"
     ]
    },
    {
     "name": "stderr",
     "output_type": "stream",
     "text": [
      " 37%|███▋      | 246/672 [04:04<06:12,  1.14it/s]"
     ]
    },
    {
     "name": "stdout",
     "output_type": "stream",
     "text": [
      "calling sliding on df of 1 rows\n",
      "calling sliding on df of 1 rows\n",
      "calling sliding on df of 1 rows\n",
      "calling sliding on df of 1 rows\n",
      "calling sliding on df of 1 rows\n",
      "calling sliding on df of 1 rows\n",
      "calling sliding on df of 1 rows\n",
      "calling sliding on df of 1 rows\n"
     ]
    },
    {
     "name": "stderr",
     "output_type": "stream",
     "text": [
      " 37%|███▋      | 247/672 [04:05<06:16,  1.13it/s]"
     ]
    },
    {
     "name": "stdout",
     "output_type": "stream",
     "text": [
      "calling sliding on df of 1 rows\n",
      "calling sliding on df of 1 rows\n",
      "calling sliding on df of 1 rows\n"
     ]
    },
    {
     "name": "stderr",
     "output_type": "stream",
     "text": [
      " 37%|███▋      | 248/672 [04:05<06:17,  1.12it/s]"
     ]
    },
    {
     "name": "stdout",
     "output_type": "stream",
     "text": [
      "calling sliding on df of 1 rows\n",
      "calling sliding on df of 1 rows\n",
      "calling sliding on df of 1 rows\n",
      "calling sliding on df of 1 rows\n",
      "calling sliding on df of 1 rows\n",
      "calling sliding on df of 1 rows\n"
     ]
    },
    {
     "name": "stderr",
     "output_type": "stream",
     "text": [
      " 37%|███▋      | 249/672 [04:06<06:27,  1.09it/s]"
     ]
    },
    {
     "name": "stdout",
     "output_type": "stream",
     "text": [
      "calling sliding on df of 1 rows\n",
      "calling sliding on df of 1 rows\n",
      "calling sliding on df of 1 rows\n",
      "calling sliding on df of 1 rows\n",
      "calling sliding on df of 1 rows\n",
      "calling sliding on df of 1 rows\n"
     ]
    },
    {
     "name": "stderr",
     "output_type": "stream",
     "text": [
      " 37%|███▋      | 250/672 [04:07<06:14,  1.13it/s]"
     ]
    },
    {
     "name": "stdout",
     "output_type": "stream",
     "text": [
      "calling sliding on df of 1 rows\n",
      "calling sliding on df of 1 rows\n"
     ]
    },
    {
     "name": "stderr",
     "output_type": "stream",
     "text": [
      " 37%|███▋      | 251/672 [04:08<06:08,  1.14it/s]"
     ]
    },
    {
     "name": "stdout",
     "output_type": "stream",
     "text": [
      "calling sliding on df of 1 rows\n",
      "calling sliding on df of 1 rows\n",
      "calling sliding on df of 1 rows\n",
      "calling sliding on df of 1 rows\n",
      "calling sliding on df of 1 rows\n",
      "calling sliding on df of 1 rows\n"
     ]
    },
    {
     "name": "stderr",
     "output_type": "stream",
     "text": [
      " 38%|███▊      | 252/672 [04:09<06:14,  1.12it/s]"
     ]
    },
    {
     "name": "stdout",
     "output_type": "stream",
     "text": [
      "calling sliding on df of 1 rows\n",
      "calling sliding on df of 1 rows\n",
      "calling sliding on df of 1 rows\n",
      "calling sliding on df of 1 rows\n",
      "calling sliding on df of 1 rows\n",
      "calling sliding on df of 1 rows\n",
      "calling sliding on df of 1 rows\n",
      "calling sliding on df of 1 rows\n",
      "calling sliding on df of 1 rows\n",
      "calling sliding on df of 1 rows\n"
     ]
    },
    {
     "name": "stderr",
     "output_type": "stream",
     "text": [
      " 38%|███▊      | 253/672 [04:10<06:21,  1.10it/s]"
     ]
    },
    {
     "name": "stdout",
     "output_type": "stream",
     "text": [
      "calling sliding on df of 1 rows\n",
      "calling sliding on df of 1 rows\n",
      "calling sliding on df of 1 rows\n",
      "calling sliding on df of 1 rows\n",
      "calling sliding on df of 1 rows\n",
      "calling sliding on df of 1 rows\n",
      "calling sliding on df of 1 rows\n",
      "calling sliding on df of 1 rows\n",
      "calling sliding on df of 1 rows\n",
      "calling sliding on df of 1 rows\n"
     ]
    },
    {
     "name": "stderr",
     "output_type": "stream",
     "text": [
      " 38%|███▊      | 254/672 [04:11<06:13,  1.12it/s]"
     ]
    },
    {
     "name": "stdout",
     "output_type": "stream",
     "text": [
      "calling sliding on df of 1 rows\n",
      "calling sliding on df of 1 rows\n",
      "calling sliding on df of 1 rows\n",
      "calling sliding on df of 1 rows\n",
      "calling sliding on df of 1 rows\n",
      "calling sliding on df of 1 rows\n"
     ]
    },
    {
     "name": "stderr",
     "output_type": "stream",
     "text": [
      " 38%|███▊      | 255/672 [04:12<06:08,  1.13it/s]"
     ]
    },
    {
     "name": "stdout",
     "output_type": "stream",
     "text": [
      "calling sliding on df of 1 rows\n",
      "calling sliding on df of 1 rows\n",
      "calling sliding on df of 1 rows\n",
      "calling sliding on df of 1 rows\n",
      "calling sliding on df of 1 rows\n",
      "calling sliding on df of 1 rows\n",
      "calling sliding on df of 1 rows\n",
      "calling sliding on df of 1 rows\n",
      "calling sliding on df of 1 rows\n",
      "calling sliding on df of 1 rows\n",
      "calling sliding on df of 1 rows\n",
      "calling sliding on df of 1 rows\n",
      "calling sliding on df of 1 rows\n",
      "calling sliding on df of 1 rows\n"
     ]
    },
    {
     "name": "stderr",
     "output_type": "stream",
     "text": [
      " 38%|███▊      | 256/672 [04:12<05:59,  1.16it/s]"
     ]
    },
    {
     "name": "stdout",
     "output_type": "stream",
     "text": [
      "calling sliding on df of 1 rows\n",
      "calling sliding on df of 1 rows\n",
      "calling sliding on df of 1 rows\n",
      "calling sliding on df of 1 rows\n"
     ]
    },
    {
     "name": "stderr",
     "output_type": "stream",
     "text": [
      " 38%|███▊      | 257/672 [04:13<06:01,  1.15it/s]"
     ]
    },
    {
     "name": "stdout",
     "output_type": "stream",
     "text": [
      "calling sliding on df of 1 rows\n",
      "calling sliding on df of 1 rows\n",
      "calling sliding on df of 1 rows\n",
      "calling sliding on df of 1 rows\n",
      "calling sliding on df of 1 rows\n"
     ]
    },
    {
     "name": "stderr",
     "output_type": "stream",
     "text": [
      " 38%|███▊      | 258/672 [04:14<05:52,  1.17it/s]"
     ]
    },
    {
     "name": "stdout",
     "output_type": "stream",
     "text": [
      "calling sliding on df of 1 rows\n",
      "calling sliding on df of 1 rows\n"
     ]
    },
    {
     "name": "stderr",
     "output_type": "stream",
     "text": [
      " 39%|███▊      | 259/672 [04:15<06:05,  1.13it/s]"
     ]
    },
    {
     "name": "stdout",
     "output_type": "stream",
     "text": [
      "calling sliding on df of 1 rows\n",
      "calling sliding on df of 1 rows\n",
      "calling sliding on df of 1 rows\n",
      "calling sliding on df of 1 rows\n"
     ]
    },
    {
     "name": "stderr",
     "output_type": "stream",
     "text": [
      " 39%|███▊      | 260/672 [04:16<06:10,  1.11it/s]"
     ]
    },
    {
     "name": "stdout",
     "output_type": "stream",
     "text": [
      "calling sliding on df of 1 rows\n",
      "calling sliding on df of 1 rows\n",
      "calling sliding on df of 1 rows\n",
      "calling sliding on df of 1 rows\n",
      "calling sliding on df of 1 rows\n",
      "calling sliding on df of 1 rows\n",
      "calling sliding on df of 1 rows\n",
      "calling sliding on df of 1 rows\n"
     ]
    },
    {
     "name": "stderr",
     "output_type": "stream",
     "text": [
      " 39%|███▉      | 261/672 [04:17<06:02,  1.13it/s]"
     ]
    },
    {
     "name": "stdout",
     "output_type": "stream",
     "text": [
      "calling sliding on df of 1 rows\n"
     ]
    },
    {
     "name": "stderr",
     "output_type": "stream",
     "text": [
      " 39%|███▉      | 262/672 [04:18<06:20,  1.08it/s]"
     ]
    },
    {
     "name": "stdout",
     "output_type": "stream",
     "text": [
      "calling sliding on df of 1 rows\n",
      "calling sliding on df of 1 rows\n"
     ]
    },
    {
     "name": "stderr",
     "output_type": "stream",
     "text": [
      " 39%|███▉      | 263/672 [04:19<06:16,  1.09it/s]"
     ]
    },
    {
     "name": "stdout",
     "output_type": "stream",
     "text": [
      "calling sliding on df of 1 rows\n",
      "calling sliding on df of 1 rows\n",
      "calling sliding on df of 1 rows\n",
      "calling sliding on df of 1 rows\n",
      "calling sliding on df of 1 rows\n",
      "calling sliding on df of 1 rows\n",
      "calling sliding on df of 1 rows\n",
      "calling sliding on df of 1 rows\n",
      "calling sliding on df of 1 rows\n",
      "calling sliding on df of 1 rows\n",
      "calling sliding on df of 1 rows\n",
      "calling sliding on df of 1 rows\n",
      "calling sliding on df of 1 rows\n",
      "calling sliding on df of 1 rows\n",
      "calling sliding on df of 1 rows\n",
      "calling sliding on df of 1 rows\n",
      "calling sliding on df of 1 rows\n",
      "calling sliding on df of 1 rows\n",
      "calling sliding on df of 1 rows\n",
      "calling sliding on df of 1 rows\n"
     ]
    },
    {
     "name": "stderr",
     "output_type": "stream",
     "text": [
      " 39%|███▉      | 264/672 [04:20<06:13,  1.09it/s]"
     ]
    },
    {
     "name": "stdout",
     "output_type": "stream",
     "text": [
      "calling sliding on df of 1 rows\n",
      "calling sliding on df of 1 rows\n"
     ]
    },
    {
     "name": "stderr",
     "output_type": "stream",
     "text": [
      " 39%|███▉      | 265/672 [04:21<06:05,  1.11it/s]"
     ]
    },
    {
     "name": "stdout",
     "output_type": "stream",
     "text": [
      "calling sliding on df of 1 rows\n",
      "calling sliding on df of 1 rows\n",
      "calling sliding on df of 1 rows\n",
      "calling sliding on df of 1 rows\n",
      "calling sliding on df of 1 rows\n",
      "calling sliding on df of 1 rows\n"
     ]
    },
    {
     "name": "stderr",
     "output_type": "stream",
     "text": [
      " 40%|███▉      | 266/672 [04:21<06:02,  1.12it/s]"
     ]
    },
    {
     "name": "stdout",
     "output_type": "stream",
     "text": [
      "calling sliding on df of 1 rows\n",
      "calling sliding on df of 1 rows\n",
      "calling sliding on df of 1 rows\n",
      "calling sliding on df of 1 rows\n",
      "calling sliding on df of 1 rows\n",
      "calling sliding on df of 1 rows\n",
      "calling sliding on df of 1 rows\n",
      "calling sliding on df of 1 rows\n",
      "calling sliding on df of 1 rows\n"
     ]
    },
    {
     "name": "stderr",
     "output_type": "stream",
     "text": [
      " 40%|███▉      | 268/672 [04:22<04:25,  1.52it/s]"
     ]
    },
    {
     "name": "stdout",
     "output_type": "stream",
     "text": [
      "calling sliding on df of 1 rows\n",
      "calling sliding on df of 1 rows\n",
      "calling sliding on df of 1 rows\n",
      "calling sliding on df of 1 rows\n",
      "calling sliding on df of 1 rows\n",
      "calling sliding on df of 1 rows\n",
      "calling sliding on df of 1 rows\n",
      "calling sliding on df of 1 rows\n",
      "calling sliding on df of 1 rows\n",
      "calling sliding on df of 1 rows\n",
      "calling sliding on df of 1 rows\n"
     ]
    },
    {
     "name": "stderr",
     "output_type": "stream",
     "text": [
      " 40%|████      | 270/672 [04:24<04:54,  1.37it/s]"
     ]
    },
    {
     "name": "stdout",
     "output_type": "stream",
     "text": [
      "calling sliding on df of 1 rows\n",
      "calling sliding on df of 1 rows\n",
      "calling sliding on df of 1 rows\n",
      "calling sliding on df of 1 rows\n",
      "calling sliding on df of 1 rows\n",
      "calling sliding on df of 1 rows\n",
      "calling sliding on df of 1 rows\n",
      "calling sliding on df of 1 rows\n",
      "calling sliding on df of 1 rows\n"
     ]
    },
    {
     "name": "stderr",
     "output_type": "stream",
     "text": [
      " 40%|████      | 271/672 [04:25<05:16,  1.27it/s]"
     ]
    },
    {
     "name": "stdout",
     "output_type": "stream",
     "text": [
      "calling sliding on df of 1 rows\n",
      "calling sliding on df of 1 rows\n",
      "calling sliding on df of 1 rows\n",
      "calling sliding on df of 1 rows\n",
      "calling sliding on df of 1 rows\n",
      "calling sliding on df of 1 rows\n",
      "calling sliding on df of 1 rows\n"
     ]
    },
    {
     "name": "stderr",
     "output_type": "stream",
     "text": [
      " 40%|████      | 272/672 [04:26<05:27,  1.22it/s]"
     ]
    },
    {
     "name": "stdout",
     "output_type": "stream",
     "text": [
      "calling sliding on df of 1 rows\n",
      "calling sliding on df of 1 rows\n",
      "calling sliding on df of 1 rows\n",
      "calling sliding on df of 1 rows\n",
      "calling sliding on df of 1 rows\n",
      "calling sliding on df of 1 rows\n",
      "calling sliding on df of 1 rows\n",
      "calling sliding on df of 1 rows\n",
      "calling sliding on df of 1 rows\n",
      "calling sliding on df of 1 rows\n",
      "calling sliding on df of 1 rows\n"
     ]
    },
    {
     "name": "stderr",
     "output_type": "stream",
     "text": [
      " 41%|████      | 274/672 [04:27<04:24,  1.51it/s]"
     ]
    },
    {
     "name": "stdout",
     "output_type": "stream",
     "text": [
      "calling sliding on df of 1 rows\n",
      "calling sliding on df of 1 rows\n",
      "calling sliding on df of 1 rows\n",
      "calling sliding on df of 1 rows\n",
      "calling sliding on df of 1 rows\n",
      "calling sliding on df of 1 rows\n"
     ]
    },
    {
     "name": "stderr",
     "output_type": "stream",
     "text": [
      " 41%|████      | 275/672 [04:28<04:38,  1.43it/s]"
     ]
    },
    {
     "name": "stdout",
     "output_type": "stream",
     "text": [
      "calling sliding on df of 1 rows\n",
      "calling sliding on df of 1 rows\n",
      "calling sliding on df of 1 rows\n",
      "calling sliding on df of 1 rows\n"
     ]
    },
    {
     "name": "stderr",
     "output_type": "stream",
     "text": [
      " 41%|████      | 276/672 [04:28<04:46,  1.38it/s]"
     ]
    },
    {
     "name": "stdout",
     "output_type": "stream",
     "text": [
      "calling sliding on df of 1 rows\n",
      "calling sliding on df of 1 rows\n",
      "calling sliding on df of 1 rows\n",
      "calling sliding on df of 1 rows\n",
      "calling sliding on df of 1 rows\n",
      "calling sliding on df of 1 rows\n"
     ]
    },
    {
     "name": "stderr",
     "output_type": "stream",
     "text": [
      " 41%|████      | 277/672 [04:29<04:57,  1.33it/s]"
     ]
    },
    {
     "name": "stdout",
     "output_type": "stream",
     "text": [
      "calling sliding on df of 1 rows\n",
      "calling sliding on df of 1 rows\n",
      "calling sliding on df of 1 rows\n",
      "calling sliding on df of 1 rows\n",
      "calling sliding on df of 1 rows\n",
      "calling sliding on df of 1 rows\n",
      "calling sliding on df of 1 rows\n"
     ]
    },
    {
     "name": "stderr",
     "output_type": "stream",
     "text": [
      " 41%|████▏     | 278/672 [04:30<05:07,  1.28it/s]"
     ]
    },
    {
     "name": "stdout",
     "output_type": "stream",
     "text": [
      "calling sliding on df of 1 rows\n",
      "calling sliding on df of 1 rows\n",
      "calling sliding on df of 1 rows\n"
     ]
    },
    {
     "name": "stderr",
     "output_type": "stream",
     "text": [
      " 42%|████▏     | 279/672 [04:31<05:15,  1.25it/s]"
     ]
    },
    {
     "name": "stdout",
     "output_type": "stream",
     "text": [
      "calling sliding on df of 1 rows\n",
      "calling sliding on df of 1 rows\n"
     ]
    },
    {
     "name": "stderr",
     "output_type": "stream",
     "text": [
      " 42%|████▏     | 280/672 [04:31<04:42,  1.39it/s]"
     ]
    },
    {
     "name": "stdout",
     "output_type": "stream",
     "text": [
      "calling sliding on df of 1 rows\n",
      "calling sliding on df of 1 rows\n",
      "calling sliding on df of 1 rows\n"
     ]
    },
    {
     "name": "stderr",
     "output_type": "stream",
     "text": [
      " 42%|████▏     | 281/672 [04:32<04:50,  1.35it/s]"
     ]
    },
    {
     "name": "stdout",
     "output_type": "stream",
     "text": [
      "calling sliding on df of 1 rows\n",
      "calling sliding on df of 1 rows\n"
     ]
    },
    {
     "name": "stderr",
     "output_type": "stream",
     "text": [
      " 42%|████▏     | 282/672 [04:33<04:55,  1.32it/s]"
     ]
    },
    {
     "name": "stdout",
     "output_type": "stream",
     "text": [
      "calling sliding on df of 1 rows\n",
      "calling sliding on df of 1 rows\n",
      "calling sliding on df of 1 rows\n",
      "calling sliding on df of 1 rows\n",
      "calling sliding on df of 1 rows\n",
      "calling sliding on df of 1 rows\n"
     ]
    },
    {
     "name": "stderr",
     "output_type": "stream",
     "text": [
      " 42%|████▏     | 283/672 [04:33<03:58,  1.63it/s]"
     ]
    },
    {
     "name": "stdout",
     "output_type": "stream",
     "text": [
      "calling sliding on df of 1 rows\n",
      "calling sliding on df of 1 rows\n",
      "calling sliding on df of 1 rows\n",
      "calling sliding on df of 1 rows\n"
     ]
    },
    {
     "name": "stderr",
     "output_type": "stream",
     "text": [
      " 42%|████▏     | 284/672 [04:34<04:26,  1.46it/s]"
     ]
    },
    {
     "name": "stdout",
     "output_type": "stream",
     "text": [
      "calling sliding on df of 1 rows\n",
      "calling sliding on df of 1 rows\n",
      "calling sliding on df of 1 rows\n",
      "calling sliding on df of 1 rows\n",
      "calling sliding on df of 1 rows\n",
      "calling sliding on df of 1 rows\n",
      "calling sliding on df of 1 rows\n"
     ]
    },
    {
     "name": "stderr",
     "output_type": "stream",
     "text": [
      " 42%|████▏     | 285/672 [04:35<04:44,  1.36it/s]"
     ]
    },
    {
     "name": "stdout",
     "output_type": "stream",
     "text": [
      "calling sliding on df of 1 rows\n",
      "calling sliding on df of 1 rows\n",
      "calling sliding on df of 1 rows\n",
      "calling sliding on df of 1 rows\n",
      "calling sliding on df of 1 rows\n",
      "calling sliding on df of 1 rows\n",
      "calling sliding on df of 1 rows\n"
     ]
    },
    {
     "name": "stderr",
     "output_type": "stream",
     "text": [
      " 43%|████▎     | 286/672 [04:36<04:45,  1.35it/s]"
     ]
    },
    {
     "name": "stdout",
     "output_type": "stream",
     "text": [
      "calling sliding on df of 1 rows\n",
      "calling sliding on df of 1 rows\n",
      "calling sliding on df of 1 rows\n",
      "calling sliding on df of 1 rows\n",
      "calling sliding on df of 1 rows\n",
      "calling sliding on df of 1 rows\n"
     ]
    },
    {
     "name": "stderr",
     "output_type": "stream",
     "text": [
      " 43%|████▎     | 287/672 [04:36<04:50,  1.33it/s]"
     ]
    },
    {
     "name": "stdout",
     "output_type": "stream",
     "text": [
      "calling sliding on df of 1 rows\n",
      "calling sliding on df of 1 rows\n",
      "calling sliding on df of 1 rows\n",
      "calling sliding on df of 1 rows\n",
      "calling sliding on df of 1 rows\n",
      "calling sliding on df of 1 rows\n",
      "calling sliding on df of 1 rows\n",
      "calling sliding on df of 1 rows\n",
      "calling sliding on df of 1 rows\n",
      "calling sliding on df of 1 rows\n",
      "calling sliding on df of 1 rows\n"
     ]
    },
    {
     "name": "stderr",
     "output_type": "stream",
     "text": [
      " 43%|████▎     | 288/672 [04:37<04:56,  1.29it/s]"
     ]
    },
    {
     "name": "stdout",
     "output_type": "stream",
     "text": [
      "calling sliding on df of 1 rows\n",
      "calling sliding on df of 1 rows\n",
      "calling sliding on df of 1 rows\n",
      "calling sliding on df of 1 rows\n",
      "calling sliding on df of 1 rows\n"
     ]
    },
    {
     "name": "stderr",
     "output_type": "stream",
     "text": [
      " 43%|████▎     | 289/672 [04:38<05:04,  1.26it/s]"
     ]
    },
    {
     "name": "stdout",
     "output_type": "stream",
     "text": [
      "calling sliding on df of 1 rows\n",
      "calling sliding on df of 1 rows\n",
      "calling sliding on df of 1 rows\n",
      "calling sliding on df of 1 rows\n",
      "calling sliding on df of 1 rows\n",
      "calling sliding on df of 1 rows\n"
     ]
    },
    {
     "name": "stderr",
     "output_type": "stream",
     "text": [
      " 43%|████▎     | 290/672 [04:39<05:08,  1.24it/s]"
     ]
    },
    {
     "name": "stdout",
     "output_type": "stream",
     "text": [
      "calling sliding on df of 1 rows\n",
      "calling sliding on df of 1 rows\n",
      "calling sliding on df of 1 rows\n"
     ]
    },
    {
     "name": "stderr",
     "output_type": "stream",
     "text": [
      " 43%|████▎     | 291/672 [04:40<05:18,  1.20it/s]"
     ]
    },
    {
     "name": "stdout",
     "output_type": "stream",
     "text": [
      "calling sliding on df of 1 rows\n",
      "calling sliding on df of 1 rows\n",
      "calling sliding on df of 1 rows\n",
      "calling sliding on df of 1 rows\n",
      "calling sliding on df of 1 rows\n"
     ]
    },
    {
     "name": "stderr",
     "output_type": "stream",
     "text": [
      " 43%|████▎     | 292/672 [04:41<05:16,  1.20it/s]"
     ]
    },
    {
     "name": "stdout",
     "output_type": "stream",
     "text": [
      "calling sliding on df of 1 rows\n"
     ]
    },
    {
     "name": "stderr",
     "output_type": "stream",
     "text": [
      " 44%|████▎     | 293/672 [04:42<05:14,  1.20it/s]"
     ]
    },
    {
     "name": "stdout",
     "output_type": "stream",
     "text": [
      "calling sliding on df of 1 rows\n",
      "calling sliding on df of 1 rows\n",
      "calling sliding on df of 1 rows\n",
      "calling sliding on df of 1 rows\n",
      "calling sliding on df of 1 rows\n"
     ]
    },
    {
     "name": "stderr",
     "output_type": "stream",
     "text": [
      " 44%|████▍     | 295/672 [04:43<05:15,  1.20it/s]"
     ]
    },
    {
     "name": "stdout",
     "output_type": "stream",
     "text": [
      "calling sliding on df of 1 rows\n",
      "calling sliding on df of 1 rows\n",
      "calling sliding on df of 1 rows\n",
      "calling sliding on df of 1 rows\n",
      "calling sliding on df of 1 rows\n",
      "calling sliding on df of 1 rows\n",
      "calling sliding on df of 1 rows\n",
      "calling sliding on df of 1 rows\n",
      "calling sliding on df of 1 rows\n",
      "calling sliding on df of 1 rows\n",
      "calling sliding on df of 1 rows\n",
      "calling sliding on df of 1 rows\n",
      "calling sliding on df of 1 rows\n",
      "calling sliding on df of 1 rows\n",
      "calling sliding on df of 1 rows\n",
      "calling sliding on df of 1 rows\n",
      "calling sliding on df of 1 rows\n",
      "calling sliding on df of 1 rows\n",
      "calling sliding on df of 1 rows\n",
      "calling sliding on df of 1 rows\n",
      "calling sliding on df of 1 rows\n",
      "calling sliding on df of 1 rows\n",
      "calling sliding on df of 1 rows\n",
      "calling sliding on df of 1 rows\n",
      "calling sliding on df of 1 rows\n",
      "calling sliding on df of 1 rows\n"
     ]
    },
    {
     "name": "stderr",
     "output_type": "stream",
     "text": [
      " 44%|████▍     | 297/672 [04:45<05:02,  1.24it/s]"
     ]
    },
    {
     "name": "stdout",
     "output_type": "stream",
     "text": [
      "calling sliding on df of 1 rows\n",
      "calling sliding on df of 1 rows\n",
      "calling sliding on df of 1 rows\n",
      "calling sliding on df of 1 rows\n",
      "calling sliding on df of 1 rows\n",
      "calling sliding on df of 1 rows\n",
      "calling sliding on df of 1 rows\n",
      "calling sliding on df of 1 rows\n",
      "calling sliding on df of 1 rows\n",
      "calling sliding on df of 1 rows\n",
      "calling sliding on df of 1 rows\n",
      "calling sliding on df of 1 rows\n",
      "calling sliding on df of 1 rows\n",
      "calling sliding on df of 1 rows\n",
      "calling sliding on df of 1 rows\n",
      "calling sliding on df of 1 rows\n",
      "calling sliding on df of 1 rows\n",
      "calling sliding on df of 1 rows\n",
      "calling sliding on df of 1 rows\n",
      "calling sliding on df of 1 rows\n",
      "calling sliding on df of 1 rows\n",
      "calling sliding on df of 1 rows\n",
      "calling sliding on df of 1 rows\n"
     ]
    },
    {
     "name": "stderr",
     "output_type": "stream",
     "text": [
      " 44%|████▍     | 298/672 [04:46<05:04,  1.23it/s]"
     ]
    },
    {
     "name": "stdout",
     "output_type": "stream",
     "text": [
      "calling sliding on df of 1 rows\n",
      "calling sliding on df of 1 rows\n",
      "calling sliding on df of 1 rows\n",
      "calling sliding on df of 1 rows\n"
     ]
    },
    {
     "name": "stderr",
     "output_type": "stream",
     "text": [
      " 44%|████▍     | 299/672 [04:46<05:05,  1.22it/s]"
     ]
    },
    {
     "name": "stdout",
     "output_type": "stream",
     "text": [
      "calling sliding on df of 1 rows\n",
      "calling sliding on df of 1 rows\n",
      "calling sliding on df of 1 rows\n",
      "calling sliding on df of 1 rows\n",
      "calling sliding on df of 1 rows\n"
     ]
    },
    {
     "name": "stderr",
     "output_type": "stream",
     "text": [
      " 45%|████▍     | 300/672 [04:47<05:13,  1.19it/s]"
     ]
    },
    {
     "name": "stdout",
     "output_type": "stream",
     "text": [
      "calling sliding on df of 1 rows\n",
      "calling sliding on df of 1 rows\n",
      "calling sliding on df of 1 rows\n",
      "calling sliding on df of 1 rows\n",
      "calling sliding on df of 1 rows\n",
      "calling sliding on df of 1 rows\n",
      "calling sliding on df of 1 rows\n",
      "calling sliding on df of 1 rows\n",
      "calling sliding on df of 1 rows\n",
      "calling sliding on df of 1 rows\n",
      "calling sliding on df of 1 rows\n",
      "calling sliding on df of 1 rows\n"
     ]
    },
    {
     "name": "stderr",
     "output_type": "stream",
     "text": [
      " 45%|████▍     | 301/672 [04:48<05:17,  1.17it/s]"
     ]
    },
    {
     "name": "stdout",
     "output_type": "stream",
     "text": [
      "calling sliding on df of 1 rows\n",
      "calling sliding on df of 1 rows\n",
      "calling sliding on df of 1 rows\n",
      "calling sliding on df of 1 rows\n"
     ]
    },
    {
     "name": "stderr",
     "output_type": "stream",
     "text": [
      " 45%|████▍     | 302/672 [04:49<05:04,  1.21it/s]"
     ]
    },
    {
     "name": "stdout",
     "output_type": "stream",
     "text": [
      "calling sliding on df of 1 rows\n",
      "calling sliding on df of 1 rows\n"
     ]
    },
    {
     "name": "stderr",
     "output_type": "stream",
     "text": [
      " 45%|████▌     | 304/672 [04:51<04:55,  1.24it/s]"
     ]
    },
    {
     "name": "stdout",
     "output_type": "stream",
     "text": [
      "calling sliding on df of 1 rows\n",
      "calling sliding on df of 1 rows\n",
      "calling sliding on df of 1 rows\n",
      "calling sliding on df of 1 rows\n",
      "calling sliding on df of 1 rows\n",
      "calling sliding on df of 1 rows\n"
     ]
    },
    {
     "name": "stderr",
     "output_type": "stream",
     "text": [
      " 45%|████▌     | 305/672 [04:51<05:00,  1.22it/s]"
     ]
    },
    {
     "name": "stdout",
     "output_type": "stream",
     "text": [
      "calling sliding on df of 1 rows\n",
      "calling sliding on df of 1 rows\n",
      "calling sliding on df of 1 rows\n",
      "calling sliding on df of 1 rows\n",
      "calling sliding on df of 1 rows\n",
      "calling sliding on df of 1 rows\n",
      "calling sliding on df of 1 rows\n"
     ]
    },
    {
     "name": "stderr",
     "output_type": "stream",
     "text": [
      " 46%|████▌     | 306/672 [04:52<04:54,  1.24it/s]"
     ]
    },
    {
     "name": "stdout",
     "output_type": "stream",
     "text": [
      "calling sliding on df of 1 rows\n",
      "calling sliding on df of 1 rows\n",
      "calling sliding on df of 1 rows\n",
      "calling sliding on df of 1 rows\n",
      "calling sliding on df of 1 rows\n",
      "calling sliding on df of 1 rows\n",
      "calling sliding on df of 1 rows\n"
     ]
    },
    {
     "name": "stderr",
     "output_type": "stream",
     "text": [
      " 46%|████▌     | 307/672 [04:53<04:54,  1.24it/s]"
     ]
    },
    {
     "name": "stdout",
     "output_type": "stream",
     "text": [
      "calling sliding on df of 1 rows\n",
      "calling sliding on df of 1 rows\n",
      "calling sliding on df of 1 rows\n"
     ]
    },
    {
     "name": "stderr",
     "output_type": "stream",
     "text": [
      " 46%|████▌     | 310/672 [04:55<04:27,  1.35it/s]"
     ]
    },
    {
     "name": "stdout",
     "output_type": "stream",
     "text": [
      "calling sliding on df of 1 rows\n",
      "calling sliding on df of 1 rows\n",
      "calling sliding on df of 1 rows\n",
      "calling sliding on df of 1 rows\n",
      "calling sliding on df of 1 rows\n",
      "calling sliding on df of 1 rows\n"
     ]
    },
    {
     "name": "stderr",
     "output_type": "stream",
     "text": [
      " 46%|████▋     | 311/672 [04:56<04:46,  1.26it/s]"
     ]
    },
    {
     "name": "stdout",
     "output_type": "stream",
     "text": [
      "calling sliding on df of 1 rows\n",
      "calling sliding on df of 1 rows\n",
      "calling sliding on df of 1 rows\n",
      "calling sliding on df of 1 rows\n",
      "calling sliding on df of 1 rows\n",
      "calling sliding on df of 1 rows\n",
      "calling sliding on df of 1 rows\n",
      "calling sliding on df of 1 rows\n",
      "calling sliding on df of 1 rows\n",
      "calling sliding on df of 1 rows\n"
     ]
    },
    {
     "name": "stderr",
     "output_type": "stream",
     "text": [
      " 46%|████▋     | 312/672 [04:57<04:51,  1.24it/s]"
     ]
    },
    {
     "name": "stdout",
     "output_type": "stream",
     "text": [
      "calling sliding on df of 1 rows\n",
      "calling sliding on df of 1 rows\n",
      "calling sliding on df of 1 rows\n",
      "calling sliding on df of 1 rows\n",
      "calling sliding on df of 1 rows\n",
      "calling sliding on df of 1 rows\n",
      "calling sliding on df of 1 rows\n"
     ]
    },
    {
     "name": "stderr",
     "output_type": "stream",
     "text": [
      " 47%|████▋     | 313/672 [04:58<04:57,  1.21it/s]"
     ]
    },
    {
     "name": "stdout",
     "output_type": "stream",
     "text": [
      "calling sliding on df of 1 rows\n",
      "calling sliding on df of 1 rows\n",
      "calling sliding on df of 1 rows\n",
      "calling sliding on df of 1 rows\n",
      "calling sliding on df of 1 rows\n"
     ]
    },
    {
     "name": "stderr",
     "output_type": "stream",
     "text": [
      " 47%|████▋     | 314/672 [04:58<04:52,  1.22it/s]"
     ]
    },
    {
     "name": "stdout",
     "output_type": "stream",
     "text": [
      "calling sliding on df of 1 rows\n",
      "calling sliding on df of 1 rows\n",
      "calling sliding on df of 1 rows\n",
      "calling sliding on df of 1 rows\n",
      "calling sliding on df of 1 rows\n"
     ]
    },
    {
     "name": "stderr",
     "output_type": "stream",
     "text": [
      " 47%|████▋     | 315/672 [04:59<04:51,  1.23it/s]"
     ]
    },
    {
     "name": "stdout",
     "output_type": "stream",
     "text": [
      "calling sliding on df of 1 rows\n",
      "calling sliding on df of 1 rows\n",
      "calling sliding on df of 1 rows\n"
     ]
    },
    {
     "name": "stderr",
     "output_type": "stream",
     "text": [
      " 47%|████▋     | 316/672 [05:00<04:56,  1.20it/s]"
     ]
    },
    {
     "name": "stdout",
     "output_type": "stream",
     "text": [
      "calling sliding on df of 1 rows\n",
      "calling sliding on df of 1 rows\n",
      "calling sliding on df of 1 rows\n",
      "calling sliding on df of 1 rows\n",
      "calling sliding on df of 1 rows\n",
      "calling sliding on df of 1 rows\n",
      "calling sliding on df of 1 rows\n",
      "calling sliding on df of 1 rows\n",
      "calling sliding on df of 1 rows\n"
     ]
    },
    {
     "name": "stderr",
     "output_type": "stream",
     "text": [
      " 47%|████▋     | 317/672 [05:01<04:54,  1.20it/s]"
     ]
    },
    {
     "name": "stdout",
     "output_type": "stream",
     "text": [
      "calling sliding on df of 1 rows\n",
      "calling sliding on df of 1 rows\n",
      "calling sliding on df of 1 rows\n",
      "calling sliding on df of 1 rows\n",
      "calling sliding on df of 1 rows\n",
      "calling sliding on df of 1 rows\n",
      "calling sliding on df of 1 rows\n"
     ]
    },
    {
     "name": "stderr",
     "output_type": "stream",
     "text": [
      " 47%|████▋     | 318/672 [05:02<05:00,  1.18it/s]"
     ]
    },
    {
     "name": "stdout",
     "output_type": "stream",
     "text": [
      "calling sliding on df of 1 rows\n",
      "calling sliding on df of 1 rows\n",
      "calling sliding on df of 1 rows\n",
      "calling sliding on df of 1 rows\n",
      "calling sliding on df of 1 rows\n",
      "calling sliding on df of 1 rows\n"
     ]
    },
    {
     "name": "stderr",
     "output_type": "stream",
     "text": [
      " 47%|████▋     | 319/672 [05:03<04:58,  1.18it/s]"
     ]
    },
    {
     "name": "stdout",
     "output_type": "stream",
     "text": [
      "calling sliding on df of 1 rows\n",
      "calling sliding on df of 1 rows\n"
     ]
    },
    {
     "name": "stderr",
     "output_type": "stream",
     "text": [
      " 48%|████▊     | 320/672 [05:03<04:56,  1.19it/s]"
     ]
    },
    {
     "name": "stdout",
     "output_type": "stream",
     "text": [
      "calling sliding on df of 1 rows\n",
      "calling sliding on df of 1 rows\n",
      "calling sliding on df of 1 rows\n"
     ]
    },
    {
     "name": "stderr",
     "output_type": "stream",
     "text": [
      " 48%|████▊     | 321/672 [05:04<04:53,  1.19it/s]"
     ]
    },
    {
     "name": "stdout",
     "output_type": "stream",
     "text": [
      "calling sliding on df of 1 rows\n",
      "calling sliding on df of 1 rows\n",
      "calling sliding on df of 1 rows\n",
      "calling sliding on df of 1 rows\n",
      "calling sliding on df of 1 rows\n",
      "calling sliding on df of 1 rows\n",
      "calling sliding on df of 1 rows\n",
      "calling sliding on df of 1 rows\n",
      "calling sliding on df of 1 rows\n",
      "calling sliding on df of 1 rows\n",
      "calling sliding on df of 1 rows\n",
      "calling sliding on df of 1 rows\n"
     ]
    },
    {
     "name": "stderr",
     "output_type": "stream",
     "text": [
      " 48%|████▊     | 322/672 [05:05<05:00,  1.16it/s]"
     ]
    },
    {
     "name": "stdout",
     "output_type": "stream",
     "text": [
      "calling sliding on df of 1 rows\n",
      "calling sliding on df of 1 rows\n",
      "calling sliding on df of 1 rows\n"
     ]
    },
    {
     "name": "stderr",
     "output_type": "stream",
     "text": [
      " 48%|████▊     | 323/672 [05:06<04:57,  1.17it/s]"
     ]
    },
    {
     "name": "stdout",
     "output_type": "stream",
     "text": [
      "calling sliding on df of 1 rows\n",
      "calling sliding on df of 1 rows\n",
      "calling sliding on df of 1 rows\n",
      "calling sliding on df of 1 rows\n",
      "calling sliding on df of 1 rows\n"
     ]
    },
    {
     "name": "stderr",
     "output_type": "stream",
     "text": [
      " 48%|████▊     | 324/672 [05:07<04:56,  1.17it/s]"
     ]
    },
    {
     "name": "stdout",
     "output_type": "stream",
     "text": [
      "calling sliding on df of 1 rows\n",
      "calling sliding on df of 1 rows\n",
      "calling sliding on df of 1 rows\n",
      "calling sliding on df of 1 rows\n",
      "calling sliding on df of 1 rows\n",
      "calling sliding on df of 1 rows\n"
     ]
    },
    {
     "name": "stderr",
     "output_type": "stream",
     "text": [
      " 48%|████▊     | 325/672 [05:08<04:55,  1.17it/s]"
     ]
    },
    {
     "name": "stdout",
     "output_type": "stream",
     "text": [
      "calling sliding on df of 1 rows\n",
      "calling sliding on df of 1 rows\n",
      "calling sliding on df of 1 rows\n",
      "calling sliding on df of 1 rows\n",
      "calling sliding on df of 1 rows\n",
      "calling sliding on df of 1 rows\n",
      "calling sliding on df of 1 rows\n",
      "calling sliding on df of 1 rows\n",
      "calling sliding on df of 1 rows\n",
      "calling sliding on df of 1 rows\n",
      "calling sliding on df of 1 rows\n",
      "calling sliding on df of 1 rows\n",
      "calling sliding on df of 1 rows\n",
      "calling sliding on df of 1 rows\n"
     ]
    },
    {
     "name": "stderr",
     "output_type": "stream",
     "text": [
      " 49%|████▊     | 327/672 [05:09<04:50,  1.19it/s]"
     ]
    },
    {
     "name": "stdout",
     "output_type": "stream",
     "text": [
      "calling sliding on df of 1 rows\n",
      "calling sliding on df of 1 rows\n"
     ]
    },
    {
     "name": "stderr",
     "output_type": "stream",
     "text": [
      " 49%|████▉     | 328/672 [05:10<04:49,  1.19it/s]"
     ]
    },
    {
     "name": "stdout",
     "output_type": "stream",
     "text": [
      "calling sliding on df of 1 rows\n",
      "calling sliding on df of 1 rows\n",
      "calling sliding on df of 1 rows\n",
      "calling sliding on df of 1 rows\n",
      "calling sliding on df of 1 rows\n"
     ]
    },
    {
     "name": "stderr",
     "output_type": "stream",
     "text": [
      " 49%|████▉     | 329/672 [05:11<04:58,  1.15it/s]"
     ]
    },
    {
     "name": "stdout",
     "output_type": "stream",
     "text": [
      "calling sliding on df of 1 rows\n",
      "calling sliding on df of 1 rows\n",
      "calling sliding on df of 1 rows\n",
      "calling sliding on df of 1 rows\n"
     ]
    },
    {
     "name": "stderr",
     "output_type": "stream",
     "text": [
      " 49%|████▉     | 330/672 [05:12<04:51,  1.17it/s]"
     ]
    },
    {
     "name": "stdout",
     "output_type": "stream",
     "text": [
      "calling sliding on df of 1 rows\n",
      "calling sliding on df of 1 rows\n",
      "calling sliding on df of 1 rows\n",
      "calling sliding on df of 1 rows\n",
      "calling sliding on df of 1 rows\n",
      "calling sliding on df of 1 rows\n"
     ]
    },
    {
     "name": "stderr",
     "output_type": "stream",
     "text": [
      " 49%|████▉     | 331/672 [05:13<04:53,  1.16it/s]"
     ]
    },
    {
     "name": "stdout",
     "output_type": "stream",
     "text": [
      "calling sliding on df of 1 rows\n",
      "calling sliding on df of 1 rows\n",
      "calling sliding on df of 1 rows\n",
      "calling sliding on df of 1 rows\n",
      "calling sliding on df of 1 rows\n",
      "calling sliding on df of 1 rows\n",
      "calling sliding on df of 1 rows\n",
      "calling sliding on df of 1 rows\n",
      "calling sliding on df of 1 rows\n",
      "calling sliding on df of 1 rows\n",
      "calling sliding on df of 1 rows\n",
      "calling sliding on df of 1 rows\n",
      "calling sliding on df of 1 rows\n"
     ]
    },
    {
     "name": "stderr",
     "output_type": "stream",
     "text": [
      " 49%|████▉     | 332/672 [05:14<04:45,  1.19it/s]"
     ]
    },
    {
     "name": "stdout",
     "output_type": "stream",
     "text": [
      "calling sliding on df of 1 rows\n",
      "calling sliding on df of 1 rows\n",
      "calling sliding on df of 1 rows\n",
      "calling sliding on df of 1 rows\n",
      "calling sliding on df of 1 rows\n",
      "calling sliding on df of 1 rows\n",
      "calling sliding on df of 1 rows\n",
      "calling sliding on df of 1 rows\n",
      "calling sliding on df of 1 rows\n",
      "calling sliding on df of 1 rows\n",
      "calling sliding on df of 1 rows\n",
      "calling sliding on df of 1 rows\n",
      "calling sliding on df of 1 rows\n",
      "calling sliding on df of 1 rows\n",
      "calling sliding on df of 1 rows\n",
      "calling sliding on df of 1 rows\n",
      "calling sliding on df of 1 rows\n",
      "calling sliding on df of 1 rows\n"
     ]
    },
    {
     "name": "stderr",
     "output_type": "stream",
     "text": [
      " 50%|████▉     | 333/672 [05:15<05:01,  1.12it/s]"
     ]
    },
    {
     "name": "stdout",
     "output_type": "stream",
     "text": [
      "calling sliding on df of 1 rows\n",
      "calling sliding on df of 1 rows\n",
      "calling sliding on df of 1 rows\n",
      "calling sliding on df of 1 rows\n",
      "calling sliding on df of 1 rows\n",
      "calling sliding on df of 1 rows\n",
      "calling sliding on df of 1 rows\n",
      "calling sliding on df of 1 rows\n",
      "calling sliding on df of 1 rows\n",
      "calling sliding on df of 1 rows\n",
      "calling sliding on df of 1 rows\n"
     ]
    },
    {
     "name": "stderr",
     "output_type": "stream",
     "text": [
      " 50%|████▉     | 334/672 [05:15<04:54,  1.15it/s]"
     ]
    },
    {
     "name": "stdout",
     "output_type": "stream",
     "text": [
      "calling sliding on df of 1 rows\n",
      "calling sliding on df of 1 rows\n",
      "calling sliding on df of 1 rows\n",
      "calling sliding on df of 1 rows\n",
      "calling sliding on df of 1 rows\n",
      "calling sliding on df of 1 rows\n",
      "calling sliding on df of 1 rows\n",
      "calling sliding on df of 1 rows\n",
      "calling sliding on df of 1 rows\n"
     ]
    },
    {
     "name": "stderr",
     "output_type": "stream",
     "text": [
      " 50%|████▉     | 335/672 [05:16<04:48,  1.17it/s]"
     ]
    },
    {
     "name": "stdout",
     "output_type": "stream",
     "text": [
      "calling sliding on df of 1 rows\n",
      "calling sliding on df of 1 rows\n",
      "calling sliding on df of 1 rows\n",
      "calling sliding on df of 1 rows\n",
      "calling sliding on df of 1 rows\n",
      "calling sliding on df of 1 rows\n",
      "calling sliding on df of 1 rows\n",
      "calling sliding on df of 1 rows\n"
     ]
    },
    {
     "name": "stderr",
     "output_type": "stream",
     "text": [
      " 50%|█████     | 336/672 [05:17<04:44,  1.18it/s]"
     ]
    },
    {
     "name": "stdout",
     "output_type": "stream",
     "text": [
      "calling sliding on df of 1 rows\n",
      "calling sliding on df of 1 rows\n"
     ]
    },
    {
     "name": "stderr",
     "output_type": "stream",
     "text": [
      " 50%|█████     | 338/672 [05:19<04:43,  1.18it/s]"
     ]
    },
    {
     "name": "stdout",
     "output_type": "stream",
     "text": [
      "calling sliding on df of 1 rows\n",
      "calling sliding on df of 1 rows\n",
      "calling sliding on df of 1 rows\n",
      "calling sliding on df of 1 rows\n",
      "calling sliding on df of 1 rows\n",
      "calling sliding on df of 1 rows\n",
      "calling sliding on df of 1 rows\n",
      "calling sliding on df of 1 rows\n",
      "calling sliding on df of 1 rows\n",
      "calling sliding on df of 1 rows\n",
      "calling sliding on df of 1 rows\n",
      "calling sliding on df of 1 rows\n",
      "calling sliding on df of 1 rows\n",
      "calling sliding on df of 1 rows\n",
      "calling sliding on df of 1 rows\n",
      "calling sliding on df of 1 rows\n",
      "calling sliding on df of 1 rows\n",
      "calling sliding on df of 1 rows\n",
      "calling sliding on df of 1 rows\n",
      "calling sliding on df of 1 rows\n",
      "calling sliding on df of 1 rows\n",
      "calling sliding on df of 1 rows\n",
      "calling sliding on df of 1 rows\n",
      "calling sliding on df of 1 rows\n",
      "calling sliding on df of 1 rows\n",
      "calling sliding on df of 1 rows\n",
      "calling sliding on df of 1 rows\n",
      "calling sliding on df of 1 rows\n",
      "calling sliding on df of 1 rows\n",
      "calling sliding on df of 1 rows\n",
      "calling sliding on df of 1 rows\n",
      "calling sliding on df of 1 rows\n",
      "calling sliding on df of 1 rows\n",
      "calling sliding on df of 1 rows\n",
      "calling sliding on df of 1 rows\n",
      "calling sliding on df of 1 rows\n",
      "calling sliding on df of 1 rows\n",
      "calling sliding on df of 1 rows\n",
      "calling sliding on df of 1 rows\n",
      "calling sliding on df of 1 rows\n"
     ]
    },
    {
     "name": "stderr",
     "output_type": "stream",
     "text": [
      " 50%|█████     | 339/672 [05:20<04:46,  1.16it/s]"
     ]
    },
    {
     "name": "stdout",
     "output_type": "stream",
     "text": [
      "calling sliding on df of 1 rows\n",
      "calling sliding on df of 1 rows\n",
      "calling sliding on df of 1 rows\n",
      "calling sliding on df of 1 rows\n",
      "calling sliding on df of 1 rows\n",
      "calling sliding on df of 1 rows\n",
      "calling sliding on df of 1 rows\n",
      "calling sliding on df of 1 rows\n",
      "calling sliding on df of 1 rows\n",
      "calling sliding on df of 1 rows\n",
      "calling sliding on df of 1 rows\n",
      "calling sliding on df of 1 rows\n"
     ]
    },
    {
     "name": "stderr",
     "output_type": "stream",
     "text": [
      " 51%|█████     | 341/672 [05:22<04:54,  1.12it/s]"
     ]
    },
    {
     "name": "stdout",
     "output_type": "stream",
     "text": [
      "calling sliding on df of 1 rows\n",
      "calling sliding on df of 1 rows\n",
      "calling sliding on df of 1 rows\n"
     ]
    },
    {
     "name": "stderr",
     "output_type": "stream",
     "text": [
      " 51%|█████     | 342/672 [05:22<05:00,  1.10it/s]"
     ]
    },
    {
     "name": "stdout",
     "output_type": "stream",
     "text": [
      "calling sliding on df of 1 rows\n",
      "calling sliding on df of 1 rows\n",
      "calling sliding on df of 1 rows\n",
      "calling sliding on df of 1 rows\n",
      "calling sliding on df of 1 rows\n",
      "calling sliding on df of 1 rows\n"
     ]
    },
    {
     "name": "stderr",
     "output_type": "stream",
     "text": [
      " 51%|█████     | 343/672 [05:23<04:48,  1.14it/s]"
     ]
    },
    {
     "name": "stdout",
     "output_type": "stream",
     "text": [
      "calling sliding on df of 1 rows\n",
      "calling sliding on df of 1 rows\n",
      "calling sliding on df of 1 rows\n",
      "calling sliding on df of 1 rows\n",
      "calling sliding on df of 1 rows\n",
      "calling sliding on df of 1 rows\n",
      "calling sliding on df of 1 rows\n"
     ]
    },
    {
     "name": "stderr",
     "output_type": "stream",
     "text": [
      " 51%|█████     | 344/672 [05:24<04:47,  1.14it/s]"
     ]
    },
    {
     "name": "stdout",
     "output_type": "stream",
     "text": [
      "calling sliding on df of 1 rows\n",
      "calling sliding on df of 1 rows\n",
      "calling sliding on df of 1 rows\n"
     ]
    },
    {
     "name": "stderr",
     "output_type": "stream",
     "text": [
      " 51%|█████▏    | 345/672 [05:25<04:48,  1.13it/s]"
     ]
    },
    {
     "name": "stdout",
     "output_type": "stream",
     "text": [
      "calling sliding on df of 1 rows\n",
      "calling sliding on df of 1 rows\n",
      "calling sliding on df of 1 rows\n",
      "calling sliding on df of 1 rows\n",
      "calling sliding on df of 1 rows\n",
      "calling sliding on df of 1 rows\n",
      "calling sliding on df of 1 rows\n",
      "calling sliding on df of 1 rows\n",
      "calling sliding on df of 1 rows\n",
      "calling sliding on df of 1 rows\n",
      "calling sliding on df of 1 rows\n",
      "calling sliding on df of 1 rows\n",
      "calling sliding on df of 1 rows\n",
      "calling sliding on df of 1 rows\n",
      "calling sliding on df of 1 rows\n",
      "calling sliding on df of 1 rows\n",
      "calling sliding on df of 1 rows\n",
      "calling sliding on df of 1 rows\n",
      "calling sliding on df of 1 rows\n",
      "calling sliding on df of 1 rows\n",
      "calling sliding on df of 1 rows\n",
      "calling sliding on df of 1 rows\n",
      "calling sliding on df of 1 rows\n",
      "calling sliding on df of 1 rows\n",
      "calling sliding on df of 1 rows\n",
      "calling sliding on df of 1 rows\n",
      "calling sliding on df of 1 rows\n",
      "calling sliding on df of 1 rows\n",
      "calling sliding on df of 1 rows\n",
      "calling sliding on df of 1 rows\n",
      "calling sliding on df of 1 rows\n",
      "calling sliding on df of 1 rows\n",
      "calling sliding on df of 1 rows\n"
     ]
    },
    {
     "name": "stderr",
     "output_type": "stream",
     "text": [
      " 51%|█████▏    | 346/672 [05:26<04:41,  1.16it/s]"
     ]
    },
    {
     "name": "stdout",
     "output_type": "stream",
     "text": [
      "calling sliding on df of 1 rows\n",
      "calling sliding on df of 1 rows\n",
      "calling sliding on df of 1 rows\n",
      "calling sliding on df of 1 rows\n",
      "calling sliding on df of 1 rows\n",
      "calling sliding on df of 1 rows\n",
      "calling sliding on df of 1 rows\n",
      "calling sliding on df of 1 rows\n",
      "calling sliding on df of 1 rows\n",
      "calling sliding on df of 1 rows\n"
     ]
    },
    {
     "name": "stderr",
     "output_type": "stream",
     "text": [
      " 52%|█████▏    | 347/672 [05:27<04:27,  1.21it/s]"
     ]
    },
    {
     "name": "stdout",
     "output_type": "stream",
     "text": [
      "calling sliding on df of 1 rows\n",
      "calling sliding on df of 1 rows\n",
      "calling sliding on df of 1 rows\n",
      "calling sliding on df of 1 rows\n",
      "calling sliding on df of 1 rows\n"
     ]
    },
    {
     "name": "stderr",
     "output_type": "stream",
     "text": [
      " 52%|█████▏    | 348/672 [05:27<04:29,  1.20it/s]"
     ]
    },
    {
     "name": "stdout",
     "output_type": "stream",
     "text": [
      "calling sliding on df of 1 rows\n",
      "calling sliding on df of 1 rows\n",
      "calling sliding on df of 1 rows\n"
     ]
    },
    {
     "name": "stderr",
     "output_type": "stream",
     "text": [
      " 52%|█████▏    | 349/672 [05:28<04:35,  1.17it/s]"
     ]
    },
    {
     "name": "stdout",
     "output_type": "stream",
     "text": [
      "calling sliding on df of 1 rows\n",
      "calling sliding on df of 1 rows\n",
      "calling sliding on df of 1 rows\n",
      "calling sliding on df of 1 rows\n",
      "calling sliding on df of 1 rows\n",
      "calling sliding on df of 1 rows\n"
     ]
    },
    {
     "name": "stderr",
     "output_type": "stream",
     "text": [
      " 52%|█████▏    | 350/672 [05:29<04:35,  1.17it/s]"
     ]
    },
    {
     "name": "stdout",
     "output_type": "stream",
     "text": [
      "calling sliding on df of 1 rows\n",
      "calling sliding on df of 1 rows\n",
      "calling sliding on df of 1 rows\n",
      "calling sliding on df of 1 rows\n",
      "calling sliding on df of 1 rows\n",
      "calling sliding on df of 1 rows\n",
      "calling sliding on df of 1 rows\n",
      "calling sliding on df of 1 rows\n",
      "calling sliding on df of 1 rows\n",
      "calling sliding on df of 1 rows\n"
     ]
    },
    {
     "name": "stderr",
     "output_type": "stream",
     "text": [
      " 52%|█████▏    | 352/672 [05:31<04:29,  1.19it/s]"
     ]
    },
    {
     "name": "stdout",
     "output_type": "stream",
     "text": [
      "calling sliding on df of 1 rows\n",
      "calling sliding on df of 1 rows\n",
      "calling sliding on df of 1 rows\n",
      "calling sliding on df of 1 rows\n"
     ]
    },
    {
     "name": "stderr",
     "output_type": "stream",
     "text": [
      " 53%|█████▎    | 353/672 [05:32<04:15,  1.25it/s]"
     ]
    },
    {
     "name": "stdout",
     "output_type": "stream",
     "text": [
      "calling sliding on df of 1 rows\n",
      "calling sliding on df of 1 rows\n",
      "calling sliding on df of 1 rows\n",
      "calling sliding on df of 1 rows\n",
      "calling sliding on df of 1 rows\n",
      "calling sliding on df of 1 rows\n",
      "calling sliding on df of 1 rows\n",
      "calling sliding on df of 1 rows\n"
     ]
    },
    {
     "name": "stderr",
     "output_type": "stream",
     "text": [
      " 53%|█████▎    | 354/672 [05:32<04:14,  1.25it/s]"
     ]
    },
    {
     "name": "stdout",
     "output_type": "stream",
     "text": [
      "calling sliding on df of 1 rows\n",
      "calling sliding on df of 1 rows\n",
      "calling sliding on df of 1 rows\n",
      "calling sliding on df of 1 rows\n",
      "calling sliding on df of 1 rows\n",
      "calling sliding on df of 1 rows\n",
      "calling sliding on df of 1 rows\n",
      "calling sliding on df of 1 rows\n"
     ]
    },
    {
     "name": "stderr",
     "output_type": "stream",
     "text": [
      " 53%|█████▎    | 355/672 [05:33<04:07,  1.28it/s]"
     ]
    },
    {
     "name": "stdout",
     "output_type": "stream",
     "text": [
      "calling sliding on df of 1 rows\n",
      "calling sliding on df of 1 rows\n",
      "calling sliding on df of 1 rows\n",
      "calling sliding on df of 1 rows\n",
      "calling sliding on df of 1 rows\n",
      "calling sliding on df of 1 rows\n"
     ]
    },
    {
     "name": "stderr",
     "output_type": "stream",
     "text": [
      " 53%|█████▎    | 356/672 [05:34<04:06,  1.28it/s]"
     ]
    },
    {
     "name": "stdout",
     "output_type": "stream",
     "text": [
      "calling sliding on df of 1 rows\n",
      "calling sliding on df of 1 rows\n",
      "calling sliding on df of 1 rows\n",
      "calling sliding on df of 1 rows\n",
      "calling sliding on df of 1 rows\n"
     ]
    },
    {
     "name": "stderr",
     "output_type": "stream",
     "text": [
      " 53%|█████▎    | 357/672 [05:35<04:07,  1.27it/s]"
     ]
    },
    {
     "name": "stdout",
     "output_type": "stream",
     "text": [
      "calling sliding on df of 1 rows\n",
      "calling sliding on df of 1 rows\n",
      "calling sliding on df of 1 rows\n",
      "calling sliding on df of 1 rows\n",
      "calling sliding on df of 1 rows\n",
      "calling sliding on df of 1 rows\n",
      "calling sliding on df of 1 rows\n",
      "calling sliding on df of 1 rows\n"
     ]
    },
    {
     "name": "stderr",
     "output_type": "stream",
     "text": [
      " 53%|█████▎    | 358/672 [05:36<04:13,  1.24it/s]"
     ]
    },
    {
     "name": "stdout",
     "output_type": "stream",
     "text": [
      "calling sliding on df of 1 rows\n",
      "calling sliding on df of 1 rows\n",
      "calling sliding on df of 1 rows\n",
      "calling sliding on df of 1 rows\n",
      "calling sliding on df of 1 rows\n",
      "calling sliding on df of 1 rows\n",
      "calling sliding on df of 1 rows\n"
     ]
    },
    {
     "name": "stderr",
     "output_type": "stream",
     "text": [
      " 53%|█████▎    | 359/672 [05:36<04:12,  1.24it/s]"
     ]
    },
    {
     "name": "stdout",
     "output_type": "stream",
     "text": [
      "calling sliding on df of 1 rows\n",
      "calling sliding on df of 1 rows\n",
      "calling sliding on df of 1 rows\n",
      "calling sliding on df of 1 rows\n",
      "calling sliding on df of 1 rows\n"
     ]
    },
    {
     "name": "stderr",
     "output_type": "stream",
     "text": [
      " 54%|█████▎    | 360/672 [05:37<04:10,  1.25it/s]"
     ]
    },
    {
     "name": "stdout",
     "output_type": "stream",
     "text": [
      "calling sliding on df of 1 rows\n",
      "calling sliding on df of 1 rows\n",
      "calling sliding on df of 1 rows\n",
      "calling sliding on df of 1 rows\n",
      "calling sliding on df of 1 rows\n",
      "calling sliding on df of 1 rows\n",
      "calling sliding on df of 1 rows\n",
      "calling sliding on df of 1 rows\n",
      "calling sliding on df of 1 rows\n",
      "calling sliding on df of 1 rows\n",
      "calling sliding on df of 1 rows\n",
      "calling sliding on df of 1 rows\n",
      "calling sliding on df of 1 rows\n",
      "calling sliding on df of 1 rows\n",
      "calling sliding on df of 1 rows\n",
      "calling sliding on df of 1 rows\n"
     ]
    },
    {
     "name": "stderr",
     "output_type": "stream",
     "text": [
      " 54%|█████▎    | 361/672 [05:38<03:58,  1.30it/s]"
     ]
    },
    {
     "name": "stdout",
     "output_type": "stream",
     "text": [
      "calling sliding on df of 1 rows\n",
      "calling sliding on df of 1 rows\n",
      "calling sliding on df of 1 rows\n"
     ]
    },
    {
     "name": "stderr",
     "output_type": "stream",
     "text": [
      " 54%|█████▍    | 362/672 [05:39<04:05,  1.27it/s]"
     ]
    },
    {
     "name": "stdout",
     "output_type": "stream",
     "text": [
      "calling sliding on df of 1 rows\n",
      "calling sliding on df of 1 rows\n",
      "calling sliding on df of 1 rows\n",
      "calling sliding on df of 1 rows\n"
     ]
    },
    {
     "name": "stderr",
     "output_type": "stream",
     "text": [
      " 54%|█████▍    | 363/672 [05:40<04:12,  1.22it/s]"
     ]
    },
    {
     "name": "stdout",
     "output_type": "stream",
     "text": [
      "calling sliding on df of 1 rows\n",
      "calling sliding on df of 1 rows\n",
      "calling sliding on df of 1 rows\n",
      "calling sliding on df of 1 rows\n",
      "calling sliding on df of 1 rows\n",
      "calling sliding on df of 1 rows\n",
      "calling sliding on df of 1 rows\n",
      "calling sliding on df of 1 rows\n",
      "calling sliding on df of 1 rows\n",
      "calling sliding on df of 1 rows\n",
      "calling sliding on df of 1 rows\n",
      "calling sliding on df of 1 rows\n",
      "calling sliding on df of 1 rows\n",
      "calling sliding on df of 1 rows\n",
      "calling sliding on df of 1 rows\n",
      "calling sliding on df of 1 rows\n",
      "calling sliding on df of 1 rows\n",
      "calling sliding on df of 1 rows\n",
      "calling sliding on df of 1 rows\n",
      "calling sliding on df of 1 rows\n",
      "calling sliding on df of 1 rows\n",
      "calling sliding on df of 1 rows\n",
      "calling sliding on df of 1 rows\n",
      "calling sliding on df of 1 rows\n",
      "calling sliding on df of 1 rows\n",
      "calling sliding on df of 1 rows\n",
      "calling sliding on df of 1 rows\n",
      "calling sliding on df of 1 rows\n",
      "calling sliding on df of 1 rows\n",
      "calling sliding on df of 1 rows\n",
      "calling sliding on df of 1 rows\n",
      "calling sliding on df of 1 rows\n",
      "calling sliding on df of 1 rows\n",
      "calling sliding on df of 1 rows\n",
      "calling sliding on df of 1 rows\n"
     ]
    },
    {
     "name": "stderr",
     "output_type": "stream",
     "text": [
      " 54%|█████▍    | 364/672 [05:40<04:16,  1.20it/s]"
     ]
    },
    {
     "name": "stdout",
     "output_type": "stream",
     "text": [
      "calling sliding on df of 1 rows\n",
      "calling sliding on df of 1 rows\n",
      "calling sliding on df of 1 rows\n",
      "calling sliding on df of 1 rows\n",
      "calling sliding on df of 1 rows\n",
      "calling sliding on df of 1 rows\n",
      "calling sliding on df of 1 rows\n"
     ]
    },
    {
     "name": "stderr",
     "output_type": "stream",
     "text": [
      " 54%|█████▍    | 365/672 [05:41<04:12,  1.21it/s]"
     ]
    },
    {
     "name": "stdout",
     "output_type": "stream",
     "text": [
      "calling sliding on df of 1 rows\n",
      "calling sliding on df of 1 rows\n",
      "calling sliding on df of 1 rows\n",
      "calling sliding on df of 1 rows\n",
      "calling sliding on df of 1 rows\n"
     ]
    },
    {
     "name": "stderr",
     "output_type": "stream",
     "text": [
      " 54%|█████▍    | 366/672 [05:42<04:14,  1.20it/s]"
     ]
    },
    {
     "name": "stdout",
     "output_type": "stream",
     "text": [
      "calling sliding on df of 1 rows\n",
      "calling sliding on df of 1 rows\n",
      "calling sliding on df of 1 rows\n",
      "calling sliding on df of 1 rows\n",
      "calling sliding on df of 1 rows\n",
      "calling sliding on df of 1 rows\n",
      "calling sliding on df of 1 rows\n",
      "calling sliding on df of 1 rows\n",
      "calling sliding on df of 1 rows\n",
      "calling sliding on df of 1 rows\n"
     ]
    },
    {
     "name": "stderr",
     "output_type": "stream",
     "text": [
      " 55%|█████▍    | 367/672 [05:43<04:15,  1.19it/s]"
     ]
    },
    {
     "name": "stdout",
     "output_type": "stream",
     "text": [
      "calling sliding on df of 1 rows\n",
      "calling sliding on df of 1 rows\n",
      "calling sliding on df of 1 rows\n"
     ]
    },
    {
     "name": "stderr",
     "output_type": "stream",
     "text": [
      " 55%|█████▍    | 368/672 [05:44<04:11,  1.21it/s]"
     ]
    },
    {
     "name": "stdout",
     "output_type": "stream",
     "text": [
      "calling sliding on df of 1 rows\n",
      "calling sliding on df of 1 rows\n",
      "calling sliding on df of 1 rows\n",
      "calling sliding on df of 1 rows\n",
      "calling sliding on df of 1 rows\n",
      "calling sliding on df of 1 rows\n",
      "calling sliding on df of 1 rows\n",
      "calling sliding on df of 1 rows\n",
      "calling sliding on df of 1 rows\n"
     ]
    },
    {
     "name": "stderr",
     "output_type": "stream",
     "text": [
      " 55%|█████▍    | 369/672 [05:45<04:10,  1.21it/s]"
     ]
    },
    {
     "name": "stdout",
     "output_type": "stream",
     "text": [
      "calling sliding on df of 1 rows\n",
      "calling sliding on df of 1 rows\n",
      "calling sliding on df of 1 rows\n",
      "calling sliding on df of 1 rows\n",
      "calling sliding on df of 1 rows\n",
      "calling sliding on df of 1 rows\n",
      "calling sliding on df of 1 rows\n"
     ]
    },
    {
     "name": "stderr",
     "output_type": "stream",
     "text": [
      " 55%|█████▌    | 370/672 [05:45<04:05,  1.23it/s]"
     ]
    },
    {
     "name": "stdout",
     "output_type": "stream",
     "text": [
      "calling sliding on df of 1 rows\n"
     ]
    },
    {
     "name": "stderr",
     "output_type": "stream",
     "text": [
      " 55%|█████▌    | 371/672 [05:46<03:55,  1.28it/s]"
     ]
    },
    {
     "name": "stdout",
     "output_type": "stream",
     "text": [
      "calling sliding on df of 1 rows\n",
      "calling sliding on df of 1 rows\n",
      "calling sliding on df of 1 rows\n",
      "calling sliding on df of 1 rows\n",
      "calling sliding on df of 1 rows\n",
      "calling sliding on df of 1 rows\n",
      "calling sliding on df of 1 rows\n",
      "calling sliding on df of 1 rows\n",
      "calling sliding on df of 1 rows\n",
      "calling sliding on df of 1 rows\n",
      "calling sliding on df of 1 rows\n"
     ]
    },
    {
     "name": "stderr",
     "output_type": "stream",
     "text": [
      " 55%|█████▌    | 372/672 [05:47<04:00,  1.25it/s]"
     ]
    },
    {
     "name": "stdout",
     "output_type": "stream",
     "text": [
      "calling sliding on df of 1 rows\n",
      "calling sliding on df of 1 rows\n",
      "calling sliding on df of 1 rows\n",
      "calling sliding on df of 1 rows\n",
      "calling sliding on df of 1 rows\n",
      "calling sliding on df of 1 rows\n"
     ]
    },
    {
     "name": "stderr",
     "output_type": "stream",
     "text": [
      " 56%|█████▌    | 374/672 [05:49<04:00,  1.24it/s]"
     ]
    },
    {
     "name": "stdout",
     "output_type": "stream",
     "text": [
      "calling sliding on df of 1 rows\n",
      "calling sliding on df of 1 rows\n",
      "calling sliding on df of 1 rows\n",
      "calling sliding on df of 1 rows\n",
      "calling sliding on df of 1 rows\n",
      "calling sliding on df of 1 rows\n"
     ]
    },
    {
     "name": "stderr",
     "output_type": "stream",
     "text": [
      " 56%|█████▌    | 375/672 [05:49<04:11,  1.18it/s]"
     ]
    },
    {
     "name": "stdout",
     "output_type": "stream",
     "text": [
      "calling sliding on df of 1 rows\n",
      "calling sliding on df of 1 rows\n",
      "calling sliding on df of 1 rows\n",
      "calling sliding on df of 1 rows\n",
      "calling sliding on df of 1 rows\n",
      "calling sliding on df of 1 rows\n",
      "calling sliding on df of 1 rows\n",
      "calling sliding on df of 1 rows\n",
      "calling sliding on df of 1 rows\n",
      "calling sliding on df of 1 rows\n",
      "calling sliding on df of 1 rows\n",
      "calling sliding on df of 1 rows\n",
      "calling sliding on df of 1 rows\n",
      "calling sliding on df of 1 rows\n",
      "calling sliding on df of 1 rows\n",
      "calling sliding on df of 1 rows\n",
      "calling sliding on df of 1 rows\n",
      "calling sliding on df of 1 rows\n",
      "calling sliding on df of 1 rows\n",
      "calling sliding on df of 1 rows\n",
      "calling sliding on df of 1 rows\n",
      "calling sliding on df of 1 rows\n",
      "calling sliding on df of 1 rows\n"
     ]
    },
    {
     "name": "stderr",
     "output_type": "stream",
     "text": [
      " 56%|█████▌    | 376/672 [05:50<04:06,  1.20it/s]"
     ]
    },
    {
     "name": "stdout",
     "output_type": "stream",
     "text": [
      "calling sliding on df of 1 rows\n",
      "calling sliding on df of 1 rows\n",
      "calling sliding on df of 1 rows\n"
     ]
    },
    {
     "name": "stderr",
     "output_type": "stream",
     "text": [
      " 56%|█████▌    | 377/672 [05:51<04:03,  1.21it/s]"
     ]
    },
    {
     "name": "stdout",
     "output_type": "stream",
     "text": [
      "calling sliding on df of 1 rows\n"
     ]
    },
    {
     "name": "stderr",
     "output_type": "stream",
     "text": [
      " 56%|█████▋    | 378/672 [05:52<04:00,  1.22it/s]"
     ]
    },
    {
     "name": "stdout",
     "output_type": "stream",
     "text": [
      "calling sliding on df of 1 rows\n",
      "calling sliding on df of 1 rows\n"
     ]
    },
    {
     "name": "stderr",
     "output_type": "stream",
     "text": [
      " 56%|█████▋    | 379/672 [05:53<03:58,  1.23it/s]"
     ]
    },
    {
     "name": "stdout",
     "output_type": "stream",
     "text": [
      "calling sliding on df of 1 rows\n",
      "calling sliding on df of 1 rows\n",
      "calling sliding on df of 1 rows\n",
      "calling sliding on df of 1 rows\n",
      "calling sliding on df of 1 rows\n",
      "calling sliding on df of 1 rows\n",
      "calling sliding on df of 1 rows\n",
      "calling sliding on df of 1 rows\n",
      "calling sliding on df of 1 rows\n",
      "calling sliding on df of 1 rows\n",
      "calling sliding on df of 1 rows\n",
      "calling sliding on df of 1 rows\n",
      "calling sliding on df of 1 rows\n"
     ]
    },
    {
     "name": "stderr",
     "output_type": "stream",
     "text": [
      " 57%|█████▋    | 380/672 [05:53<03:59,  1.22it/s]"
     ]
    },
    {
     "name": "stdout",
     "output_type": "stream",
     "text": [
      "calling sliding on df of 1 rows\n",
      "calling sliding on df of 1 rows\n",
      "calling sliding on df of 1 rows\n"
     ]
    },
    {
     "name": "stderr",
     "output_type": "stream",
     "text": [
      " 57%|█████▋    | 381/672 [05:54<03:52,  1.25it/s]"
     ]
    },
    {
     "name": "stdout",
     "output_type": "stream",
     "text": [
      "calling sliding on df of 1 rows\n",
      "calling sliding on df of 1 rows\n",
      "calling sliding on df of 1 rows\n",
      "calling sliding on df of 1 rows\n",
      "calling sliding on df of 1 rows\n",
      "calling sliding on df of 1 rows\n",
      "calling sliding on df of 1 rows\n",
      "calling sliding on df of 1 rows\n",
      "calling sliding on df of 1 rows\n",
      "calling sliding on df of 1 rows\n",
      "calling sliding on df of 1 rows\n",
      "calling sliding on df of 1 rows\n",
      "calling sliding on df of 1 rows\n",
      "calling sliding on df of 1 rows\n",
      "calling sliding on df of 1 rows\n",
      "calling sliding on df of 1 rows\n",
      "calling sliding on df of 1 rows\n"
     ]
    },
    {
     "name": "stderr",
     "output_type": "stream",
     "text": [
      " 57%|█████▋    | 382/672 [05:55<03:48,  1.27it/s]"
     ]
    },
    {
     "name": "stdout",
     "output_type": "stream",
     "text": [
      "calling sliding on df of 1 rows\n",
      "calling sliding on df of 1 rows\n",
      "calling sliding on df of 1 rows\n",
      "calling sliding on df of 1 rows\n",
      "calling sliding on df of 1 rows\n",
      "calling sliding on df of 1 rows\n",
      "calling sliding on df of 1 rows\n",
      "calling sliding on df of 1 rows\n",
      "calling sliding on df of 1 rows\n",
      "calling sliding on df of 1 rows\n"
     ]
    },
    {
     "name": "stderr",
     "output_type": "stream",
     "text": [
      " 57%|█████▋    | 383/672 [05:56<03:49,  1.26it/s]"
     ]
    },
    {
     "name": "stdout",
     "output_type": "stream",
     "text": [
      "calling sliding on df of 1 rows\n",
      "calling sliding on df of 1 rows\n",
      "calling sliding on df of 1 rows\n",
      "calling sliding on df of 1 rows\n",
      "calling sliding on df of 1 rows\n",
      "calling sliding on df of 1 rows\n",
      "calling sliding on df of 1 rows\n",
      "calling sliding on df of 1 rows\n",
      "calling sliding on df of 1 rows\n",
      "calling sliding on df of 1 rows\n",
      "calling sliding on df of 1 rows\n",
      "calling sliding on df of 1 rows\n"
     ]
    },
    {
     "name": "stderr",
     "output_type": "stream",
     "text": [
      " 57%|█████▋    | 384/672 [05:57<04:00,  1.20it/s]"
     ]
    },
    {
     "name": "stdout",
     "output_type": "stream",
     "text": [
      "calling sliding on df of 1 rows\n",
      "calling sliding on df of 1 rows\n",
      "calling sliding on df of 1 rows\n",
      "calling sliding on df of 1 rows\n",
      "calling sliding on df of 1 rows\n",
      "calling sliding on df of 1 rows\n"
     ]
    },
    {
     "name": "stderr",
     "output_type": "stream",
     "text": [
      " 57%|█████▋    | 385/672 [05:58<03:56,  1.21it/s]"
     ]
    },
    {
     "name": "stdout",
     "output_type": "stream",
     "text": [
      "calling sliding on df of 1 rows\n",
      "calling sliding on df of 1 rows\n",
      "calling sliding on df of 1 rows\n",
      "calling sliding on df of 1 rows\n"
     ]
    },
    {
     "name": "stderr",
     "output_type": "stream",
     "text": [
      " 57%|█████▋    | 386/672 [05:58<03:54,  1.22it/s]"
     ]
    },
    {
     "name": "stdout",
     "output_type": "stream",
     "text": [
      "calling sliding on df of 1 rows\n",
      "calling sliding on df of 1 rows\n",
      "calling sliding on df of 1 rows\n"
     ]
    },
    {
     "name": "stderr",
     "output_type": "stream",
     "text": [
      " 58%|█████▊    | 387/672 [05:59<04:05,  1.16it/s]"
     ]
    },
    {
     "name": "stdout",
     "output_type": "stream",
     "text": [
      "calling sliding on df of 1 rows\n",
      "calling sliding on df of 1 rows\n",
      "calling sliding on df of 1 rows\n",
      "calling sliding on df of 1 rows\n",
      "calling sliding on df of 1 rows\n"
     ]
    },
    {
     "name": "stderr",
     "output_type": "stream",
     "text": [
      " 58%|█████▊    | 388/672 [06:00<04:05,  1.16it/s]"
     ]
    },
    {
     "name": "stdout",
     "output_type": "stream",
     "text": [
      "calling sliding on df of 1 rows\n",
      "calling sliding on df of 1 rows\n",
      "calling sliding on df of 1 rows\n",
      "calling sliding on df of 1 rows\n",
      "calling sliding on df of 1 rows\n",
      "calling sliding on df of 1 rows\n"
     ]
    },
    {
     "name": "stderr",
     "output_type": "stream",
     "text": [
      " 58%|█████▊    | 389/672 [06:01<04:03,  1.16it/s]"
     ]
    },
    {
     "name": "stdout",
     "output_type": "stream",
     "text": [
      "calling sliding on df of 1 rows\n",
      "calling sliding on df of 1 rows\n"
     ]
    },
    {
     "name": "stderr",
     "output_type": "stream",
     "text": [
      " 58%|█████▊    | 390/672 [06:02<04:00,  1.17it/s]"
     ]
    },
    {
     "name": "stdout",
     "output_type": "stream",
     "text": [
      "calling sliding on df of 1 rows\n",
      "calling sliding on df of 1 rows\n",
      "calling sliding on df of 1 rows\n",
      "calling sliding on df of 1 rows\n",
      "calling sliding on df of 1 rows\n"
     ]
    },
    {
     "name": "stderr",
     "output_type": "stream",
     "text": [
      " 58%|█████▊    | 391/672 [06:03<03:59,  1.17it/s]"
     ]
    },
    {
     "name": "stdout",
     "output_type": "stream",
     "text": [
      "calling sliding on df of 1 rows\n",
      "calling sliding on df of 1 rows\n",
      "calling sliding on df of 1 rows\n",
      "calling sliding on df of 1 rows\n",
      "calling sliding on df of 1 rows\n",
      "calling sliding on df of 1 rows\n",
      "calling sliding on df of 1 rows\n",
      "calling sliding on df of 1 rows\n",
      "calling sliding on df of 1 rows\n"
     ]
    },
    {
     "name": "stderr",
     "output_type": "stream",
     "text": [
      " 58%|█████▊    | 392/672 [06:04<03:54,  1.19it/s]"
     ]
    },
    {
     "name": "stdout",
     "output_type": "stream",
     "text": [
      "calling sliding on df of 1 rows\n",
      "calling sliding on df of 1 rows\n",
      "calling sliding on df of 1 rows\n",
      "calling sliding on df of 1 rows\n",
      "calling sliding on df of 1 rows\n",
      "calling sliding on df of 1 rows\n",
      "calling sliding on df of 1 rows\n"
     ]
    },
    {
     "name": "stderr",
     "output_type": "stream",
     "text": [
      " 58%|█████▊    | 393/672 [06:04<03:53,  1.19it/s]"
     ]
    },
    {
     "name": "stdout",
     "output_type": "stream",
     "text": [
      "calling sliding on df of 1 rows\n",
      "calling sliding on df of 1 rows\n",
      "calling sliding on df of 1 rows\n"
     ]
    },
    {
     "name": "stderr",
     "output_type": "stream",
     "text": [
      " 59%|█████▉    | 395/672 [06:06<03:49,  1.21it/s]"
     ]
    },
    {
     "name": "stdout",
     "output_type": "stream",
     "text": [
      "calling sliding on df of 1 rows\n",
      "calling sliding on df of 1 rows\n",
      "calling sliding on df of 1 rows\n",
      "calling sliding on df of 1 rows\n",
      "calling sliding on df of 1 rows\n"
     ]
    },
    {
     "name": "stderr",
     "output_type": "stream",
     "text": [
      " 59%|█████▉    | 397/672 [06:08<03:42,  1.24it/s]"
     ]
    },
    {
     "name": "stdout",
     "output_type": "stream",
     "text": [
      "calling sliding on df of 1 rows\n",
      "calling sliding on df of 1 rows\n",
      "calling sliding on df of 1 rows\n",
      "calling sliding on df of 1 rows\n",
      "calling sliding on df of 1 rows\n",
      "calling sliding on df of 1 rows\n",
      "calling sliding on df of 1 rows\n"
     ]
    },
    {
     "name": "stderr",
     "output_type": "stream",
     "text": [
      " 59%|█████▉    | 398/672 [06:08<03:37,  1.26it/s]"
     ]
    },
    {
     "name": "stdout",
     "output_type": "stream",
     "text": [
      "calling sliding on df of 1 rows\n",
      "calling sliding on df of 1 rows\n",
      "calling sliding on df of 1 rows\n"
     ]
    },
    {
     "name": "stderr",
     "output_type": "stream",
     "text": [
      " 59%|█████▉    | 399/672 [06:09<03:41,  1.23it/s]"
     ]
    },
    {
     "name": "stdout",
     "output_type": "stream",
     "text": [
      "calling sliding on df of 1 rows\n",
      "calling sliding on df of 1 rows\n",
      "calling sliding on df of 1 rows\n",
      "calling sliding on df of 1 rows\n",
      "calling sliding on df of 1 rows\n",
      "calling sliding on df of 1 rows\n",
      "calling sliding on df of 1 rows\n"
     ]
    },
    {
     "name": "stderr",
     "output_type": "stream",
     "text": [
      " 60%|█████▉    | 400/672 [06:10<03:39,  1.24it/s]"
     ]
    },
    {
     "name": "stdout",
     "output_type": "stream",
     "text": [
      "calling sliding on df of 1 rows\n",
      "calling sliding on df of 1 rows\n",
      "calling sliding on df of 1 rows\n",
      "calling sliding on df of 1 rows\n"
     ]
    },
    {
     "name": "stderr",
     "output_type": "stream",
     "text": [
      " 60%|█████▉    | 401/672 [06:11<03:27,  1.30it/s]"
     ]
    },
    {
     "name": "stdout",
     "output_type": "stream",
     "text": [
      "calling sliding on df of 1 rows\n",
      "calling sliding on df of 1 rows\n",
      "calling sliding on df of 1 rows\n",
      "calling sliding on df of 1 rows\n",
      "calling sliding on df of 1 rows\n",
      "calling sliding on df of 1 rows\n",
      "calling sliding on df of 1 rows\n"
     ]
    },
    {
     "name": "stderr",
     "output_type": "stream",
     "text": [
      " 60%|█████▉    | 403/672 [06:12<03:05,  1.45it/s]"
     ]
    },
    {
     "name": "stdout",
     "output_type": "stream",
     "text": [
      "calling sliding on df of 1 rows\n"
     ]
    },
    {
     "name": "stderr",
     "output_type": "stream",
     "text": [
      " 60%|██████    | 404/672 [06:13<03:13,  1.39it/s]"
     ]
    },
    {
     "name": "stdout",
     "output_type": "stream",
     "text": [
      "calling sliding on df of 1 rows\n",
      "calling sliding on df of 1 rows\n",
      "calling sliding on df of 1 rows\n",
      "calling sliding on df of 1 rows\n",
      "calling sliding on df of 1 rows\n",
      "calling sliding on df of 1 rows\n",
      "calling sliding on df of 1 rows\n",
      "calling sliding on df of 1 rows\n",
      "calling sliding on df of 1 rows\n",
      "calling sliding on df of 1 rows\n",
      "calling sliding on df of 1 rows\n",
      "calling sliding on df of 1 rows\n",
      "calling sliding on df of 1 rows\n"
     ]
    },
    {
     "name": "stderr",
     "output_type": "stream",
     "text": [
      " 60%|██████    | 405/672 [06:13<03:20,  1.33it/s]"
     ]
    },
    {
     "name": "stdout",
     "output_type": "stream",
     "text": [
      "calling sliding on df of 1 rows\n",
      "calling sliding on df of 1 rows\n",
      "calling sliding on df of 1 rows\n",
      "calling sliding on df of 1 rows\n",
      "calling sliding on df of 1 rows\n",
      "calling sliding on df of 1 rows\n",
      "calling sliding on df of 1 rows\n"
     ]
    },
    {
     "name": "stderr",
     "output_type": "stream",
     "text": [
      " 60%|██████    | 406/672 [06:14<03:25,  1.30it/s]"
     ]
    },
    {
     "name": "stdout",
     "output_type": "stream",
     "text": [
      "calling sliding on df of 1 rows\n",
      "calling sliding on df of 1 rows\n"
     ]
    },
    {
     "name": "stderr",
     "output_type": "stream",
     "text": [
      " 61%|██████    | 407/672 [06:15<03:30,  1.26it/s]"
     ]
    },
    {
     "name": "stdout",
     "output_type": "stream",
     "text": [
      "calling sliding on df of 1 rows\n",
      "calling sliding on df of 1 rows\n",
      "calling sliding on df of 1 rows\n",
      "calling sliding on df of 1 rows\n",
      "calling sliding on df of 1 rows\n",
      "calling sliding on df of 1 rows\n",
      "calling sliding on df of 1 rows\n"
     ]
    },
    {
     "name": "stderr",
     "output_type": "stream",
     "text": [
      " 61%|██████    | 409/672 [06:16<03:08,  1.40it/s]"
     ]
    },
    {
     "name": "stdout",
     "output_type": "stream",
     "text": [
      "calling sliding on df of 1 rows\n",
      "calling sliding on df of 1 rows\n",
      "calling sliding on df of 1 rows\n",
      "calling sliding on df of 1 rows\n",
      "calling sliding on df of 1 rows\n",
      "calling sliding on df of 1 rows\n"
     ]
    },
    {
     "name": "stderr",
     "output_type": "stream",
     "text": [
      " 61%|██████    | 410/672 [06:17<03:17,  1.33it/s]"
     ]
    },
    {
     "name": "stdout",
     "output_type": "stream",
     "text": [
      "calling sliding on df of 1 rows\n",
      "calling sliding on df of 1 rows\n",
      "calling sliding on df of 1 rows\n",
      "calling sliding on df of 1 rows\n"
     ]
    },
    {
     "name": "stderr",
     "output_type": "stream",
     "text": [
      " 61%|██████    | 411/672 [06:18<03:21,  1.29it/s]"
     ]
    },
    {
     "name": "stdout",
     "output_type": "stream",
     "text": [
      "calling sliding on df of 1 rows\n",
      "calling sliding on df of 1 rows\n",
      "calling sliding on df of 1 rows\n",
      "calling sliding on df of 1 rows\n",
      "calling sliding on df of 1 rows\n",
      "calling sliding on df of 1 rows\n"
     ]
    },
    {
     "name": "stderr",
     "output_type": "stream",
     "text": [
      " 61%|██████▏   | 412/672 [06:19<03:18,  1.31it/s]"
     ]
    },
    {
     "name": "stdout",
     "output_type": "stream",
     "text": [
      "calling sliding on df of 1 rows\n",
      "calling sliding on df of 1 rows\n",
      "calling sliding on df of 1 rows\n",
      "calling sliding on df of 1 rows\n",
      "calling sliding on df of 1 rows\n"
     ]
    },
    {
     "name": "stderr",
     "output_type": "stream",
     "text": [
      " 62%|██████▏   | 414/672 [06:20<03:28,  1.24it/s]"
     ]
    },
    {
     "name": "stdout",
     "output_type": "stream",
     "text": [
      "calling sliding on df of 1 rows\n",
      "calling sliding on df of 1 rows\n",
      "calling sliding on df of 1 rows\n",
      "calling sliding on df of 1 rows\n",
      "calling sliding on df of 1 rows\n",
      "calling sliding on df of 1 rows\n",
      "calling sliding on df of 1 rows\n",
      "calling sliding on df of 1 rows\n",
      "calling sliding on df of 1 rows\n",
      "calling sliding on df of 1 rows\n",
      "calling sliding on df of 1 rows\n",
      "calling sliding on df of 1 rows\n",
      "calling sliding on df of 1 rows\n",
      "calling sliding on df of 1 rows\n"
     ]
    },
    {
     "name": "stderr",
     "output_type": "stream",
     "text": [
      " 62%|██████▏   | 415/672 [06:21<03:30,  1.22it/s]"
     ]
    },
    {
     "name": "stdout",
     "output_type": "stream",
     "text": [
      "calling sliding on df of 1 rows\n",
      "calling sliding on df of 1 rows\n"
     ]
    },
    {
     "name": "stderr",
     "output_type": "stream",
     "text": [
      " 62%|██████▏   | 416/672 [06:22<03:33,  1.20it/s]"
     ]
    },
    {
     "name": "stdout",
     "output_type": "stream",
     "text": [
      "calling sliding on df of 1 rows\n",
      "calling sliding on df of 1 rows\n",
      "calling sliding on df of 1 rows\n",
      "calling sliding on df of 1 rows\n",
      "calling sliding on df of 1 rows\n"
     ]
    },
    {
     "name": "stderr",
     "output_type": "stream",
     "text": [
      " 62%|██████▏   | 418/672 [06:24<03:30,  1.21it/s]"
     ]
    },
    {
     "name": "stdout",
     "output_type": "stream",
     "text": [
      "calling sliding on df of 1 rows\n",
      "calling sliding on df of 1 rows\n",
      "calling sliding on df of 1 rows\n",
      "calling sliding on df of 1 rows\n",
      "calling sliding on df of 1 rows\n",
      "calling sliding on df of 1 rows\n",
      "calling sliding on df of 1 rows\n",
      "calling sliding on df of 1 rows\n",
      "calling sliding on df of 1 rows\n",
      "calling sliding on df of 1 rows\n",
      "calling sliding on df of 1 rows\n"
     ]
    },
    {
     "name": "stderr",
     "output_type": "stream",
     "text": [
      " 62%|██████▏   | 419/672 [06:25<03:27,  1.22it/s]"
     ]
    },
    {
     "name": "stdout",
     "output_type": "stream",
     "text": [
      "calling sliding on df of 1 rows\n",
      "calling sliding on df of 1 rows\n",
      "calling sliding on df of 1 rows\n",
      "calling sliding on df of 1 rows\n",
      "calling sliding on df of 1 rows\n"
     ]
    },
    {
     "name": "stderr",
     "output_type": "stream",
     "text": [
      " 62%|██████▎   | 420/672 [06:26<03:30,  1.19it/s]"
     ]
    },
    {
     "name": "stdout",
     "output_type": "stream",
     "text": [
      "calling sliding on df of 1 rows\n",
      "calling sliding on df of 1 rows\n",
      "calling sliding on df of 1 rows\n",
      "calling sliding on df of 1 rows\n",
      "calling sliding on df of 1 rows\n"
     ]
    },
    {
     "name": "stderr",
     "output_type": "stream",
     "text": [
      " 63%|██████▎   | 421/672 [06:26<03:29,  1.20it/s]"
     ]
    },
    {
     "name": "stdout",
     "output_type": "stream",
     "text": [
      "calling sliding on df of 1 rows\n",
      "calling sliding on df of 1 rows\n",
      "calling sliding on df of 1 rows\n",
      "calling sliding on df of 1 rows\n",
      "calling sliding on df of 1 rows\n",
      "calling sliding on df of 1 rows\n",
      "calling sliding on df of 1 rows\n"
     ]
    },
    {
     "name": "stderr",
     "output_type": "stream",
     "text": [
      " 63%|██████▎   | 422/672 [06:27<03:26,  1.21it/s]"
     ]
    },
    {
     "name": "stdout",
     "output_type": "stream",
     "text": [
      "calling sliding on df of 1 rows\n",
      "calling sliding on df of 1 rows\n",
      "calling sliding on df of 1 rows\n",
      "calling sliding on df of 1 rows\n",
      "calling sliding on df of 1 rows\n",
      "calling sliding on df of 1 rows\n",
      "calling sliding on df of 1 rows\n"
     ]
    },
    {
     "name": "stderr",
     "output_type": "stream",
     "text": [
      " 63%|██████▎   | 423/672 [06:28<03:25,  1.21it/s]"
     ]
    },
    {
     "name": "stdout",
     "output_type": "stream",
     "text": [
      "calling sliding on df of 1 rows\n",
      "calling sliding on df of 1 rows\n",
      "calling sliding on df of 1 rows\n",
      "calling sliding on df of 1 rows\n",
      "calling sliding on df of 1 rows\n",
      "calling sliding on df of 1 rows\n",
      "calling sliding on df of 1 rows\n",
      "calling sliding on df of 1 rows\n",
      "calling sliding on df of 1 rows\n",
      "calling sliding on df of 1 rows\n",
      "calling sliding on df of 1 rows\n",
      "calling sliding on df of 1 rows\n",
      "calling sliding on df of 1 rows\n",
      "calling sliding on df of 1 rows\n",
      "calling sliding on df of 1 rows\n",
      "calling sliding on df of 1 rows\n"
     ]
    },
    {
     "name": "stderr",
     "output_type": "stream",
     "text": [
      " 63%|██████▎   | 424/672 [06:29<03:24,  1.21it/s]"
     ]
    },
    {
     "name": "stdout",
     "output_type": "stream",
     "text": [
      "calling sliding on df of 1 rows\n",
      "calling sliding on df of 1 rows\n",
      "calling sliding on df of 1 rows\n",
      "calling sliding on df of 1 rows\n",
      "calling sliding on df of 1 rows\n",
      "calling sliding on df of 1 rows\n",
      "calling sliding on df of 1 rows\n",
      "calling sliding on df of 1 rows\n",
      "calling sliding on df of 1 rows\n"
     ]
    },
    {
     "name": "stderr",
     "output_type": "stream",
     "text": [
      " 63%|██████▎   | 425/672 [06:30<03:20,  1.23it/s]"
     ]
    },
    {
     "name": "stdout",
     "output_type": "stream",
     "text": [
      "calling sliding on df of 1 rows\n"
     ]
    },
    {
     "name": "stderr",
     "output_type": "stream",
     "text": [
      " 63%|██████▎   | 426/672 [06:30<03:20,  1.23it/s]"
     ]
    },
    {
     "name": "stdout",
     "output_type": "stream",
     "text": [
      "calling sliding on df of 1 rows\n",
      "calling sliding on df of 1 rows\n",
      "calling sliding on df of 1 rows\n",
      "calling sliding on df of 1 rows\n",
      "calling sliding on df of 1 rows\n",
      "calling sliding on df of 1 rows\n"
     ]
    },
    {
     "name": "stderr",
     "output_type": "stream",
     "text": [
      " 64%|██████▎   | 427/672 [06:31<03:18,  1.23it/s]"
     ]
    },
    {
     "name": "stdout",
     "output_type": "stream",
     "text": [
      "calling sliding on df of 1 rows\n",
      "calling sliding on df of 1 rows\n",
      "calling sliding on df of 1 rows\n",
      "calling sliding on df of 1 rows\n",
      "calling sliding on df of 1 rows\n"
     ]
    },
    {
     "name": "stderr",
     "output_type": "stream",
     "text": [
      " 64%|██████▎   | 428/672 [06:32<03:17,  1.23it/s]"
     ]
    },
    {
     "name": "stdout",
     "output_type": "stream",
     "text": [
      "calling sliding on df of 1 rows\n",
      "calling sliding on df of 1 rows\n",
      "calling sliding on df of 1 rows\n",
      "calling sliding on df of 1 rows\n",
      "calling sliding on df of 1 rows\n",
      "calling sliding on df of 1 rows\n",
      "calling sliding on df of 1 rows\n",
      "calling sliding on df of 1 rows\n",
      "calling sliding on df of 1 rows\n",
      "calling sliding on df of 1 rows\n",
      "calling sliding on df of 1 rows\n",
      "calling sliding on df of 1 rows\n",
      "calling sliding on df of 1 rows\n",
      "calling sliding on df of 1 rows\n",
      "calling sliding on df of 1 rows\n",
      "calling sliding on df of 1 rows\n",
      "calling sliding on df of 1 rows\n",
      "calling sliding on df of 1 rows\n",
      "calling sliding on df of 1 rows\n",
      "calling sliding on df of 1 rows\n",
      "calling sliding on df of 1 rows\n",
      "calling sliding on df of 1 rows\n"
     ]
    },
    {
     "name": "stderr",
     "output_type": "stream",
     "text": [
      " 64%|██████▍   | 429/672 [06:33<03:17,  1.23it/s]"
     ]
    },
    {
     "name": "stdout",
     "output_type": "stream",
     "text": [
      "calling sliding on df of 1 rows\n",
      "calling sliding on df of 1 rows\n",
      "calling sliding on df of 1 rows\n",
      "calling sliding on df of 1 rows\n"
     ]
    },
    {
     "name": "stderr",
     "output_type": "stream",
     "text": [
      " 64%|██████▍   | 430/672 [06:34<03:16,  1.23it/s]"
     ]
    },
    {
     "name": "stdout",
     "output_type": "stream",
     "text": [
      "calling sliding on df of 1 rows\n",
      "calling sliding on df of 1 rows\n",
      "calling sliding on df of 1 rows\n",
      "calling sliding on df of 1 rows\n",
      "calling sliding on df of 1 rows\n",
      "calling sliding on df of 1 rows\n"
     ]
    },
    {
     "name": "stderr",
     "output_type": "stream",
     "text": [
      " 64%|██████▍   | 431/672 [06:34<03:11,  1.26it/s]"
     ]
    },
    {
     "name": "stdout",
     "output_type": "stream",
     "text": [
      "calling sliding on df of 1 rows\n",
      "calling sliding on df of 1 rows\n",
      "calling sliding on df of 1 rows\n"
     ]
    },
    {
     "name": "stderr",
     "output_type": "stream",
     "text": [
      " 64%|██████▍   | 432/672 [06:35<03:10,  1.26it/s]"
     ]
    },
    {
     "name": "stdout",
     "output_type": "stream",
     "text": [
      "calling sliding on df of 1 rows\n",
      "calling sliding on df of 1 rows\n",
      "calling sliding on df of 1 rows\n",
      "calling sliding on df of 1 rows\n",
      "calling sliding on df of 1 rows\n"
     ]
    },
    {
     "name": "stderr",
     "output_type": "stream",
     "text": [
      " 64%|██████▍   | 433/672 [06:36<03:12,  1.24it/s]"
     ]
    },
    {
     "name": "stdout",
     "output_type": "stream",
     "text": [
      "calling sliding on df of 1 rows\n",
      "calling sliding on df of 1 rows\n",
      "calling sliding on df of 1 rows\n",
      "calling sliding on df of 1 rows\n",
      "calling sliding on df of 1 rows\n",
      "calling sliding on df of 1 rows\n",
      "calling sliding on df of 1 rows\n"
     ]
    },
    {
     "name": "stderr",
     "output_type": "stream",
     "text": [
      " 65%|██████▍   | 434/672 [06:37<03:06,  1.28it/s]"
     ]
    },
    {
     "name": "stdout",
     "output_type": "stream",
     "text": [
      "calling sliding on df of 1 rows\n"
     ]
    },
    {
     "name": "stderr",
     "output_type": "stream",
     "text": [
      " 65%|██████▍   | 435/672 [06:38<03:05,  1.28it/s]"
     ]
    },
    {
     "name": "stdout",
     "output_type": "stream",
     "text": [
      "calling sliding on df of 1 rows\n",
      "calling sliding on df of 1 rows\n",
      "calling sliding on df of 1 rows\n",
      "calling sliding on df of 1 rows\n"
     ]
    },
    {
     "name": "stderr",
     "output_type": "stream",
     "text": [
      " 65%|██████▍   | 436/672 [06:38<03:04,  1.28it/s]"
     ]
    },
    {
     "name": "stdout",
     "output_type": "stream",
     "text": [
      "calling sliding on df of 1 rows\n"
     ]
    },
    {
     "name": "stderr",
     "output_type": "stream",
     "text": [
      " 65%|██████▌   | 437/672 [06:39<03:09,  1.24it/s]"
     ]
    },
    {
     "name": "stdout",
     "output_type": "stream",
     "text": [
      "calling sliding on df of 1 rows\n",
      "calling sliding on df of 1 rows\n",
      "calling sliding on df of 1 rows\n",
      "calling sliding on df of 1 rows\n",
      "calling sliding on df of 1 rows\n"
     ]
    },
    {
     "name": "stderr",
     "output_type": "stream",
     "text": [
      " 65%|██████▌   | 438/672 [06:40<02:52,  1.35it/s]"
     ]
    },
    {
     "name": "stdout",
     "output_type": "stream",
     "text": [
      "calling sliding on df of 1 rows\n",
      "calling sliding on df of 1 rows\n",
      "calling sliding on df of 1 rows\n",
      "calling sliding on df of 1 rows\n",
      "calling sliding on df of 1 rows\n",
      "calling sliding on df of 1 rows\n",
      "calling sliding on df of 1 rows\n",
      "calling sliding on df of 1 rows\n",
      "calling sliding on df of 1 rows\n",
      "calling sliding on df of 1 rows\n",
      "calling sliding on df of 1 rows\n",
      "calling sliding on df of 1 rows\n",
      "calling sliding on df of 1 rows\n",
      "calling sliding on df of 1 rows\n",
      "calling sliding on df of 1 rows\n",
      "calling sliding on df of 1 rows\n",
      "calling sliding on df of 1 rows\n",
      "calling sliding on df of 1 rows\n",
      "calling sliding on df of 1 rows\n",
      "calling sliding on df of 1 rows\n",
      "calling sliding on df of 1 rows\n",
      "calling sliding on df of 1 rows\n",
      "calling sliding on df of 1 rows\n",
      "calling sliding on df of 1 rows\n",
      "calling sliding on df of 1 rows\n",
      "calling sliding on df of 1 rows\n",
      "calling sliding on df of 1 rows\n",
      "calling sliding on df of 1 rows\n",
      "calling sliding on df of 1 rows\n",
      "calling sliding on df of 1 rows\n",
      "calling sliding on df of 1 rows\n",
      "calling sliding on df of 1 rows\n"
     ]
    },
    {
     "name": "stderr",
     "output_type": "stream",
     "text": [
      " 65%|██████▌   | 440/672 [06:41<03:08,  1.23it/s]"
     ]
    },
    {
     "name": "stdout",
     "output_type": "stream",
     "text": [
      "calling sliding on df of 1 rows\n",
      "calling sliding on df of 1 rows\n",
      "calling sliding on df of 1 rows\n",
      "calling sliding on df of 1 rows\n",
      "calling sliding on df of 1 rows\n",
      "calling sliding on df of 1 rows\n"
     ]
    },
    {
     "name": "stderr",
     "output_type": "stream",
     "text": [
      " 66%|██████▌   | 441/672 [06:42<03:09,  1.22it/s]"
     ]
    },
    {
     "name": "stdout",
     "output_type": "stream",
     "text": [
      "calling sliding on df of 1 rows\n",
      "calling sliding on df of 1 rows\n",
      "calling sliding on df of 1 rows\n",
      "calling sliding on df of 1 rows\n",
      "calling sliding on df of 1 rows\n",
      "calling sliding on df of 1 rows\n",
      "calling sliding on df of 1 rows\n",
      "calling sliding on df of 1 rows\n",
      "calling sliding on df of 1 rows\n",
      "calling sliding on df of 1 rows\n",
      "calling sliding on df of 1 rows\n",
      "calling sliding on df of 1 rows\n",
      "calling sliding on df of 1 rows\n",
      "calling sliding on df of 1 rows\n",
      "calling sliding on df of 1 rows\n",
      "calling sliding on df of 1 rows\n",
      "calling sliding on df of 1 rows\n",
      "calling sliding on df of 1 rows\n",
      "calling sliding on df of 1 rows\n",
      "calling sliding on df of 1 rows\n",
      "calling sliding on df of 1 rows\n",
      "calling sliding on df of 1 rows\n",
      "calling sliding on df of 1 rows\n",
      "calling sliding on df of 1 rows\n",
      "calling sliding on df of 1 rows\n"
     ]
    },
    {
     "name": "stderr",
     "output_type": "stream",
     "text": [
      " 66%|██████▌   | 442/672 [06:43<03:19,  1.15it/s]"
     ]
    },
    {
     "name": "stdout",
     "output_type": "stream",
     "text": [
      "calling sliding on df of 1 rows\n"
     ]
    },
    {
     "name": "stderr",
     "output_type": "stream",
     "text": [
      " 66%|██████▌   | 443/672 [06:44<03:18,  1.16it/s]"
     ]
    },
    {
     "name": "stdout",
     "output_type": "stream",
     "text": [
      "calling sliding on df of 1 rows\n",
      "calling sliding on df of 1 rows\n"
     ]
    },
    {
     "name": "stderr",
     "output_type": "stream",
     "text": [
      " 66%|██████▌   | 444/672 [06:45<03:19,  1.14it/s]"
     ]
    },
    {
     "name": "stdout",
     "output_type": "stream",
     "text": [
      "calling sliding on df of 1 rows\n",
      "calling sliding on df of 1 rows\n",
      "calling sliding on df of 1 rows\n",
      "calling sliding on df of 1 rows\n",
      "calling sliding on df of 1 rows\n",
      "calling sliding on df of 1 rows\n",
      "calling sliding on df of 1 rows\n",
      "calling sliding on df of 1 rows\n",
      "calling sliding on df of 1 rows\n",
      "calling sliding on df of 1 rows\n",
      "calling sliding on df of 1 rows\n",
      "calling sliding on df of 1 rows\n",
      "calling sliding on df of 1 rows\n",
      "calling sliding on df of 1 rows\n"
     ]
    },
    {
     "name": "stderr",
     "output_type": "stream",
     "text": [
      " 66%|██████▌   | 445/672 [06:46<03:14,  1.16it/s]"
     ]
    },
    {
     "name": "stdout",
     "output_type": "stream",
     "text": [
      "calling sliding on df of 1 rows\n",
      "calling sliding on df of 1 rows\n",
      "calling sliding on df of 1 rows\n"
     ]
    },
    {
     "name": "stderr",
     "output_type": "stream",
     "text": [
      " 66%|██████▋   | 446/672 [06:47<03:04,  1.22it/s]"
     ]
    },
    {
     "name": "stdout",
     "output_type": "stream",
     "text": [
      "calling sliding on df of 1 rows\n",
      "calling sliding on df of 1 rows\n",
      "calling sliding on df of 1 rows\n",
      "calling sliding on df of 1 rows\n",
      "calling sliding on df of 1 rows\n",
      "calling sliding on df of 1 rows\n",
      "calling sliding on df of 1 rows\n"
     ]
    },
    {
     "name": "stderr",
     "output_type": "stream",
     "text": [
      " 67%|██████▋   | 447/672 [06:47<02:57,  1.27it/s]"
     ]
    },
    {
     "name": "stdout",
     "output_type": "stream",
     "text": [
      "calling sliding on df of 1 rows\n",
      "calling sliding on df of 1 rows\n",
      "calling sliding on df of 1 rows\n",
      "calling sliding on df of 1 rows\n",
      "calling sliding on df of 1 rows\n",
      "calling sliding on df of 1 rows\n",
      "calling sliding on df of 1 rows\n",
      "calling sliding on df of 1 rows\n"
     ]
    },
    {
     "name": "stderr",
     "output_type": "stream",
     "text": [
      " 67%|██████▋   | 448/672 [06:48<02:53,  1.29it/s]"
     ]
    },
    {
     "name": "stdout",
     "output_type": "stream",
     "text": [
      "calling sliding on df of 1 rows\n",
      "calling sliding on df of 1 rows\n"
     ]
    },
    {
     "name": "stderr",
     "output_type": "stream",
     "text": [
      " 67%|██████▋   | 449/672 [06:49<02:58,  1.25it/s]"
     ]
    },
    {
     "name": "stdout",
     "output_type": "stream",
     "text": [
      "calling sliding on df of 1 rows\n",
      "calling sliding on df of 1 rows\n",
      "calling sliding on df of 1 rows\n",
      "calling sliding on df of 1 rows\n",
      "calling sliding on df of 1 rows\n",
      "calling sliding on df of 1 rows\n",
      "calling sliding on df of 1 rows\n"
     ]
    },
    {
     "name": "stderr",
     "output_type": "stream",
     "text": [
      " 67%|██████▋   | 450/672 [06:50<02:57,  1.25it/s]"
     ]
    },
    {
     "name": "stdout",
     "output_type": "stream",
     "text": [
      "calling sliding on df of 1 rows\n",
      "calling sliding on df of 1 rows\n",
      "calling sliding on df of 1 rows\n",
      "calling sliding on df of 1 rows\n",
      "calling sliding on df of 1 rows\n",
      "calling sliding on df of 1 rows\n",
      "calling sliding on df of 1 rows\n",
      "calling sliding on df of 1 rows\n",
      "calling sliding on df of 1 rows\n",
      "calling sliding on df of 1 rows\n",
      "calling sliding on df of 1 rows\n",
      "calling sliding on df of 1 rows\n",
      "calling sliding on df of 1 rows\n",
      "calling sliding on df of 1 rows\n",
      "calling sliding on df of 1 rows\n"
     ]
    },
    {
     "name": "stderr",
     "output_type": "stream",
     "text": [
      " 67%|██████▋   | 451/672 [06:51<03:02,  1.21it/s]"
     ]
    },
    {
     "name": "stdout",
     "output_type": "stream",
     "text": [
      "calling sliding on df of 1 rows\n",
      "calling sliding on df of 1 rows\n",
      "calling sliding on df of 1 rows\n",
      "calling sliding on df of 1 rows\n",
      "calling sliding on df of 1 rows\n",
      "calling sliding on df of 1 rows\n"
     ]
    },
    {
     "name": "stderr",
     "output_type": "stream",
     "text": [
      " 67%|██████▋   | 452/672 [06:52<03:05,  1.19it/s]"
     ]
    },
    {
     "name": "stdout",
     "output_type": "stream",
     "text": [
      "calling sliding on df of 1 rows\n"
     ]
    },
    {
     "name": "stderr",
     "output_type": "stream",
     "text": [
      " 68%|██████▊   | 454/672 [06:53<03:05,  1.17it/s]"
     ]
    },
    {
     "name": "stdout",
     "output_type": "stream",
     "text": [
      "calling sliding on df of 1 rows\n",
      "calling sliding on df of 1 rows\n",
      "calling sliding on df of 1 rows\n"
     ]
    },
    {
     "name": "stderr",
     "output_type": "stream",
     "text": [
      " 68%|██████▊   | 455/672 [06:54<03:05,  1.17it/s]"
     ]
    },
    {
     "name": "stdout",
     "output_type": "stream",
     "text": [
      "calling sliding on df of 1 rows\n",
      "calling sliding on df of 1 rows\n"
     ]
    },
    {
     "name": "stderr",
     "output_type": "stream",
     "text": [
      " 68%|██████▊   | 456/672 [06:55<03:02,  1.18it/s]"
     ]
    },
    {
     "name": "stdout",
     "output_type": "stream",
     "text": [
      "calling sliding on df of 1 rows\n",
      "calling sliding on df of 1 rows\n",
      "calling sliding on df of 1 rows\n",
      "calling sliding on df of 1 rows\n",
      "calling sliding on df of 1 rows\n",
      "calling sliding on df of 1 rows\n"
     ]
    },
    {
     "name": "stderr",
     "output_type": "stream",
     "text": [
      " 68%|██████▊   | 457/672 [06:56<02:58,  1.21it/s]"
     ]
    },
    {
     "name": "stdout",
     "output_type": "stream",
     "text": [
      "calling sliding on df of 1 rows\n",
      "calling sliding on df of 1 rows\n",
      "calling sliding on df of 1 rows\n",
      "calling sliding on df of 1 rows\n",
      "calling sliding on df of 1 rows\n",
      "calling sliding on df of 1 rows\n",
      "calling sliding on df of 1 rows\n",
      "calling sliding on df of 1 rows\n",
      "calling sliding on df of 1 rows\n",
      "calling sliding on df of 1 rows\n",
      "calling sliding on df of 1 rows\n",
      "calling sliding on df of 1 rows\n",
      "calling sliding on df of 1 rows\n"
     ]
    },
    {
     "name": "stderr",
     "output_type": "stream",
     "text": [
      " 68%|██████▊   | 458/672 [06:57<02:56,  1.22it/s]"
     ]
    },
    {
     "name": "stdout",
     "output_type": "stream",
     "text": [
      "calling sliding on df of 1 rows\n",
      "calling sliding on df of 1 rows\n",
      "calling sliding on df of 1 rows\n",
      "calling sliding on df of 1 rows\n",
      "calling sliding on df of 1 rows\n",
      "calling sliding on df of 1 rows\n",
      "calling sliding on df of 1 rows\n"
     ]
    },
    {
     "name": "stderr",
     "output_type": "stream",
     "text": [
      " 68%|██████▊   | 459/672 [06:57<02:53,  1.23it/s]"
     ]
    },
    {
     "name": "stdout",
     "output_type": "stream",
     "text": [
      "calling sliding on df of 1 rows\n",
      "calling sliding on df of 1 rows\n",
      "calling sliding on df of 1 rows\n",
      "calling sliding on df of 1 rows\n",
      "calling sliding on df of 1 rows\n",
      "calling sliding on df of 1 rows\n",
      "calling sliding on df of 1 rows\n",
      "calling sliding on df of 1 rows\n",
      "calling sliding on df of 1 rows\n",
      "calling sliding on df of 1 rows\n",
      "calling sliding on df of 1 rows\n",
      "calling sliding on df of 1 rows\n",
      "calling sliding on df of 1 rows\n",
      "calling sliding on df of 1 rows\n",
      "calling sliding on df of 1 rows\n",
      "calling sliding on df of 1 rows\n",
      "calling sliding on df of 1 rows\n"
     ]
    },
    {
     "name": "stderr",
     "output_type": "stream",
     "text": [
      " 68%|██████▊   | 460/672 [06:58<02:44,  1.29it/s]"
     ]
    },
    {
     "name": "stdout",
     "output_type": "stream",
     "text": [
      "calling sliding on df of 1 rows\n",
      "calling sliding on df of 1 rows\n",
      "calling sliding on df of 1 rows\n",
      "calling sliding on df of 1 rows\n",
      "calling sliding on df of 1 rows\n",
      "calling sliding on df of 1 rows\n",
      "calling sliding on df of 1 rows\n"
     ]
    },
    {
     "name": "stderr",
     "output_type": "stream",
     "text": [
      " 69%|██████▊   | 461/672 [06:59<02:49,  1.24it/s]"
     ]
    },
    {
     "name": "stdout",
     "output_type": "stream",
     "text": [
      "calling sliding on df of 1 rows\n",
      "calling sliding on df of 1 rows\n",
      "calling sliding on df of 1 rows\n",
      "calling sliding on df of 1 rows\n",
      "calling sliding on df of 1 rows\n",
      "calling sliding on df of 1 rows\n",
      "calling sliding on df of 1 rows\n",
      "calling sliding on df of 1 rows\n",
      "calling sliding on df of 1 rows\n"
     ]
    },
    {
     "name": "stderr",
     "output_type": "stream",
     "text": [
      " 69%|██████▉   | 462/672 [07:00<02:51,  1.22it/s]"
     ]
    },
    {
     "name": "stdout",
     "output_type": "stream",
     "text": [
      "calling sliding on df of 1 rows\n",
      "calling sliding on df of 1 rows\n",
      "calling sliding on df of 1 rows\n",
      "calling sliding on df of 1 rows\n",
      "calling sliding on df of 1 rows\n",
      "calling sliding on df of 1 rows\n",
      "calling sliding on df of 1 rows\n",
      "calling sliding on df of 1 rows\n"
     ]
    },
    {
     "name": "stderr",
     "output_type": "stream",
     "text": [
      " 69%|██████▉   | 463/672 [07:01<02:58,  1.17it/s]"
     ]
    },
    {
     "name": "stdout",
     "output_type": "stream",
     "text": [
      "calling sliding on df of 1 rows\n",
      "calling sliding on df of 1 rows\n",
      "calling sliding on df of 1 rows\n",
      "calling sliding on df of 1 rows\n",
      "calling sliding on df of 1 rows\n",
      "calling sliding on df of 1 rows\n",
      "calling sliding on df of 1 rows\n",
      "calling sliding on df of 1 rows\n",
      "calling sliding on df of 1 rows\n",
      "calling sliding on df of 1 rows\n",
      "calling sliding on df of 1 rows\n",
      "calling sliding on df of 1 rows\n"
     ]
    },
    {
     "name": "stderr",
     "output_type": "stream",
     "text": [
      " 69%|██████▉   | 464/672 [07:01<02:53,  1.20it/s]"
     ]
    },
    {
     "name": "stdout",
     "output_type": "stream",
     "text": [
      "calling sliding on df of 1 rows\n",
      "calling sliding on df of 1 rows\n",
      "calling sliding on df of 1 rows\n",
      "calling sliding on df of 1 rows\n",
      "calling sliding on df of 1 rows\n",
      "calling sliding on df of 1 rows\n",
      "calling sliding on df of 1 rows\n",
      "calling sliding on df of 1 rows\n",
      "calling sliding on df of 1 rows\n",
      "calling sliding on df of 1 rows\n"
     ]
    },
    {
     "name": "stderr",
     "output_type": "stream",
     "text": [
      " 69%|██████▉   | 465/672 [07:02<02:56,  1.17it/s]"
     ]
    },
    {
     "name": "stdout",
     "output_type": "stream",
     "text": [
      "calling sliding on df of 1 rows\n",
      "calling sliding on df of 1 rows\n",
      "calling sliding on df of 1 rows\n",
      "calling sliding on df of 1 rows\n",
      "calling sliding on df of 1 rows\n",
      "calling sliding on df of 1 rows\n",
      "calling sliding on df of 1 rows\n",
      "calling sliding on df of 1 rows\n"
     ]
    },
    {
     "name": "stderr",
     "output_type": "stream",
     "text": [
      " 69%|██████▉   | 466/672 [07:03<02:52,  1.19it/s]"
     ]
    },
    {
     "name": "stdout",
     "output_type": "stream",
     "text": [
      "calling sliding on df of 1 rows\n",
      "calling sliding on df of 1 rows\n",
      "calling sliding on df of 1 rows\n"
     ]
    },
    {
     "name": "stderr",
     "output_type": "stream",
     "text": [
      " 69%|██████▉   | 467/672 [07:04<02:53,  1.18it/s]"
     ]
    },
    {
     "name": "stdout",
     "output_type": "stream",
     "text": [
      "calling sliding on df of 1 rows\n",
      "calling sliding on df of 1 rows\n"
     ]
    },
    {
     "name": "stderr",
     "output_type": "stream",
     "text": [
      " 70%|██████▉   | 468/672 [07:05<02:45,  1.23it/s]"
     ]
    },
    {
     "name": "stdout",
     "output_type": "stream",
     "text": [
      "calling sliding on df of 1 rows\n",
      "calling sliding on df of 1 rows\n",
      "calling sliding on df of 1 rows\n",
      "calling sliding on df of 1 rows\n",
      "calling sliding on df of 1 rows\n",
      "calling sliding on df of 1 rows\n",
      "calling sliding on df of 1 rows\n",
      "calling sliding on df of 1 rows\n"
     ]
    },
    {
     "name": "stderr",
     "output_type": "stream",
     "text": [
      " 70%|██████▉   | 469/672 [07:06<02:44,  1.23it/s]"
     ]
    },
    {
     "name": "stdout",
     "output_type": "stream",
     "text": [
      "calling sliding on df of 1 rows\n",
      "calling sliding on df of 1 rows\n",
      "calling sliding on df of 1 rows\n",
      "calling sliding on df of 1 rows\n",
      "calling sliding on df of 1 rows\n",
      "calling sliding on df of 1 rows\n",
      "calling sliding on df of 1 rows\n"
     ]
    },
    {
     "name": "stderr",
     "output_type": "stream",
     "text": [
      " 70%|██████▉   | 470/672 [07:06<02:46,  1.21it/s]"
     ]
    },
    {
     "name": "stdout",
     "output_type": "stream",
     "text": [
      "calling sliding on df of 1 rows\n",
      "calling sliding on df of 1 rows\n",
      "calling sliding on df of 1 rows\n",
      "calling sliding on df of 1 rows\n"
     ]
    },
    {
     "name": "stderr",
     "output_type": "stream",
     "text": [
      " 70%|███████   | 471/672 [07:07<02:41,  1.24it/s]"
     ]
    },
    {
     "name": "stdout",
     "output_type": "stream",
     "text": [
      "calling sliding on df of 1 rows\n",
      "calling sliding on df of 1 rows\n",
      "calling sliding on df of 1 rows\n",
      "calling sliding on df of 1 rows\n",
      "calling sliding on df of 1 rows\n",
      "calling sliding on df of 1 rows\n"
     ]
    },
    {
     "name": "stderr",
     "output_type": "stream",
     "text": [
      " 70%|███████   | 472/672 [07:08<02:45,  1.21it/s]"
     ]
    },
    {
     "name": "stdout",
     "output_type": "stream",
     "text": [
      "calling sliding on df of 1 rows\n",
      "calling sliding on df of 1 rows\n",
      "calling sliding on df of 1 rows\n",
      "calling sliding on df of 1 rows\n",
      "calling sliding on df of 1 rows\n",
      "calling sliding on df of 1 rows\n",
      "calling sliding on df of 1 rows\n",
      "calling sliding on df of 1 rows\n",
      "calling sliding on df of 1 rows\n",
      "calling sliding on df of 1 rows\n"
     ]
    },
    {
     "name": "stderr",
     "output_type": "stream",
     "text": [
      " 70%|███████   | 473/672 [07:09<02:45,  1.20it/s]"
     ]
    },
    {
     "name": "stdout",
     "output_type": "stream",
     "text": [
      "calling sliding on df of 1 rows\n",
      "calling sliding on df of 1 rows\n",
      "calling sliding on df of 1 rows\n",
      "calling sliding on df of 1 rows\n",
      "calling sliding on df of 1 rows\n",
      "calling sliding on df of 1 rows\n"
     ]
    },
    {
     "name": "stderr",
     "output_type": "stream",
     "text": [
      " 71%|███████   | 474/672 [07:10<02:46,  1.19it/s]"
     ]
    },
    {
     "name": "stdout",
     "output_type": "stream",
     "text": [
      "calling sliding on df of 1 rows\n"
     ]
    },
    {
     "name": "stderr",
     "output_type": "stream",
     "text": [
      " 71%|███████   | 475/672 [07:10<02:09,  1.52it/s]"
     ]
    },
    {
     "name": "stdout",
     "output_type": "stream",
     "text": [
      "calling sliding on df of 1 rows\n",
      "calling sliding on df of 1 rows\n",
      "calling sliding on df of 1 rows\n",
      "calling sliding on df of 1 rows\n",
      "calling sliding on df of 1 rows\n",
      "calling sliding on df of 1 rows\n"
     ]
    },
    {
     "name": "stderr",
     "output_type": "stream",
     "text": [
      " 71%|███████   | 476/672 [07:11<02:24,  1.36it/s]"
     ]
    },
    {
     "name": "stdout",
     "output_type": "stream",
     "text": [
      "calling sliding on df of 1 rows\n",
      "calling sliding on df of 1 rows\n",
      "calling sliding on df of 1 rows\n",
      "calling sliding on df of 1 rows\n",
      "calling sliding on df of 1 rows\n"
     ]
    },
    {
     "name": "stderr",
     "output_type": "stream",
     "text": [
      " 71%|███████   | 477/672 [07:12<02:29,  1.30it/s]"
     ]
    },
    {
     "name": "stdout",
     "output_type": "stream",
     "text": [
      "calling sliding on df of 1 rows\n"
     ]
    },
    {
     "name": "stderr",
     "output_type": "stream",
     "text": [
      " 71%|███████   | 478/672 [07:13<02:30,  1.29it/s]"
     ]
    },
    {
     "name": "stdout",
     "output_type": "stream",
     "text": [
      "calling sliding on df of 1 rows\n",
      "calling sliding on df of 1 rows\n",
      "calling sliding on df of 1 rows\n",
      "calling sliding on df of 1 rows\n",
      "calling sliding on df of 1 rows\n",
      "calling sliding on df of 1 rows\n",
      "calling sliding on df of 1 rows\n",
      "calling sliding on df of 1 rows\n"
     ]
    },
    {
     "name": "stderr",
     "output_type": "stream",
     "text": [
      " 71%|███████▏  | 479/672 [07:13<02:33,  1.25it/s]"
     ]
    },
    {
     "name": "stdout",
     "output_type": "stream",
     "text": [
      "calling sliding on df of 1 rows\n",
      "calling sliding on df of 1 rows\n"
     ]
    },
    {
     "name": "stderr",
     "output_type": "stream",
     "text": [
      " 71%|███████▏  | 480/672 [07:14<02:31,  1.26it/s]"
     ]
    },
    {
     "name": "stdout",
     "output_type": "stream",
     "text": [
      "calling sliding on df of 1 rows\n",
      "calling sliding on df of 1 rows\n",
      "calling sliding on df of 1 rows\n",
      "calling sliding on df of 1 rows\n",
      "calling sliding on df of 1 rows\n",
      "calling sliding on df of 1 rows\n",
      "calling sliding on df of 1 rows\n",
      "calling sliding on df of 1 rows\n",
      "calling sliding on df of 1 rows\n",
      "calling sliding on df of 1 rows\n",
      "calling sliding on df of 1 rows\n",
      "calling sliding on df of 1 rows\n",
      "calling sliding on df of 1 rows\n"
     ]
    },
    {
     "name": "stderr",
     "output_type": "stream",
     "text": [
      " 72%|███████▏  | 481/672 [07:15<02:34,  1.24it/s]"
     ]
    },
    {
     "name": "stdout",
     "output_type": "stream",
     "text": [
      "calling sliding on df of 1 rows\n",
      "calling sliding on df of 1 rows\n",
      "calling sliding on df of 1 rows\n",
      "calling sliding on df of 1 rows\n",
      "calling sliding on df of 1 rows\n"
     ]
    },
    {
     "name": "stderr",
     "output_type": "stream",
     "text": [
      " 72%|███████▏  | 482/672 [07:16<02:32,  1.25it/s]"
     ]
    },
    {
     "name": "stdout",
     "output_type": "stream",
     "text": [
      "calling sliding on df of 1 rows\n",
      "calling sliding on df of 1 rows\n",
      "calling sliding on df of 1 rows\n",
      "calling sliding on df of 1 rows\n",
      "calling sliding on df of 1 rows\n",
      "calling sliding on df of 1 rows\n"
     ]
    },
    {
     "name": "stderr",
     "output_type": "stream",
     "text": [
      " 72%|███████▏  | 484/672 [07:17<02:32,  1.24it/s]"
     ]
    },
    {
     "name": "stdout",
     "output_type": "stream",
     "text": [
      "calling sliding on df of 1 rows\n",
      "calling sliding on df of 1 rows\n",
      "calling sliding on df of 1 rows\n",
      "calling sliding on df of 1 rows\n",
      "calling sliding on df of 1 rows\n",
      "calling sliding on df of 1 rows\n"
     ]
    },
    {
     "name": "stderr",
     "output_type": "stream",
     "text": [
      " 72%|███████▏  | 485/672 [07:18<02:27,  1.27it/s]"
     ]
    },
    {
     "name": "stdout",
     "output_type": "stream",
     "text": [
      "calling sliding on df of 1 rows\n",
      "calling sliding on df of 1 rows\n",
      "calling sliding on df of 1 rows\n",
      "calling sliding on df of 1 rows\n",
      "calling sliding on df of 1 rows\n",
      "calling sliding on df of 1 rows\n",
      "calling sliding on df of 1 rows\n",
      "calling sliding on df of 1 rows\n",
      "calling sliding on df of 1 rows\n",
      "calling sliding on df of 1 rows\n"
     ]
    },
    {
     "name": "stderr",
     "output_type": "stream",
     "text": [
      " 72%|███████▏  | 486/672 [07:19<02:27,  1.26it/s]"
     ]
    },
    {
     "name": "stdout",
     "output_type": "stream",
     "text": [
      "calling sliding on df of 1 rows\n",
      "calling sliding on df of 1 rows\n",
      "calling sliding on df of 1 rows\n",
      "calling sliding on df of 1 rows\n",
      "calling sliding on df of 1 rows\n",
      "calling sliding on df of 1 rows\n"
     ]
    },
    {
     "name": "stderr",
     "output_type": "stream",
     "text": [
      " 72%|███████▏  | 487/672 [07:20<02:27,  1.26it/s]"
     ]
    },
    {
     "name": "stdout",
     "output_type": "stream",
     "text": [
      "calling sliding on df of 1 rows\n",
      "calling sliding on df of 1 rows\n",
      "calling sliding on df of 1 rows\n",
      "calling sliding on df of 1 rows\n",
      "calling sliding on df of 1 rows\n",
      "calling sliding on df of 1 rows\n"
     ]
    },
    {
     "name": "stderr",
     "output_type": "stream",
     "text": [
      " 73%|███████▎  | 488/672 [07:21<02:26,  1.25it/s]"
     ]
    },
    {
     "name": "stdout",
     "output_type": "stream",
     "text": [
      "calling sliding on df of 1 rows\n",
      "calling sliding on df of 1 rows\n",
      "calling sliding on df of 1 rows\n",
      "calling sliding on df of 1 rows\n",
      "calling sliding on df of 1 rows\n",
      "calling sliding on df of 1 rows\n"
     ]
    },
    {
     "name": "stderr",
     "output_type": "stream",
     "text": [
      " 73%|███████▎  | 489/672 [07:21<02:23,  1.28it/s]"
     ]
    },
    {
     "name": "stdout",
     "output_type": "stream",
     "text": [
      "calling sliding on df of 1 rows\n",
      "calling sliding on df of 1 rows\n",
      "calling sliding on df of 1 rows\n",
      "calling sliding on df of 1 rows\n",
      "calling sliding on df of 1 rows\n"
     ]
    },
    {
     "name": "stderr",
     "output_type": "stream",
     "text": [
      " 73%|███████▎  | 491/672 [07:23<02:22,  1.27it/s]"
     ]
    },
    {
     "name": "stdout",
     "output_type": "stream",
     "text": [
      "calling sliding on df of 1 rows\n",
      "calling sliding on df of 1 rows\n",
      "calling sliding on df of 1 rows\n",
      "calling sliding on df of 1 rows\n",
      "calling sliding on df of 1 rows\n",
      "calling sliding on df of 1 rows\n"
     ]
    },
    {
     "name": "stderr",
     "output_type": "stream",
     "text": [
      " 73%|███████▎  | 492/672 [07:24<02:23,  1.26it/s]"
     ]
    },
    {
     "name": "stdout",
     "output_type": "stream",
     "text": [
      "calling sliding on df of 1 rows\n",
      "calling sliding on df of 1 rows\n",
      "calling sliding on df of 1 rows\n",
      "calling sliding on df of 1 rows\n",
      "calling sliding on df of 1 rows\n",
      "calling sliding on df of 1 rows\n",
      "calling sliding on df of 1 rows\n"
     ]
    },
    {
     "name": "stderr",
     "output_type": "stream",
     "text": [
      " 73%|███████▎  | 493/672 [07:25<02:25,  1.23it/s]"
     ]
    },
    {
     "name": "stdout",
     "output_type": "stream",
     "text": [
      "calling sliding on df of 1 rows\n",
      "calling sliding on df of 1 rows\n",
      "calling sliding on df of 1 rows\n",
      "calling sliding on df of 1 rows\n",
      "calling sliding on df of 1 rows\n",
      "calling sliding on df of 1 rows\n",
      "calling sliding on df of 1 rows\n",
      "calling sliding on df of 1 rows\n",
      "calling sliding on df of 1 rows\n"
     ]
    },
    {
     "name": "stderr",
     "output_type": "stream",
     "text": [
      " 74%|███████▎  | 494/672 [07:25<02:24,  1.23it/s]"
     ]
    },
    {
     "name": "stdout",
     "output_type": "stream",
     "text": [
      "calling sliding on df of 1 rows\n",
      "calling sliding on df of 1 rows\n",
      "calling sliding on df of 1 rows\n",
      "calling sliding on df of 1 rows\n",
      "calling sliding on df of 1 rows\n",
      "calling sliding on df of 1 rows\n",
      "calling sliding on df of 1 rows\n"
     ]
    },
    {
     "name": "stderr",
     "output_type": "stream",
     "text": [
      " 74%|███████▎  | 495/672 [07:26<02:24,  1.22it/s]"
     ]
    },
    {
     "name": "stdout",
     "output_type": "stream",
     "text": [
      "calling sliding on df of 1 rows\n",
      "calling sliding on df of 1 rows\n",
      "calling sliding on df of 1 rows\n",
      "calling sliding on df of 1 rows\n",
      "calling sliding on df of 1 rows\n"
     ]
    },
    {
     "name": "stderr",
     "output_type": "stream",
     "text": [
      " 74%|███████▍  | 496/672 [07:27<02:28,  1.19it/s]"
     ]
    },
    {
     "name": "stdout",
     "output_type": "stream",
     "text": [
      "calling sliding on df of 1 rows\n",
      "calling sliding on df of 1 rows\n",
      "calling sliding on df of 1 rows\n",
      "calling sliding on df of 1 rows\n",
      "calling sliding on df of 1 rows\n",
      "calling sliding on df of 1 rows\n",
      "calling sliding on df of 1 rows\n"
     ]
    },
    {
     "name": "stderr",
     "output_type": "stream",
     "text": [
      " 74%|███████▍  | 497/672 [07:28<02:35,  1.13it/s]"
     ]
    },
    {
     "name": "stdout",
     "output_type": "stream",
     "text": [
      "calling sliding on df of 1 rows\n",
      "calling sliding on df of 1 rows\n",
      "calling sliding on df of 1 rows\n",
      "calling sliding on df of 1 rows\n",
      "calling sliding on df of 1 rows\n",
      "calling sliding on df of 1 rows\n",
      "calling sliding on df of 1 rows\n",
      "calling sliding on df of 1 rows\n"
     ]
    },
    {
     "name": "stderr",
     "output_type": "stream",
     "text": [
      " 74%|███████▍  | 498/672 [07:29<02:35,  1.12it/s]"
     ]
    },
    {
     "name": "stdout",
     "output_type": "stream",
     "text": [
      "calling sliding on df of 1 rows\n",
      "calling sliding on df of 1 rows\n",
      "calling sliding on df of 1 rows\n",
      "calling sliding on df of 1 rows\n",
      "calling sliding on df of 1 rows\n",
      "calling sliding on df of 1 rows\n",
      "calling sliding on df of 1 rows\n",
      "calling sliding on df of 1 rows\n"
     ]
    },
    {
     "name": "stderr",
     "output_type": "stream",
     "text": [
      " 74%|███████▍  | 499/672 [07:30<02:30,  1.15it/s]"
     ]
    },
    {
     "name": "stdout",
     "output_type": "stream",
     "text": [
      "calling sliding on df of 1 rows\n"
     ]
    },
    {
     "name": "stderr",
     "output_type": "stream",
     "text": [
      " 74%|███████▍  | 500/672 [07:31<02:28,  1.16it/s]"
     ]
    },
    {
     "name": "stdout",
     "output_type": "stream",
     "text": [
      "calling sliding on df of 1 rows\n",
      "calling sliding on df of 1 rows\n",
      "calling sliding on df of 1 rows\n",
      "calling sliding on df of 1 rows\n",
      "calling sliding on df of 1 rows\n",
      "calling sliding on df of 1 rows\n",
      "calling sliding on df of 1 rows\n",
      "calling sliding on df of 1 rows\n",
      "calling sliding on df of 1 rows\n",
      "calling sliding on df of 1 rows\n",
      "calling sliding on df of 1 rows\n",
      "calling sliding on df of 1 rows\n"
     ]
    },
    {
     "name": "stderr",
     "output_type": "stream",
     "text": [
      " 75%|███████▍  | 501/672 [07:31<02:24,  1.18it/s]"
     ]
    },
    {
     "name": "stdout",
     "output_type": "stream",
     "text": [
      "calling sliding on df of 1 rows\n",
      "calling sliding on df of 1 rows\n",
      "calling sliding on df of 1 rows\n",
      "calling sliding on df of 1 rows\n",
      "calling sliding on df of 1 rows\n",
      "calling sliding on df of 1 rows\n",
      "calling sliding on df of 1 rows\n",
      "calling sliding on df of 1 rows\n"
     ]
    },
    {
     "name": "stderr",
     "output_type": "stream",
     "text": [
      " 75%|███████▍  | 502/672 [07:32<02:26,  1.16it/s]"
     ]
    },
    {
     "name": "stdout",
     "output_type": "stream",
     "text": [
      "calling sliding on df of 1 rows\n",
      "calling sliding on df of 1 rows\n",
      "calling sliding on df of 1 rows\n",
      "calling sliding on df of 1 rows\n",
      "calling sliding on df of 1 rows\n",
      "calling sliding on df of 1 rows\n",
      "calling sliding on df of 1 rows\n",
      "calling sliding on df of 1 rows\n",
      "calling sliding on df of 1 rows\n"
     ]
    },
    {
     "name": "stderr",
     "output_type": "stream",
     "text": [
      " 75%|███████▌  | 504/672 [07:33<01:55,  1.45it/s]"
     ]
    },
    {
     "name": "stdout",
     "output_type": "stream",
     "text": [
      "calling sliding on df of 1 rows\n",
      "calling sliding on df of 1 rows\n",
      "calling sliding on df of 1 rows\n",
      "calling sliding on df of 1 rows\n",
      "calling sliding on df of 1 rows\n",
      "calling sliding on df of 1 rows\n",
      "calling sliding on df of 1 rows\n",
      "calling sliding on df of 1 rows\n",
      "calling sliding on df of 1 rows\n",
      "calling sliding on df of 1 rows\n",
      "calling sliding on df of 1 rows\n",
      "calling sliding on df of 1 rows\n",
      "calling sliding on df of 1 rows\n",
      "calling sliding on df of 1 rows\n",
      "calling sliding on df of 1 rows\n",
      "calling sliding on df of 1 rows\n",
      "calling sliding on df of 1 rows\n",
      "calling sliding on df of 1 rows\n",
      "calling sliding on df of 1 rows\n",
      "calling sliding on df of 1 rows\n",
      "calling sliding on df of 1 rows\n",
      "calling sliding on df of 1 rows\n",
      "calling sliding on df of 1 rows\n",
      "calling sliding on df of 1 rows\n",
      "calling sliding on df of 1 rows\n"
     ]
    },
    {
     "name": "stderr",
     "output_type": "stream",
     "text": [
      " 75%|███████▌  | 505/672 [07:34<01:58,  1.41it/s]"
     ]
    },
    {
     "name": "stdout",
     "output_type": "stream",
     "text": [
      "calling sliding on df of 1 rows\n"
     ]
    },
    {
     "name": "stderr",
     "output_type": "stream",
     "text": [
      " 75%|███████▌  | 506/672 [07:35<02:05,  1.33it/s]"
     ]
    },
    {
     "name": "stdout",
     "output_type": "stream",
     "text": [
      "calling sliding on df of 1 rows\n",
      "calling sliding on df of 1 rows\n",
      "calling sliding on df of 1 rows\n",
      "calling sliding on df of 1 rows\n",
      "calling sliding on df of 1 rows\n",
      "calling sliding on df of 1 rows\n",
      "calling sliding on df of 1 rows\n"
     ]
    },
    {
     "name": "stderr",
     "output_type": "stream",
     "text": [
      " 75%|███████▌  | 507/672 [07:36<02:08,  1.28it/s]"
     ]
    },
    {
     "name": "stdout",
     "output_type": "stream",
     "text": [
      "calling sliding on df of 1 rows\n",
      "calling sliding on df of 1 rows\n",
      "calling sliding on df of 1 rows\n",
      "calling sliding on df of 1 rows\n",
      "calling sliding on df of 1 rows\n",
      "calling sliding on df of 1 rows\n",
      "calling sliding on df of 1 rows\n"
     ]
    },
    {
     "name": "stderr",
     "output_type": "stream",
     "text": [
      " 76%|███████▌  | 508/672 [07:37<02:14,  1.22it/s]"
     ]
    },
    {
     "name": "stdout",
     "output_type": "stream",
     "text": [
      "calling sliding on df of 1 rows\n",
      "calling sliding on df of 1 rows\n",
      "calling sliding on df of 1 rows\n",
      "calling sliding on df of 1 rows\n",
      "calling sliding on df of 1 rows\n",
      "calling sliding on df of 1 rows\n",
      "calling sliding on df of 1 rows\n",
      "calling sliding on df of 1 rows\n",
      "calling sliding on df of 1 rows\n"
     ]
    },
    {
     "name": "stderr",
     "output_type": "stream",
     "text": [
      " 76%|███████▌  | 509/672 [07:38<02:12,  1.23it/s]"
     ]
    },
    {
     "name": "stdout",
     "output_type": "stream",
     "text": [
      "calling sliding on df of 1 rows\n",
      "calling sliding on df of 1 rows\n",
      "calling sliding on df of 1 rows\n",
      "calling sliding on df of 1 rows\n",
      "calling sliding on df of 1 rows\n",
      "calling sliding on df of 1 rows\n",
      "calling sliding on df of 1 rows\n"
     ]
    },
    {
     "name": "stderr",
     "output_type": "stream",
     "text": [
      " 76%|███████▌  | 510/672 [07:38<02:16,  1.19it/s]"
     ]
    },
    {
     "name": "stdout",
     "output_type": "stream",
     "text": [
      "calling sliding on df of 1 rows\n",
      "calling sliding on df of 1 rows\n",
      "calling sliding on df of 1 rows\n",
      "calling sliding on df of 1 rows\n",
      "calling sliding on df of 1 rows\n",
      "calling sliding on df of 1 rows\n",
      "calling sliding on df of 1 rows\n",
      "calling sliding on df of 1 rows\n"
     ]
    },
    {
     "name": "stderr",
     "output_type": "stream",
     "text": [
      " 76%|███████▌  | 511/672 [07:39<02:13,  1.20it/s]"
     ]
    },
    {
     "name": "stdout",
     "output_type": "stream",
     "text": [
      "calling sliding on df of 1 rows\n",
      "calling sliding on df of 1 rows\n",
      "calling sliding on df of 1 rows\n",
      "calling sliding on df of 1 rows\n",
      "calling sliding on df of 1 rows\n",
      "calling sliding on df of 1 rows\n",
      "calling sliding on df of 1 rows\n",
      "calling sliding on df of 1 rows\n",
      "calling sliding on df of 1 rows\n"
     ]
    },
    {
     "name": "stderr",
     "output_type": "stream",
     "text": [
      " 76%|███████▌  | 512/672 [07:40<02:14,  1.19it/s]"
     ]
    },
    {
     "name": "stdout",
     "output_type": "stream",
     "text": [
      "calling sliding on df of 1 rows\n",
      "calling sliding on df of 1 rows\n",
      "calling sliding on df of 1 rows\n",
      "calling sliding on df of 1 rows\n",
      "calling sliding on df of 1 rows\n",
      "calling sliding on df of 1 rows\n",
      "calling sliding on df of 1 rows\n"
     ]
    },
    {
     "name": "stderr",
     "output_type": "stream",
     "text": [
      " 76%|███████▋  | 513/672 [07:41<02:11,  1.21it/s]"
     ]
    },
    {
     "name": "stdout",
     "output_type": "stream",
     "text": [
      "calling sliding on df of 1 rows\n",
      "calling sliding on df of 1 rows\n",
      "calling sliding on df of 1 rows\n",
      "calling sliding on df of 1 rows\n"
     ]
    },
    {
     "name": "stderr",
     "output_type": "stream",
     "text": [
      " 76%|███████▋  | 514/672 [07:42<02:16,  1.16it/s]"
     ]
    },
    {
     "name": "stdout",
     "output_type": "stream",
     "text": [
      "calling sliding on df of 1 rows\n",
      "calling sliding on df of 1 rows\n",
      "calling sliding on df of 1 rows\n",
      "calling sliding on df of 1 rows\n",
      "calling sliding on df of 1 rows\n",
      "calling sliding on df of 1 rows\n",
      "calling sliding on df of 1 rows\n",
      "calling sliding on df of 1 rows\n",
      "calling sliding on df of 1 rows\n",
      "calling sliding on df of 1 rows\n",
      "calling sliding on df of 1 rows\n",
      "calling sliding on df of 1 rows\n",
      "calling sliding on df of 1 rows\n",
      "calling sliding on df of 1 rows\n"
     ]
    },
    {
     "name": "stderr",
     "output_type": "stream",
     "text": [
      " 77%|███████▋  | 515/672 [07:43<02:14,  1.17it/s]"
     ]
    },
    {
     "name": "stdout",
     "output_type": "stream",
     "text": [
      "calling sliding on df of 1 rows\n"
     ]
    },
    {
     "name": "stderr",
     "output_type": "stream",
     "text": [
      " 77%|███████▋  | 516/672 [07:44<02:12,  1.18it/s]"
     ]
    },
    {
     "name": "stdout",
     "output_type": "stream",
     "text": [
      "calling sliding on df of 1 rows\n",
      "calling sliding on df of 1 rows\n",
      "calling sliding on df of 1 rows\n",
      "calling sliding on df of 1 rows\n",
      "calling sliding on df of 1 rows\n",
      "calling sliding on df of 1 rows\n"
     ]
    },
    {
     "name": "stderr",
     "output_type": "stream",
     "text": [
      " 77%|███████▋  | 517/672 [07:44<02:08,  1.20it/s]"
     ]
    },
    {
     "name": "stdout",
     "output_type": "stream",
     "text": [
      "calling sliding on df of 1 rows\n",
      "calling sliding on df of 1 rows\n",
      "calling sliding on df of 1 rows\n",
      "calling sliding on df of 1 rows\n",
      "calling sliding on df of 1 rows\n"
     ]
    },
    {
     "name": "stderr",
     "output_type": "stream",
     "text": [
      " 77%|███████▋  | 519/672 [07:46<02:05,  1.22it/s]"
     ]
    },
    {
     "name": "stdout",
     "output_type": "stream",
     "text": [
      "calling sliding on df of 1 rows\n",
      "calling sliding on df of 1 rows\n",
      "calling sliding on df of 1 rows\n",
      "calling sliding on df of 1 rows\n",
      "calling sliding on df of 1 rows\n"
     ]
    },
    {
     "name": "stderr",
     "output_type": "stream",
     "text": [
      " 78%|███████▊  | 521/672 [07:48<02:05,  1.21it/s]"
     ]
    },
    {
     "name": "stdout",
     "output_type": "stream",
     "text": [
      "calling sliding on df of 1 rows\n",
      "calling sliding on df of 1 rows\n",
      "calling sliding on df of 1 rows\n",
      "calling sliding on df of 1 rows\n",
      "calling sliding on df of 1 rows\n",
      "calling sliding on df of 1 rows\n"
     ]
    },
    {
     "name": "stderr",
     "output_type": "stream",
     "text": [
      " 78%|███████▊  | 522/672 [07:48<02:03,  1.21it/s]"
     ]
    },
    {
     "name": "stdout",
     "output_type": "stream",
     "text": [
      "calling sliding on df of 1 rows\n",
      "calling sliding on df of 1 rows\n",
      "calling sliding on df of 1 rows\n",
      "calling sliding on df of 1 rows\n",
      "calling sliding on df of 1 rows\n"
     ]
    },
    {
     "name": "stderr",
     "output_type": "stream",
     "text": [
      " 78%|███████▊  | 523/672 [07:49<02:03,  1.21it/s]"
     ]
    },
    {
     "name": "stdout",
     "output_type": "stream",
     "text": [
      "calling sliding on df of 1 rows\n",
      "calling sliding on df of 1 rows\n",
      "calling sliding on df of 1 rows\n",
      "calling sliding on df of 1 rows\n",
      "calling sliding on df of 1 rows\n"
     ]
    },
    {
     "name": "stderr",
     "output_type": "stream",
     "text": [
      " 78%|███████▊  | 524/672 [07:50<02:05,  1.18it/s]"
     ]
    },
    {
     "name": "stdout",
     "output_type": "stream",
     "text": [
      "calling sliding on df of 1 rows\n",
      "calling sliding on df of 1 rows\n",
      "calling sliding on df of 1 rows\n",
      "calling sliding on df of 1 rows\n"
     ]
    },
    {
     "name": "stderr",
     "output_type": "stream",
     "text": [
      " 78%|███████▊  | 526/672 [07:52<02:01,  1.20it/s]"
     ]
    },
    {
     "name": "stdout",
     "output_type": "stream",
     "text": [
      "calling sliding on df of 1 rows\n"
     ]
    },
    {
     "name": "stderr",
     "output_type": "stream",
     "text": [
      " 78%|███████▊  | 527/672 [07:53<01:59,  1.21it/s]"
     ]
    },
    {
     "name": "stdout",
     "output_type": "stream",
     "text": [
      "calling sliding on df of 1 rows\n",
      "calling sliding on df of 1 rows\n",
      "calling sliding on df of 1 rows\n",
      "calling sliding on df of 1 rows\n"
     ]
    },
    {
     "name": "stderr",
     "output_type": "stream",
     "text": [
      " 79%|███████▊  | 528/672 [07:53<01:58,  1.21it/s]"
     ]
    },
    {
     "name": "stdout",
     "output_type": "stream",
     "text": [
      "calling sliding on df of 1 rows\n",
      "calling sliding on df of 1 rows\n",
      "calling sliding on df of 1 rows\n",
      "calling sliding on df of 1 rows\n",
      "calling sliding on df of 1 rows\n",
      "calling sliding on df of 1 rows\n",
      "calling sliding on df of 1 rows\n",
      "calling sliding on df of 1 rows\n",
      "calling sliding on df of 1 rows\n",
      "calling sliding on df of 1 rows\n",
      "calling sliding on df of 1 rows\n",
      "calling sliding on df of 1 rows\n"
     ]
    },
    {
     "name": "stderr",
     "output_type": "stream",
     "text": [
      " 79%|███████▊  | 529/672 [07:54<01:56,  1.22it/s]"
     ]
    },
    {
     "name": "stdout",
     "output_type": "stream",
     "text": [
      "calling sliding on df of 1 rows\n",
      "calling sliding on df of 1 rows\n",
      "calling sliding on df of 1 rows\n",
      "calling sliding on df of 1 rows\n",
      "calling sliding on df of 1 rows\n"
     ]
    },
    {
     "name": "stderr",
     "output_type": "stream",
     "text": [
      " 79%|███████▉  | 530/672 [07:55<01:53,  1.25it/s]"
     ]
    },
    {
     "name": "stdout",
     "output_type": "stream",
     "text": [
      "calling sliding on df of 1 rows\n",
      "calling sliding on df of 1 rows\n",
      "calling sliding on df of 1 rows\n",
      "calling sliding on df of 1 rows\n",
      "calling sliding on df of 1 rows\n",
      "calling sliding on df of 1 rows\n"
     ]
    },
    {
     "name": "stderr",
     "output_type": "stream",
     "text": [
      " 79%|███████▉  | 531/672 [07:56<01:58,  1.19it/s]"
     ]
    },
    {
     "name": "stdout",
     "output_type": "stream",
     "text": [
      "calling sliding on df of 1 rows\n"
     ]
    },
    {
     "name": "stderr",
     "output_type": "stream",
     "text": [
      " 79%|███████▉  | 532/672 [07:57<01:58,  1.19it/s]"
     ]
    },
    {
     "name": "stdout",
     "output_type": "stream",
     "text": [
      "calling sliding on df of 1 rows\n",
      "calling sliding on df of 1 rows\n",
      "calling sliding on df of 1 rows\n",
      "calling sliding on df of 1 rows\n",
      "calling sliding on df of 1 rows\n",
      "calling sliding on df of 1 rows\n",
      "calling sliding on df of 1 rows\n",
      "calling sliding on df of 1 rows\n"
     ]
    },
    {
     "name": "stderr",
     "output_type": "stream",
     "text": [
      " 79%|███████▉  | 533/672 [07:58<01:57,  1.18it/s]"
     ]
    },
    {
     "name": "stdout",
     "output_type": "stream",
     "text": [
      "calling sliding on df of 1 rows\n",
      "calling sliding on df of 1 rows\n"
     ]
    },
    {
     "name": "stderr",
     "output_type": "stream",
     "text": [
      " 79%|███████▉  | 534/672 [07:58<01:43,  1.34it/s]"
     ]
    },
    {
     "name": "stdout",
     "output_type": "stream",
     "text": [
      "calling sliding on df of 1 rows\n",
      "calling sliding on df of 1 rows\n",
      "calling sliding on df of 1 rows\n",
      "calling sliding on df of 1 rows\n",
      "calling sliding on df of 1 rows\n",
      "calling sliding on df of 1 rows\n",
      "calling sliding on df of 1 rows\n",
      "calling sliding on df of 1 rows\n"
     ]
    },
    {
     "name": "stderr",
     "output_type": "stream",
     "text": [
      " 80%|███████▉  | 535/672 [07:59<01:43,  1.32it/s]"
     ]
    },
    {
     "name": "stdout",
     "output_type": "stream",
     "text": [
      "calling sliding on df of 1 rows\n",
      "calling sliding on df of 1 rows\n",
      "calling sliding on df of 1 rows\n",
      "calling sliding on df of 1 rows\n",
      "calling sliding on df of 1 rows\n",
      "calling sliding on df of 1 rows\n",
      "calling sliding on df of 1 rows\n",
      "calling sliding on df of 1 rows\n",
      "calling sliding on df of 1 rows\n"
     ]
    },
    {
     "name": "stderr",
     "output_type": "stream",
     "text": [
      " 80%|███████▉  | 536/672 [08:00<01:44,  1.30it/s]"
     ]
    },
    {
     "name": "stdout",
     "output_type": "stream",
     "text": [
      "calling sliding on df of 1 rows\n",
      "calling sliding on df of 1 rows\n",
      "calling sliding on df of 1 rows\n",
      "calling sliding on df of 1 rows\n",
      "calling sliding on df of 1 rows\n",
      "calling sliding on df of 1 rows\n",
      "calling sliding on df of 1 rows\n",
      "calling sliding on df of 1 rows\n",
      "calling sliding on df of 1 rows\n"
     ]
    },
    {
     "name": "stderr",
     "output_type": "stream",
     "text": [
      " 80%|███████▉  | 537/672 [08:01<01:44,  1.29it/s]"
     ]
    },
    {
     "name": "stdout",
     "output_type": "stream",
     "text": [
      "calling sliding on df of 1 rows\n",
      "calling sliding on df of 1 rows\n",
      "calling sliding on df of 1 rows\n",
      "calling sliding on df of 1 rows\n",
      "calling sliding on df of 1 rows\n",
      "calling sliding on df of 1 rows\n",
      "calling sliding on df of 1 rows\n",
      "calling sliding on df of 1 rows\n"
     ]
    },
    {
     "name": "stderr",
     "output_type": "stream",
     "text": [
      " 80%|████████  | 538/672 [08:01<01:42,  1.30it/s]"
     ]
    },
    {
     "name": "stdout",
     "output_type": "stream",
     "text": [
      "calling sliding on df of 1 rows\n",
      "calling sliding on df of 1 rows\n",
      "calling sliding on df of 1 rows\n",
      "calling sliding on df of 1 rows\n",
      "calling sliding on df of 1 rows\n",
      "calling sliding on df of 1 rows\n",
      "calling sliding on df of 1 rows\n",
      "calling sliding on df of 1 rows\n",
      "calling sliding on df of 1 rows\n"
     ]
    },
    {
     "name": "stderr",
     "output_type": "stream",
     "text": [
      " 80%|████████  | 539/672 [08:02<01:42,  1.30it/s]"
     ]
    },
    {
     "name": "stdout",
     "output_type": "stream",
     "text": [
      "calling sliding on df of 1 rows\n",
      "calling sliding on df of 1 rows\n",
      "calling sliding on df of 1 rows\n",
      "calling sliding on df of 1 rows\n",
      "calling sliding on df of 1 rows\n",
      "calling sliding on df of 1 rows\n",
      "calling sliding on df of 1 rows\n",
      "calling sliding on df of 1 rows\n",
      "calling sliding on df of 1 rows\n",
      "calling sliding on df of 1 rows\n",
      "calling sliding on df of 1 rows\n"
     ]
    },
    {
     "name": "stderr",
     "output_type": "stream",
     "text": [
      " 80%|████████  | 540/672 [08:03<01:40,  1.31it/s]"
     ]
    },
    {
     "name": "stdout",
     "output_type": "stream",
     "text": [
      "calling sliding on df of 1 rows\n",
      "calling sliding on df of 1 rows\n",
      "calling sliding on df of 1 rows\n",
      "calling sliding on df of 1 rows\n",
      "calling sliding on df of 1 rows\n",
      "calling sliding on df of 1 rows\n",
      "calling sliding on df of 1 rows\n",
      "calling sliding on df of 1 rows\n",
      "calling sliding on df of 1 rows\n"
     ]
    },
    {
     "name": "stderr",
     "output_type": "stream",
     "text": [
      " 81%|████████  | 542/672 [08:04<01:40,  1.29it/s]"
     ]
    },
    {
     "name": "stdout",
     "output_type": "stream",
     "text": [
      "calling sliding on df of 1 rows\n",
      "calling sliding on df of 1 rows\n",
      "calling sliding on df of 1 rows\n",
      "calling sliding on df of 1 rows\n",
      "calling sliding on df of 1 rows\n",
      "calling sliding on df of 1 rows\n"
     ]
    },
    {
     "name": "stderr",
     "output_type": "stream",
     "text": [
      " 81%|████████  | 543/672 [08:05<01:43,  1.25it/s]"
     ]
    },
    {
     "name": "stdout",
     "output_type": "stream",
     "text": [
      "calling sliding on df of 1 rows\n",
      "calling sliding on df of 1 rows\n",
      "calling sliding on df of 1 rows\n",
      "calling sliding on df of 1 rows\n",
      "calling sliding on df of 1 rows\n"
     ]
    },
    {
     "name": "stderr",
     "output_type": "stream",
     "text": [
      " 81%|████████  | 544/672 [08:06<01:48,  1.18it/s]"
     ]
    },
    {
     "name": "stdout",
     "output_type": "stream",
     "text": [
      "calling sliding on df of 1 rows\n",
      "calling sliding on df of 1 rows\n",
      "calling sliding on df of 1 rows\n",
      "calling sliding on df of 1 rows\n",
      "calling sliding on df of 1 rows\n"
     ]
    },
    {
     "name": "stderr",
     "output_type": "stream",
     "text": [
      " 81%|████████▏ | 546/672 [08:08<01:43,  1.22it/s]"
     ]
    },
    {
     "name": "stdout",
     "output_type": "stream",
     "text": [
      "calling sliding on df of 1 rows\n",
      "calling sliding on df of 1 rows\n",
      "calling sliding on df of 1 rows\n",
      "calling sliding on df of 1 rows\n",
      "calling sliding on df of 1 rows\n",
      "calling sliding on df of 1 rows\n",
      "calling sliding on df of 1 rows\n"
     ]
    },
    {
     "name": "stderr",
     "output_type": "stream",
     "text": [
      " 81%|████████▏ | 547/672 [08:09<01:43,  1.21it/s]"
     ]
    },
    {
     "name": "stdout",
     "output_type": "stream",
     "text": [
      "calling sliding on df of 1 rows\n",
      "calling sliding on df of 1 rows\n",
      "calling sliding on df of 1 rows\n",
      "calling sliding on df of 1 rows\n",
      "calling sliding on df of 1 rows\n",
      "calling sliding on df of 1 rows\n",
      "calling sliding on df of 1 rows\n",
      "calling sliding on df of 1 rows\n",
      "calling sliding on df of 1 rows\n",
      "calling sliding on df of 1 rows\n"
     ]
    },
    {
     "name": "stderr",
     "output_type": "stream",
     "text": [
      " 82%|████████▏ | 549/672 [08:10<01:38,  1.25it/s]"
     ]
    },
    {
     "name": "stdout",
     "output_type": "stream",
     "text": [
      "calling sliding on df of 1 rows\n"
     ]
    },
    {
     "name": "stderr",
     "output_type": "stream",
     "text": [
      " 82%|████████▏ | 550/672 [08:11<01:37,  1.25it/s]"
     ]
    },
    {
     "name": "stdout",
     "output_type": "stream",
     "text": [
      "calling sliding on df of 1 rows\n",
      "calling sliding on df of 1 rows\n"
     ]
    },
    {
     "name": "stderr",
     "output_type": "stream",
     "text": [
      " 82%|████████▏ | 551/672 [08:12<01:37,  1.24it/s]"
     ]
    },
    {
     "name": "stdout",
     "output_type": "stream",
     "text": [
      "calling sliding on df of 1 rows\n",
      "calling sliding on df of 1 rows\n",
      "calling sliding on df of 1 rows\n",
      "calling sliding on df of 1 rows\n",
      "calling sliding on df of 1 rows\n",
      "calling sliding on df of 1 rows\n",
      "calling sliding on df of 1 rows\n",
      "calling sliding on df of 1 rows\n"
     ]
    },
    {
     "name": "stderr",
     "output_type": "stream",
     "text": [
      " 82%|████████▏ | 552/672 [08:13<01:36,  1.24it/s]"
     ]
    },
    {
     "name": "stdout",
     "output_type": "stream",
     "text": [
      "calling sliding on df of 1 rows\n",
      "calling sliding on df of 1 rows\n",
      "calling sliding on df of 1 rows\n",
      "calling sliding on df of 1 rows\n",
      "calling sliding on df of 1 rows\n"
     ]
    },
    {
     "name": "stderr",
     "output_type": "stream",
     "text": [
      " 82%|████████▏ | 553/672 [08:13<01:36,  1.24it/s]"
     ]
    },
    {
     "name": "stdout",
     "output_type": "stream",
     "text": [
      "calling sliding on df of 1 rows\n"
     ]
    },
    {
     "name": "stderr",
     "output_type": "stream",
     "text": [
      " 82%|████████▏ | 554/672 [08:14<01:34,  1.25it/s]"
     ]
    },
    {
     "name": "stdout",
     "output_type": "stream",
     "text": [
      "calling sliding on df of 1 rows\n",
      "calling sliding on df of 1 rows\n",
      "calling sliding on df of 1 rows\n",
      "calling sliding on df of 1 rows\n",
      "calling sliding on df of 1 rows\n",
      "calling sliding on df of 1 rows\n"
     ]
    },
    {
     "name": "stderr",
     "output_type": "stream",
     "text": [
      " 83%|████████▎ | 555/672 [08:15<01:33,  1.25it/s]"
     ]
    },
    {
     "name": "stdout",
     "output_type": "stream",
     "text": [
      "calling sliding on df of 1 rows\n",
      "calling sliding on df of 1 rows\n",
      "calling sliding on df of 1 rows\n",
      "calling sliding on df of 1 rows\n",
      "calling sliding on df of 1 rows\n",
      "calling sliding on df of 1 rows\n",
      "calling sliding on df of 1 rows\n",
      "calling sliding on df of 1 rows\n",
      "calling sliding on df of 1 rows\n",
      "calling sliding on df of 1 rows\n",
      "calling sliding on df of 1 rows\n",
      "calling sliding on df of 1 rows\n"
     ]
    },
    {
     "name": "stderr",
     "output_type": "stream",
     "text": [
      " 83%|████████▎ | 556/672 [08:16<01:34,  1.23it/s]"
     ]
    },
    {
     "name": "stdout",
     "output_type": "stream",
     "text": [
      "calling sliding on df of 1 rows\n",
      "calling sliding on df of 1 rows\n",
      "calling sliding on df of 1 rows\n",
      "calling sliding on df of 1 rows\n",
      "calling sliding on df of 1 rows\n",
      "calling sliding on df of 1 rows\n"
     ]
    },
    {
     "name": "stderr",
     "output_type": "stream",
     "text": [
      " 83%|████████▎ | 558/672 [08:17<01:13,  1.55it/s]"
     ]
    },
    {
     "name": "stdout",
     "output_type": "stream",
     "text": [
      "calling sliding on df of 1 rows\n",
      "calling sliding on df of 1 rows\n",
      "calling sliding on df of 1 rows\n",
      "calling sliding on df of 1 rows\n",
      "calling sliding on df of 1 rows\n",
      "calling sliding on df of 1 rows\n",
      "calling sliding on df of 1 rows\n",
      "calling sliding on df of 1 rows\n"
     ]
    },
    {
     "name": "stderr",
     "output_type": "stream",
     "text": [
      " 83%|████████▎ | 559/672 [08:18<01:18,  1.44it/s]"
     ]
    },
    {
     "name": "stdout",
     "output_type": "stream",
     "text": [
      "calling sliding on df of 1 rows\n",
      "calling sliding on df of 1 rows\n",
      "calling sliding on df of 1 rows\n",
      "calling sliding on df of 1 rows\n",
      "calling sliding on df of 1 rows\n",
      "calling sliding on df of 1 rows\n",
      "calling sliding on df of 1 rows\n",
      "calling sliding on df of 1 rows\n"
     ]
    },
    {
     "name": "stderr",
     "output_type": "stream",
     "text": [
      " 83%|████████▎ | 560/672 [08:18<01:20,  1.39it/s]"
     ]
    },
    {
     "name": "stdout",
     "output_type": "stream",
     "text": [
      "calling sliding on df of 1 rows\n",
      "calling sliding on df of 1 rows\n",
      "calling sliding on df of 1 rows\n",
      "calling sliding on df of 1 rows\n",
      "calling sliding on df of 1 rows\n",
      "calling sliding on df of 1 rows\n",
      "calling sliding on df of 1 rows\n",
      "calling sliding on df of 1 rows\n",
      "calling sliding on df of 1 rows\n"
     ]
    },
    {
     "name": "stderr",
     "output_type": "stream",
     "text": [
      " 83%|████████▎ | 561/672 [08:19<01:23,  1.33it/s]"
     ]
    },
    {
     "name": "stdout",
     "output_type": "stream",
     "text": [
      "calling sliding on df of 1 rows\n",
      "calling sliding on df of 1 rows\n",
      "calling sliding on df of 1 rows\n",
      "calling sliding on df of 1 rows\n",
      "calling sliding on df of 1 rows\n",
      "calling sliding on df of 1 rows\n",
      "calling sliding on df of 1 rows\n"
     ]
    },
    {
     "name": "stderr",
     "output_type": "stream",
     "text": [
      " 84%|████████▎ | 562/672 [08:20<01:23,  1.32it/s]"
     ]
    },
    {
     "name": "stdout",
     "output_type": "stream",
     "text": [
      "calling sliding on df of 1 rows\n"
     ]
    },
    {
     "name": "stderr",
     "output_type": "stream",
     "text": [
      " 84%|████████▍ | 563/672 [08:21<01:23,  1.31it/s]"
     ]
    },
    {
     "name": "stdout",
     "output_type": "stream",
     "text": [
      "calling sliding on df of 1 rows\n",
      "calling sliding on df of 1 rows\n",
      "calling sliding on df of 1 rows\n",
      "calling sliding on df of 1 rows\n",
      "calling sliding on df of 1 rows\n",
      "calling sliding on df of 1 rows\n"
     ]
    },
    {
     "name": "stderr",
     "output_type": "stream",
     "text": [
      " 84%|████████▍ | 564/672 [08:22<01:27,  1.23it/s]"
     ]
    },
    {
     "name": "stdout",
     "output_type": "stream",
     "text": [
      "calling sliding on df of 1 rows\n",
      "calling sliding on df of 1 rows\n",
      "calling sliding on df of 1 rows\n",
      "calling sliding on df of 1 rows\n",
      "calling sliding on df of 1 rows\n",
      "calling sliding on df of 1 rows\n"
     ]
    },
    {
     "name": "stderr",
     "output_type": "stream",
     "text": [
      " 84%|████████▍ | 565/672 [08:22<01:24,  1.27it/s]"
     ]
    },
    {
     "name": "stdout",
     "output_type": "stream",
     "text": [
      "calling sliding on df of 1 rows\n",
      "calling sliding on df of 1 rows\n",
      "calling sliding on df of 1 rows\n"
     ]
    },
    {
     "name": "stderr",
     "output_type": "stream",
     "text": [
      " 84%|████████▍ | 566/672 [08:23<01:23,  1.28it/s]"
     ]
    },
    {
     "name": "stdout",
     "output_type": "stream",
     "text": [
      "calling sliding on df of 1 rows\n",
      "calling sliding on df of 1 rows\n",
      "calling sliding on df of 1 rows\n",
      "calling sliding on df of 1 rows\n",
      "calling sliding on df of 1 rows\n",
      "calling sliding on df of 1 rows\n"
     ]
    },
    {
     "name": "stderr",
     "output_type": "stream",
     "text": [
      " 84%|████████▍ | 567/672 [08:24<01:26,  1.21it/s]"
     ]
    },
    {
     "name": "stdout",
     "output_type": "stream",
     "text": [
      "calling sliding on df of 1 rows\n",
      "calling sliding on df of 1 rows\n",
      "calling sliding on df of 1 rows\n",
      "calling sliding on df of 1 rows\n",
      "calling sliding on df of 1 rows\n",
      "calling sliding on df of 1 rows\n",
      "calling sliding on df of 1 rows\n",
      "calling sliding on df of 1 rows\n"
     ]
    },
    {
     "name": "stderr",
     "output_type": "stream",
     "text": [
      " 85%|████████▍ | 568/672 [08:25<01:24,  1.23it/s]"
     ]
    },
    {
     "name": "stdout",
     "output_type": "stream",
     "text": [
      "calling sliding on df of 1 rows\n",
      "calling sliding on df of 1 rows\n"
     ]
    },
    {
     "name": "stderr",
     "output_type": "stream",
     "text": [
      " 85%|████████▍ | 569/672 [08:26<01:24,  1.22it/s]"
     ]
    },
    {
     "name": "stdout",
     "output_type": "stream",
     "text": [
      "calling sliding on df of 1 rows\n",
      "calling sliding on df of 1 rows\n",
      "calling sliding on df of 1 rows\n",
      "calling sliding on df of 1 rows\n"
     ]
    },
    {
     "name": "stderr",
     "output_type": "stream",
     "text": [
      " 85%|████████▍ | 570/672 [08:27<01:23,  1.23it/s]"
     ]
    },
    {
     "name": "stdout",
     "output_type": "stream",
     "text": [
      "calling sliding on df of 1 rows\n",
      "calling sliding on df of 1 rows\n",
      "calling sliding on df of 1 rows\n",
      "calling sliding on df of 1 rows\n",
      "calling sliding on df of 1 rows\n",
      "calling sliding on df of 1 rows\n",
      "calling sliding on df of 1 rows\n",
      "calling sliding on df of 1 rows\n",
      "calling sliding on df of 1 rows\n"
     ]
    },
    {
     "name": "stderr",
     "output_type": "stream",
     "text": [
      " 85%|████████▍ | 571/672 [08:27<01:25,  1.19it/s]"
     ]
    },
    {
     "name": "stdout",
     "output_type": "stream",
     "text": [
      "calling sliding on df of 1 rows\n",
      "calling sliding on df of 1 rows\n",
      "calling sliding on df of 1 rows\n",
      "calling sliding on df of 1 rows\n",
      "calling sliding on df of 1 rows\n"
     ]
    },
    {
     "name": "stderr",
     "output_type": "stream",
     "text": [
      " 85%|████████▌ | 572/672 [08:28<01:24,  1.18it/s]"
     ]
    },
    {
     "name": "stdout",
     "output_type": "stream",
     "text": [
      "calling sliding on df of 1 rows\n",
      "calling sliding on df of 1 rows\n",
      "calling sliding on df of 1 rows\n",
      "calling sliding on df of 1 rows\n",
      "calling sliding on df of 1 rows\n",
      "calling sliding on df of 1 rows\n",
      "calling sliding on df of 1 rows\n",
      "calling sliding on df of 1 rows\n",
      "calling sliding on df of 1 rows\n",
      "calling sliding on df of 1 rows\n",
      "calling sliding on df of 1 rows\n",
      "calling sliding on df of 1 rows\n"
     ]
    },
    {
     "name": "stderr",
     "output_type": "stream",
     "text": [
      " 85%|████████▌ | 573/672 [08:29<01:22,  1.20it/s]"
     ]
    },
    {
     "name": "stdout",
     "output_type": "stream",
     "text": [
      "calling sliding on df of 1 rows\n",
      "calling sliding on df of 1 rows\n",
      "calling sliding on df of 1 rows\n",
      "calling sliding on df of 1 rows\n",
      "calling sliding on df of 1 rows\n",
      "calling sliding on df of 1 rows\n",
      "calling sliding on df of 1 rows\n"
     ]
    },
    {
     "name": "stderr",
     "output_type": "stream",
     "text": [
      " 85%|████████▌ | 574/672 [08:30<01:20,  1.21it/s]"
     ]
    },
    {
     "name": "stdout",
     "output_type": "stream",
     "text": [
      "calling sliding on df of 1 rows\n",
      "calling sliding on df of 1 rows\n",
      "calling sliding on df of 1 rows\n",
      "calling sliding on df of 1 rows\n",
      "calling sliding on df of 1 rows\n",
      "calling sliding on df of 1 rows\n",
      "calling sliding on df of 1 rows\n",
      "calling sliding on df of 1 rows\n"
     ]
    },
    {
     "name": "stderr",
     "output_type": "stream",
     "text": [
      " 86%|████████▌ | 575/672 [08:31<01:16,  1.27it/s]"
     ]
    },
    {
     "name": "stdout",
     "output_type": "stream",
     "text": [
      "calling sliding on df of 1 rows\n",
      "calling sliding on df of 1 rows\n",
      "calling sliding on df of 1 rows\n",
      "calling sliding on df of 1 rows\n",
      "calling sliding on df of 1 rows\n",
      "calling sliding on df of 1 rows\n",
      "calling sliding on df of 1 rows\n",
      "calling sliding on df of 1 rows\n",
      "calling sliding on df of 1 rows\n",
      "calling sliding on df of 1 rows\n"
     ]
    },
    {
     "name": "stderr",
     "output_type": "stream",
     "text": [
      " 86%|████████▌ | 576/672 [08:31<01:17,  1.23it/s]"
     ]
    },
    {
     "name": "stdout",
     "output_type": "stream",
     "text": [
      "calling sliding on df of 1 rows\n",
      "calling sliding on df of 1 rows\n",
      "calling sliding on df of 1 rows\n",
      "calling sliding on df of 1 rows\n",
      "calling sliding on df of 1 rows\n",
      "calling sliding on df of 1 rows\n",
      "calling sliding on df of 1 rows\n",
      "calling sliding on df of 1 rows\n",
      "calling sliding on df of 1 rows\n",
      "calling sliding on df of 1 rows\n",
      "calling sliding on df of 1 rows\n"
     ]
    },
    {
     "name": "stderr",
     "output_type": "stream",
     "text": [
      " 86%|████████▌ | 577/672 [08:32<01:15,  1.25it/s]"
     ]
    },
    {
     "name": "stdout",
     "output_type": "stream",
     "text": [
      "calling sliding on df of 1 rows\n",
      "calling sliding on df of 1 rows\n",
      "calling sliding on df of 1 rows\n",
      "calling sliding on df of 1 rows\n"
     ]
    },
    {
     "name": "stderr",
     "output_type": "stream",
     "text": [
      " 86%|████████▌ | 578/672 [08:33<01:17,  1.21it/s]"
     ]
    },
    {
     "name": "stdout",
     "output_type": "stream",
     "text": [
      "calling sliding on df of 1 rows\n",
      "calling sliding on df of 1 rows\n",
      "calling sliding on df of 1 rows\n",
      "calling sliding on df of 1 rows\n"
     ]
    },
    {
     "name": "stderr",
     "output_type": "stream",
     "text": [
      " 86%|████████▌ | 579/672 [08:34<01:16,  1.21it/s]"
     ]
    },
    {
     "name": "stdout",
     "output_type": "stream",
     "text": [
      "calling sliding on df of 1 rows\n",
      "calling sliding on df of 1 rows\n",
      "calling sliding on df of 1 rows\n",
      "calling sliding on df of 1 rows\n",
      "calling sliding on df of 1 rows\n",
      "calling sliding on df of 1 rows\n"
     ]
    },
    {
     "name": "stderr",
     "output_type": "stream",
     "text": [
      " 86%|████████▋ | 580/672 [08:35<01:15,  1.21it/s]"
     ]
    },
    {
     "name": "stdout",
     "output_type": "stream",
     "text": [
      "calling sliding on df of 1 rows\n",
      "calling sliding on df of 1 rows\n",
      "calling sliding on df of 1 rows\n",
      "calling sliding on df of 1 rows\n",
      "calling sliding on df of 1 rows\n",
      "calling sliding on df of 1 rows\n",
      "calling sliding on df of 1 rows\n",
      "calling sliding on df of 1 rows\n",
      "calling sliding on df of 1 rows\n",
      "calling sliding on df of 1 rows\n",
      "calling sliding on df of 1 rows\n",
      "calling sliding on df of 1 rows\n",
      "calling sliding on df of 1 rows\n"
     ]
    },
    {
     "name": "stderr",
     "output_type": "stream",
     "text": [
      " 86%|████████▋ | 581/672 [08:36<01:14,  1.22it/s]"
     ]
    },
    {
     "name": "stdout",
     "output_type": "stream",
     "text": [
      "calling sliding on df of 1 rows\n",
      "calling sliding on df of 1 rows\n",
      "calling sliding on df of 1 rows\n"
     ]
    },
    {
     "name": "stderr",
     "output_type": "stream",
     "text": [
      " 87%|████████▋ | 583/672 [08:37<01:11,  1.24it/s]"
     ]
    },
    {
     "name": "stdout",
     "output_type": "stream",
     "text": [
      "calling sliding on df of 1 rows\n"
     ]
    },
    {
     "name": "stderr",
     "output_type": "stream",
     "text": [
      " 87%|████████▋ | 584/672 [08:38<01:08,  1.28it/s]"
     ]
    },
    {
     "name": "stdout",
     "output_type": "stream",
     "text": [
      "calling sliding on df of 1 rows\n",
      "calling sliding on df of 1 rows\n",
      "calling sliding on df of 1 rows\n"
     ]
    },
    {
     "name": "stderr",
     "output_type": "stream",
     "text": [
      " 87%|████████▋ | 585/672 [08:39<01:09,  1.26it/s]"
     ]
    },
    {
     "name": "stdout",
     "output_type": "stream",
     "text": [
      "calling sliding on df of 1 rows\n",
      "calling sliding on df of 1 rows\n",
      "calling sliding on df of 1 rows\n",
      "calling sliding on df of 1 rows\n",
      "calling sliding on df of 1 rows\n",
      "calling sliding on df of 1 rows\n",
      "calling sliding on df of 1 rows\n",
      "calling sliding on df of 1 rows\n",
      "calling sliding on df of 1 rows\n",
      "calling sliding on df of 1 rows\n",
      "calling sliding on df of 1 rows\n",
      "calling sliding on df of 1 rows\n"
     ]
    },
    {
     "name": "stderr",
     "output_type": "stream",
     "text": [
      " 88%|████████▊ | 589/672 [08:42<01:10,  1.17it/s]"
     ]
    },
    {
     "name": "stdout",
     "output_type": "stream",
     "text": [
      "calling sliding on df of 1 rows\n",
      "calling sliding on df of 1 rows\n"
     ]
    },
    {
     "name": "stderr",
     "output_type": "stream",
     "text": [
      " 88%|████████▊ | 590/672 [08:43<01:09,  1.18it/s]"
     ]
    },
    {
     "name": "stdout",
     "output_type": "stream",
     "text": [
      "calling sliding on df of 1 rows\n",
      "calling sliding on df of 1 rows\n",
      "calling sliding on df of 1 rows\n",
      "calling sliding on df of 1 rows\n",
      "calling sliding on df of 1 rows\n"
     ]
    },
    {
     "name": "stderr",
     "output_type": "stream",
     "text": [
      " 88%|████████▊ | 591/672 [08:44<01:07,  1.20it/s]"
     ]
    },
    {
     "name": "stdout",
     "output_type": "stream",
     "text": [
      "calling sliding on df of 1 rows\n"
     ]
    },
    {
     "name": "stderr",
     "output_type": "stream",
     "text": [
      " 88%|████████▊ | 592/672 [08:45<01:12,  1.10it/s]"
     ]
    },
    {
     "name": "stdout",
     "output_type": "stream",
     "text": [
      "calling sliding on df of 1 rows\n",
      "calling sliding on df of 1 rows\n",
      "calling sliding on df of 1 rows\n",
      "calling sliding on df of 1 rows\n"
     ]
    },
    {
     "name": "stderr",
     "output_type": "stream",
     "text": [
      " 88%|████████▊ | 593/672 [08:46<01:09,  1.13it/s]"
     ]
    },
    {
     "name": "stdout",
     "output_type": "stream",
     "text": [
      "calling sliding on df of 1 rows\n",
      "calling sliding on df of 1 rows\n",
      "calling sliding on df of 1 rows\n",
      "calling sliding on df of 1 rows\n",
      "calling sliding on df of 1 rows\n"
     ]
    },
    {
     "name": "stderr",
     "output_type": "stream",
     "text": [
      " 88%|████████▊ | 594/672 [08:46<01:06,  1.17it/s]"
     ]
    },
    {
     "name": "stdout",
     "output_type": "stream",
     "text": [
      "calling sliding on df of 1 rows\n",
      "calling sliding on df of 1 rows\n"
     ]
    },
    {
     "name": "stderr",
     "output_type": "stream",
     "text": [
      " 89%|████████▊ | 595/672 [08:47<01:07,  1.14it/s]"
     ]
    },
    {
     "name": "stdout",
     "output_type": "stream",
     "text": [
      "calling sliding on df of 1 rows\n",
      "calling sliding on df of 1 rows\n",
      "calling sliding on df of 1 rows\n",
      "calling sliding on df of 1 rows\n",
      "calling sliding on df of 1 rows\n",
      "calling sliding on df of 1 rows\n",
      "calling sliding on df of 1 rows\n",
      "calling sliding on df of 1 rows\n",
      "calling sliding on df of 1 rows\n",
      "calling sliding on df of 1 rows\n",
      "calling sliding on df of 1 rows\n",
      "calling sliding on df of 1 rows\n",
      "calling sliding on df of 1 rows\n",
      "calling sliding on df of 1 rows\n",
      "calling sliding on df of 1 rows\n",
      "calling sliding on df of 1 rows\n"
     ]
    },
    {
     "name": "stderr",
     "output_type": "stream",
     "text": [
      " 89%|████████▊ | 596/672 [08:48<01:04,  1.17it/s]"
     ]
    },
    {
     "name": "stdout",
     "output_type": "stream",
     "text": [
      "calling sliding on df of 1 rows\n",
      "calling sliding on df of 1 rows\n",
      "calling sliding on df of 1 rows\n",
      "calling sliding on df of 1 rows\n",
      "calling sliding on df of 1 rows\n",
      "calling sliding on df of 1 rows\n",
      "calling sliding on df of 1 rows\n",
      "calling sliding on df of 1 rows\n",
      "calling sliding on df of 1 rows\n",
      "calling sliding on df of 1 rows\n"
     ]
    },
    {
     "name": "stderr",
     "output_type": "stream",
     "text": [
      " 89%|████████▉ | 597/672 [08:49<01:02,  1.20it/s]"
     ]
    },
    {
     "name": "stdout",
     "output_type": "stream",
     "text": [
      "calling sliding on df of 1 rows\n",
      "calling sliding on df of 1 rows\n",
      "calling sliding on df of 1 rows\n",
      "calling sliding on df of 1 rows\n",
      "calling sliding on df of 1 rows\n",
      "calling sliding on df of 1 rows\n",
      "calling sliding on df of 1 rows\n",
      "calling sliding on df of 1 rows\n"
     ]
    },
    {
     "name": "stderr",
     "output_type": "stream",
     "text": [
      " 89%|████████▉ | 598/672 [08:50<01:00,  1.21it/s]"
     ]
    },
    {
     "name": "stdout",
     "output_type": "stream",
     "text": [
      "calling sliding on df of 1 rows\n",
      "calling sliding on df of 1 rows\n",
      "calling sliding on df of 1 rows\n",
      "calling sliding on df of 1 rows\n",
      "calling sliding on df of 1 rows\n",
      "calling sliding on df of 1 rows\n",
      "calling sliding on df of 1 rows\n",
      "calling sliding on df of 1 rows\n"
     ]
    },
    {
     "name": "stderr",
     "output_type": "stream",
     "text": [
      " 89%|████████▉ | 599/672 [08:51<01:01,  1.20it/s]"
     ]
    },
    {
     "name": "stdout",
     "output_type": "stream",
     "text": [
      "calling sliding on df of 1 rows\n",
      "calling sliding on df of 1 rows\n",
      "calling sliding on df of 1 rows\n"
     ]
    },
    {
     "name": "stderr",
     "output_type": "stream",
     "text": [
      " 89%|████████▉ | 600/672 [08:52<01:00,  1.19it/s]"
     ]
    },
    {
     "name": "stdout",
     "output_type": "stream",
     "text": [
      "calling sliding on df of 1 rows\n",
      "calling sliding on df of 1 rows\n",
      "calling sliding on df of 1 rows\n",
      "calling sliding on df of 1 rows\n"
     ]
    },
    {
     "name": "stderr",
     "output_type": "stream",
     "text": [
      " 89%|████████▉ | 601/672 [08:52<01:00,  1.18it/s]"
     ]
    },
    {
     "name": "stdout",
     "output_type": "stream",
     "text": [
      "calling sliding on df of 1 rows\n",
      "calling sliding on df of 1 rows\n",
      "calling sliding on df of 1 rows\n",
      "calling sliding on df of 1 rows\n",
      "calling sliding on df of 1 rows\n"
     ]
    },
    {
     "name": "stderr",
     "output_type": "stream",
     "text": [
      " 90%|████████▉ | 602/672 [08:53<00:57,  1.21it/s]"
     ]
    },
    {
     "name": "stdout",
     "output_type": "stream",
     "text": [
      "calling sliding on df of 1 rows\n",
      "calling sliding on df of 1 rows\n",
      "calling sliding on df of 1 rows\n",
      "calling sliding on df of 1 rows\n",
      "calling sliding on df of 1 rows\n",
      "calling sliding on df of 1 rows\n",
      "calling sliding on df of 1 rows\n",
      "calling sliding on df of 1 rows\n"
     ]
    },
    {
     "name": "stderr",
     "output_type": "stream",
     "text": [
      " 90%|████████▉ | 603/672 [08:54<00:56,  1.23it/s]"
     ]
    },
    {
     "name": "stdout",
     "output_type": "stream",
     "text": [
      "calling sliding on df of 1 rows\n",
      "calling sliding on df of 1 rows\n"
     ]
    },
    {
     "name": "stderr",
     "output_type": "stream",
     "text": [
      " 90%|████████▉ | 604/672 [08:55<00:54,  1.25it/s]"
     ]
    },
    {
     "name": "stdout",
     "output_type": "stream",
     "text": [
      "calling sliding on df of 1 rows\n",
      "calling sliding on df of 1 rows\n",
      "calling sliding on df of 1 rows\n",
      "calling sliding on df of 1 rows\n",
      "calling sliding on df of 1 rows\n",
      "calling sliding on df of 1 rows\n"
     ]
    },
    {
     "name": "stderr",
     "output_type": "stream",
     "text": [
      " 90%|█████████ | 605/672 [08:56<00:56,  1.19it/s]"
     ]
    },
    {
     "name": "stdout",
     "output_type": "stream",
     "text": [
      "calling sliding on df of 1 rows\n",
      "calling sliding on df of 1 rows\n",
      "calling sliding on df of 1 rows\n",
      "calling sliding on df of 1 rows\n",
      "calling sliding on df of 1 rows\n",
      "calling sliding on df of 1 rows\n",
      "calling sliding on df of 1 rows\n",
      "calling sliding on df of 1 rows\n",
      "calling sliding on df of 1 rows\n",
      "calling sliding on df of 1 rows\n",
      "calling sliding on df of 1 rows\n",
      "calling sliding on df of 1 rows\n",
      "calling sliding on df of 1 rows\n",
      "calling sliding on df of 1 rows\n"
     ]
    },
    {
     "name": "stderr",
     "output_type": "stream",
     "text": [
      " 90%|█████████ | 606/672 [08:56<00:53,  1.23it/s]"
     ]
    },
    {
     "name": "stdout",
     "output_type": "stream",
     "text": [
      "calling sliding on df of 1 rows\n",
      "calling sliding on df of 1 rows\n",
      "calling sliding on df of 1 rows\n",
      "calling sliding on df of 1 rows\n",
      "calling sliding on df of 1 rows\n",
      "calling sliding on df of 1 rows\n"
     ]
    },
    {
     "name": "stderr",
     "output_type": "stream",
     "text": [
      " 90%|█████████ | 607/672 [08:57<00:53,  1.22it/s]"
     ]
    },
    {
     "name": "stdout",
     "output_type": "stream",
     "text": [
      "calling sliding on df of 1 rows\n"
     ]
    },
    {
     "name": "stderr",
     "output_type": "stream",
     "text": [
      " 90%|█████████ | 608/672 [08:58<00:51,  1.24it/s]"
     ]
    },
    {
     "name": "stdout",
     "output_type": "stream",
     "text": [
      "calling sliding on df of 1 rows\n",
      "calling sliding on df of 1 rows\n",
      "calling sliding on df of 1 rows\n",
      "calling sliding on df of 1 rows\n",
      "calling sliding on df of 1 rows\n",
      "calling sliding on df of 1 rows\n",
      "calling sliding on df of 1 rows\n",
      "calling sliding on df of 1 rows\n",
      "calling sliding on df of 1 rows\n",
      "calling sliding on df of 1 rows\n",
      "calling sliding on df of 1 rows\n",
      "calling sliding on df of 1 rows\n",
      "calling sliding on df of 1 rows\n",
      "calling sliding on df of 1 rows\n",
      "calling sliding on df of 1 rows\n",
      "calling sliding on df of 1 rows\n",
      "calling sliding on df of 1 rows\n",
      "calling sliding on df of 1 rows\n",
      "calling sliding on df of 1 rows\n",
      "calling sliding on df of 1 rows\n",
      "calling sliding on df of 1 rows\n",
      "calling sliding on df of 1 rows\n",
      "calling sliding on df of 1 rows\n",
      "calling sliding on df of 1 rows\n",
      "calling sliding on df of 1 rows\n"
     ]
    },
    {
     "name": "stderr",
     "output_type": "stream",
     "text": [
      " 91%|█████████ | 609/672 [08:59<00:52,  1.21it/s]"
     ]
    },
    {
     "name": "stdout",
     "output_type": "stream",
     "text": [
      "calling sliding on df of 1 rows\n",
      "calling sliding on df of 1 rows\n",
      "calling sliding on df of 1 rows\n",
      "calling sliding on df of 1 rows\n",
      "calling sliding on df of 1 rows\n",
      "calling sliding on df of 1 rows\n",
      "calling sliding on df of 1 rows\n",
      "calling sliding on df of 1 rows\n",
      "calling sliding on df of 1 rows\n"
     ]
    },
    {
     "name": "stderr",
     "output_type": "stream",
     "text": [
      " 91%|█████████ | 610/672 [09:00<00:51,  1.20it/s]"
     ]
    },
    {
     "name": "stdout",
     "output_type": "stream",
     "text": [
      "calling sliding on df of 1 rows\n",
      "calling sliding on df of 1 rows\n",
      "calling sliding on df of 1 rows\n",
      "calling sliding on df of 1 rows\n",
      "calling sliding on df of 1 rows\n",
      "calling sliding on df of 1 rows\n",
      "calling sliding on df of 1 rows\n",
      "calling sliding on df of 1 rows\n",
      "calling sliding on df of 1 rows\n",
      "calling sliding on df of 1 rows\n",
      "calling sliding on df of 1 rows\n"
     ]
    },
    {
     "name": "stderr",
     "output_type": "stream",
     "text": [
      " 91%|█████████ | 611/672 [09:01<00:51,  1.18it/s]"
     ]
    },
    {
     "name": "stdout",
     "output_type": "stream",
     "text": [
      "calling sliding on df of 1 rows\n",
      "calling sliding on df of 1 rows\n",
      "calling sliding on df of 1 rows\n",
      "calling sliding on df of 1 rows\n",
      "calling sliding on df of 1 rows\n",
      "calling sliding on df of 1 rows\n",
      "calling sliding on df of 1 rows\n",
      "calling sliding on df of 1 rows\n",
      "calling sliding on df of 1 rows\n",
      "calling sliding on df of 1 rows\n",
      "calling sliding on df of 1 rows\n"
     ]
    },
    {
     "name": "stderr",
     "output_type": "stream",
     "text": [
      " 91%|█████████ | 612/672 [09:01<00:49,  1.22it/s]"
     ]
    },
    {
     "name": "stdout",
     "output_type": "stream",
     "text": [
      "calling sliding on df of 1 rows\n",
      "calling sliding on df of 1 rows\n",
      "calling sliding on df of 1 rows\n",
      "calling sliding on df of 1 rows\n",
      "calling sliding on df of 1 rows\n",
      "calling sliding on df of 1 rows\n",
      "calling sliding on df of 1 rows\n",
      "calling sliding on df of 1 rows\n"
     ]
    },
    {
     "name": "stderr",
     "output_type": "stream",
     "text": [
      " 91%|█████████ | 613/672 [09:02<00:47,  1.23it/s]"
     ]
    },
    {
     "name": "stdout",
     "output_type": "stream",
     "text": [
      "calling sliding on df of 1 rows\n"
     ]
    },
    {
     "name": "stderr",
     "output_type": "stream",
     "text": [
      " 92%|█████████▏| 615/672 [09:04<00:45,  1.24it/s]"
     ]
    },
    {
     "name": "stdout",
     "output_type": "stream",
     "text": [
      "calling sliding on df of 1 rows\n",
      "calling sliding on df of 1 rows\n",
      "calling sliding on df of 1 rows\n",
      "calling sliding on df of 1 rows\n",
      "calling sliding on df of 1 rows\n",
      "calling sliding on df of 1 rows\n",
      "calling sliding on df of 1 rows\n",
      "calling sliding on df of 1 rows\n"
     ]
    },
    {
     "name": "stderr",
     "output_type": "stream",
     "text": [
      " 92%|█████████▏| 616/672 [09:05<00:45,  1.23it/s]"
     ]
    },
    {
     "name": "stdout",
     "output_type": "stream",
     "text": [
      "calling sliding on df of 1 rows\n",
      "calling sliding on df of 1 rows\n",
      "calling sliding on df of 1 rows\n",
      "calling sliding on df of 1 rows\n",
      "calling sliding on df of 1 rows\n",
      "calling sliding on df of 1 rows\n",
      "calling sliding on df of 1 rows\n",
      "calling sliding on df of 1 rows\n",
      "calling sliding on df of 1 rows\n",
      "calling sliding on df of 1 rows\n",
      "calling sliding on df of 1 rows\n",
      "calling sliding on df of 1 rows\n",
      "calling sliding on df of 1 rows\n",
      "calling sliding on df of 1 rows\n"
     ]
    },
    {
     "name": "stderr",
     "output_type": "stream",
     "text": [
      " 92%|█████████▏| 617/672 [09:05<00:46,  1.19it/s]"
     ]
    },
    {
     "name": "stdout",
     "output_type": "stream",
     "text": [
      "calling sliding on df of 1 rows\n",
      "calling sliding on df of 1 rows\n",
      "calling sliding on df of 1 rows\n",
      "calling sliding on df of 1 rows\n"
     ]
    },
    {
     "name": "stderr",
     "output_type": "stream",
     "text": [
      " 92%|█████████▏| 618/672 [09:06<00:44,  1.21it/s]"
     ]
    },
    {
     "name": "stdout",
     "output_type": "stream",
     "text": [
      "calling sliding on df of 1 rows\n",
      "calling sliding on df of 1 rows\n",
      "calling sliding on df of 1 rows\n",
      "calling sliding on df of 1 rows\n",
      "calling sliding on df of 1 rows\n",
      "calling sliding on df of 1 rows\n",
      "calling sliding on df of 1 rows\n"
     ]
    },
    {
     "name": "stderr",
     "output_type": "stream",
     "text": [
      " 92%|█████████▏| 619/672 [09:07<00:43,  1.21it/s]"
     ]
    },
    {
     "name": "stdout",
     "output_type": "stream",
     "text": [
      "calling sliding on df of 1 rows\n",
      "calling sliding on df of 1 rows\n",
      "calling sliding on df of 1 rows\n",
      "calling sliding on df of 1 rows\n"
     ]
    },
    {
     "name": "stderr",
     "output_type": "stream",
     "text": [
      " 92%|█████████▏| 620/672 [09:08<00:42,  1.21it/s]"
     ]
    },
    {
     "name": "stdout",
     "output_type": "stream",
     "text": [
      "calling sliding on df of 1 rows\n",
      "calling sliding on df of 1 rows\n"
     ]
    },
    {
     "name": "stderr",
     "output_type": "stream",
     "text": [
      " 92%|█████████▏| 621/672 [09:09<00:42,  1.21it/s]"
     ]
    },
    {
     "name": "stdout",
     "output_type": "stream",
     "text": [
      "calling sliding on df of 1 rows\n",
      "calling sliding on df of 1 rows\n",
      "calling sliding on df of 1 rows\n",
      "calling sliding on df of 1 rows\n",
      "calling sliding on df of 1 rows\n"
     ]
    },
    {
     "name": "stderr",
     "output_type": "stream",
     "text": [
      " 93%|█████████▎| 622/672 [09:10<00:41,  1.20it/s]"
     ]
    },
    {
     "name": "stdout",
     "output_type": "stream",
     "text": [
      "calling sliding on df of 1 rows\n",
      "calling sliding on df of 1 rows\n",
      "calling sliding on df of 1 rows\n",
      "calling sliding on df of 1 rows\n",
      "calling sliding on df of 1 rows\n",
      "calling sliding on df of 1 rows\n",
      "calling sliding on df of 1 rows\n",
      "calling sliding on df of 1 rows\n",
      "calling sliding on df of 1 rows\n",
      "calling sliding on df of 1 rows\n",
      "calling sliding on df of 1 rows\n",
      "calling sliding on df of 1 rows\n",
      "calling sliding on df of 1 rows\n",
      "calling sliding on df of 1 rows\n",
      "calling sliding on df of 1 rows\n"
     ]
    },
    {
     "name": "stderr",
     "output_type": "stream",
     "text": [
      " 93%|█████████▎| 623/672 [09:10<00:40,  1.20it/s]"
     ]
    },
    {
     "name": "stdout",
     "output_type": "stream",
     "text": [
      "calling sliding on df of 1 rows\n",
      "calling sliding on df of 1 rows\n",
      "calling sliding on df of 1 rows\n",
      "calling sliding on df of 1 rows\n",
      "calling sliding on df of 1 rows\n",
      "calling sliding on df of 1 rows\n",
      "calling sliding on df of 1 rows\n"
     ]
    },
    {
     "name": "stderr",
     "output_type": "stream",
     "text": [
      " 93%|█████████▎| 624/672 [09:11<00:39,  1.20it/s]"
     ]
    },
    {
     "name": "stdout",
     "output_type": "stream",
     "text": [
      "calling sliding on df of 1 rows\n",
      "calling sliding on df of 1 rows\n",
      "calling sliding on df of 1 rows\n",
      "calling sliding on df of 1 rows\n",
      "calling sliding on df of 1 rows\n",
      "calling sliding on df of 1 rows\n",
      "calling sliding on df of 1 rows\n",
      "calling sliding on df of 1 rows\n",
      "calling sliding on df of 1 rows\n",
      "calling sliding on df of 1 rows\n",
      "calling sliding on df of 1 rows\n",
      "calling sliding on df of 1 rows\n",
      "calling sliding on df of 1 rows\n",
      "calling sliding on df of 1 rows\n",
      "calling sliding on df of 1 rows\n",
      "calling sliding on df of 1 rows\n",
      "calling sliding on df of 1 rows\n"
     ]
    },
    {
     "name": "stderr",
     "output_type": "stream",
     "text": [
      " 93%|█████████▎| 625/672 [09:12<00:38,  1.22it/s]"
     ]
    },
    {
     "name": "stdout",
     "output_type": "stream",
     "text": [
      "calling sliding on df of 1 rows\n",
      "calling sliding on df of 1 rows\n",
      "calling sliding on df of 1 rows\n",
      "calling sliding on df of 1 rows\n",
      "calling sliding on df of 1 rows\n"
     ]
    },
    {
     "name": "stderr",
     "output_type": "stream",
     "text": [
      " 93%|█████████▎| 626/672 [09:13<00:37,  1.23it/s]"
     ]
    },
    {
     "name": "stdout",
     "output_type": "stream",
     "text": [
      "calling sliding on df of 1 rows\n",
      "calling sliding on df of 1 rows\n",
      "calling sliding on df of 1 rows\n",
      "calling sliding on df of 1 rows\n",
      "calling sliding on df of 1 rows\n",
      "calling sliding on df of 1 rows\n",
      "calling sliding on df of 1 rows\n",
      "calling sliding on df of 1 rows\n",
      "calling sliding on df of 1 rows\n",
      "calling sliding on df of 1 rows\n",
      "calling sliding on df of 1 rows\n",
      "calling sliding on df of 1 rows\n",
      "calling sliding on df of 1 rows\n",
      "calling sliding on df of 1 rows\n",
      "calling sliding on df of 1 rows\n",
      "calling sliding on df of 1 rows\n",
      "calling sliding on df of 1 rows\n",
      "calling sliding on df of 1 rows\n"
     ]
    },
    {
     "name": "stderr",
     "output_type": "stream",
     "text": [
      " 93%|█████████▎| 627/672 [09:14<00:36,  1.22it/s]"
     ]
    },
    {
     "name": "stdout",
     "output_type": "stream",
     "text": [
      "calling sliding on df of 1 rows\n",
      "calling sliding on df of 1 rows\n",
      "calling sliding on df of 1 rows\n",
      "calling sliding on df of 1 rows\n"
     ]
    },
    {
     "name": "stderr",
     "output_type": "stream",
     "text": [
      " 93%|█████████▎| 628/672 [09:15<00:36,  1.21it/s]"
     ]
    },
    {
     "name": "stdout",
     "output_type": "stream",
     "text": [
      "calling sliding on df of 1 rows\n",
      "calling sliding on df of 1 rows\n"
     ]
    },
    {
     "name": "stderr",
     "output_type": "stream",
     "text": [
      " 94%|█████████▎| 629/672 [09:15<00:35,  1.22it/s]"
     ]
    },
    {
     "name": "stdout",
     "output_type": "stream",
     "text": [
      "calling sliding on df of 1 rows\n",
      "calling sliding on df of 1 rows\n",
      "calling sliding on df of 1 rows\n"
     ]
    },
    {
     "name": "stderr",
     "output_type": "stream",
     "text": [
      " 94%|█████████▍| 630/672 [09:16<00:34,  1.21it/s]"
     ]
    },
    {
     "name": "stdout",
     "output_type": "stream",
     "text": [
      "calling sliding on df of 1 rows\n",
      "calling sliding on df of 1 rows\n",
      "calling sliding on df of 1 rows\n"
     ]
    },
    {
     "name": "stderr",
     "output_type": "stream",
     "text": [
      " 94%|█████████▍| 631/672 [09:17<00:34,  1.18it/s]"
     ]
    },
    {
     "name": "stdout",
     "output_type": "stream",
     "text": [
      "calling sliding on df of 1 rows\n",
      "calling sliding on df of 1 rows\n",
      "calling sliding on df of 1 rows\n",
      "calling sliding on df of 1 rows\n",
      "calling sliding on df of 1 rows\n"
     ]
    },
    {
     "name": "stderr",
     "output_type": "stream",
     "text": [
      " 94%|█████████▍| 632/672 [09:18<00:32,  1.22it/s]"
     ]
    },
    {
     "name": "stdout",
     "output_type": "stream",
     "text": [
      "calling sliding on df of 1 rows\n",
      "calling sliding on df of 1 rows\n",
      "calling sliding on df of 1 rows\n",
      "calling sliding on df of 1 rows\n",
      "calling sliding on df of 1 rows\n",
      "calling sliding on df of 1 rows\n",
      "calling sliding on df of 1 rows\n",
      "calling sliding on df of 1 rows\n",
      "calling sliding on df of 1 rows\n",
      "calling sliding on df of 1 rows\n",
      "calling sliding on df of 1 rows\n",
      "calling sliding on df of 1 rows\n",
      "calling sliding on df of 1 rows\n",
      "calling sliding on df of 1 rows\n"
     ]
    },
    {
     "name": "stderr",
     "output_type": "stream",
     "text": [
      " 94%|█████████▍| 633/672 [09:19<00:31,  1.25it/s]"
     ]
    },
    {
     "name": "stdout",
     "output_type": "stream",
     "text": [
      "calling sliding on df of 1 rows\n",
      "calling sliding on df of 1 rows\n",
      "calling sliding on df of 1 rows\n",
      "calling sliding on df of 1 rows\n"
     ]
    },
    {
     "name": "stderr",
     "output_type": "stream",
     "text": [
      " 94%|█████████▍| 634/672 [09:20<00:32,  1.18it/s]"
     ]
    },
    {
     "name": "stdout",
     "output_type": "stream",
     "text": [
      "calling sliding on df of 1 rows\n",
      "calling sliding on df of 1 rows\n",
      "calling sliding on df of 1 rows\n",
      "calling sliding on df of 1 rows\n"
     ]
    },
    {
     "name": "stderr",
     "output_type": "stream",
     "text": [
      " 94%|█████████▍| 635/672 [09:20<00:30,  1.22it/s]"
     ]
    },
    {
     "name": "stdout",
     "output_type": "stream",
     "text": [
      "calling sliding on df of 1 rows\n",
      "calling sliding on df of 1 rows\n",
      "calling sliding on df of 1 rows\n",
      "calling sliding on df of 1 rows\n"
     ]
    },
    {
     "name": "stderr",
     "output_type": "stream",
     "text": [
      " 95%|█████████▍| 636/672 [09:21<00:29,  1.22it/s]"
     ]
    },
    {
     "name": "stdout",
     "output_type": "stream",
     "text": [
      "calling sliding on df of 1 rows\n",
      "calling sliding on df of 1 rows\n",
      "calling sliding on df of 1 rows\n",
      "calling sliding on df of 1 rows\n",
      "calling sliding on df of 1 rows\n",
      "calling sliding on df of 1 rows\n",
      "calling sliding on df of 1 rows\n",
      "calling sliding on df of 1 rows\n",
      "calling sliding on df of 1 rows\n",
      "calling sliding on df of 1 rows\n"
     ]
    },
    {
     "name": "stderr",
     "output_type": "stream",
     "text": [
      " 95%|█████████▍| 637/672 [09:22<00:27,  1.25it/s]"
     ]
    },
    {
     "name": "stdout",
     "output_type": "stream",
     "text": [
      "calling sliding on df of 1 rows\n",
      "calling sliding on df of 1 rows\n",
      "calling sliding on df of 1 rows\n"
     ]
    },
    {
     "name": "stderr",
     "output_type": "stream",
     "text": [
      " 95%|█████████▍| 638/672 [09:23<00:27,  1.23it/s]"
     ]
    },
    {
     "name": "stdout",
     "output_type": "stream",
     "text": [
      "calling sliding on df of 1 rows\n",
      "calling sliding on df of 1 rows\n",
      "calling sliding on df of 1 rows\n",
      "calling sliding on df of 1 rows\n",
      "calling sliding on df of 1 rows\n",
      "calling sliding on df of 1 rows\n",
      "calling sliding on df of 1 rows\n",
      "calling sliding on df of 1 rows\n",
      "calling sliding on df of 1 rows\n",
      "calling sliding on df of 1 rows\n",
      "calling sliding on df of 1 rows\n"
     ]
    },
    {
     "name": "stderr",
     "output_type": "stream",
     "text": [
      " 95%|█████████▌| 639/672 [09:24<00:26,  1.23it/s]"
     ]
    },
    {
     "name": "stdout",
     "output_type": "stream",
     "text": [
      "calling sliding on df of 1 rows\n",
      "calling sliding on df of 1 rows\n",
      "calling sliding on df of 1 rows\n"
     ]
    },
    {
     "name": "stderr",
     "output_type": "stream",
     "text": [
      " 95%|█████████▌| 640/672 [09:24<00:26,  1.21it/s]"
     ]
    },
    {
     "name": "stdout",
     "output_type": "stream",
     "text": [
      "calling sliding on df of 1 rows\n",
      "calling sliding on df of 1 rows\n",
      "calling sliding on df of 1 rows\n",
      "calling sliding on df of 1 rows\n",
      "calling sliding on df of 1 rows\n",
      "calling sliding on df of 1 rows\n"
     ]
    },
    {
     "name": "stderr",
     "output_type": "stream",
     "text": [
      " 95%|█████████▌| 641/672 [09:25<00:25,  1.21it/s]"
     ]
    },
    {
     "name": "stdout",
     "output_type": "stream",
     "text": [
      "calling sliding on df of 1 rows\n",
      "calling sliding on df of 1 rows\n",
      "calling sliding on df of 1 rows\n",
      "calling sliding on df of 1 rows\n",
      "calling sliding on df of 1 rows\n",
      "calling sliding on df of 1 rows\n",
      "calling sliding on df of 1 rows\n"
     ]
    },
    {
     "name": "stderr",
     "output_type": "stream",
     "text": [
      " 96%|█████████▌| 642/672 [09:26<00:24,  1.22it/s]"
     ]
    },
    {
     "name": "stdout",
     "output_type": "stream",
     "text": [
      "calling sliding on df of 1 rows\n",
      "calling sliding on df of 1 rows\n",
      "calling sliding on df of 1 rows\n",
      "calling sliding on df of 1 rows\n",
      "calling sliding on df of 1 rows\n",
      "calling sliding on df of 1 rows\n"
     ]
    },
    {
     "name": "stderr",
     "output_type": "stream",
     "text": [
      " 96%|█████████▌| 643/672 [09:27<00:23,  1.23it/s]"
     ]
    },
    {
     "name": "stdout",
     "output_type": "stream",
     "text": [
      "calling sliding on df of 1 rows\n"
     ]
    },
    {
     "name": "stderr",
     "output_type": "stream",
     "text": [
      " 96%|█████████▌| 644/672 [09:28<00:22,  1.24it/s]"
     ]
    },
    {
     "name": "stdout",
     "output_type": "stream",
     "text": [
      "calling sliding on df of 1 rows\n"
     ]
    },
    {
     "name": "stderr",
     "output_type": "stream",
     "text": [
      " 96%|█████████▌| 645/672 [09:28<00:21,  1.25it/s]"
     ]
    },
    {
     "name": "stdout",
     "output_type": "stream",
     "text": [
      "calling sliding on df of 1 rows\n",
      "calling sliding on df of 1 rows\n",
      "calling sliding on df of 1 rows\n"
     ]
    },
    {
     "name": "stderr",
     "output_type": "stream",
     "text": [
      " 96%|█████████▋| 648/672 [09:31<00:18,  1.31it/s]"
     ]
    },
    {
     "name": "stdout",
     "output_type": "stream",
     "text": [
      "calling sliding on df of 1 rows\n",
      "calling sliding on df of 1 rows\n",
      "calling sliding on df of 1 rows\n",
      "calling sliding on df of 1 rows\n",
      "calling sliding on df of 1 rows\n"
     ]
    },
    {
     "name": "stderr",
     "output_type": "stream",
     "text": [
      " 97%|█████████▋| 649/672 [09:31<00:18,  1.28it/s]"
     ]
    },
    {
     "name": "stdout",
     "output_type": "stream",
     "text": [
      "calling sliding on df of 1 rows\n",
      "calling sliding on df of 1 rows\n"
     ]
    },
    {
     "name": "stderr",
     "output_type": "stream",
     "text": [
      " 97%|█████████▋| 650/672 [09:32<00:17,  1.25it/s]"
     ]
    },
    {
     "name": "stdout",
     "output_type": "stream",
     "text": [
      "calling sliding on df of 1 rows\n",
      "calling sliding on df of 1 rows\n",
      "calling sliding on df of 1 rows\n",
      "calling sliding on df of 1 rows\n",
      "calling sliding on df of 1 rows\n",
      "calling sliding on df of 1 rows\n",
      "calling sliding on df of 1 rows\n",
      "calling sliding on df of 1 rows\n",
      "calling sliding on df of 1 rows\n",
      "calling sliding on df of 1 rows\n"
     ]
    },
    {
     "name": "stderr",
     "output_type": "stream",
     "text": [
      " 97%|█████████▋| 651/672 [09:33<00:17,  1.20it/s]"
     ]
    },
    {
     "name": "stdout",
     "output_type": "stream",
     "text": [
      "calling sliding on df of 1 rows\n",
      "calling sliding on df of 1 rows\n",
      "calling sliding on df of 1 rows\n",
      "calling sliding on df of 1 rows\n"
     ]
    },
    {
     "name": "stderr",
     "output_type": "stream",
     "text": [
      " 97%|█████████▋| 652/672 [09:34<00:16,  1.19it/s]"
     ]
    },
    {
     "name": "stdout",
     "output_type": "stream",
     "text": [
      "calling sliding on df of 1 rows\n",
      "calling sliding on df of 1 rows\n"
     ]
    },
    {
     "name": "stderr",
     "output_type": "stream",
     "text": [
      " 97%|█████████▋| 653/672 [09:35<00:16,  1.16it/s]"
     ]
    },
    {
     "name": "stdout",
     "output_type": "stream",
     "text": [
      "calling sliding on df of 1 rows\n",
      "calling sliding on df of 1 rows\n",
      "calling sliding on df of 1 rows\n",
      "calling sliding on df of 1 rows\n",
      "calling sliding on df of 1 rows\n",
      "calling sliding on df of 1 rows\n",
      "calling sliding on df of 1 rows\n",
      "calling sliding on df of 1 rows\n",
      "calling sliding on df of 1 rows\n"
     ]
    },
    {
     "name": "stderr",
     "output_type": "stream",
     "text": [
      " 97%|█████████▋| 654/672 [09:36<00:15,  1.16it/s]"
     ]
    },
    {
     "name": "stdout",
     "output_type": "stream",
     "text": [
      "calling sliding on df of 1 rows\n",
      "calling sliding on df of 1 rows\n",
      "calling sliding on df of 1 rows\n",
      "calling sliding on df of 1 rows\n"
     ]
    },
    {
     "name": "stderr",
     "output_type": "stream",
     "text": [
      " 98%|█████████▊| 656/672 [09:37<00:12,  1.25it/s]"
     ]
    },
    {
     "name": "stdout",
     "output_type": "stream",
     "text": [
      "calling sliding on df of 1 rows\n",
      "calling sliding on df of 1 rows\n",
      "calling sliding on df of 1 rows\n",
      "calling sliding on df of 1 rows\n",
      "calling sliding on df of 1 rows\n",
      "calling sliding on df of 1 rows\n"
     ]
    },
    {
     "name": "stderr",
     "output_type": "stream",
     "text": [
      " 98%|█████████▊| 658/672 [09:39<00:11,  1.21it/s]"
     ]
    },
    {
     "name": "stdout",
     "output_type": "stream",
     "text": [
      "calling sliding on df of 1 rows\n",
      "calling sliding on df of 1 rows\n",
      "calling sliding on df of 1 rows\n",
      "calling sliding on df of 1 rows\n",
      "calling sliding on df of 1 rows\n",
      "calling sliding on df of 1 rows\n",
      "calling sliding on df of 1 rows\n",
      "calling sliding on df of 1 rows\n",
      "calling sliding on df of 1 rows\n",
      "calling sliding on df of 1 rows\n",
      "calling sliding on df of 1 rows\n",
      "calling sliding on df of 1 rows\n",
      "calling sliding on df of 1 rows\n",
      "calling sliding on df of 1 rows\n",
      "calling sliding on df of 1 rows\n",
      "calling sliding on df of 1 rows\n",
      "calling sliding on df of 1 rows\n"
     ]
    },
    {
     "name": "stderr",
     "output_type": "stream",
     "text": [
      " 98%|█████████▊| 659/672 [09:40<00:10,  1.23it/s]"
     ]
    },
    {
     "name": "stdout",
     "output_type": "stream",
     "text": [
      "calling sliding on df of 1 rows\n",
      "calling sliding on df of 1 rows\n",
      "calling sliding on df of 1 rows\n",
      "calling sliding on df of 1 rows\n",
      "calling sliding on df of 1 rows\n"
     ]
    },
    {
     "name": "stderr",
     "output_type": "stream",
     "text": [
      " 98%|█████████▊| 660/672 [09:41<00:09,  1.23it/s]"
     ]
    },
    {
     "name": "stdout",
     "output_type": "stream",
     "text": [
      "calling sliding on df of 1 rows\n",
      "calling sliding on df of 1 rows\n"
     ]
    },
    {
     "name": "stderr",
     "output_type": "stream",
     "text": [
      " 98%|█████████▊| 661/672 [09:41<00:08,  1.25it/s]"
     ]
    },
    {
     "name": "stdout",
     "output_type": "stream",
     "text": [
      "calling sliding on df of 1 rows\n",
      "calling sliding on df of 1 rows\n",
      "calling sliding on df of 1 rows\n",
      "calling sliding on df of 1 rows\n"
     ]
    },
    {
     "name": "stderr",
     "output_type": "stream",
     "text": [
      " 99%|█████████▊| 662/672 [09:42<00:08,  1.23it/s]"
     ]
    },
    {
     "name": "stdout",
     "output_type": "stream",
     "text": [
      "calling sliding on df of 1 rows\n",
      "calling sliding on df of 1 rows\n",
      "calling sliding on df of 1 rows\n",
      "calling sliding on df of 1 rows\n",
      "calling sliding on df of 1 rows\n",
      "calling sliding on df of 1 rows\n",
      "calling sliding on df of 1 rows\n"
     ]
    },
    {
     "name": "stderr",
     "output_type": "stream",
     "text": [
      " 99%|█████████▊| 663/672 [09:43<00:07,  1.22it/s]"
     ]
    },
    {
     "name": "stdout",
     "output_type": "stream",
     "text": [
      "calling sliding on df of 1 rows\n",
      "calling sliding on df of 1 rows\n"
     ]
    },
    {
     "name": "stderr",
     "output_type": "stream",
     "text": [
      " 99%|█████████▉| 664/672 [09:44<00:06,  1.19it/s]"
     ]
    },
    {
     "name": "stdout",
     "output_type": "stream",
     "text": [
      "calling sliding on df of 1 rows\n",
      "calling sliding on df of 1 rows\n",
      "calling sliding on df of 1 rows\n",
      "calling sliding on df of 1 rows\n",
      "calling sliding on df of 1 rows\n",
      "calling sliding on df of 1 rows\n",
      "calling sliding on df of 1 rows\n",
      "calling sliding on df of 1 rows\n",
      "calling sliding on df of 1 rows\n",
      "calling sliding on df of 1 rows\n",
      "calling sliding on df of 1 rows\n"
     ]
    },
    {
     "name": "stderr",
     "output_type": "stream",
     "text": [
      " 99%|█████████▉| 665/672 [09:45<00:05,  1.22it/s]"
     ]
    },
    {
     "name": "stdout",
     "output_type": "stream",
     "text": [
      "calling sliding on df of 1 rows\n",
      "calling sliding on df of 1 rows\n",
      "calling sliding on df of 1 rows\n",
      "calling sliding on df of 1 rows\n",
      "calling sliding on df of 1 rows\n",
      "calling sliding on df of 1 rows\n",
      "calling sliding on df of 1 rows\n"
     ]
    },
    {
     "name": "stderr",
     "output_type": "stream",
     "text": [
      " 99%|█████████▉| 666/672 [09:46<00:04,  1.21it/s]"
     ]
    },
    {
     "name": "stdout",
     "output_type": "stream",
     "text": [
      "calling sliding on df of 1 rows\n",
      "calling sliding on df of 1 rows\n",
      "calling sliding on df of 1 rows\n"
     ]
    },
    {
     "name": "stderr",
     "output_type": "stream",
     "text": [
      " 99%|█████████▉| 667/672 [09:46<00:04,  1.22it/s]"
     ]
    },
    {
     "name": "stdout",
     "output_type": "stream",
     "text": [
      "calling sliding on df of 1 rows\n",
      "calling sliding on df of 1 rows\n",
      "calling sliding on df of 1 rows\n",
      "calling sliding on df of 1 rows\n",
      "calling sliding on df of 1 rows\n"
     ]
    },
    {
     "name": "stderr",
     "output_type": "stream",
     "text": [
      " 99%|█████████▉| 668/672 [09:47<00:03,  1.22it/s]"
     ]
    },
    {
     "name": "stdout",
     "output_type": "stream",
     "text": [
      "calling sliding on df of 1 rows\n",
      "calling sliding on df of 1 rows\n",
      "calling sliding on df of 1 rows\n",
      "calling sliding on df of 1 rows\n",
      "calling sliding on df of 1 rows\n"
     ]
    },
    {
     "name": "stderr",
     "output_type": "stream",
     "text": [
      "100%|█████████▉| 669/672 [09:48<00:02,  1.19it/s]"
     ]
    },
    {
     "name": "stdout",
     "output_type": "stream",
     "text": [
      "calling sliding on df of 1 rows\n",
      "calling sliding on df of 1 rows\n",
      "calling sliding on df of 1 rows\n",
      "calling sliding on df of 1 rows\n"
     ]
    },
    {
     "name": "stderr",
     "output_type": "stream",
     "text": [
      "100%|█████████▉| 670/672 [09:49<00:01,  1.17it/s]"
     ]
    },
    {
     "name": "stdout",
     "output_type": "stream",
     "text": [
      "calling sliding on df of 1 rows\n",
      "calling sliding on df of 1 rows\n"
     ]
    },
    {
     "name": "stderr",
     "output_type": "stream",
     "text": [
      "100%|█████████▉| 671/672 [09:50<00:00,  1.22it/s]"
     ]
    },
    {
     "name": "stdout",
     "output_type": "stream",
     "text": [
      "calling sliding on df of 1 rows\n",
      "calling sliding on df of 1 rows\n",
      "calling sliding on df of 1 rows\n",
      "calling sliding on df of 1 rows\n",
      "calling sliding on df of 1 rows\n",
      "calling sliding on df of 1 rows\n"
     ]
    },
    {
     "name": "stderr",
     "output_type": "stream",
     "text": [
      "100%|██████████| 672/672 [09:50<00:00,  1.14it/s]\n"
     ]
    }
   ],
   "source": [
    "logger.setLevel(\"WARNING\")\n",
    "\n",
    "relevant_passages()\n",
    "\n",
    "not_relevant_passages()"
   ]
  },
  {
   "cell_type": "code",
   "execution_count": null,
   "metadata": {},
   "outputs": [],
   "source": []
  }
 ],
 "metadata": {
  "kernelspec": {
   "display_name": "LongEval",
   "language": "python",
   "name": "python3"
  },
  "language_info": {
   "codemirror_mode": {
    "name": "ipython",
    "version": 3
   },
   "file_extension": ".py",
   "mimetype": "text/x-python",
   "name": "python",
   "nbconvert_exporter": "python",
   "pygments_lexer": "ipython3",
   "version": "3.8.16"
  },
  "orig_nbformat": 4
 },
 "nbformat": 4,
 "nbformat_minor": 2
}
