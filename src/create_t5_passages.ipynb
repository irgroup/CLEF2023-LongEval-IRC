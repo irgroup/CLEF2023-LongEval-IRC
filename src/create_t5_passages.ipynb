{
 "cells": [
  {
   "cell_type": "code",
   "execution_count": 1,
   "metadata": {},
   "outputs": [
    {
     "name": "stderr",
     "output_type": "stream",
     "text": [
      "PyTerrier 0.9.2 has loaded Terrier 5.7 (built by craigm on 2022-11-10 18:30) and terrier-helper 0.0.7\n",
      "\n",
      "No etc/terrier.properties, using terrier.default.properties for bootstrap configuration.\n"
     ]
    }
   ],
   "source": [
    "from src.exp_logger import logger\n",
    "\n",
    "import pyterrier as pt  # type: ignore\n",
    "import json\n",
    "from src.load_index import setup_system\n",
    "\n",
    "logger.setLevel(\"WARNING\")"
   ]
  },
  {
   "cell_type": "code",
   "execution_count": 2,
   "metadata": {},
   "outputs": [
    {
     "name": "stdout",
     "output_type": "stream",
     "text": [
      "20:18:14.060 [main] WARN org.terrier.structures.BaseCompressingMetaIndex - Structure meta reading data file directly from disk (SLOW) - try index.meta.data-source=fileinmem in the index properties file. 3,4 GiB of memory would be required.\n",
      "Loaded index with  1570734 documents.\n"
     ]
    }
   ],
   "source": [
    "index, topics, qrels = setup_system(\"WT\")\n"
   ]
  },
  {
   "cell_type": "code",
   "execution_count": 3,
   "metadata": {},
   "outputs": [],
   "source": [
    "meta = index.getMetaIndex()"
   ]
  },
  {
   "cell_type": "code",
   "execution_count": 4,
   "metadata": {},
   "outputs": [
    {
     "name": "stdout",
     "output_type": "stream",
     "text": [
      "Done\n"
     ]
    }
   ],
   "source": [
    "id_no = {}\n",
    "\n",
    "while True:\n",
    "    try:\n",
    "        id_no[len(id_no)] = meta.getItem(\"docno\", len(id_no))\n",
    "    except:\n",
    "        print(\"Done\")\n",
    "        break"
   ]
  },
  {
   "cell_type": "code",
   "execution_count": 5,
   "metadata": {},
   "outputs": [],
   "source": [
    "no_id = {v: k for k, v in id_no.items()}"
   ]
  },
  {
   "cell_type": "code",
   "execution_count": 6,
   "metadata": {},
   "outputs": [],
   "source": [
    "def make_passages(doc):\n",
    "    passages = doc.split(\"\\n\")\n",
    "\n",
    "    # remove short passages\n",
    "    passages = [passage for passage in passages if len(passage.strip().split(\" \"))>=3]\n",
    "\n",
    "    # split into chuncs of 50 words\n",
    "    result = []\n",
    "    gathered_passages = \"\"\n",
    "\n",
    "    for passage in passages:\n",
    "        # print(\"passage:\", len(passage.split(\" \")), \"gathered Passage:\", len(gathered_passages.split(\" \")))\n",
    "\n",
    "        if len(gathered_passages.split(\" \")) + len(passage.split(\" \")) <= 65:\n",
    "            gathered_passages = gathered_passages  + \" \" + passage\n",
    "            # print(\"Gathering further\")\n",
    "        elif len(gathered_passages.split(\" \")) + len(passage.split(\" \")) > 65:\n",
    "            if len(gathered_passages.split(\" \")) == 0:\n",
    "                result.append(passage.strip())\n",
    "            else:\n",
    "                result.append(gathered_passages.strip())\n",
    "                # print(len(gathered_passages.split(\" \")))\n",
    "\n",
    "                gathered_passages = passage\n",
    "    return result\n",
    "\n",
    "\n",
    "def clean(row):\n",
    "    doc = row[\"doc\"]\n",
    "    doc = doc.replace(row[\"docno\"], \"\")\n",
    "    result = make_passages(doc)\n",
    "    return result\n",
    "\n",
    "def find_max_list(list):\n",
    "    list_len = [len(i) for i in list]\n",
    "    return max(list_len)"
   ]
  },
  {
   "cell_type": "code",
   "execution_count": 16,
   "metadata": {},
   "outputs": [
    {
     "name": "stderr",
     "output_type": "stream",
     "text": [
      "  0%|          | 0/672 [00:00<?, ?it/s][2023-04-29 21:27:24][WARNING] src.exp_logger: Skipping q062216451, not relevant docs found\n",
      "[2023-04-29 21:27:24][WARNING] src.exp_logger: Skipping q0622724, not relevant docs found\n",
      "[2023-04-29 21:27:24][WARNING] src.exp_logger: Skipping q062222125, not relevant docs found\n",
      "[2023-04-29 21:27:24][WARNING] src.exp_logger: Skipping q06223848, not relevant docs found\n",
      "[2023-04-29 21:27:24][WARNING] src.exp_logger: Skipping q06223898, not relevant docs found\n",
      "[2023-04-29 21:27:24][WARNING] src.exp_logger: Skipping q062218529, not relevant docs found\n",
      "[2023-04-29 21:27:24][WARNING] src.exp_logger: Skipping q062219081, not relevant docs found\n",
      "[2023-04-29 21:27:24][WARNING] src.exp_logger: Skipping q06228499, no docs found\n",
      "[2023-04-29 21:27:24][WARNING] src.exp_logger: Skipping q06229033, not relevant docs found\n",
      "[2023-04-29 21:27:24][WARNING] src.exp_logger: Skipping q062210081, not relevant docs found\n",
      "[2023-04-29 21:27:24][WARNING] src.exp_logger: Skipping q062212442, not relevant docs found\n",
      "[2023-04-29 21:27:24][WARNING] src.exp_logger: Skipping q062214218, not relevant docs found\n",
      "[2023-04-29 21:27:24][WARNING] src.exp_logger: Skipping q062215377, not relevant docs found\n"
     ]
    },
    {
     "name": "stdout",
     "output_type": "stream",
     "text": [
      "Not enough not relevant passages\n",
      "Done with q062219519\n"
     ]
    },
    {
     "name": "stderr",
     "output_type": "stream",
     "text": [
      " 83%|████████▎ | 558/672 [00:00<00:00, 609.65it/s]"
     ]
    },
    {
     "name": "stdout",
     "output_type": "stream",
     "text": [
      "Done with q062219521\n",
      "Done with q062219533\n",
      "Done with q062219608\n",
      "Done with q062219780\n",
      "Not enough not relevant passages\n",
      "Done with q062219826\n",
      "Done with q062219889\n",
      "Done with q062219914\n",
      "Not enough not relevant passages\n",
      "Done with q062219963\n",
      "Done with q062219965\n",
      "Not enough not relevant passages\n",
      "Done with q062220046\n",
      "Not enough not relevant passages\n",
      "Done with q062220131\n",
      "Not enough not relevant passages\n",
      "Done with q062220278\n",
      "Done with q062220336\n",
      "Done with q062220412\n",
      "Done with q062220442\n",
      "Not enough not relevant passages\n",
      "Done with q062220476\n",
      "Done with q062220574\n",
      "Not enough not relevant passages\n",
      "Done with q062220605\n",
      "Done with q062220619\n",
      "Done with q062220753\n",
      "Not enough not relevant passages\n",
      "Done with q062220762\n",
      "Done with q062220773\n"
     ]
    },
    {
     "name": "stderr",
     "output_type": "stream",
     "text": [
      " 86%|████████▋ | 580/672 [00:18<00:04, 22.77it/s] "
     ]
    },
    {
     "name": "stdout",
     "output_type": "stream",
     "text": [
      "Done with q062220776\n"
     ]
    },
    {
     "name": "stderr",
     "output_type": "stream",
     "text": [
      " 86%|████████▋ | 581/672 [00:19<00:04, 21.51it/s][2023-04-29 21:27:43][WARNING] src.exp_logger: Skipping q062220780, not relevant docs found\n"
     ]
    },
    {
     "name": "stdout",
     "output_type": "stream",
     "text": [
      "Not enough not relevant passages\n",
      "Done with q062220779\n",
      "Not enough not relevant passages\n",
      "Done with q062220782\n",
      "Not enough not relevant passages\n",
      "Done with q062220787\n",
      "Done with q062220793\n",
      "Not enough not relevant passages\n",
      "Done with q062220819\n",
      "Not enough not relevant passages\n",
      "Done with q062221016\n",
      "Not enough not relevant passages\n",
      "Done with q062224109\n",
      "Not enough not relevant passages\n",
      "Done with q062221161\n",
      "Done with q062221217\n",
      "Done with q062221255\n",
      "Done with q062221293\n",
      "Done with q062221417\n",
      "Done with q062221495\n",
      "Done with q062221499\n",
      "Done with q062221554\n",
      "Done with q062224735\n",
      "Done with q062221661\n",
      "Not enough not relevant passages\n",
      "Done with q062221706\n",
      "Done with q062221744\n",
      "Done with q062221798\n",
      "Not enough not relevant passages\n",
      "Done with q062221837\n",
      "Not enough not relevant passages\n",
      "Done with q062221847\n",
      "Done with q062221852\n",
      "Done with q062221854\n"
     ]
    },
    {
     "name": "stderr",
     "output_type": "stream",
     "text": [
      " 90%|█████████ | 606/672 [00:38<00:08,  7.96it/s]"
     ]
    },
    {
     "name": "stdout",
     "output_type": "stream",
     "text": [
      "Done with q062221860\n"
     ]
    },
    {
     "name": "stderr",
     "output_type": "stream",
     "text": [
      " 90%|█████████ | 607/672 [00:39<00:08,  7.71it/s]"
     ]
    },
    {
     "name": "stdout",
     "output_type": "stream",
     "text": [
      "Done with q062225017\n",
      "Done with q062221997\n",
      "Done with q062222119\n",
      "Done with q062222120\n"
     ]
    },
    {
     "name": "stderr",
     "output_type": "stream",
     "text": [
      "[2023-04-29 21:28:07][WARNING] src.exp_logger: Skipping q062222134, not relevant docs found\n"
     ]
    },
    {
     "name": "stdout",
     "output_type": "stream",
     "text": [
      "Done with q062222128\n",
      "Done with q062222144\n",
      "Not enough not relevant passages\n",
      "Done with q062222154\n",
      "Not enough not relevant passages\n",
      "Done with q062222203\n",
      "Done with q062222431\n",
      "Not enough not relevant passages\n",
      "Done with q062222593\n",
      "Not enough not relevant passages\n",
      "Done with q062222626\n",
      "Done with q062222757\n",
      "Not enough not relevant passages\n",
      "Done with q062222854\n"
     ]
    },
    {
     "name": "stderr",
     "output_type": "stream",
     "text": [
      " 92%|█████████▏| 621/672 [00:49<00:10,  5.07it/s]"
     ]
    },
    {
     "name": "stdout",
     "output_type": "stream",
     "text": [
      "Done with q062222895\n"
     ]
    },
    {
     "name": "stderr",
     "output_type": "stream",
     "text": [
      " 93%|█████████▎| 622/672 [00:50<00:10,  4.90it/s]"
     ]
    },
    {
     "name": "stdout",
     "output_type": "stream",
     "text": [
      "Done with q062222896\n",
      "Done with q062222903\n",
      "Done with q062222955\n",
      "Done with q062222971\n",
      "Done with q062223061\n",
      "Done with q062223111\n",
      "Not enough not relevant passages\n",
      "Done with q062223182\n",
      "Done with q062223204\n",
      "Done with q062223216\n"
     ]
    },
    {
     "name": "stderr",
     "output_type": "stream",
     "text": [
      " 94%|█████████▍| 631/672 [00:57<00:11,  3.59it/s]"
     ]
    },
    {
     "name": "stdout",
     "output_type": "stream",
     "text": [
      "Not enough not relevant passages\n",
      "Done with q062223259\n"
     ]
    },
    {
     "name": "stderr",
     "output_type": "stream",
     "text": [
      "[2023-04-29 21:28:22][WARNING] src.exp_logger: Skipping q062223487, not relevant docs found\n"
     ]
    },
    {
     "name": "stdout",
     "output_type": "stream",
     "text": [
      "Done with q062223362\n",
      "Not enough not relevant passages\n",
      "Done with q062223524\n"
     ]
    },
    {
     "name": "stderr",
     "output_type": "stream",
     "text": [
      "[2023-04-29 21:28:24][WARNING] src.exp_logger: Skipping q062223622, not relevant docs found\n"
     ]
    },
    {
     "name": "stdout",
     "output_type": "stream",
     "text": [
      "Not enough not relevant passages\n",
      "Done with q062223539\n"
     ]
    },
    {
     "name": "stderr",
     "output_type": "stream",
     "text": [
      " 95%|█████████▍| 637/672 [01:00<00:10,  3.27it/s]"
     ]
    },
    {
     "name": "stdout",
     "output_type": "stream",
     "text": [
      "Not enough not relevant passages\n",
      "Done with q062223882\n",
      "Done with q062223886\n",
      "Done with q062223892\n",
      "Done with q062223898\n"
     ]
    },
    {
     "name": "stderr",
     "output_type": "stream",
     "text": [
      " 95%|█████████▌| 641/672 [01:03<00:10,  2.84it/s]"
     ]
    },
    {
     "name": "stdout",
     "output_type": "stream",
     "text": [
      "Not enough not relevant passages\n",
      "Done with q062223900\n",
      "Not enough not relevant passages\n",
      "Done with q062223902\n",
      "Not enough not relevant passages\n",
      "Done with q062223910\n"
     ]
    },
    {
     "name": "stderr",
     "output_type": "stream",
     "text": [
      " 96%|█████████▌| 644/672 [01:06<00:10,  2.56it/s]"
     ]
    },
    {
     "name": "stdout",
     "output_type": "stream",
     "text": [
      "Not enough not relevant passages\n",
      "Done with q062223911\n",
      "Done with q062223916\n"
     ]
    },
    {
     "name": "stderr",
     "output_type": "stream",
     "text": [
      " 96%|█████████▌| 646/672 [01:07<00:10,  2.37it/s]"
     ]
    },
    {
     "name": "stdout",
     "output_type": "stream",
     "text": [
      "Not enough not relevant passages\n",
      "Done with q062223934\n",
      "Not enough not relevant passages\n",
      "Done with q062224051\n"
     ]
    },
    {
     "name": "stderr",
     "output_type": "stream",
     "text": [
      " 96%|█████████▋| 648/672 [01:09<00:10,  2.22it/s]"
     ]
    },
    {
     "name": "stdout",
     "output_type": "stream",
     "text": [
      "Not enough not relevant passages\n",
      "Done with q062224086\n"
     ]
    },
    {
     "name": "stderr",
     "output_type": "stream",
     "text": [
      " 97%|█████████▋| 649/672 [01:10<00:10,  2.10it/s]"
     ]
    },
    {
     "name": "stdout",
     "output_type": "stream",
     "text": [
      "Done with q062224117\n"
     ]
    },
    {
     "name": "stderr",
     "output_type": "stream",
     "text": [
      " 97%|█████████▋| 650/672 [01:10<00:11,  1.99it/s]"
     ]
    },
    {
     "name": "stdout",
     "output_type": "stream",
     "text": [
      "Done with q062224226\n"
     ]
    },
    {
     "name": "stderr",
     "output_type": "stream",
     "text": [
      " 97%|█████████▋| 651/672 [01:11<00:11,  1.83it/s]"
     ]
    },
    {
     "name": "stdout",
     "output_type": "stream",
     "text": [
      "Done with q062224291\n"
     ]
    },
    {
     "name": "stderr",
     "output_type": "stream",
     "text": [
      " 97%|█████████▋| 652/672 [01:12<00:11,  1.70it/s]"
     ]
    },
    {
     "name": "stdout",
     "output_type": "stream",
     "text": [
      "Done with q062224292\n"
     ]
    },
    {
     "name": "stderr",
     "output_type": "stream",
     "text": [
      " 97%|█████████▋| 653/672 [01:13<00:12,  1.57it/s]"
     ]
    },
    {
     "name": "stdout",
     "output_type": "stream",
     "text": [
      "Done with q062224315\n"
     ]
    },
    {
     "name": "stderr",
     "output_type": "stream",
     "text": [
      " 97%|█████████▋| 654/672 [01:14<00:12,  1.49it/s]"
     ]
    },
    {
     "name": "stdout",
     "output_type": "stream",
     "text": [
      "Done with q062224326\n"
     ]
    },
    {
     "name": "stderr",
     "output_type": "stream",
     "text": [
      " 97%|█████████▋| 655/672 [01:15<00:11,  1.42it/s]"
     ]
    },
    {
     "name": "stdout",
     "output_type": "stream",
     "text": [
      "Not enough not relevant passages\n",
      "Done with q062224382\n"
     ]
    },
    {
     "name": "stderr",
     "output_type": "stream",
     "text": [
      " 98%|█████████▊| 656/672 [01:15<00:11,  1.44it/s]"
     ]
    },
    {
     "name": "stdout",
     "output_type": "stream",
     "text": [
      "Done with q062224463\n"
     ]
    },
    {
     "name": "stderr",
     "output_type": "stream",
     "text": [
      " 98%|█████████▊| 657/672 [01:16<00:10,  1.38it/s]"
     ]
    },
    {
     "name": "stdout",
     "output_type": "stream",
     "text": [
      "Not enough not relevant passages\n",
      "Done with q062224514\n"
     ]
    },
    {
     "name": "stderr",
     "output_type": "stream",
     "text": [
      " 98%|█████████▊| 658/672 [01:17<00:10,  1.32it/s]"
     ]
    },
    {
     "name": "stdout",
     "output_type": "stream",
     "text": [
      "Done with q062224541\n"
     ]
    },
    {
     "name": "stderr",
     "output_type": "stream",
     "text": [
      " 98%|█████████▊| 659/672 [01:18<00:09,  1.32it/s]"
     ]
    },
    {
     "name": "stdout",
     "output_type": "stream",
     "text": [
      "Done with q062224551\n"
     ]
    },
    {
     "name": "stderr",
     "output_type": "stream",
     "text": [
      " 98%|█████████▊| 660/672 [01:18<00:09,  1.30it/s]"
     ]
    },
    {
     "name": "stdout",
     "output_type": "stream",
     "text": [
      "Not enough not relevant passages\n",
      "Done with q062224560\n"
     ]
    },
    {
     "name": "stderr",
     "output_type": "stream",
     "text": [
      " 98%|█████████▊| 661/672 [01:19<00:08,  1.31it/s]"
     ]
    },
    {
     "name": "stdout",
     "output_type": "stream",
     "text": [
      "Not enough not relevant passages\n",
      "Done with q062224589\n"
     ]
    },
    {
     "name": "stderr",
     "output_type": "stream",
     "text": [
      " 99%|█████████▊| 662/672 [01:20<00:07,  1.28it/s]"
     ]
    },
    {
     "name": "stdout",
     "output_type": "stream",
     "text": [
      "Not enough not relevant passages\n",
      "Done with q062224711\n"
     ]
    },
    {
     "name": "stderr",
     "output_type": "stream",
     "text": [
      " 99%|█████████▊| 663/672 [01:21<00:07,  1.27it/s]"
     ]
    },
    {
     "name": "stdout",
     "output_type": "stream",
     "text": [
      "Not enough not relevant passages\n",
      "Done with q062224751\n"
     ]
    },
    {
     "name": "stderr",
     "output_type": "stream",
     "text": [
      " 99%|█████████▉| 664/672 [01:22<00:06,  1.23it/s]"
     ]
    },
    {
     "name": "stdout",
     "output_type": "stream",
     "text": [
      "Done with q062224794\n"
     ]
    },
    {
     "name": "stderr",
     "output_type": "stream",
     "text": [
      " 99%|█████████▉| 665/672 [01:23<00:05,  1.26it/s]"
     ]
    },
    {
     "name": "stdout",
     "output_type": "stream",
     "text": [
      "Not enough not relevant passages\n",
      "Done with q062224848\n"
     ]
    },
    {
     "name": "stderr",
     "output_type": "stream",
     "text": [
      " 99%|█████████▉| 666/672 [01:23<00:04,  1.24it/s]"
     ]
    },
    {
     "name": "stdout",
     "output_type": "stream",
     "text": [
      "Not enough not relevant passages\n",
      "Done with q062224851\n"
     ]
    },
    {
     "name": "stderr",
     "output_type": "stream",
     "text": [
      " 99%|█████████▉| 667/672 [01:24<00:03,  1.25it/s]"
     ]
    },
    {
     "name": "stdout",
     "output_type": "stream",
     "text": [
      "Done with q062224875\n"
     ]
    },
    {
     "name": "stderr",
     "output_type": "stream",
     "text": [
      " 99%|█████████▉| 668/672 [01:25<00:03,  1.25it/s]"
     ]
    },
    {
     "name": "stdout",
     "output_type": "stream",
     "text": [
      "Done with q062224914\n"
     ]
    },
    {
     "name": "stderr",
     "output_type": "stream",
     "text": [
      "100%|█████████▉| 669/672 [01:26<00:02,  1.24it/s]"
     ]
    },
    {
     "name": "stdout",
     "output_type": "stream",
     "text": [
      "Done with q062224961\n"
     ]
    },
    {
     "name": "stderr",
     "output_type": "stream",
     "text": [
      "100%|█████████▉| 670/672 [01:27<00:01,  1.21it/s]"
     ]
    },
    {
     "name": "stdout",
     "output_type": "stream",
     "text": [
      "Done with q062225030\n"
     ]
    },
    {
     "name": "stderr",
     "output_type": "stream",
     "text": [
      "100%|█████████▉| 671/672 [01:27<00:00,  1.25it/s]"
     ]
    },
    {
     "name": "stdout",
     "output_type": "stream",
     "text": [
      "Done with q062225194\n"
     ]
    },
    {
     "name": "stderr",
     "output_type": "stream",
     "text": [
      "100%|██████████| 672/672 [01:28<00:00,  7.59it/s]"
     ]
    },
    {
     "name": "stdout",
     "output_type": "stream",
     "text": [
      "Not enough not relevant passages\n",
      "Done with q062225197\n"
     ]
    },
    {
     "name": "stderr",
     "output_type": "stream",
     "text": [
      "\n"
     ]
    }
   ],
   "source": [
    "bm25 = pt.BatchRetrieve(index, wmodel=\"BM25\")\n",
    "\n",
    "try:\n",
    "    with open(\"done.txt\", \"r\") as fin:\n",
    "        done = fin.read().splitlines()\n",
    "except:\n",
    "    done = []\n",
    "\n",
    "from tqdm import tqdm\n",
    "\n",
    "# get relevant docs\n",
    "rels = topics.merge(qrels[qrels[\"label\"]>=1], on=\"qid\")\n",
    "\n",
    "\n",
    "for _, query in tqdm(topics.iterrows(),total=len(topics)):\n",
    "    qid = query[\"qid\"]\n",
    "    query_text = query[\"query\"]\n",
    "\n",
    "    if str(qid) in done:\n",
    "        continue\n",
    "\n",
    "    ##### Get relevant passages #####\n",
    "    passages = []\n",
    "    rel_docs = rels[rels[\"qid\"] == qid][\"docno\"].tolist()  # get relevant docs\n",
    "    if not rel_docs:\n",
    "        logger.warning(f\"Skipping {qid}, not relevant docs found\")\n",
    "        continue\n",
    "\n",
    "\n",
    "    for docno in rel_docs:\n",
    "        docid = no_id[docno]\n",
    "        doc = index.getMetaIndex().getItem(\"text\", docid)\n",
    "        cleaned_doc = doc.replace(docno, \" \").strip()\n",
    "        doc_pass = make_passages(cleaned_doc)\n",
    "        passages.append(doc_pass)\n",
    "        logger.info(f\"Found {len(doc_pass)} passages for {docno}\")\n",
    "    \n",
    "\n",
    "\n",
    "\n",
    "    ##### Get not relevant but challenging passages #####\n",
    "\n",
    "    # sample graded not rel but retrieved docs\n",
    "    base = bm25(topics[topics[\"qid\"]==qid])  # baseline\n",
    "\n",
    "    if len(base) == 0:\n",
    "        logger.warning(f\"Skipping {qid}, no docs found\")\n",
    "        continue\n",
    "\n",
    "    logger.info(f\"Retrieved {len(base)} docs for {qid}\")\n",
    "\n",
    "    gradet = base.merge(qrels, on=[\"qid\", \"docno\"])  # add grading    \n",
    "    gradet = gradet[gradet[\"label\"]==0][\"docno\"].tolist()  # get not rel docs\n",
    "    logger.info(f\"Found {len(gradet)} graded and not relevant docs for {qid}\")\n",
    "\n",
    "\n",
    "    not_rel_passages = []\n",
    "    for docno in gradet:\n",
    "        docid = no_id[docno]\n",
    "        doc = index.getMetaIndex().getItem(\"text\", docid)\n",
    "        cleaned_doc = doc.replace(docno, \" \").replace(\"|\", \"\").strip()\n",
    "        doc_pass = make_passages(cleaned_doc)\n",
    "        not_rel_passages.append(doc_pass)\n",
    "\n",
    "    \n",
    "    tot_passages = sum([len(i) for i in passages])\n",
    "    tot_not_rel_passages = sum([len(i) for i in not_rel_passages])\n",
    "    logger.info(f\"Found {tot_passages} relevant passages and {tot_not_rel_passages} not relevant passages\")\n",
    "    if tot_passages > tot_not_rel_passages:\n",
    "        print(\"Not enough not relevant passages\")\n",
    "        # sample from not gradet not rel but retrieved docs\n",
    "        # additional\n",
    "        not_rel_docs_all = base[\"docno\"].to_list()\n",
    "        set(not_rel_docs_all)-set(gradet)-set(rel_docs)\n",
    "\n",
    "        i = 0\n",
    "        while tot_not_rel_passages < tot_passages or i == len(not_rel_docs_all)-1 :\n",
    "            docid = no_id[not_rel_docs_all[i]]\n",
    "            doc = index.getMetaIndex().getItem(\"text\", docid)\n",
    "            cleaned_doc = doc.replace(docno, \" \").replace(\"|\", \"\").strip()\n",
    "            doc_pass = make_passages(cleaned_doc)\n",
    "            not_rel_passages.append(doc_pass)    \n",
    "            i+=1\n",
    "            tot_not_rel_passages += len(doc_pass)\n",
    "            if i == len(not_rel_docs_all)-1:\n",
    "                \n",
    "                continue\n",
    "\n",
    "\n",
    "\n",
    "\n",
    "    \n",
    "    ##### Assamble triplets #####\n",
    "    non_rel_passage_pool = []\n",
    "    for i in range(0, find_max_list(not_rel_passages)):\n",
    "        for list_d in not_rel_passages:\n",
    "            try:\n",
    "                item = list_d[i]\n",
    "                if not item:\n",
    "                    continue  # TODO fix empty non rel passages\n",
    "                non_rel_passage_pool.append(item)\n",
    "            except IndexError:\n",
    "                pass\n",
    "        \n",
    "    \n",
    "    triplets = []\n",
    "    c = 0\n",
    "    for rel_doc in passages:\n",
    "        for rel_passage in rel_doc:\n",
    "            non_rel_passage = non_rel_passage_pool[c]\n",
    "            triplets.append([query_text, rel_passage, non_rel_passage])\n",
    "            c+=1\n",
    "\n",
    "    with open(\"passages.jsonl\", \"+a\") as fin:\n",
    "        for triplet in triplets:\n",
    "            fin.write(json.dumps(triplet))\n",
    "            fin.write(\"\\n\")\n",
    "\n",
    "    with open(\"done.txt\", \"+a\") as fin:\n",
    "        fin.write(str(qid))\n",
    "        fin.write(\"\\n\")\n",
    "    \n",
    "    print(\"Done with\", qid)\n"
   ]
  },
  {
   "cell_type": "code",
   "execution_count": 14,
   "metadata": {},
   "outputs": [
    {
     "data": {
      "text/plain": [
       "['doc062209200074']"
      ]
     },
     "execution_count": 14,
     "metadata": {},
     "output_type": "execute_result"
    }
   ],
   "source": [
    "not_rel_docs_all"
   ]
  },
  {
   "cell_type": "code",
   "execution_count": null,
   "metadata": {},
   "outputs": [],
   "source": []
  }
 ],
 "metadata": {
  "kernelspec": {
   "display_name": "LongEval",
   "language": "python",
   "name": "python3"
  },
  "language_info": {
   "codemirror_mode": {
    "name": "ipython",
    "version": 3
   },
   "file_extension": ".py",
   "mimetype": "text/x-python",
   "name": "python",
   "nbconvert_exporter": "python",
   "pygments_lexer": "ipython3",
   "version": "3.8.16"
  },
  "orig_nbformat": 4
 },
 "nbformat": 4,
 "nbformat_minor": 2
}
