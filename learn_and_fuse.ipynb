{
 "cells": [
  {
   "cell_type": "code",
   "execution_count": 93,
   "metadata": {},
   "outputs": [],
   "source": [
    "import pyterrier as pt  # type: ignore\n",
    "import os\n",
    "import yaml\n",
    "from tira.third_party_integrations import persist_and_normalize_run, ensure_pyterrier_is_loaded\n",
    "import pandas as pd\n",
    "from trectools import TrecRun, TrecQrel, TrecEval\n",
    "\n",
    "from trectools import TrecQrel, procedures\n",
    "\n",
    "ensure_pyterrier_is_loaded()"
   ]
  },
  {
   "cell_type": "code",
   "execution_count": 94,
   "metadata": {},
   "outputs": [],
   "source": [
    "test_run = pd.DataFrame([\n",
    "    {\"system\": \"1\", \"query\": \"q06223196\", \"q0\": \"Q0\", \"docid\": \"doc062200204465\", \"rank\": 1, \"score\": 0}, \n",
    "    {\"system\": \"1\", \"query\": \"q06223196\", \"q0\": \"Q0\", \"docid\": \"doc062200112743\", \"rank\": 2, \"score\": -1},\n",
    "    \n",
    "    {\"system\": \"1\", \"query\": \"q062219244\", \"q0\": \"Q0\", \"docid\": \"doc062200108085\", \"rank\": 1, \"score\": 1},\n",
    "    {\"system\": \"1\", \"query\": \"q062219244\", \"q0\": \"Q0\", \"docid\": \"doc062200106015\", \"rank\": 2, \"score\": -1},\n",
    "\n",
    "\n",
    "    {\"system\": \"2\", \"query\": \"q06223196\", \"q0\": \"Q0\", \"docid\": \"doc062200112743\", \"rank\": 1, \"score\": 0}, \n",
    "    {\"system\": \"2\", \"query\": \"q06223196\", \"q0\": \"Q0\", \"docid\": \"doc062200204465\", \"rank\": 2, \"score\": -1},\n",
    "    \n",
    "    {\"system\": \"2\", \"query\": \"q062219244\", \"q0\": \"Q0\", \"docid\": \"doc062200106015\", \"rank\": 1, \"score\": 1},\n",
    "    {\"system\": \"2\", \"query\": \"q062219244\", \"q0\": \"Q0\", \"docid\": \"doc062200108085\", \"rank\": 2, \"score\": -1},\n",
    "    ])"
   ]
  },
  {
   "cell_type": "code",
   "execution_count": 95,
   "metadata": {},
   "outputs": [],
   "source": [
    "def load_doc_translation():\n",
    "    ret = pd.read_csv(\"data/core_docs.tsv\", sep=\"\\t\")\n",
    "    return {i['docno_WT']: {'WT': i['docno_WT'], 'LT': i['docno_LT'], 'ST': i['docno_ST']} for _, i in ret.iterrows()}\n",
    "\n",
    "doc_translation = load_doc_translation()"
   ]
  },
  {
   "cell_type": "code",
   "execution_count": 96,
   "metadata": {},
   "outputs": [],
   "source": [
    "def load_query_translation(target_corpus):\n",
    "    ret = pd.read_csv(\"data/core_queries.tsv\", sep=\"\\t\")\n",
    "    return {i[f'qid_{target_corpus}']: i['qid_WT'] for _, i in ret.iterrows()}\n",
    "\n",
    "\n",
    "def sorted_training_data_for_query(qid):\n",
    "    ret_train = pd.read_csv(\"data/publish/French/Qrels/train.txt\", names=[\"qid\", \"Q0\", \"docno\", \"relevance\"], sep=\" \")\n",
    "    ret_test = pd.read_csv(\"data/longeval-relevance-judgements/heldout-test.txt\", names=[\"qid\", \"Q0\", \"docno\", \"relevance\"], sep=\" \")\n",
    "    \n",
    "    ret = pd.concat([ret_train, ret_test])\n",
    "    return ret[ret[\"qid\"].astype(str)==qid].sort_values(\"relevance\", ascending=False)\n",
    "\n",
    "\n",
    "def ground_truth_ranking_from_training_data(qid):\n",
    "    mapping = {\"q06\": \"WT\", \"q07\": \"ST\", \"q09\": \"LT\"}\n",
    "    target_corpus = mapping[qid[:3]]\n",
    "    query_mapping = load_query_translation(target_corpus)\n",
    "    \n",
    "    training_data = sorted_training_data_for_query(query_mapping[qid])\n",
    "\n",
    "    training_data[\"translated\"] = training_data[\"docno\"].apply(lambda i: doc_translation.get(i, {}).get(target_corpus, None))\n",
    "    training_data = training_data.dropna()\n",
    "    return pd.DataFrame([{'qid': qid, 'docno': i['translated'], 'score': i['relevance']} for _, i in training_data.iterrows()])"
   ]
  },
  {
   "cell_type": "code",
   "execution_count": 97,
   "metadata": {},
   "outputs": [],
   "source": [
    "def ground_truth_ranking_from_training_data_transformer(df):\n",
    "    qids = df[\"qid\"].unique()\n",
    "    qid_to_query = {i['qid']: i['query'] for _, i in df.iterrows()}\n",
    "\n",
    "    ret = []\n",
    "    for qid in qids:\n",
    "        ranking = ground_truth_ranking_from_training_data(qid)\n",
    "\n",
    "        if len(ranking)> 0:\n",
    "            ranking[\"query\"] = ranking['qid'].apply(lambda i: qid_to_query[i])\n",
    "        ret.append(ranking)\n",
    "    return pd.concat(ret)"
   ]
  },
  {
   "cell_type": "code",
   "execution_count": 98,
   "metadata": {},
   "outputs": [],
   "source": [
    "def qrels_for_query(qid):\n",
    "    ground_truth = ground_truth_ranking_from_training_data(qid)\n",
    "    ground_truth = ground_truth.rename(columns={\"qid\": \"query\", \"docno\": \"docid\", \"score\": \"rel\"})\n",
    "    ground_truth[\"q0\"] = \"q0\"\n",
    "    ret = TrecQrel()\n",
    "    ret.qrels_data = ground_truth\n",
    "    return ret"
   ]
  },
  {
   "cell_type": "code",
   "execution_count": 99,
   "metadata": {},
   "outputs": [],
   "source": [
    "def get_run_by_system(qid, system, all_runs):\n",
    "    run = all_runs[(all_runs[\"qid\"] == qid) & (all_runs[\"system\"]==system)].copy()\n",
    "    run = run.rename(columns = {\"query\": \"query_string\"})\n",
    "    run = run.rename(columns = {\"qid\": \"query\", \"docno\": \"docid\"})\n",
    "    ret = TrecRun()\n",
    "    ret.run_data = run\n",
    "    return ret"
   ]
  },
  {
   "cell_type": "code",
   "execution_count": 100,
   "metadata": {},
   "outputs": [],
   "source": [
    "def calculate_score_of_system_on_query(qid, all_runs, system, measure=\"NDCG_5\"):\n",
    "    try:\n",
    "        qrels = qrels_for_query(qid)\n",
    "        run = get_run_by_system(qid, system, all_runs)\n",
    "        \n",
    "        ret = TrecEval(run, qrels).get_ndcg(depth=10, removeUnjudged=True)\n",
    "    except:\n",
    "        print(qid)\n",
    "        return -1\n",
    "    return ret"
   ]
  },
  {
   "cell_type": "code",
   "execution_count": 101,
   "metadata": {},
   "outputs": [],
   "source": [
    "def select_best_system_per_query(qid, all_runs, measure=\"NDCG_5\"):\n",
    "    systems = all_runs[\"system\"].unique()\n",
    "    best_system = None\n",
    "    best_score = None\n",
    "\n",
    "    for system in systems:\n",
    "        score_of_system = calculate_score_of_system_on_query(qid, all_runs, system)\n",
    "        if best_system is None or best_score < score_of_system:\n",
    "            best_system = system\n",
    "            best_score = score_of_system\n",
    "    return best_system"
   ]
  },
  {
   "cell_type": "code",
   "execution_count": 102,
   "metadata": {},
   "outputs": [],
   "source": [
    "def build_run(all_runs):\n",
    "    ret = []\n",
    "    for qid in all_runs[\"qid\"].unique():\n",
    "        best_system = select_best_system_per_query(qid, all_runs)\n",
    "        ret.append(all_runs[(all_runs[\"qid\"] == qid) & (all_runs[\"system\"]==best_system)].copy())\n",
    "\n",
    "    return pd.concat(ret)"
   ]
  },
  {
   "cell_type": "markdown",
   "metadata": {},
   "source": [
    "# Create Runs"
   ]
  },
  {
   "cell_type": "code",
   "execution_count": 124,
   "metadata": {},
   "outputs": [],
   "source": [
    "def load_runs(system_name):\n",
    "    ret = []\n",
    "    for subcollection in [\"WT\", \"ST\", \"LT\"]:\n",
    "        ret.append(pt.io.read_results(f\"results/test/{system_name}.{subcollection}\"))\n",
    "    ret.append(pt.io.read_results(f\"results/train/{system_name}.WT\"))\n",
    "    return pt.Transformer.from_df(pd.concat(ret).sort_values([\"qid\", \"rank\"]))\n"
   ]
  },
  {
   "cell_type": "code",
   "execution_count": 104,
   "metadata": {},
   "outputs": [],
   "source": [
    "with open(os.path.join(\".\", \"settings.yml\"), \"r\") as yamlfile:\n",
    "    config = yaml.load(yamlfile, Loader=yaml.FullLoader)"
   ]
  },
  {
   "cell_type": "code",
   "execution_count": 13,
   "metadata": {},
   "outputs": [],
   "source": [
    "core_queries = pd.read_csv(\"data/core_queries.tsv\", sep=\"\\t\")"
   ]
  },
  {
   "cell_type": "code",
   "execution_count": 14,
   "metadata": {},
   "outputs": [
    {
     "name": "stdout",
     "output_type": "stream",
     "text": [
      "17:32:12.119 [main] WARN org.terrier.structures.BaseCompressingMetaIndex - Structure meta reading data file directly from disk (SLOW) - try index.meta.data-source=fileinmem in the index properties file. 2.3 GiB of memory would be required.\n"
     ]
    },
    {
     "name": "stderr",
     "output_type": "stream",
     "text": [
      "BR(BM25): 100%|██████████| 124/124 [02:40<00:00,  1.29s/q]\n",
      "BR(BM25): 100%|██████████| 122/122 [02:43<00:00,  1.34s/q]\n",
      "BR(BM25): 100%|██████████| 122/122 [02:44<00:00,  1.35s/q]\n",
      "BR(BM25): 100%|██████████| 124/124 [02:38<00:00,  1.28s/q]\n",
      "BR(BM25): 100%|██████████| 124/124 [02:47<00:00,  1.35s/q]\n",
      "BR(BM25): 100%|██████████| 124/124 [02:39<00:00,  1.28s/q]\n",
      "BR(BM25): 100%|██████████| 124/124 [02:48<00:00,  1.36s/q]\n",
      "BR(BM25): 100%|██████████| 124/124 [02:48<00:00,  1.36s/q]\n",
      "BR(BM25): 100%|██████████| 124/124 [02:54<00:00,  1.41s/q]\n",
      "BR(BM25): 100%|██████████| 124/124 [02:51<00:00,  1.38s/q]\n"
     ]
    },
    {
     "name": "stdout",
     "output_type": "stream",
     "text": [
      "q09225884\n",
      "q09225884\n",
      "q09225884\n",
      "q09225884\n",
      "q09225884\n",
      "q09225884\n",
      "q09225884\n",
      "q09225884\n",
      "q09225884\n",
      "q09225884\n",
      "q092232018\n",
      "q092232018\n",
      "q092232018\n",
      "q092232018\n",
      "q092232018\n",
      "q092232018\n",
      "q092232018\n",
      "q092232018\n",
      "q092232018\n",
      "q092232018\n",
      "18:04:08.182 [main] WARN org.terrier.structures.BaseCompressingMetaIndex - Structure meta reading data file directly from disk (SLOW) - try index.meta.data-source=fileinmem in the index properties file. 3.4 GiB of memory would be required.\n"
     ]
    },
    {
     "name": "stderr",
     "output_type": "stream",
     "text": [
      "BR(BM25): 100%|██████████| 124/124 [02:18<00:00,  1.12s/q]\n",
      "BR(BM25): 100%|██████████| 122/122 [02:12<00:00,  1.08s/q]\n",
      "BR(BM25): 100%|██████████| 122/122 [02:59<00:00,  1.47s/q]\n",
      "BR(BM25): 100%|██████████| 124/124 [02:56<00:00,  1.42s/q]\n",
      "BR(BM25): 100%|██████████| 124/124 [02:47<00:00,  1.35s/q]\n",
      "BR(BM25): 100%|██████████| 124/124 [02:53<00:00,  1.40s/q]\n",
      "BR(BM25): 100%|██████████| 124/124 [02:28<00:00,  1.19s/q]\n",
      "BR(BM25): 100%|██████████| 124/124 [01:55<00:00,  1.07q/s]\n",
      "BR(BM25): 100%|██████████| 124/124 [01:55<00:00,  1.07q/s]\n",
      "BR(BM25): 100%|██████████| 124/124 [01:53<00:00,  1.10q/s]\n"
     ]
    },
    {
     "name": "stdout",
     "output_type": "stream",
     "text": [
      "q072210934\n",
      "q072210934\n",
      "q072210934\n",
      "q072210934\n",
      "q072210934\n",
      "q072210934\n",
      "q072210934\n",
      "q072210934\n",
      "q072210934\n",
      "q072210934\n",
      "q072218453\n",
      "q072218453\n",
      "q072218453\n",
      "q072218453\n",
      "q072218453\n",
      "q072218453\n",
      "q072218453\n",
      "q072218453\n",
      "q072218453\n",
      "q072218453\n"
     ]
    }
   ],
   "source": [
    "for subcollection in [\"LT\", \"ST\"]:\n",
    "    index = pt.IndexFactory.of(os.path.join(\".\", config[\"index_dir\"] + f\"index_{subcollection}\"))\n",
    "    \n",
    "    topics = pt.io.read_topics(config[subcollection][\"test\"][\"topics\"])\n",
    "    topics = topics[topics[\"qid\"].isin(core_queries[f\"qid_{subcollection}\"])]\n",
    "\n",
    "    BM25 = pt.BatchRetrieve(index, wmodel=\"BM25\", verbose=True)\n",
    "    explicit_relevance_feedback = pt.apply.generic(ground_truth_ranking_from_training_data_transformer)\n",
    "    RM3 = pt.rewrite.RM3(index)\n",
    "    BO1 = pt.rewrite.Bo1QueryExpansion(index)\n",
    "    E5 = load_runs(\"IRC_E5_base\")\n",
    "    monoT5 = load_runs(\"IRC_BM25+monoT5\")\n",
    "\n",
    "    pipeline = [\n",
    "        (\"bm25\", BM25),\n",
    "        (\"exp-Rm3-bm25\", explicit_relevance_feedback >> RM3 >> BM25),\n",
    "        (\"exp-BO1-bm25\", explicit_relevance_feedback >> BO1 >> BM25),\n",
    "        (\"bm25-RM3-bm25\", BM25 >> RM3 >> BM25),\n",
    "        (\"bm25-BO1-bm25\", BM25 >> BO1 >> BM25),\n",
    "        # (\"E5-BO1-bm25\", E5 >> BO1 >> BM25),\n",
    "        (\"E5-RM3-bm25\", E5 >> RM3 >> BM25),\n",
    "        (\"monoT5-BO1-bm25\", monoT5 >> BO1 >> BM25),\n",
    "        (\"monoT5-RM3-bm25\", monoT5 >> RM3 >> BM25),\n",
    "        (\"E5\", E5),\n",
    "        (\"monoT5\", monoT5)\n",
    "    ]\n",
    "\n",
    "    all_runs = []\n",
    "\n",
    "    for name, system in pipeline:\n",
    "        run = system(topics)\n",
    "        run[\"system\"] = name\n",
    "        run[\"q0\"] = \"q0\"\n",
    "        run = run[['qid', \"q0\", 'docno', 'rank', 'score','system']]\n",
    "        all_runs.append(run)\n",
    "        run.to_csv(f\"results/fuse_learn/{name}.{subcollection}\", index=False, header=False, sep=\" \")\n",
    "\n",
    "    final_run = build_run(pd.concat(all_runs))\n",
    "    final_run[\"system\"] = \"fuse\"\n",
    "    final_run.to_csv(f\"results/fuse_learn/fuse.{subcollection}\", index=False, header=False, sep=\" \")"
   ]
  },
  {
   "cell_type": "markdown",
   "metadata": {},
   "source": [
    "# Evaluate"
   ]
  },
  {
   "cell_type": "code",
   "execution_count": 2,
   "metadata": {},
   "outputs": [
    {
     "ename": "NameError",
     "evalue": "name 'all_runs' is not defined",
     "output_type": "error",
     "traceback": [
      "\u001b[0;31m---------------------------------------------------------------------------\u001b[0m",
      "\u001b[0;31mNameError\u001b[0m                                 Traceback (most recent call last)",
      "\u001b[0;32m/tmp/ipykernel_465/2061247667.py\u001b[0m in \u001b[0;36m<module>\u001b[0;34m\u001b[0m\n\u001b[1;32m      1\u001b[0m \u001b[0mruns\u001b[0m \u001b[0;34m=\u001b[0m \u001b[0;34m[\u001b[0m\u001b[0;34m]\u001b[0m\u001b[0;34m\u001b[0m\u001b[0;34m\u001b[0m\u001b[0m\n\u001b[0;32m----> 2\u001b[0;31m \u001b[0;32mfor\u001b[0m \u001b[0mrun\u001b[0m \u001b[0;32min\u001b[0m \u001b[0mall_runs\u001b[0m\u001b[0;34m:\u001b[0m\u001b[0;34m\u001b[0m\u001b[0;34m\u001b[0m\u001b[0m\n\u001b[0m\u001b[1;32m      3\u001b[0m     \u001b[0mrun\u001b[0m \u001b[0;34m=\u001b[0m \u001b[0mrun\u001b[0m\u001b[0;34m.\u001b[0m\u001b[0mrename\u001b[0m\u001b[0;34m(\u001b[0m\u001b[0mcolumns\u001b[0m \u001b[0;34m=\u001b[0m \u001b[0;34m{\u001b[0m\u001b[0;34m\"query\"\u001b[0m\u001b[0;34m:\u001b[0m \u001b[0;34m\"query_string\"\u001b[0m\u001b[0;34m}\u001b[0m\u001b[0;34m)\u001b[0m\u001b[0;34m\u001b[0m\u001b[0;34m\u001b[0m\u001b[0m\n\u001b[1;32m      4\u001b[0m     \u001b[0mrun\u001b[0m \u001b[0;34m=\u001b[0m \u001b[0mrun\u001b[0m\u001b[0;34m.\u001b[0m\u001b[0mrename\u001b[0m\u001b[0;34m(\u001b[0m\u001b[0mcolumns\u001b[0m \u001b[0;34m=\u001b[0m \u001b[0;34m{\u001b[0m\u001b[0;34m\"qid\"\u001b[0m\u001b[0;34m:\u001b[0m \u001b[0;34m\"query\"\u001b[0m\u001b[0;34m,\u001b[0m \u001b[0;34m\"docno\"\u001b[0m\u001b[0;34m:\u001b[0m \u001b[0;34m\"docid\"\u001b[0m\u001b[0;34m}\u001b[0m\u001b[0;34m)\u001b[0m\u001b[0;34m\u001b[0m\u001b[0;34m\u001b[0m\u001b[0m\n\u001b[1;32m      5\u001b[0m     \u001b[0mret\u001b[0m \u001b[0;34m=\u001b[0m \u001b[0mTrecRun\u001b[0m\u001b[0;34m(\u001b[0m\u001b[0;34m)\u001b[0m\u001b[0;34m\u001b[0m\u001b[0;34m\u001b[0m\u001b[0m\n",
      "\u001b[0;31mNameError\u001b[0m: name 'all_runs' is not defined"
     ]
    }
   ],
   "source": [
    "runs = []\n",
    "for run in all_runs:\n",
    "    run = run.rename(columns = {\"query\": \"query_string\"})\n",
    "    run = run.rename(columns = {\"qid\": \"query\", \"docno\": \"docid\"})\n",
    "    ret = TrecRun()\n",
    "    ret.run_data = run\n",
    "    runs.append(run)\n"
   ]
  },
  {
   "cell_type": "code",
   "execution_count": 359,
   "metadata": {},
   "outputs": [],
   "source": [
    "def load_qrels(subcollection):\n",
    "    qrels_file = config[subcollection][\"test\"][\"qrels\"]\n",
    "    qrels = pd.read_csv(qrels_file, names=[\"query\", \"Q0\", \"docid\", \"rel\"], sep=\" \")\n",
    "    qrels = qrels[qrels[\"query\"].isin(core_queries[f\"qid_{subcollection}\"])]\n",
    "\n",
    "    ret = TrecQrel()\n",
    "    ret.qrels_data = qrels\n",
    "    return ret"
   ]
  },
  {
   "cell_type": "code",
   "execution_count": 361,
   "metadata": {},
   "outputs": [],
   "source": [
    "def load_runs(subcollection):\n",
    "    return procedures.list_of_runs_from_path(\"results/fuse_learn\", f\"*.{subcollection}\")"
   ]
  },
  {
   "cell_type": "code",
   "execution_count": 362,
   "metadata": {},
   "outputs": [],
   "source": [
    "def fix_nan_in_runs(results_per_system):\n",
    "    runs_fixed = []\n",
    "    for system in results_per_system:\n",
    "        data = system.data.fillna(0)\n",
    "        system.data = data\n",
    "        runs_fixed.append(system)\n",
    "    return runs_fixed\n"
   ]
  },
  {
   "cell_type": "code",
   "execution_count": 363,
   "metadata": {},
   "outputs": [],
   "source": [
    "from matplotlib import pyplot as plt"
   ]
  },
  {
   "cell_type": "code",
   "execution_count": 368,
   "metadata": {},
   "outputs": [],
   "source": [
    "def evaluate(measures):\n",
    "    for subcollection in [\"ST\", \"LT\"]:\n",
    "        runs = load_runs(subcollection)\n",
    "        qrels = load_qrels(subcollection)\n",
    "        \n",
    "        results_per_system = procedures.evaluate_runs(runs, qrels, per_query=True)\n",
    "        results_per_system = fix_nan_in_runs(results_per_system)\n",
    "\n",
    "        for measure in measures:\n",
    "            results = procedures.extract_metric_from_results(results_per_system, measure)\n",
    "            fig = procedures.plot_system_rank(results, display_metric=measure)\n",
    "            plt.title(f\"{measure} at {subcollection}\")"
   ]
  },
  {
   "cell_type": "code",
   "execution_count": 369,
   "metadata": {},
   "outputs": [
    {
     "name": "stdout",
     "output_type": "stream",
     "text": [
      "Found 11 runs in path results/fuse_learn\n",
      "Found 11 runs in path results/fuse_learn\n"
     ]
    },
    {
     "data": {
      "image/png": "[encoded data removed]",
      "text/plain": [
       "<Figure size 864x432 with 1 Axes>"
      ]
     },
     "metadata": {
      "needs_background": "light"
     },
     "output_type": "display_data"
    },
    {
     "data": {
      "image/png": "[encoded data removed]",
      "text/plain": [
       "<Figure size 864x432 with 1 Axes>"
      ]
     },
     "metadata": {
      "needs_background": "light"
     },
     "output_type": "display_data"
    },
    {
     "data": {
      "image/png": "[encoded data removed]",
      "text/plain": [
       "<Figure size 864x432 with 1 Axes>"
      ]
     },
     "metadata": {
      "needs_background": "light"
     },
     "output_type": "display_data"
    },
    {
     "data": {
      "image/png": "[encoded data removed]",
      "text/plain": [
       "<Figure size 864x432 with 1 Axes>"
      ]
     },
     "metadata": {
      "needs_background": "light"
     },
     "output_type": "display_data"
    }
   ],
   "source": [
    "evaluate(measures=[\"NDCG_10\", \"NDCG_1000\"])"
   ]
  },
  {
   "cell_type": "code",
   "execution_count": null,
   "metadata": {},
   "outputs": [],
   "source": []
  }
 ],
 "metadata": {
  "kernelspec": {
   "display_name": "base",
   "language": "python",
   "name": "python3"
  },
  "language_info": {
   "codemirror_mode": {
    "name": "ipython",
    "version": 3
   },
   "file_extension": ".py",
   "mimetype": "text/x-python",
   "name": "python",
   "nbconvert_exporter": "python",
   "pygments_lexer": "ipython3",
   "version": "3.7.13"
  },
  "orig_nbformat": 4
 },
 "nbformat": 4,
 "nbformat_minor": 2
}
