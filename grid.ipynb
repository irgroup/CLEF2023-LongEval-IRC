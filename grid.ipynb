{
 "cells": [
  {
   "cell_type": "code",
   "execution_count": 1,
   "metadata": {},
   "outputs": [
    {
     "name": "stderr",
     "output_type": "stream",
     "text": [
      "PyTerrier 0.9.2 has loaded Terrier 5.7 (built by craigm on 2022-11-10 18:30) and terrier-helper 0.0.7\n",
      "\n",
      "No etc/terrier.properties, using terrier.default.properties for bootstrap configuration.\n"
     ]
    },
    {
     "name": "stdout",
     "output_type": "stream",
     "text": [
      "Loaded index with  1570734 documents.\n"
     ]
    }
   ],
   "source": [
    "#!/usr/bin/env python\n",
    "# -*- coding: utf-8 -*-\n",
    "\"\"\"Evaluate systems. \n",
    "\n",
    "If the system name is specified as in the compressed runs, the results are loaded from \n",
    "the saved run files and do not need to be computed again. \n",
    "\"\"\"\n",
    "from src.exp_logger import logger  # type: ignore\n",
    "from src.load_index import setup_system\n",
    "import pyterrier as pt  # type: ignore\n",
    "import numpy as np\n",
    "import yaml\n",
    "\n",
    "with open(\"settings.yml\", \"r\") as f:\n",
    "    config = yaml.safe_load(f)\n",
    "\n",
    "\n",
    "# from systems import ColBERT, ColBERT_LE\n",
    "\n",
    "\n",
    "index, topics, qrels = setup_system(\"WT\")\n",
    "\n",
    "def get_qrels(train_topics, validation_topics, test_topics, qrels):\n",
    "    def filter_ids(topics):\n",
    "        needed_ids = list(topics[\"qid\"].unique())  # needed ids\n",
    "        qrels_split = qrels[qrels[\"qid\"].isin(needed_ids)]\n",
    "        diff = len(needed_ids) - len(qrels_split[\"qid\"].unique())\n",
    "        return qrels_split\n",
    "    \n",
    "    train_qrels = filter_ids(train_topics)\n",
    "    validation_qrels = filter_ids(validation_topics)\n",
    "    test_qrels = filter_ids(test_topics)\n",
    "    return train_qrels, validation_qrels, test_qrels\n",
    "\n",
    "train_topics, validation_topics, test_topics = np.split(\n",
    "    topics, [int(0.6 * len(topics)), int(0.8 * len(topics))]\n",
    ")\n",
    "\n",
    "\n",
    "train_qrels, validation_qrels, test_qrels = get_qrels(train_topics, validation_topics, test_topics, qrels)\n",
    "\n",
    "train_topics = train_topics[train_topics[\"qid\"].isin(config[\"top_runs\"])]\n",
    "\n",
    "\n"
   ]
  },
  {
   "cell_type": "code",
   "execution_count": 2,
   "metadata": {},
   "outputs": [],
   "source": [
    "bm25_for_qe = pt.BatchRetrieve(index, wmodel=\"BM25\", controls={\"bm25.b\" : 0.75})\n",
    "rm3 = pt.rewrite.RM3(index, fb_terms=10, fb_docs=3)\n",
    "pipe_qe = bm25_for_qe >> rm3 >> bm25_for_qe"
   ]
  },
  {
   "cell_type": "code",
   "execution_count": 3,
   "metadata": {},
   "outputs": [],
   "source": [
    "param_map = {\n",
    "        bm25_for_qe : { \"bm25.b\" : [0, 0.1, 0.2, 0.3, 0.4, 0.5, 0.6, 0.7, 0.8, 0.9, 1 ]},\n",
    "        rm3 : {\n",
    "            \"fb_terms\" : list(range(1, 12, 3)), # makes a list of 1,3,6,7,12\n",
    "            \"fb_docs\" : list(range(2, 30, 6))   # etc.\n",
    "        }\n",
    "}"
   ]
  },
  {
   "cell_type": "code",
   "execution_count": 4,
   "metadata": {},
   "outputs": [
    {
     "name": "stderr",
     "output_type": "stream",
     "text": [
      "GridScan: 100%|██████████| 220/220 [3:39:07<00:00, 59.76s/it]  "
     ]
    },
    {
     "name": "stdout",
     "output_type": "stream",
     "text": [
      "Best map is 0.019001\n",
      "Best setting is ['BR(BM25) bm25.b=0.8', 'QueryExpansion(/home/juerikeller/dev/LongEval/data/index/index_WT/data.properties,26,10,<org.terrier.querying.RM3 at 0x7fc678041e50 jclass=org/terrier/querying/RM3 jself=<LocalRef obj=0x510de18 at 0x7fc678637ef0>>) fb_terms=10', 'QueryExpansion(/home/juerikeller/dev/LongEval/data/index/index_WT/data.properties,26,10,<org.terrier.querying.RM3 at 0x7fc678041e50 jclass=org/terrier/querying/RM3 jself=<LocalRef obj=0x510de18 at 0x7fc678637ef0>>) fb_docs=2']\n"
     ]
    },
    {
     "name": "stderr",
     "output_type": "stream",
     "text": [
      "\n"
     ]
    }
   ],
   "source": [
    "pipe_qe = pt.GridSearch(pipe_qe, param_map, train_topics, train_qrels, metrics=[\"bpref\"] verbose=True)\n"
   ]
  },
  {
   "cell_type": "code",
   "execution_count": null,
   "metadata": {},
   "outputs": [],
   "source": [
    "pipe_qe = pt.GridSearch(pipe_qe, param_map, topics, qrels, metrics=[\"bpref\"], verbose=True, jobs=8)"
   ]
  },
  {
   "cell_type": "code",
   "execution_count": 6,
   "metadata": {},
   "outputs": [
    {
     "data": {
      "text/plain": [
       "ComposedPipeline(ComposedPipeline(BR(/home/juerikeller/dev/LongEval/data/index/index_WT/data.properties,{'terrierql': 'on', 'parsecontrols': 'on', 'parseql': 'on', 'applypipeline': 'on', 'localmatching': 'on', 'filters': 'on', 'decorate': 'on', 'wmodel': 'BM25', 'bm25.b': 0.8},{'querying.processes': 'terrierql:TerrierQLParser,parsecontrols:TerrierQLToControls,parseql:TerrierQLToMatchingQueryTerms,matchopql:MatchingOpQLParser,applypipeline:ApplyTermPipeline,context_wmodel:org.terrier.python.WmodelFromContextProcess,localmatching:LocalManager$ApplyLocalMatching,qe:QueryExpansion,labels:org.terrier.learning.LabelDecorator,filters:LocalManager$PostFilterProcess,decorate:SimpleDecorateProcess', 'querying.postfilters': 'decorate:SimpleDecorate,site:SiteFilter,scope:Scope', 'querying.default.controls': 'wmodel:DPH,parsecontrols:on,parseql:on,applypipeline:on,terrierql:on,localmatching:on,filters:on,decorate:on', 'querying.allowed.controls': 'scope,qe,qemodel,start,end,site,scope,applypipeline', 'termpipelines': 'Stopwords,PorterStemmer'}), QueryExpansion(/home/juerikeller/dev/LongEval/data/index/index_WT/data.properties,2,10,<org.terrier.querying.RM3 at 0x7fc678041e50 jclass=org/terrier/querying/RM3 jself=<LocalRef obj=0x510de18 at 0x7fc678637ef0>>)), BR(/home/juerikeller/dev/LongEval/data/index/index_WT/data.properties,{'terrierql': 'on', 'parsecontrols': 'on', 'parseql': 'on', 'applypipeline': 'on', 'localmatching': 'on', 'filters': 'on', 'decorate': 'on', 'wmodel': 'BM25', 'bm25.b': 0.8},{'querying.processes': 'terrierql:TerrierQLParser,parsecontrols:TerrierQLToControls,parseql:TerrierQLToMatchingQueryTerms,matchopql:MatchingOpQLParser,applypipeline:ApplyTermPipeline,context_wmodel:org.terrier.python.WmodelFromContextProcess,localmatching:LocalManager$ApplyLocalMatching,qe:QueryExpansion,labels:org.terrier.learning.LabelDecorator,filters:LocalManager$PostFilterProcess,decorate:SimpleDecorateProcess', 'querying.postfilters': 'decorate:SimpleDecorate,site:SiteFilter,scope:Scope', 'querying.default.controls': 'wmodel:DPH,parsecontrols:on,parseql:on,applypipeline:on,terrierql:on,localmatching:on,filters:on,decorate:on', 'querying.allowed.controls': 'scope,qe,qemodel,start,end,site,scope,applypipeline', 'termpipelines': 'Stopwords,PorterStemmer'}))"
      ]
     },
     "execution_count": 6,
     "metadata": {},
     "output_type": "execute_result"
    }
   ],
   "source": [
    "pipe_qe"
   ]
  },
  {
   "cell_type": "code",
   "execution_count": null,
   "metadata": {},
   "outputs": [],
   "source": []
  },
  {
   "cell_type": "markdown",
   "metadata": {},
   "source": [
    "PyTerrier 0.9.2 has loaded Terrier 5.7 (built by craigm on 2022-11-10 18:30) and terrier-helper 0.0.7\n",
    "\n",
    "No etc/terrier.properties, using terrier.default.properties for bootstrap configuration.\n",
    "Loaded index with  1570734 documents.\n",
    "GridScan:  45%|██████████████████████████████████████████████████████████████████████████▋                                                                                           | 99/220 [1:42:52<2:03:57, 61.47s/it]         GridScan: 100%|███████████████████████████████████████████████████████████████████████████████████████████████████████████████████████████████████████████████████████████████████████| 220/220 [3:37:17<00:00, 59.26s/it]\n",
    "Best map is 0.019001\n",
    "Best setting is ['BR(BM25) bm25.b=0.8', 'QueryExpansion(/home/juerikeller/dev/LongEval/data/index/index_WT/data.properties,26,10,<org.terrier.querying.RM3 at 0x7fe1078f3e50 jclass=org/terrier/querying/RM3 jself=<LocalRef obj=0x1a897a0 at 0x7fe1079d2570>>) fb_terms=10', 'QueryExpansion(/home/juerikeller/dev/LongEval/data/index/index_WT/data.properties,26,10,<org.terrier.querying.RM3 at 0x7fe1078f3e50 jclass=org/terrier/querying/RM3 jself=<LocalRef obj=0x1a897a0 at 0x7fe1079d2570>>) fb_docs=2']\n",
    "pt.Experiment: 100%|██████████████████████████████████████████████████████████████████████████████████████████████████████████████████████████████████████████████████████████████████████████████████████████████| 1/1 [02:53<00:00, 173.34s/system]\n",
    "juerikeller@i"
   ]
  },
  {
   "cell_type": "markdown",
   "metadata": {},
   "source": []
  }
 ],
 "metadata": {
  "kernelspec": {
   "display_name": "Python 3.8.16 ('LongEval')",
   "language": "python",
   "name": "python3"
  },
  "language_info": {
   "codemirror_mode": {
    "name": "ipython",
    "version": 3
   },
   "file_extension": ".py",
   "mimetype": "text/x-python",
   "name": "python",
   "nbconvert_exporter": "python",
   "pygments_lexer": "ipython3",
   "version": "3.8.16"
  },
  "orig_nbformat": 4,
  "vscode": {
   "interpreter": {
    "hash": "44b22c27ea262f2bb503c1b0e48468e38abcad20d645f51b9e4bee46636b6da0"
   }
  }
 },
 "nbformat": 4,
 "nbformat_minor": 2
}
