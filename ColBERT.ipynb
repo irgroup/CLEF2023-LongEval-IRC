{
 "cells": [
  {
   "cell_type": "code",
   "execution_count": 1,
   "metadata": {},
   "outputs": [
    {
     "name": "stderr",
     "output_type": "stream",
     "text": [
      "PyTerrier 0.9.2 has loaded Terrier 5.7 (built by craigm on 2022-11-10 18:30) and terrier-helper 0.0.7\n",
      "\n",
      "No etc/terrier.properties, using terrier.default.properties for bootstrap configuration.\n"
     ]
    }
   ],
   "source": [
    "import pyterrier as pt\n",
    "import os\n",
    "import numpy as np\n",
    "import pandas as pd\n",
    "os.environ[\"JAVA_HOME\"] = \"/usr/lib/jvm/java-11-openjdk-amd64\"\n",
    "\n",
    "if not pt.started():\n",
    "  pt.init()"
   ]
  },
  {
   "cell_type": "markdown",
   "metadata": {},
   "source": [
    "# Dense:\n",
    "## Index"
   ]
  },
  {
   "cell_type": "code",
   "execution_count": 2,
   "metadata": {},
   "outputs": [],
   "source": [
    "index_t1 = pt.IndexFactory.of(\"./data/index/index_t1\")\n",
    "\n",
    "query_path_t1 = \"data/publish/English/Queries/train.trec\"\n",
    "topics_t1 = pt.io.read_topics(query_path_t1)\n",
    "\n",
    "qrels_t1 = pt.io.read_qrels(\"data/publish/French/Qrels/train.txt\")\n"
   ]
  },
  {
   "cell_type": "code",
   "execution_count": null,
   "metadata": {},
   "outputs": [],
   "source": [
    "import pyterrier_colbert.ranking\n",
    "colbert_factory = pyterrier_colbert.ranking.ColBERTFactory(\n",
    "    \"http://www.dcs.gla.ac.uk/~craigm/colbert.dnn.zip\", None, None)\n",
    "colbert = colbert_factory.text_scorer(doc_attr='abstract')"
   ]
  },
  {
   "cell_type": "code",
   "execution_count": 3,
   "metadata": {},
   "outputs": [
    {
     "name": "stdout",
     "output_type": "stream",
     "text": [
      "['docno']\n"
     ]
    }
   ],
   "source": [
    "print(index_t1.getMetaIndex().getKeys())"
   ]
  },
  {
   "cell_type": "code",
   "execution_count": 4,
   "metadata": {},
   "outputs": [
    {
     "ename": "ValueError",
     "evalue": "Index from <org.terrier.structures.Index at 0x7f5e14239590 jclass=org/terrier/structures/Index jself=<LocalRef obj=0x6151b18 at 0x7f5dc7cdfdd0>> did not have requested metaindex key text. Keys present in metaindex are ['docno']",
     "output_type": "error",
     "traceback": [
      "\u001b[0;31m---------------------------------------------------------------------------\u001b[0m",
      "\u001b[0;31mValueError\u001b[0m                                Traceback (most recent call last)",
      "Cell \u001b[0;32mIn[4], line 1\u001b[0m\n\u001b[0;32m----> 1\u001b[0m pt\u001b[39m.\u001b[39;49mtext\u001b[39m.\u001b[39;49mget_text(index_t1, \u001b[39m\"\u001b[39;49m\u001b[39mtext\u001b[39;49m\u001b[39m\"\u001b[39;49m)\n",
      "File \u001b[0;32m~/miniconda3/envs/MA/lib/python3.9/site-packages/pyterrier/text.py:48\u001b[0m, in \u001b[0;36mget_text\u001b[0;34m(indexlike, metadata, by_query, verbose)\u001b[0m\n\u001b[1;32m     46\u001b[0m     add_text_fn \u001b[39m=\u001b[39m _add_text_terrier_metaindex(index, metadata)\n\u001b[1;32m     47\u001b[0m \u001b[39melif\u001b[39;00m \u001b[39misinstance\u001b[39m(indexlike, JI):\n\u001b[0;32m---> 48\u001b[0m     add_text_fn \u001b[39m=\u001b[39m _add_text_terrier_metaindex(indexlike, metadata)\n\u001b[1;32m     49\u001b[0m \u001b[39melif\u001b[39;00m \u001b[39misinstance\u001b[39m(indexlike, IRDSDataset):\n\u001b[1;32m     50\u001b[0m     add_text_fn \u001b[39m=\u001b[39m _add_text_irds_docstore(indexlike, metadata)\n",
      "File \u001b[0;32m~/miniconda3/envs/MA/lib/python3.9/site-packages/pyterrier/text.py:67\u001b[0m, in \u001b[0;36m_add_text_terrier_metaindex\u001b[0;34m(index, metadata)\u001b[0m\n\u001b[1;32m     65\u001b[0m \u001b[39mfor\u001b[39;00m k \u001b[39min\u001b[39;00m metadata:\n\u001b[1;32m     66\u001b[0m     \u001b[39mif\u001b[39;00m \u001b[39mnot\u001b[39;00m k \u001b[39min\u001b[39;00m metaindex\u001b[39m.\u001b[39mgetKeys():\n\u001b[0;32m---> 67\u001b[0m         \u001b[39mraise\u001b[39;00m \u001b[39mValueError\u001b[39;00m(\u001b[39m\"\u001b[39m\u001b[39mIndex from \u001b[39m\u001b[39m%s\u001b[39;00m\u001b[39m did not have requested metaindex key \u001b[39m\u001b[39m%s\u001b[39;00m\u001b[39m. Keys present in metaindex are \u001b[39m\u001b[39m%s\u001b[39;00m\u001b[39m\"\u001b[39m \u001b[39m%\u001b[39m \n\u001b[1;32m     68\u001b[0m         (\u001b[39mstr\u001b[39m(index), k, \u001b[39mstr\u001b[39m( metaindex\u001b[39m.\u001b[39mgetKeys()) ))\n\u001b[1;32m     70\u001b[0m \u001b[39mdef\u001b[39;00m \u001b[39madd_docids\u001b[39m(res):\n\u001b[1;32m     71\u001b[0m     res \u001b[39m=\u001b[39m res\u001b[39m.\u001b[39mcopy()\n",
      "\u001b[0;31mValueError\u001b[0m: Index from <org.terrier.structures.Index at 0x7f5e14239590 jclass=org/terrier/structures/Index jself=<LocalRef obj=0x6151b18 at 0x7f5dc7cdfdd0>> did not have requested metaindex key text. Keys present in metaindex are ['docno']"
     ]
    }
   ],
   "source": [
    "pt.text.get_text(index_t1, \"text\")"
   ]
  },
  {
   "cell_type": "code",
   "execution_count": 5,
   "metadata": {},
   "outputs": [
    {
     "ename": "TypeError",
     "evalue": "__init__() missing 1 required positional argument: 'chunksize'",
     "output_type": "error",
     "traceback": [
      "\u001b[0;31m---------------------------------------------------------------------------\u001b[0m",
      "\u001b[0;31mTypeError\u001b[0m                                 Traceback (most recent call last)",
      "Cell \u001b[0;32mIn[5], line 3\u001b[0m\n\u001b[1;32m      1\u001b[0m \u001b[39mfrom\u001b[39;00m \u001b[39mpyterrier_colbert\u001b[39;00m\u001b[39m.\u001b[39;00m\u001b[39mindexing\u001b[39;00m \u001b[39mimport\u001b[39;00m ColBERTIndexer\n\u001b[0;32m----> 3\u001b[0m indexer \u001b[39m=\u001b[39m ColBERTIndexer(\u001b[39m\"\u001b[39;49m\u001b[39m./data/models/colbertv2.0\u001b[39;49m\u001b[39m\"\u001b[39;49m, \u001b[39m\"\u001b[39;49m\u001b[39m./data/index/\u001b[39;49m\u001b[39m\"\u001b[39;49m, \u001b[39m\"\u001b[39;49m\u001b[39mindex_t1_colBERT\u001b[39;49m\u001b[39m\"\u001b[39;49m)\n",
      "\u001b[0;31mTypeError\u001b[0m: __init__() missing 1 required positional argument: 'chunksize'"
     ]
    }
   ],
   "source": [
    "from pyterrier_colbert.indexing import ColBERTIndexer\n",
    "\n",
    "indexer = ColBERTIndexer(\"./data/models/colbertv2.0\", \"./data/index/\", \"index_t1_colBERT\")\n"
   ]
  },
  {
   "cell_type": "code",
   "execution_count": null,
   "metadata": {},
   "outputs": [],
   "source": [
    "indexer.index(dataset.get_corpus_iter())"
   ]
  },
  {
   "cell_type": "markdown",
   "metadata": {},
   "source": [
    "## Retrieval"
   ]
  },
  {
   "cell_type": "code",
   "execution_count": null,
   "metadata": {},
   "outputs": [],
   "source": [
    "pt.text.get_text(index_t1, 'abstract')"
   ]
  },
  {
   "cell_type": "code",
   "execution_count": null,
   "metadata": {},
   "outputs": [],
   "source": [
    "colbert_factory = pyterrier_colbert.ranking.ColBERTFactory(\n",
    "    \"http://www.dcs.gla.ac.uk/~craigm/colbert.dnn.zip\", None, None)\n",
    "colbert = colbert_factory.text_scorer(doc_attr='text')"
   ]
  },
  {
   "cell_type": "code",
   "execution_count": null,
   "metadata": {},
   "outputs": [],
   "source": [
    "br = pt.BatchRetrieve(index_t1) % 100\n",
    "pipeline = br >> pt.text.get_text(dataset, 'abstract') >> colbert\n",
    "pt.Experiment(\n",
    "    [br, pipeline],\n",
    "    topics,\n",
    "    qrels,\n",
    "    names=['DPH', 'DPH >> ColBERT'],\n",
    "    eval_metrics=[\"map\", \"ndcg\", 'ndcg_cut.10', 'P.10', 'mrt']\n",
    ")"
   ]
  }
 ],
 "metadata": {
  "kernelspec": {
   "display_name": "Python 3.9.16 ('MA')",
   "language": "python",
   "name": "python3"
  },
  "language_info": {
   "codemirror_mode": {
    "name": "ipython",
    "version": 3
   },
   "file_extension": ".py",
   "mimetype": "text/x-python",
   "name": "python",
   "nbconvert_exporter": "python",
   "pygments_lexer": "ipython3",
   "version": "3.9.16"
  },
  "orig_nbformat": 4,
  "vscode": {
   "interpreter": {
    "hash": "808b6434021f6db8a4b09d42786aa803519f6e7c32d493e3a7041fb8702f8bae"
   }
  }
 },
 "nbformat": 4,
 "nbformat_minor": 2
}
